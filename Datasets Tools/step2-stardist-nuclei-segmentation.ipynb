{
 "cells": [
  {
   "cell_type": "code",
   "execution_count": 1,
   "id": "66cfab0d-708d-4fba-8b54-4a87a58b2d46",
   "metadata": {},
   "outputs": [],
   "source": [
    "#Coppied and modified from Tamas Nagy code 2021: \n",
    "#Evelyn Strickland 2022, for use on my imaging setup, multithreading doesn't work just yet with this????\n",
    "#V1.0, 2024, included in toolset for analysis pipeline!\n",
    "\n",
    "from csbdeep.utils import normalize\n",
    "from tqdm.notebook import tqdm as tqdm\n",
    "from pathlib import Path\n",
    "from stardist.models import StarDist2D \n",
    "from tifffile import TiffFile, TiffWriter\n",
    "import tensorflow as tf"
   ]
  },
  {
   "cell_type": "code",
   "execution_count": 2,
   "id": "39cf81b7-39a4-475f-89cf-a323a5fd006a",
   "metadata": {},
   "outputs": [],
   "source": [
    "#General command to run stardist on a 2 channel tif, or a single channel nuclei only tif: \n",
    "def run_stardist(filepath, model):\n",
    "    \n",
    "    #Get the filename directory, ome-tag, create saveloc, and virutally open the image: \n",
    "    dirname = filepath.parent\n",
    "    omename = filepath.name.split('.', 1)[0]\n",
    "    savedir = filepath.parent.parent / 'segmented_nuclei'\n",
    "    img = TiffFile(filepath)\n",
    "    \n",
    "    #Open a writer to output each slice to a new segmeneted tif at saveloc: \n",
    "    with TiffWriter(savedir.joinpath(omename + \"_segmented.tif\")) as tif:\n",
    "        page = img.pages\n",
    "        series = img.series[0]\n",
    "        #Check to see if the images are both a calcium and nuclei channel. If so, we expect the images to have the calcium channel FIRST, nuclei SECOND\n",
    "        if len(page) == 2 * series.get_shape()[0]:\n",
    "            pages = page[1::2]\n",
    "        else:\n",
    "            pages = page\n",
    "        #Take the pages, normalize them, then pass them over to the stardist model for segmentation: \n",
    "        for page in tqdm(pages):\n",
    "            pg = normalize(page.asarray(), 1, 99.8, axis=(0,1))\n",
    "            labels, _ = model.predict_instances(pg)\n",
    "            tif.write(labels.astype('uint16'), contiguous=True)\n"
   ]
  },
  {
   "cell_type": "code",
   "execution_count": 3,
   "id": "34976ef3-7873-4576-ace8-f84bc48bf1cd",
   "metadata": {},
   "outputs": [
    {
     "name": "stdout",
     "output_type": "stream",
     "text": [
      "Loading network weights from 'weights_best.h5'.\n",
      "Loading thresholds from 'thresholds.json'.\n",
      "Using default values: prob_thresh=0.495435, nms_thresh=0.3.\n"
     ]
    },
    {
     "name": "stderr",
     "output_type": "stream",
     "text": [
      "2023-02-14 08:57:52.517091: I tensorflow/stream_executor/cuda/cuda_gpu_executor.cc:936] successful NUMA node read from SysFS had negative value (-1), but there must be at least one NUMA node, so returning NUMA node zero\n",
      "2023-02-14 08:57:52.543514: I tensorflow/stream_executor/cuda/cuda_gpu_executor.cc:936] successful NUMA node read from SysFS had negative value (-1), but there must be at least one NUMA node, so returning NUMA node zero\n",
      "2023-02-14 08:57:52.543642: I tensorflow/stream_executor/cuda/cuda_gpu_executor.cc:936] successful NUMA node read from SysFS had negative value (-1), but there must be at least one NUMA node, so returning NUMA node zero\n",
      "2023-02-14 08:57:52.544121: I tensorflow/core/platform/cpu_feature_guard.cc:151] This TensorFlow binary is optimized with oneAPI Deep Neural Network Library (oneDNN) to use the following CPU instructions in performance-critical operations:  AVX2 FMA\n",
      "To enable them in other operations, rebuild TensorFlow with the appropriate compiler flags.\n",
      "2023-02-14 08:57:52.544463: I tensorflow/stream_executor/cuda/cuda_gpu_executor.cc:936] successful NUMA node read from SysFS had negative value (-1), but there must be at least one NUMA node, so returning NUMA node zero\n",
      "2023-02-14 08:57:52.544573: I tensorflow/stream_executor/cuda/cuda_gpu_executor.cc:936] successful NUMA node read from SysFS had negative value (-1), but there must be at least one NUMA node, so returning NUMA node zero\n",
      "2023-02-14 08:57:52.544669: I tensorflow/stream_executor/cuda/cuda_gpu_executor.cc:936] successful NUMA node read from SysFS had negative value (-1), but there must be at least one NUMA node, so returning NUMA node zero\n",
      "2023-02-14 08:57:52.838082: I tensorflow/stream_executor/cuda/cuda_gpu_executor.cc:936] successful NUMA node read from SysFS had negative value (-1), but there must be at least one NUMA node, so returning NUMA node zero\n",
      "2023-02-14 08:57:52.838223: I tensorflow/stream_executor/cuda/cuda_gpu_executor.cc:936] successful NUMA node read from SysFS had negative value (-1), but there must be at least one NUMA node, so returning NUMA node zero\n",
      "2023-02-14 08:57:52.838327: I tensorflow/stream_executor/cuda/cuda_gpu_executor.cc:936] successful NUMA node read from SysFS had negative value (-1), but there must be at least one NUMA node, so returning NUMA node zero\n",
      "2023-02-14 08:57:52.838517: I tensorflow/core/common_runtime/gpu/gpu_device.cc:1525] Created device /job:localhost/replica:0/task:0/device:GPU:0 with 9359 MB memory:  -> device: 0, name: NVIDIA GeForce RTX 3060, pci bus id: 0000:07:00.0, compute capability: 8.6\n"
     ]
    }
   ],
   "source": [
    "#import the model from 20220902 custom trained model (included in archive)\n",
    "model = StarDist2D(None, name='stardist', basedir='20220902_model')\n"
   ]
  },
  {
   "cell_type": "code",
   "execution_count": 4,
   "id": "b4eef046-44d7-4c2e-882a-7d044b059d6f",
   "metadata": {},
   "outputs": [],
   "source": [
    "#SET THIS BEOFORE RUNNING:\n",
    "folder = '' #Dataset you want to analyze.\n",
    "folderpath = Path(folder, )\n",
    "img_folder = folderpath / 'images'\n",
    "img_paths = list(img_folder.glob('*.tif'))\n",
    "\n",
    "#Quick dummy check: \n",
    "if len(img_paths) == 0:\n",
    "    print(\"Check filepath, no images detected...\")\n"
   ]
  },
  {
   "cell_type": "code",
   "execution_count": null,
   "id": "cddb759d-4026-4d29-89db-2b2d8a8cd08a",
   "metadata": {},
   "outputs": [
    {
     "name": "stdout",
     "output_type": "stream",
     "text": [
      "Image 0 already has a segmentation!\n",
      "Image 1 already has a segmentation!\n",
      "Running stardist on 6.tif\n"
     ]
    },
    {
     "data": {
      "application/vnd.jupyter.widget-view+json": {
       "model_id": "03e0c45fe5d44bc1ab3a7685f4e59f08",
       "version_major": 2,
       "version_minor": 0
      },
      "text/plain": [
       "  0%|          | 0/200 [00:00<?, ?it/s]"
      ]
     },
     "metadata": {},
     "output_type": "display_data"
    },
    {
     "name": "stderr",
     "output_type": "stream",
     "text": [
      "2023-02-14 08:58:08.184505: I tensorflow/stream_executor/cuda/cuda_dnn.cc:368] Loaded cuDNN version 8302\n",
      "2023-02-14 08:58:09.128553: I tensorflow/core/platform/default/subprocess.cc:304] Start cannot spawn child process: No such file or directory\n"
     ]
    },
    {
     "name": "stdout",
     "output_type": "stream",
     "text": [
      "Image 3 already has a segmentation!\n",
      "Image 4 already has a segmentation!\n",
      "Image 5 already has a segmentation!\n",
      "Running stardist on 7.tif\n"
     ]
    },
    {
     "data": {
      "application/vnd.jupyter.widget-view+json": {
       "model_id": "8ec352c43b9341e885c994c715b00c44",
       "version_major": 2,
       "version_minor": 0
      },
      "text/plain": [
       "  0%|          | 0/200 [00:00<?, ?it/s]"
      ]
     },
     "metadata": {},
     "output_type": "display_data"
    },
    {
     "name": "stdout",
     "output_type": "stream",
     "text": [
      "Running stardist on 8.tif\n"
     ]
    },
    {
     "data": {
      "application/vnd.jupyter.widget-view+json": {
       "model_id": "aa2a6cc808b04b8d9c0aa87b4829613f",
       "version_major": 2,
       "version_minor": 0
      },
      "text/plain": [
       "  0%|          | 0/200 [00:00<?, ?it/s]"
      ]
     },
     "metadata": {},
     "output_type": "display_data"
    }
   ],
   "source": [
    "#Main Running Loop: \n",
    "for file in img_paths:\n",
    "    \n",
    "    dirname = file.parent\n",
    "    omename = file.name.split('.', 1)[0]\n",
    "    savedir = file.parent.parent / 'segmented_nuclei'\n",
    "    \n",
    "    #If the segmentation file already exists, skip this in the loop\n",
    "    if savedir.joinpath(omename + \"_segmented.tif\").exists():\n",
    "        print('Image {} already has a segmentation!'.format(omename))\n",
    "        continue\n",
    "    \n",
    "    print('Running stardist on {}.tif'.format(file.stem))\n",
    "    run_stardist(file,model)"
   ]
  },
  {
   "cell_type": "code",
   "execution_count": null,
   "id": "5812308f-f6c3-4067-94b4-f77ca315022e",
   "metadata": {},
   "outputs": [],
   "source": []
  }
 ],
 "metadata": {
  "kernelspec": {
   "display_name": "Python 3 (ipykernel)",
   "language": "python",
   "name": "python3"
  },
  "language_info": {
   "codemirror_mode": {
    "name": "ipython",
    "version": 3
   },
   "file_extension": ".py",
   "mimetype": "text/x-python",
   "name": "python",
   "nbconvert_exporter": "python",
   "pygments_lexer": "ipython3",
   "version": "3.11.5"
  },
  "vscode": {
   "interpreter": {
    "hash": "916dbcbb3f70747c44a77c7bcd40155683ae19c65e1c03b4aa3499c5328201f1"
   }
  }
 },
 "nbformat": 4,
 "nbformat_minor": 5
}
