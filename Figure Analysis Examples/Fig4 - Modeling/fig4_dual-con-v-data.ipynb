{
 "cells": [
  {
   "cell_type": "code",
   "execution_count": 1,
   "id": "ea04bf52-f48b-4f13-9335-d2341364b310",
   "metadata": {
    "tags": []
   },
   "outputs": [],
   "source": [
    "#Figure 4 graph plotting \n",
    "#v1.0 version, this is the first consolidation of analysis done so far\n",
    "#Requires the environment packages found in 23pubenv"
   ]
  },
  {
   "cell_type": "code",
   "execution_count": 20,
   "id": "e10dba95-ae47-4b7b-8c27-0f58e4659265",
   "metadata": {
    "tags": []
   },
   "outputs": [],
   "source": [
    "#General Import Packages: \n",
    "#Plotting\n",
    "from matplotlib import pyplot as plt\n",
    "from matplotlib import colors, cm\n",
    "from matplotlib.collections import LineCollection\n",
    "import seaborn as sns\n",
    "import trackpy as tp\n",
    "import matplotlib.patches as patch\n",
    "from mpl_toolkits.axes_grid1.anchored_artists import AnchoredSizeBar\n",
    "\n",
    "#Numerics, model implementation, path management, extras: \n",
    "import numpy as np\n",
    "import pandas as pd\n",
    "from pathlib import Path\n",
    "import random as rand\n",
    "from tqdm import tqdm \n",
    "from scipy.special import erfc\n",
    "\n",
    "#Signal Analysis Functions: \n",
    "from scipy.signal import savgol_filter\n",
    "from scipy.signal import peak_widths\n",
    "from scipy.optimize import curve_fit\n",
    "\n"
   ]
  },
  {
   "cell_type": "code",
   "execution_count": 21,
   "id": "c4e26cc2-4320-450d-869b-2acc94747b14",
   "metadata": {
    "tags": []
   },
   "outputs": [],
   "source": [
    "#Importing the relevant data frames is done using the following structure: \n",
    "\n",
    "#Set the base path as the root for an analysis set, all sets are arranged where images and analysis outputs are in the following locations: \n",
    "#base_path = Path('/media/echo/Samsung_T5/Main Data/Analysis Sets/23 Protofigures/Data Sets/2023_01_24_main-set')\n",
    "base_path = Path.cwd().parent / 'Data Sets/2023_01_24_main-set'\n",
    "images_folder = base_path / 'images'\n",
    "analysis_output_destination = base_path / 'wavefit_outputs'\n",
    "\n",
    "#There are three important dataframes used in analysis, the wave data frame, the ARCOS df, and the tracking df with binnned calcium values:\n",
    "#The tracking is the most broad, followed by ARCOS and then the wave (most abstracted info):\n",
    "wave_dataframe_paths = sorted(analysis_output_destination.glob('*_wave_df.csv'), key=lambda x: x.stem.split('_')[0])\n",
    "arcos_dataframe_paths = sorted(analysis_output_destination.glob('*_ARCOS_df.csv'), key=lambda x: x.stem.split('_')[0])\n",
    "tracking_dataframe_paths = sorted(analysis_output_destination.glob('*_tracking_binned_df.csv'), key=lambda x:x.stem.split('_')[0])\n"
   ]
  },
  {
   "cell_type": "code",
   "execution_count": 22,
   "id": "086c9c8e-298e-4fea-a1e2-de61d46c83f8",
   "metadata": {
    "tags": []
   },
   "outputs": [],
   "source": [
    "#Custom function to read in centroid arrays into dataframe instead of as a string: \n",
    "def read_tuple_list(x):\n",
    "    x_strip = x.strip('()').strip('[]')\n",
    "    if len(x_strip.split(', ')) == 1:\n",
    "        return np.array(x_strip.split(), dtype=float)\n",
    "    else:\n",
    "        return np.array(x_strip.split(', '), dtype=float)"
   ]
  },
  {
   "cell_type": "code",
   "execution_count": 23,
   "id": "c59b5519-9582-400c-8e4f-440c5420937f",
   "metadata": {
    "tags": []
   },
   "outputs": [],
   "source": [
    "def consolidate_waves(WAVE_DF_PATHS, save_DF = False):\n",
    "    \n",
    "    wave_collect = []\n",
    "\n",
    "    for wave_df_path in tqdm(WAVE_DF_PATHS):\n",
    "        img_id = int(wave_df_path.stem.split('_')[0]) #Get the image ID to match to the wave:\n",
    "        wave_df = pd.read_csv(wave_df_path, converters={\"wave_centroid\": read_tuple_list}) #Open the wave_DF from step4 analysis\n",
    "        wave_df = wave_df[wave_df.columns.drop(list(wave_df.filter(regex='Unnamed')))] #Strip it of any weird unnamed index columns\n",
    "        track_ids = wave_df['clTrackID'].values #Get the collective track values in the wave\n",
    "        wave_df['wave_ID'] = [str(img_id) + '-' + str(i) for i in track_ids] #Build a list of unique wave IDs from the image number and clTrack number they belong to\n",
    "        wave_df['image_ID'] = [img_id for i in range(len(wave_df))]\n",
    "        wave_collect.append(wave_df)\n",
    "    \n",
    "    wave_df_collected = pd.concat(wave_collect, ignore_index=True)\n",
    "    \n",
    "    if save_DF:\n",
    "        wave_df_collected.to_csv(WAVE_DF_PATHS[0].parent / 'combined_wave_DF.csv', index=False)\n",
    "        \n",
    "    return wave_df_collected"
   ]
  },
  {
   "cell_type": "code",
   "execution_count": 24,
   "id": "e40d81e3-ede9-4904-9a08-a4b8a0bbf26e",
   "metadata": {
    "tags": []
   },
   "outputs": [
    {
     "name": "stderr",
     "output_type": "stream",
     "text": [
      "100%|███████████████████████████████████████████████████████████████████████████████████████████████████████████| 57/57 [00:00<00:00, 521.19it/s]\n"
     ]
    }
   ],
   "source": [
    "wave_con_df = consolidate_waves(wave_dataframe_paths)"
   ]
  },
  {
   "cell_type": "code",
   "execution_count": 25,
   "id": "421283e5-c583-4b19-81b0-9a629a2403bd",
   "metadata": {
    "tags": []
   },
   "outputs": [
    {
     "name": "stderr",
     "output_type": "stream",
     "text": [
      "/Users/echo/miniconda3/envs/23pubenv/lib/python3.11/site-packages/seaborn/_oldcore.py:1498: FutureWarning: is_categorical_dtype is deprecated and will be removed in a future version. Use isinstance(dtype, CategoricalDtype) instead\n",
      "  if pd.api.types.is_categorical_dtype(vector):\n",
      "/Users/echo/miniconda3/envs/23pubenv/lib/python3.11/site-packages/seaborn/_oldcore.py:1498: FutureWarning: is_categorical_dtype is deprecated and will be removed in a future version. Use isinstance(dtype, CategoricalDtype) instead\n",
      "  if pd.api.types.is_categorical_dtype(vector):\n",
      "/Users/echo/miniconda3/envs/23pubenv/lib/python3.11/site-packages/seaborn/_oldcore.py:1119: FutureWarning: use_inf_as_na option is deprecated and will be removed in a future version. Convert inf values to NaN before operating instead.\n",
      "  with pd.option_context('mode.use_inf_as_na', True):\n",
      "/Users/echo/miniconda3/envs/23pubenv/lib/python3.11/site-packages/seaborn/_oldcore.py:1119: FutureWarning: use_inf_as_na option is deprecated and will be removed in a future version. Convert inf values to NaN before operating instead.\n",
      "  with pd.option_context('mode.use_inf_as_na', True):\n"
     ]
    },
    {
     "data": {
      "text/plain": [
       "<Axes: xlabel='rel_time', ylabel='r_squared'>"
      ]
     },
     "execution_count": 25,
     "metadata": {},
     "output_type": "execute_result"
    },
    {
     "data": {
      "image/png": "[encoded data removed]",
      "text/plain": [
       "<Figure size 640x480 with 1 Axes>"
      ]
     },
     "metadata": {},
     "output_type": "display_data"
    }
   ],
   "source": [
    "sns.lineplot(data = wave_con_df[wave_con_df.wave_ID == '49-19'], x='rel_time', y='r_squared')"
   ]
  },
  {
   "cell_type": "code",
   "execution_count": 26,
   "id": "1db9640b-0db4-4b16-b908-64a944f1e911",
   "metadata": {
    "tags": []
   },
   "outputs": [
    {
     "data": {
      "text/plain": [
       "array([  0.,   5.,  10.,  15.,  20.,  25.,  30.,  35.,  40.,  45.,  50.,\n",
       "        55.,  60.,  65.,  70.,  75.,  80.,  85.,  90.,  95., 100., 105.,\n",
       "       110., 115., 120., 125., 130., 135., 140., 145., 150., 155., 160.,\n",
       "       165., 170., 175., 180., 185.])"
      ]
     },
     "execution_count": 26,
     "metadata": {},
     "output_type": "execute_result"
    }
   ],
   "source": [
    "wave_con_df[wave_con_df.wave_ID == '49-19'].rel_time.values*5.0"
   ]
  },
  {
   "cell_type": "code",
   "execution_count": 27,
   "id": "492f043a-e55d-40fb-88f4-23414cf99f15",
   "metadata": {
    "tags": []
   },
   "outputs": [
    {
     "data": {
      "text/plain": [
       "array([     0.        ,    652.3903751 ,   1504.15181031,   1629.34077043,\n",
       "         2024.20226649,   3127.57430273,   4296.14423817,   6197.18847584,\n",
       "         8425.26369935,  10827.7688865 ,  14996.92468616,  21408.90944027,\n",
       "        27263.52359469,  34388.95069267,  41487.90825463,  48098.73841293,\n",
       "        56912.7512542 ,  63545.76253556,  72548.72842657,  79349.29640843,\n",
       "        85686.76706147,  94042.4033674 ,  98652.99618929, 104365.11011299,\n",
       "       110527.00198908, 114406.76787636, 117365.14543429, 118591.11650954,\n",
       "       120082.55315424, 121224.80498612, 122629.72566418, 123895.33949133,\n",
       "       124908.6664619 , 125791.44142316, 126862.56671223, 127938.40591212,\n",
       "       129039.61989356, 129082.27832996])"
      ]
     },
     "execution_count": 27,
     "metadata": {},
     "output_type": "execute_result"
    }
   ],
   "source": [
    "wave_con_df[wave_con_df.wave_ID == '49-19'].r_squared.values"
   ]
  },
  {
   "cell_type": "code",
   "execution_count": 28,
   "id": "19a59e44-e65d-4668-a25d-166115a59db3",
   "metadata": {
    "tags": []
   },
   "outputs": [],
   "source": [
    "trackable_waves = wave_con_df[wave_con_df['trackable']==True]"
   ]
  },
  {
   "cell_type": "code",
   "execution_count": 57,
   "id": "170da410-3e55-4ce9-b9bc-5b6b8aea4458",
   "metadata": {
    "tags": []
   },
   "outputs": [],
   "source": [
    "wave_bin = []\n",
    "\n",
    "for wid, wave in trackable_waves.groupby('wave_ID'):\n",
    "    if wave.rel_r.max() > 300:\n",
    "        wave_bin.append(wave)\n",
    "binned_track_waves = pd.concat(wave_bin)\n",
    "binned_track_waves['real_time'] = 5.0*binned_track_waves['rel_time']\n",
    "binned_track_waves['real_radius_sq'] = binned_track_waves['circle_radius']**2"
   ]
  },
  {
   "cell_type": "code",
   "execution_count": 109,
   "id": "cfc6d076-dad9-4b14-ba09-33047b4f3f6e",
   "metadata": {
    "tags": []
   },
   "outputs": [],
   "source": [
    "#relay_output = pd.read_csv('/media/echo/Samsung_T5/Main Data/Analysis Sets/23 Protofigures/Fig3 - Model vs Data Stop/model/simple_relay_output.csv')\n",
    "stopped_output_L_th = pd.read_csv(Path.cwd().parent / 'Fig2 - Wave kinetics/2fg/fits/whole_stop_fit_Lth.csv')\n",
    "stopped_output_R_th = pd.read_csv(Path.cwd().parent / 'Fig2 - Wave kinetics/2fg/fits/whole_stop_fit_Rth.csv')\n",
    "\n",
    "#Exclude where model reports negative relative r (wave stopped or no travel): \n",
    "#Also, the model shows how concentration contours shrink after wave stopping, this behavior is irrelevant for comparison with Ca2+ signalling.\n",
    "\n",
    "wave_stop = stopped_output_L_th['r_relay'].idxmax()\n",
    "\n",
    "stopped_output_L_th = stopped_output_L_th[stopped_output_L_th['r_relay'] > 0].loc[2:wave_stop,:] #Removed last value as model after stop is not as useful.\n",
    "stopped_output_R_th = stopped_output_R_th[stopped_output_R_th['r_relay'] > 0].loc[2:wave_stop,:] #Removed last value as model after stop is not as useful.\n",
    "\n",
    "stopped_output_L_th['r_2'] = (stopped_output_L_th['r_relay'])**2\n",
    "stopped_output_R_th['r_2'] = (stopped_output_R_th['r_relay'])**2"
   ]
  },
  {
   "cell_type": "code",
   "execution_count": 96,
   "id": "0cf00997-6059-424a-bdbd-75d64cf6bfa7",
   "metadata": {
    "tags": []
   },
   "outputs": [],
   "source": [
    "sns.set_context(\"notebook\", font_scale=1, rc={\"lines.linewidth\": 2, 'font.family': ['arial'], 'axes.linewidth':2})"
   ]
  },
  {
   "cell_type": "code",
   "execution_count": 122,
   "id": "3f208273-1588-4d04-9d4e-de0e96d458ee",
   "metadata": {
    "tags": []
   },
   "outputs": [
    {
     "name": "stderr",
     "output_type": "stream",
     "text": [
      "/Users/echo/miniconda3/envs/23pubenv/lib/python3.11/site-packages/seaborn/_oldcore.py:1498: FutureWarning: is_categorical_dtype is deprecated and will be removed in a future version. Use isinstance(dtype, CategoricalDtype) instead\n",
      "  if pd.api.types.is_categorical_dtype(vector):\n",
      "/Users/echo/miniconda3/envs/23pubenv/lib/python3.11/site-packages/seaborn/_oldcore.py:1498: FutureWarning: is_categorical_dtype is deprecated and will be removed in a future version. Use isinstance(dtype, CategoricalDtype) instead\n",
      "  if pd.api.types.is_categorical_dtype(vector):\n",
      "/Users/echo/miniconda3/envs/23pubenv/lib/python3.11/site-packages/seaborn/_oldcore.py:1119: FutureWarning: use_inf_as_na option is deprecated and will be removed in a future version. Convert inf values to NaN before operating instead.\n",
      "  with pd.option_context('mode.use_inf_as_na', True):\n",
      "/Users/echo/miniconda3/envs/23pubenv/lib/python3.11/site-packages/seaborn/_oldcore.py:1119: FutureWarning: use_inf_as_na option is deprecated and will be removed in a future version. Convert inf values to NaN before operating instead.\n",
      "  with pd.option_context('mode.use_inf_as_na', True):\n",
      "/Users/echo/miniconda3/envs/23pubenv/lib/python3.11/site-packages/seaborn/_oldcore.py:1498: FutureWarning: is_categorical_dtype is deprecated and will be removed in a future version. Use isinstance(dtype, CategoricalDtype) instead\n",
      "  if pd.api.types.is_categorical_dtype(vector):\n",
      "/Users/echo/miniconda3/envs/23pubenv/lib/python3.11/site-packages/seaborn/_oldcore.py:1498: FutureWarning: is_categorical_dtype is deprecated and will be removed in a future version. Use isinstance(dtype, CategoricalDtype) instead\n",
      "  if pd.api.types.is_categorical_dtype(vector):\n",
      "/Users/echo/miniconda3/envs/23pubenv/lib/python3.11/site-packages/seaborn/_oldcore.py:1119: FutureWarning: use_inf_as_na option is deprecated and will be removed in a future version. Convert inf values to NaN before operating instead.\n",
      "  with pd.option_context('mode.use_inf_as_na', True):\n",
      "/Users/echo/miniconda3/envs/23pubenv/lib/python3.11/site-packages/seaborn/_oldcore.py:1119: FutureWarning: use_inf_as_na option is deprecated and will be removed in a future version. Convert inf values to NaN before operating instead.\n",
      "  with pd.option_context('mode.use_inf_as_na', True):\n",
      "/Users/echo/miniconda3/envs/23pubenv/lib/python3.11/site-packages/seaborn/_oldcore.py:1498: FutureWarning: is_categorical_dtype is deprecated and will be removed in a future version. Use isinstance(dtype, CategoricalDtype) instead\n",
      "  if pd.api.types.is_categorical_dtype(vector):\n",
      "/Users/echo/miniconda3/envs/23pubenv/lib/python3.11/site-packages/seaborn/_oldcore.py:1498: FutureWarning: is_categorical_dtype is deprecated and will be removed in a future version. Use isinstance(dtype, CategoricalDtype) instead\n",
      "  if pd.api.types.is_categorical_dtype(vector):\n",
      "/Users/echo/miniconda3/envs/23pubenv/lib/python3.11/site-packages/seaborn/_oldcore.py:1119: FutureWarning: use_inf_as_na option is deprecated and will be removed in a future version. Convert inf values to NaN before operating instead.\n",
      "  with pd.option_context('mode.use_inf_as_na', True):\n",
      "/Users/echo/miniconda3/envs/23pubenv/lib/python3.11/site-packages/seaborn/_oldcore.py:1119: FutureWarning: use_inf_as_na option is deprecated and will be removed in a future version. Convert inf values to NaN before operating instead.\n",
      "  with pd.option_context('mode.use_inf_as_na', True):\n"
     ]
    },
    {
     "data": {
      "image/png": "[encoded data removed]",
      "text/plain": [
       "<Figure size 300x400 with 1 Axes>"
      ]
     },
     "metadata": {},
     "output_type": "display_data"
    }
   ],
   "source": [
    "plt.figure(figsize=(3,4))\n",
    "sns.lineplot(data=stopped_output_L_th, x='time', y='r_2', linestyle='--', color = '#3B76B0', linewidth=3)\n",
    "sns.lineplot(data=stopped_output_R_th, x='time', y='r_2', linestyle='--', color = '#B54845', linewidth=3)\n",
    "sns.lineplot(data=binned_track_waves, x='real_time', y='r_squared', linewidth=2, color='black')\n",
    "plt.vlines(wave_stop, ymin=0, ymax=130000, linestyles='--', color='red', linewidth=3)\n",
    "plt.fill_between([wave_stop,180], 0, 130000, facecolor='grey', alpha=0.25)\n",
    "plt.xlim(0,180)\n",
    "plt.ylim(0,130000)\n",
    "plt.xlabel('')\n",
    "plt.ylabel('')\n",
    "plt.ticklabel_format(style='sci', axis='y', scilimits=(0,0))\n",
    "plt.savefig('fig4d_dual_conc-v-data.png', dpi=300, bbox_inches='tight')"
   ]
  },
  {
   "cell_type": "code",
   "execution_count": 42,
   "id": "1d9e8184-c2ef-4075-8041-b212b09bb317",
   "metadata": {},
   "outputs": [
    {
     "data": {
      "text/html": [
       "<div>\n",
       "<style scoped>\n",
       "    .dataframe tbody tr th:only-of-type {\n",
       "        vertical-align: middle;\n",
       "    }\n",
       "\n",
       "    .dataframe tbody tr th {\n",
       "        vertical-align: top;\n",
       "    }\n",
       "\n",
       "    .dataframe thead th {\n",
       "        text-align: right;\n",
       "    }\n",
       "</style>\n",
       "<table border=\"1\" class=\"dataframe\">\n",
       "  <thead>\n",
       "    <tr style=\"text-align: right;\">\n",
       "      <th></th>\n",
       "      <th>circle_radius</th>\n",
       "      <th>relative_radius</th>\n",
       "      <th>radius_squared</th>\n",
       "    </tr>\n",
       "    <tr>\n",
       "      <th>real_time</th>\n",
       "      <th></th>\n",
       "      <th></th>\n",
       "      <th></th>\n",
       "    </tr>\n",
       "  </thead>\n",
       "  <tbody>\n",
       "    <tr>\n",
       "      <th>0.0</th>\n",
       "      <td>44.533015</td>\n",
       "      <td>0.000000</td>\n",
       "      <td>0.000000</td>\n",
       "    </tr>\n",
       "    <tr>\n",
       "      <th>5.0</th>\n",
       "      <td>62.516219</td>\n",
       "      <td>17.983205</td>\n",
       "      <td>323.395649</td>\n",
       "    </tr>\n",
       "    <tr>\n",
       "      <th>10.0</th>\n",
       "      <td>72.529137</td>\n",
       "      <td>27.996122</td>\n",
       "      <td>783.782854</td>\n",
       "    </tr>\n",
       "    <tr>\n",
       "      <th>15.0</th>\n",
       "      <td>83.055023</td>\n",
       "      <td>38.522008</td>\n",
       "      <td>1483.945137</td>\n",
       "    </tr>\n",
       "    <tr>\n",
       "      <th>20.0</th>\n",
       "      <td>94.611623</td>\n",
       "      <td>50.078608</td>\n",
       "      <td>2507.866982</td>\n",
       "    </tr>\n",
       "    <tr>\n",
       "      <th>...</th>\n",
       "      <td>...</td>\n",
       "      <td>...</td>\n",
       "      <td>...</td>\n",
       "    </tr>\n",
       "    <tr>\n",
       "      <th>300.0</th>\n",
       "      <td>341.980603</td>\n",
       "      <td>297.447588</td>\n",
       "      <td>88475.067875</td>\n",
       "    </tr>\n",
       "    <tr>\n",
       "      <th>305.0</th>\n",
       "      <td>340.617034</td>\n",
       "      <td>296.084020</td>\n",
       "      <td>87665.746625</td>\n",
       "    </tr>\n",
       "    <tr>\n",
       "      <th>310.0</th>\n",
       "      <td>339.625190</td>\n",
       "      <td>295.092175</td>\n",
       "      <td>87079.391783</td>\n",
       "    </tr>\n",
       "    <tr>\n",
       "      <th>315.0</th>\n",
       "      <td>337.859697</td>\n",
       "      <td>293.326682</td>\n",
       "      <td>86040.542330</td>\n",
       "    </tr>\n",
       "    <tr>\n",
       "      <th>320.0</th>\n",
       "      <td>336.658627</td>\n",
       "      <td>292.125612</td>\n",
       "      <td>85337.373112</td>\n",
       "    </tr>\n",
       "  </tbody>\n",
       "</table>\n",
       "<p>65 rows × 3 columns</p>\n",
       "</div>"
      ],
      "text/plain": [
       "           circle_radius  relative_radius  radius_squared\n",
       "real_time                                                \n",
       "0.0            44.533015         0.000000        0.000000\n",
       "5.0            62.516219        17.983205      323.395649\n",
       "10.0           72.529137        27.996122      783.782854\n",
       "15.0           83.055023        38.522008     1483.945137\n",
       "20.0           94.611623        50.078608     2507.866982\n",
       "...                  ...              ...             ...\n",
       "300.0         341.980603       297.447588    88475.067875\n",
       "305.0         340.617034       296.084020    87665.746625\n",
       "310.0         339.625190       295.092175    87079.391783\n",
       "315.0         337.859697       293.326682    86040.542330\n",
       "320.0         336.658627       292.125612    85337.373112\n",
       "\n",
       "[65 rows x 3 columns]"
      ]
     },
     "execution_count": 42,
     "metadata": {},
     "output_type": "execute_result"
    }
   ],
   "source": [
    "data_to_export"
   ]
  },
  {
   "cell_type": "code",
   "execution_count": 70,
   "id": "630e87bc-2b45-4828-85d5-a6bd60711fe0",
   "metadata": {},
   "outputs": [],
   "source": [
    "data_to_export = pd.DataFrame(binned_track_waves.groupby('real_time').circle_radius.mean())\n",
    "data_to_export['relative_radius'] = data_to_export['circle_radius'] - data_to_export['circle_radius'][0]\n",
    "data_to_export['radius_squared'] = data_to_export.relative_radius**2\n",
    "\n"
   ]
  },
  {
   "cell_type": "code",
   "execution_count": 72,
   "id": "a547d445-ddb1-4866-9625-d3a5db8092b7",
   "metadata": {},
   "outputs": [],
   "source": [
    "data_to_export.to_csv('Fig3d_largest-waves-mean-radius-v-time.csv')"
   ]
  },
  {
   "cell_type": "markdown",
   "id": "08eb6356-c9ce-44e9-b4f1-f4b4fd0d4067",
   "metadata": {},
   "source": [
    "##### plt.figure(figsize=(3,4))\n",
    "sns.lineplot(data=relay_output, x='time', y='radius', linestyle='--', color = 'k', linewidth=2)\n",
    "sns.lineplot(data=binned_track_waves, x='real_time', y='rel_r', linewidth=2)\n",
    "plt.xlim(0,175)\n",
    "\n",
    "plt.xlabel('')\n",
    "plt.ylabel('')\n",
    "plt.ticklabel_format(style='sci', axis='y', scilimits=(0,0))"
   ]
  },
  {
   "cell_type": "code",
   "execution_count": 87,
   "id": "21e6225a-ccca-48d5-a685-7801081ed5fb",
   "metadata": {},
   "outputs": [],
   "source": [
    "data_ts = []\n",
    "data_rs = []\n",
    "\n",
    "for t, timepoint in binned_track_waves.groupby('real_time'):\n",
    "    data_ts.append(t)\n",
    "    data_rs.append(timepoint.rel_r.mean())"
   ]
  },
  {
   "cell_type": "code",
   "execution_count": 90,
   "id": "e9763521-1d0a-42ac-be1c-ecceeb0a27a0",
   "metadata": {},
   "outputs": [
    {
     "data": {
      "image/png": "[encoded data removed]",
      "text/html": [
       "<div style=\"vertical-align: middle;\"><strong>lbupu</strong> </div><div class=\"cmap\"><img alt=\"lbupu colormap\" title=\"lbupu\" style=\"border: 1px solid #555;\" src=\"data:image/png;base64,iVBORw0KGgoAAAANSUhEUgAAAgAAAABACAYAAABsv8+/AAAAFHRFWHRUaXRsZQBsYnVwdSBjb2xvcm1hcKh9MScAAAAadEVYdERlc2NyaXB0aW9uAGxidXB1IGNvbG9ybWFwViKYwQAAADB0RVh0QXV0aG9yAE1hdHBsb3RsaWIgdjMuNS4yLCBodHRwczovL21hdHBsb3RsaWIub3Jnwlp4nAAAADJ0RVh0U29mdHdhcmUATWF0cGxvdGxpYiB2My41LjIsIGh0dHBzOi8vbWF0cGxvdGxpYi5vcmfs/Oe7AAABvElEQVR4nO3WQW7CMBRAQaf3v1rP0x3pBpBIMQmCsnkzmwjMN05KpbesP9/rGGOs6zrGGGOcL+PyemxeXy4769v5P/uPyeevl8fr2/mXz7N3vwf3vbxeD+57/fxsffIc1p317fzbzrN3vwfnnn3+0/vwnG7Wn/+/uV0+bcdn7784dxr33//03Gksd/fZn7v//YfPsT33bL9/n1sOnXvv+2Z//91zfOj3Np9bHs69//d2f5+Pz53v+2sAADkCAACCBAAABAkAAAgSAAAQJAAAIEgAAECQAACAIAEAAEECAACCBAAABAkAAAgSAAAQJAAAIEgAAECQAACAIAEAAEECAACCBAAABAkAAAgSAAAQJAAAIEgAAECQAACAIAEAAEECAACCBAAABAkAAAgSAAAQJAAAIEgAAECQAACAIAEAAEECAACCBAAABAkAAAgSAAAQJAAAIEgAAECQAACAIAEAAEECAACCBAAABAkAAAgSAAAQJAAAIEgAAECQAACAIAEAAEECAACCBAAABAkAAAgSAAAQJAAAIEgAAECQAACAIAEAAEECAACCBAAABAkAAAgSAAAQJAAAIEgAAEDQL8OiaMr0Wu/yAAAAAElFTkSuQmCC\"></div><div style=\"vertical-align: middle; max-width: 514px; display: flex; justify-content: space-between;\"><div style=\"float: left;\"><div title=\"#fff7cdff\" style=\"display: inline-block; width: 1em; height: 1em; margin: 0; vertical-align: middle; border: 1px solid #555; background-color: #fff7cdff;\"></div> under</div><div style=\"margin: 0 auto; display: inline-block;\">bad <div title=\"#00000000\" style=\"display: inline-block; width: 1em; height: 1em; margin: 0; vertical-align: middle; border: 1px solid #555; background-color: #00000000;\"></div></div><div style=\"float: right;\">over <div title=\"#456493ff\" style=\"display: inline-block; width: 1em; height: 1em; margin: 0; vertical-align: middle; border: 1px solid #555; background-color: #456493ff;\"></div></div>"
      ],
      "text/plain": [
       "<matplotlib.colors.LinearSegmentedColormap at 0x15ea95b20>"
      ]
     },
     "execution_count": 90,
     "metadata": {},
     "output_type": "execute_result"
    }
   ],
   "source": [
    "colors.LinearSegmentedColormap.from_list(colors=['#fff7cd','#ea9a8f', '#456493'], name='lbupu')"
   ]
  },
  {
   "cell_type": "code",
   "execution_count": 110,
   "id": "7be119ce-75b1-4ba2-936d-71afe5531a9b",
   "metadata": {},
   "outputs": [],
   "source": [
    "normed = colors.Normalize(vmin=30, vmax=100)\n",
    "#cmap_vals = sns.color_palette(\"Set3\", as_cmap=True)\n",
    "cmap_vals = colors.LinearSegmentedColormap.from_list(colors=['#fff7cd','#ea9a8f', '#456493'], name='lbupu')"
   ]
  },
  {
   "cell_type": "code",
   "execution_count": 31,
   "id": "d0accfea-f649-444b-ac05-6b41335bdfd1",
   "metadata": {},
   "outputs": [
    {
     "data": {
      "text/plain": [
       "(-500.0, 500.0)"
      ]
     },
     "execution_count": 31,
     "metadata": {},
     "output_type": "execute_result"
    },
    {
     "data": {
      "image/png": "[encoded data removed]",
      "text/plain": [
       "<Figure size 288x288 with 1 Axes>"
      ]
     },
     "metadata": {
      "needs_background": "light"
     },
     "output_type": "display_data"
    }
   ],
   "source": [
    "fig, ax = plt.subplots(figsize=(4,4))\n",
    "r_vals = data_rs[:30]\n",
    "\n",
    "for i,r_val in enumerate(r_vals):\n",
    "    if i%6 == 0:\n",
    "        c = patch.Circle((0,0), r_val, fill=False, edgecolor=cmap_vals(normed(data_ts[i])), linewidth=8)\n",
    "        #print(data_ts[i])\n",
    "        ax.add_patch(c)\n",
    "\n",
    "scalebar = AnchoredSizeBar(ax.transData,\n",
    "                           200, '',  'lower right', \n",
    "                           pad=0.5,\n",
    "                           color='black',\n",
    "                           frameon=False,\n",
    "                           size_vertical=15)\n",
    "\n",
    "ax.add_artist(scalebar)\n",
    "        \n",
    "plt.xlim(-500,500)\n",
    "plt.ylim(-500,500)\n"
   ]
  },
  {
   "cell_type": "code",
   "execution_count": 112,
   "id": "528c012a-7a0f-4566-ad95-cc19d51d043f",
   "metadata": {},
   "outputs": [],
   "source": [
    "#final_ts = range(1,301,step=100)\n",
    "\n",
    "#ts = 0.005:0.005:1.51\n",
    "#r = [wave_front_r(LTB4_ROS_2d3d_sol_1(t)[:,1], rd_LTB4 , 50, 0.1) for t in ts]\n",
    "\n",
    "#cmap_vals = sns.color_palette(\"BuPu\",120)\n",
    "\n",
    "final_ts = range(0,118,20)\n",
    "t_vals = stopped_output['time'].values\n",
    "\n",
    "for final_t in final_ts: \n",
    "\n",
    "    fig, ax = plt.subplots(figsize=(4,4))\n",
    "    r_vals = stopped_output['radius'].values[:final_t]\n",
    "\n",
    "    for i,r_val in enumerate(r_vals):\n",
    "        if i%25 == 0:\n",
    "            c = patch.Circle((0,0), r_val, fill=False, edgecolor=cmap_vals(normed(t_vals[i])), linewidth=6)\n",
    "            #print(t_vals[i])\n",
    "            ax.add_patch(c)\n",
    "        \n",
    "    plt.xlim(-500,500)\n",
    "    plt.ylim(-500,500)\n",
    "\n",
    "\n",
    "\n",
    "    filename = \"/Volumes/Samsung_T5/Main Data/Analysis Sets/23 Protofigures/Fig3 - Model vs Data Stop/3d_still_outputs/stopping-dual-conc_circles_t-\" + str(int(t_vals[final_t])) + \".png\"\n",
    "    plt.savefig(filename, dpi=300, bbox_inches=\"tight\")\n",
    "    plt.close()\n"
   ]
  },
  {
   "cell_type": "code",
   "execution_count": 113,
   "id": "a8e32d5d-c53b-4d5e-9cc1-303e43b0a19f",
   "metadata": {},
   "outputs": [],
   "source": [
    "final_t = 120\n",
    "\n",
    "fig, ax = plt.subplots(figsize=(4,4))\n",
    "r_vals = stopped_output['radius']\n",
    "\n",
    "for i,r_val in enumerate(r_vals):\n",
    "    if i%25 == 0:\n",
    "        c = patch.Circle((0,0), r_val, fill=False, edgecolor=cmap_vals(normed(t_vals[i])), linewidth=6)\n",
    "        #print(t_vals[i])\n",
    "        ax.add_patch(c)\n",
    "\n",
    "plt.xlim(-500,500)\n",
    "plt.ylim(-500,500)\n",
    "\n",
    "\n",
    "\n",
    "filename = \"/Volumes/Samsung_T5/Main Data/Analysis Sets/23 Protofigures/Fig3 - Model vs Data Stop/3d_still_outputs/stopping-dual-conc_circles_t-\" + str(int(120)) + \".png\"\n",
    "plt.savefig(filename, dpi=300, bbox_inches=\"tight\")\n",
    "plt.close()"
   ]
  },
  {
   "cell_type": "code",
   "execution_count": 107,
   "id": "f34fc0b3-91b8-4060-9905-31826c2fcc0b",
   "metadata": {},
   "outputs": [
    {
     "data": {
      "text/plain": [
       "110"
      ]
     },
     "execution_count": 107,
     "metadata": {},
     "output_type": "execute_result"
    }
   ],
   "source": [
    "len([   0.        ,   22.55639098,   30.07518797,   32.58145363,\n",
    "         37.59398496,   40.10025063,   42.60651629,   47.61904762,\n",
    "         47.61904762,   50.12531328,   52.63157895,   55.13784461,\n",
    "         57.64411028,   60.15037594,   62.6566416 ,   65.16290727,\n",
    "         67.66917293,   67.66917293,   70.1754386 ,   72.68170426,\n",
    "         75.18796992,   77.69423559,   80.20050125,   82.70676692,\n",
    "         85.21303258,   87.71929825,   92.73182957,   95.23809524,\n",
    "         97.7443609 ,  100.25062657,  105.26315789,  107.76942356,\n",
    "        110.27568922,  115.28822055,  117.79448622,  122.80701754,\n",
    "        125.31328321,  130.32581454,  132.8320802 ,  137.84461153,\n",
    "        142.85714286,  145.36340852,  150.37593985,  155.38847118,\n",
    "        160.40100251,  162.90726817,  167.9197995 ,  172.93233083,\n",
    "        177.94486216,  182.95739348,  187.96992481,  192.98245614,\n",
    "        195.4887218 ,  200.50125313,  205.51378446,  210.52631579,\n",
    "        215.53884712,  220.55137845,  225.56390977,  230.5764411 ,\n",
    "        235.58897243,  243.10776942,  248.12030075,  253.13283208,\n",
    "        258.14536341,  263.15789474,  268.17042607,  273.18295739,\n",
    "        278.19548872,  283.20802005,  288.22055138,  295.73934837,\n",
    "        300.7518797 ,  305.76441103,  310.77694236,  315.78947368,\n",
    "        320.80200501,  328.32080201,  333.33333333,  338.34586466,\n",
    "        343.35839599,  348.37092732,  353.38345865,  358.39598997,\n",
    "        365.91478697,  370.9273183 ,  375.93984962,  380.95238095,\n",
    "        385.96491228,  393.48370927,  398.4962406 ,  403.50877193,\n",
    "        408.52130326,  413.53383459,  421.05263158,  426.06516291,\n",
    "        431.07769424,  436.09022556,  443.60902256,  448.62155388,\n",
    "        453.63408521,  458.64661654,  463.65914787,  471.17794486,\n",
    "        476.19047619,  481.20300752,  486.21553885,  493.73433584,\n",
    "        498.74686717,  503.7593985 ])"
   ]
  },
  {
   "cell_type": "code",
   "execution_count": 96,
   "id": "89bd76b5-7319-4368-afa3-7bd0c4008e0c",
   "metadata": {},
   "outputs": [
    {
     "data": {
      "text/plain": [
       "1002.5062656641604"
      ]
     },
     "execution_count": 96,
     "metadata": {},
     "output_type": "execute_result"
    }
   ],
   "source": [
    "r_val"
   ]
  },
  {
   "cell_type": "code",
   "execution_count": null,
   "id": "ecfe7e06-b954-45c4-9971-788b895af453",
   "metadata": {},
   "outputs": [],
   "source": []
  }
 ],
 "metadata": {
  "kernelspec": {
   "display_name": "Python 3 (ipykernel)",
   "language": "python",
   "name": "python3"
  },
  "language_info": {
   "codemirror_mode": {
    "name": "ipython",
    "version": 3
   },
   "file_extension": ".py",
   "mimetype": "text/x-python",
   "name": "python",
   "nbconvert_exporter": "python",
   "pygments_lexer": "ipython3",
   "version": "3.11.5"
  }
 },
 "nbformat": 4,
 "nbformat_minor": 5
}
