{
 "cells": [
  {
   "cell_type": "code",
   "execution_count": 1,
   "id": "610cea15-e327-4611-ac3f-1d3281d85ec2",
   "metadata": {
    "tags": []
   },
   "outputs": [],
   "source": [
    "from matplotlib import pyplot as plt\n",
    "import numpy as np\n",
    "import pandas as pd\n",
    "from pathlib import Path\n",
    "import seaborn as sns\n",
    "\n",
    "from skimage.io import imread\n",
    "from matplotlib.colors import LinearSegmentedColormap\n",
    "from mpl_toolkits.axes_grid1.anchored_artists import AnchoredSizeBar\n"
   ]
  },
  {
   "cell_type": "code",
   "execution_count": 2,
   "id": "a6c7d4c5-736f-4987-bbff-f3e05fb34ad2",
   "metadata": {
    "tags": []
   },
   "outputs": [],
   "source": [
    "pd.set_option('mode.chained_assignment', None)"
   ]
  },
  {
   "cell_type": "code",
   "execution_count": 3,
   "id": "5821066a-a7b8-4dec-be92-2a1e8e745763",
   "metadata": {
    "tags": []
   },
   "outputs": [],
   "source": [
    "def read_tuple_list(x):\n",
    "    x_strip = x.strip('()').strip('[]')\n",
    "    if len(x_strip.split(', ')) == 1:\n",
    "        return np.array(x_strip.split(), dtype=float)\n",
    "    else:\n",
    "        return np.array(x_strip.split(', '), dtype=float)"
   ]
  },
  {
   "cell_type": "code",
   "execution_count": 4,
   "id": "29bc4c46-24e8-4dd5-ad3b-124b3475f274",
   "metadata": {
    "tags": []
   },
   "outputs": [],
   "source": [
    "#Lets import an arcos set, wave data, and the corresponding tracking data...\n",
    "base_path = Path.cwd().parent / 'Data Sets/2024_02_14_dpi-1p5mm'\n",
    "#base_path = Path('/media/echo/Samsung_T5/Main Data/Analysis Sets/23 Protofigures/Data Sets/2023_01_24_main-set/')\n",
    "\n",
    "images_folder = base_path / 'images'\n",
    "analysis_output_destination = base_path / 'wavefit_outputs'\n",
    "\n",
    "image_num = str(7)\n",
    "\n",
    "wave_df = pd.read_csv(analysis_output_destination / '{}_wave_df.csv'.format(image_num), converters={\"wave_centroid\": read_tuple_list})\n",
    "arcos_df = pd.read_csv(analysis_output_destination / '{}_ARCOS_df.csv'.format(image_num))\n",
    "tracking_df = pd.read_csv(analysis_output_destination / '{}_tracking_binned_df.csv'.format(image_num))\n"
   ]
  },
  {
   "cell_type": "code",
   "execution_count": 5,
   "id": "981baa1f-d1fe-4f92-9fb2-f65ef7a927e8",
   "metadata": {
    "tags": []
   },
   "outputs": [],
   "source": [
    "raw_tif = imread(images_folder / '{}.tif'.format(image_num))\n"
   ]
  },
  {
   "cell_type": "code",
   "execution_count": 6,
   "id": "cd46db99-72c3-417f-8e82-677a5e3344bd",
   "metadata": {
    "tags": []
   },
   "outputs": [
    {
     "name": "stderr",
     "output_type": "stream",
     "text": [
      "/Users/echo/miniconda3/envs/23pubenv/lib/python3.11/site-packages/seaborn/_oldcore.py:1498: FutureWarning: is_categorical_dtype is deprecated and will be removed in a future version. Use isinstance(dtype, CategoricalDtype) instead\n",
      "  if pd.api.types.is_categorical_dtype(vector):\n",
      "/Users/echo/miniconda3/envs/23pubenv/lib/python3.11/site-packages/seaborn/_oldcore.py:1498: FutureWarning: is_categorical_dtype is deprecated and will be removed in a future version. Use isinstance(dtype, CategoricalDtype) instead\n",
      "  if pd.api.types.is_categorical_dtype(vector):\n",
      "/Users/echo/miniconda3/envs/23pubenv/lib/python3.11/site-packages/seaborn/_oldcore.py:1498: FutureWarning: is_categorical_dtype is deprecated and will be removed in a future version. Use isinstance(dtype, CategoricalDtype) instead\n",
      "  if pd.api.types.is_categorical_dtype(vector):\n",
      "/Users/echo/miniconda3/envs/23pubenv/lib/python3.11/site-packages/seaborn/_oldcore.py:1119: FutureWarning: use_inf_as_na option is deprecated and will be removed in a future version. Convert inf values to NaN before operating instead.\n",
      "  with pd.option_context('mode.use_inf_as_na', True):\n",
      "/Users/echo/miniconda3/envs/23pubenv/lib/python3.11/site-packages/seaborn/_oldcore.py:1119: FutureWarning: use_inf_as_na option is deprecated and will be removed in a future version. Convert inf values to NaN before operating instead.\n",
      "  with pd.option_context('mode.use_inf_as_na', True):\n"
     ]
    },
    {
     "data": {
      "text/plain": [
       "<Axes: xlabel='timepoint', ylabel='circle_radius'>"
      ]
     },
     "execution_count": 6,
     "metadata": {},
     "output_type": "execute_result"
    },
    {
     "data": {
      "image/png": "[encoded data removed]",
      "text/plain": [
       "<Figure size 640x480 with 1 Axes>"
      ]
     },
     "metadata": {},
     "output_type": "display_data"
    }
   ],
   "source": [
    "sns.lineplot(data=wave_df, x='timepoint', y='circle_radius', hue='clTrackID')"
   ]
  },
  {
   "cell_type": "code",
   "execution_count": 11,
   "id": "7d9a2091-9dd7-4078-a666-090d3def0f2d",
   "metadata": {
    "tags": []
   },
   "outputs": [],
   "source": [
    "#Lets select the example wave:\n",
    "ex_wave_num = 6\n",
    "ex_wave_DF = wave_df[wave_df['clTrackID']==ex_wave_num]\n",
    "ex_arcos_DF = arcos_df[arcos_df['clTrackID']==ex_wave_num]\n",
    "start_time = ex_wave_DF.timepoint.min()\n",
    "pre_wave_time = start_time - 12 #one min prior to wave\n",
    "end_time = 85\n",
    "post_wave_time = end_time + 2 #four min after wave"
   ]
  },
  {
   "cell_type": "code",
   "execution_count": 15,
   "id": "96edd792-483b-4705-917c-efb3b75df4df",
   "metadata": {
    "tags": []
   },
   "outputs": [],
   "source": [
    "cmap_custom = LinearSegmentedColormap.from_list(colors=['#FFFFFF','#4A8F62'], name='white-green')"
   ]
  },
  {
   "cell_type": "code",
   "execution_count": 16,
   "id": "a7a8ffba-570f-49af-ba0c-57e3c6f494e8",
   "metadata": {
    "tags": []
   },
   "outputs": [],
   "source": [
    "custom_cmap = LinearSegmentedColormap.from_list(colors=['#09121D','#6E67AD','#8E9EDD','#BFCDFB'], name='black-white-blue') "
   ]
  },
  {
   "cell_type": "code",
   "execution_count": 12,
   "id": "8d94b7a9-d4ce-4182-acf1-8a07e8e134c8",
   "metadata": {
    "tags": []
   },
   "outputs": [
    {
     "data": {
      "text/plain": [
       "[656, 687]"
      ]
     },
     "execution_count": 12,
     "metadata": {},
     "output_type": "execute_result"
    }
   ],
   "source": [
    "i_wave_center"
   ]
  },
  {
   "cell_type": "code",
   "execution_count": 13,
   "id": "7a84152a-4389-4527-87d5-237226ecc531",
   "metadata": {
    "tags": []
   },
   "outputs": [],
   "source": [
    "export_location = Path.cwd().parent / 'Supplement 3/stills/control-1p5mm'\n",
    "vmin_set = 115\n",
    "vmax_set = 210\n",
    "border_color = '#87ABD3'\n",
    "border_width = 6\n",
    "crop_buffer = 650\n",
    "\n",
    "i_wave_center = ex_wave_DF[ex_wave_DF['timepoint']==start_time].wave_centroid.values[0]\n",
    "i_wave_center = [int(val) for val in i_wave_center]\n",
    "\n",
    "for t in ex_wave_DF.timepoint.values:\n",
    "    wave_r = ex_wave_DF[ex_wave_DF['timepoint']==t].circle_radius.values[0]/1.3 #need to convert back from um to px\n",
    "    wave_center = ex_wave_DF[ex_wave_DF['timepoint']==t].wave_centroid.values[0]\n",
    "    crop_im = raw_tif[t, 0,:,:][i_wave_center[1]-crop_buffer:i_wave_center[1]+crop_buffer,i_wave_center[0]-crop_buffer:i_wave_center[0]+crop_buffer]\n",
    "    wave_center_translate = [wave_center[0] - i_wave_center[0] + crop_buffer, wave_center[1] - i_wave_center[1] + crop_buffer]\n",
    "    #Lets start by getting the first frame of the wave? \n",
    "    fig = plt.figure(frameon=False)\n",
    "    ax = plt.Axes(fig, [0., 0., 1., 1.])\n",
    "    ax.set_axis_off()\n",
    "    fig.add_axes(ax)\n",
    "    plt.imshow(crop_im, cmap='magma', vmin=vmin_set, vmax=vmax_set)\n",
    "    circle1 = plt.Circle(wave_center_translate, wave_r, color=border_color, fill=False, linestyle='--', linewidth=border_width)\n",
    "    ax.add_patch(circle1)\n",
    "    scalebar = AnchoredSizeBar(ax.transData,\n",
    "                           200/1.3, '',  'lower right', \n",
    "                           pad=1,\n",
    "                           color='white',\n",
    "                           frameon=False,\n",
    "                           size_vertical=40)\n",
    "\n",
    "    ax.add_artist(scalebar) \n",
    "    ax.axis('off')\n",
    "    plt.savefig(export_location / str(image_num + '-{}.png'.format(t)), dpi=300, bbox_inches='tight')\n",
    "    plt.close()"
   ]
  },
  {
   "cell_type": "code",
   "execution_count": 21,
   "id": "f307b363-ba15-4976-b704-d533ac1d4448",
   "metadata": {
    "tags": []
   },
   "outputs": [],
   "source": [
    "export_location = Path.cwd().parent / 'Supplement 3/stills/control-1p5mm'\n",
    "vmin_set = 115\n",
    "vmax_set = 210\n",
    "border_color = '#87ABD3'\n",
    "border_width = 6\n",
    "crop_buffer = 650\n",
    "\n",
    "i_wave_center = ex_wave_DF[ex_wave_DF['timepoint']==start_time].wave_centroid.values[0]\n",
    "i_wave_center = [int(val) for val in i_wave_center]\n",
    "\n",
    "for t in range(ex_wave_DF.timepoint.values[-1],ex_wave_DF.timepoint.values[0] + 120):\n",
    "    crop_im = raw_tif[t, 0,:,:][i_wave_center[1]-crop_buffer:i_wave_center[1]+crop_buffer,i_wave_center[0]-crop_buffer:i_wave_center[0]+crop_buffer]\n",
    "    fig = plt.figure(frameon=False)\n",
    "    ax = plt.Axes(fig, [0., 0., 1., 1.])\n",
    "    ax.set_axis_off()\n",
    "    fig.add_axes(ax)\n",
    "    plt.imshow(crop_im, cmap='magma', vmin=vmin_set, vmax=vmax_set)\n",
    "    scalebar = AnchoredSizeBar(ax.transData,\n",
    "                           200/1.3, '',  'lower right', \n",
    "                           pad=1,\n",
    "                           color='white',\n",
    "                           frameon=False,\n",
    "                           size_vertical=40)\n",
    "\n",
    "    ax.add_artist(scalebar) \n",
    "    ax.axis('off')\n",
    "    plt.savefig(export_location / str(image_num + '-{}.png'.format(t)), dpi=300, bbox_inches='tight')\n",
    "    plt.close()"
   ]
  },
  {
   "cell_type": "code",
   "execution_count": 23,
   "id": "cb0f638f-6b19-4747-8025-9630fd7626a6",
   "metadata": {
    "tags": []
   },
   "outputs": [],
   "source": [
    "#print out frame from one min before wave start\n",
    "\n",
    "t_start = ex_wave_DF.timepoint.values[0] - 12\n",
    "\n",
    "crop_im = raw_tif[t_start, 0,:,:][i_wave_center[1]-crop_buffer:i_wave_center[1]+crop_buffer,i_wave_center[0]-crop_buffer:i_wave_center[0]+crop_buffer]\n",
    "#Lets start by getting the first frame of the wave? \n",
    "fig = plt.figure(frameon=False)\n",
    "ax = plt.Axes(fig, [0., 0., 1., 1.])\n",
    "ax.set_axis_off()\n",
    "fig.add_axes(ax)\n",
    "plt.imshow(crop_im, cmap='magma', vmin=vmin_set, vmax=vmax_set)\n",
    "\n",
    "scalebar = AnchoredSizeBar(ax.transData,\n",
    "                       200/1.3, '',  'lower right', \n",
    "                       pad=1,\n",
    "                       color='white',\n",
    "                       frameon=False,\n",
    "                       size_vertical=40)\n",
    "\n",
    "ax.add_artist(scalebar) \n",
    "ax.axis('off')\n",
    "plt.savefig(export_location / str(image_num + '-{}.png'.format(t_start)), dpi=300, bbox_inches='tight')\n",
    "plt.close()"
   ]
  },
  {
   "cell_type": "code",
   "execution_count": 65,
   "id": "d7f8ef72-5e26-4f39-9859-66a1fbeaee35",
   "metadata": {
    "tags": []
   },
   "outputs": [],
   "source": [
    "vmin_set = 150\n",
    "vmax_set = 900\n",
    "border_color = '#87ABD3'\n",
    "border_width = 12\n",
    "crop_buffer = 170\n",
    "\n",
    "i_wave_center = ex_ctrl_wave[ex_ctrl_wave['timepoint']==start_time_ctrl].wave_centroid.values[0]\n",
    "i_wave_center = [int(val) for val in i_wave_center]\n",
    "\n",
    "for t in ex_ctrl_wave.timepoint.values:\n",
    "    wave_r = ex_ctrl_wave[ex_ctrl_wave['timepoint']==t].circle_radius.values[0]/2.2 #need to convert back from um to px\n",
    "    wave_center = ex_ctrl_wave[ex_ctrl_wave['timepoint']==t].wave_centroid.values[0]\n",
    "    crop_im = raw_tif_ctrl[t, 0,:,:][i_wave_center[1]-crop_buffer:i_wave_center[1]+crop_buffer,i_wave_center[0]-crop_buffer:i_wave_center[0]+crop_buffer]\n",
    "    wave_center_translate = [wave_center[0] - i_wave_center[0] + crop_buffer, wave_center[1] - i_wave_center[1] + crop_buffer]\n",
    "    #Lets start by getting the first frame of the wave? \n",
    "    fig, ax = plt.subplots(figsize=(10,10))\n",
    "    plt.imshow(crop_im, cmap='magma', vmin=vmin_set, vmax=vmax_set)\n",
    "    circle1 = plt.Circle(wave_center_translate, wave_r, color=border_color, fill=False, linestyle='--', linewidth=border_width)\n",
    "    ax.add_patch(circle1)\n",
    "    scalebar = AnchoredSizeBar(ax.transData,\n",
    "                           200/2.2, '',  'lower right', \n",
    "                           pad=0.75,\n",
    "                           color='white',\n",
    "                           frameon=False,\n",
    "                           size_vertical=15)\n",
    "\n",
    "    ax.add_artist(scalebar) \n",
    "    ax.axis('off')\n",
    "    plt.savefig(export_location_ctrl / str('ctrl_1' + '-{}.png'.format(t)), dpi=300, bbox_inches='tight')\n",
    "    plt.close()"
   ]
  },
  {
   "cell_type": "code",
   "execution_count": 68,
   "id": "efb6b85b-d4b1-4412-ac21-1d66aaacd96b",
   "metadata": {
    "tags": []
   },
   "outputs": [
    {
     "data": {
      "text/plain": [
       "113"
      ]
     },
     "execution_count": 68,
     "metadata": {},
     "output_type": "execute_result"
    }
   ],
   "source": [
    "t = \n",
    "wave_r = ex_ctrl_wave[ex_ctrl_wave['timepoint']==t].circle_radius.values[0]/2.2 #need to convert back from um to px\n",
    "wave_center = ex_ctrl_wave[ex_ctrl_wave['timepoint']==t].wave_centroid.values[0]\n",
    "crop_im = raw_tif_ctrl[t, 0,:,:][i_wave_center[1]-crop_buffer:i_wave_center[1]+crop_buffer,i_wave_center[0]-crop_buffer:i_wave_center[0]+crop_buffer]\n",
    "wave_center_translate = [wave_center[0] - i_wave_center[0] + crop_buffer, wave_center[1] - i_wave_center[1] + crop_buffer]\n",
    "#Lets start by getting the first frame of the wave? \n",
    "fig, ax = plt.subplots(figsize=(10,10))\n",
    "plt.imshow(crop_im, cmap='magma', vmin=vmin_set, vmax=vmax_set)\n",
    "circle1 = plt.Circle(wave_center_translate, wave_r, color=border_color, fill=False, linestyle='--', linewidth=border_width)\n",
    "ax.add_patch(circle1)\n",
    "scalebar = AnchoredSizeBar(ax.transData,\n",
    "                       200/2.2, '',  'lower right', \n",
    "                       pad=0.75,\n",
    "                       color='white',\n",
    "                       frameon=False,\n",
    "                       size_vertical=15)\n",
    "\n",
    "ax.add_artist(scalebar) \n",
    "ax.axis('off')\n",
    "plt.savefig(export_location_ctrl / str('ctrl_1' + '-{}.png'.format(t)), dpi=300, bbox_inches='tight')\n",
    "plt.close()"
   ]
  },
  {
   "cell_type": "code",
   "execution_count": 72,
   "id": "34fc7dff-abad-4d6e-9e18-5ff438890ca4",
   "metadata": {
    "tags": []
   },
   "outputs": [],
   "source": [
    "t = ex_ctrl_wave.timepoint.values[-1]+12\n",
    "\n",
    "crop_im = raw_tif_ctrl[t, 0,:,:][i_wave_center[1]-crop_buffer:i_wave_center[1]+crop_buffer,i_wave_center[0]-crop_buffer:i_wave_center[0]+crop_buffer]\n",
    "wave_center_translate = [wave_center[0] - i_wave_center[0] + crop_buffer, wave_center[1] - i_wave_center[1] + crop_buffer]\n",
    "#Lets start by getting the first frame of the wave? \n",
    "fig, ax = plt.subplots(figsize=(10,10))\n",
    "plt.imshow(crop_im, cmap='magma', vmin=vmin_set, vmax=vmax_set)\n",
    "#circle1 = plt.Circle(wave_center_translate, wave_r, color=border_color, fill=False, linestyle='--', linewidth=border_width)\n",
    "#ax.add_patch(circle1)\n",
    "scalebar = AnchoredSizeBar(ax.transData,\n",
    "                       200/2.2, '',  'lower right', \n",
    "                       pad=0.75,\n",
    "                       color='white',\n",
    "                       frameon=False,\n",
    "                       size_vertical=15)\n",
    "\n",
    "ax.add_artist(scalebar) \n",
    "ax.axis('off')\n",
    "plt.savefig(export_location_ctrl / str('ctrl_1' + '-{}.png'.format(t)), dpi=300, bbox_inches='tight')\n",
    "plt.close()"
   ]
  },
  {
   "cell_type": "code",
   "execution_count": 35,
   "id": "aa41901c-1c9d-42d8-b78b-4c094112d83d",
   "metadata": {},
   "outputs": [],
   "source": [
    "fig, ax = plt.subplots(figsize=(10,10))\n",
    "pre_wave_time = min(ex_wave_DF.timepoint.values) - 12\n",
    "crop_im = raw_tif[pre_wave_time, 0,:,:][i_wave_center[1]-crop_buffer:i_wave_center[1]+crop_buffer,i_wave_center[0]-crop_buffer:i_wave_center[0]+crop_buffer]\n",
    "plt.imshow(crop_im, cmap=cmap_custom, vmin=vmin_set, vmax=vmax_set)\n",
    "ax.axis('off')\n",
    "plt.savefig(export_location + image_num + '-{}.png'.format(pre_wave_time), dpi=300, bbox_inches='tight')\n",
    "plt.close()"
   ]
  }
 ],
 "metadata": {
  "kernelspec": {
   "display_name": "Python 3 (ipykernel)",
   "language": "python",
   "name": "python3"
  },
  "language_info": {
   "codemirror_mode": {
    "name": "ipython",
    "version": 3
   },
   "file_extension": ".py",
   "mimetype": "text/x-python",
   "name": "python",
   "nbconvert_exporter": "python",
   "pygments_lexer": "ipython3",
   "version": "3.11.5"
  }
 },
 "nbformat": 4,
 "nbformat_minor": 5
}
