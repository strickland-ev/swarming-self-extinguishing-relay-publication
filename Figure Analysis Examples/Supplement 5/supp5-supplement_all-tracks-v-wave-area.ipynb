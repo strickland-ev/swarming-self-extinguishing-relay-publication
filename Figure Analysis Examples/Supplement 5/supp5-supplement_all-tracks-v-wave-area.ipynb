{
 "cells": [
  {
   "cell_type": "code",
   "execution_count": 1,
   "id": "43a37296-0aa2-4095-87c7-da3bbc63a051",
   "metadata": {},
   "outputs": [],
   "source": [
    "from matplotlib import pyplot as plt\n",
    "from matplotlib import colors, cm\n",
    "from matplotlib.collections import LineCollection\n",
    "import numpy as np\n",
    "import pandas as pd\n",
    "from pathlib import Path\n",
    "import seaborn as sns\n",
    "import trackpy as tp\n",
    "from scipy.signal import savgol_filter\n",
    "from scipy.interpolate import UnivariateSpline\n",
    "import random as rand\n",
    "from tqdm import tqdm\n",
    "from matplotlib.colors import LinearSegmentedColormap\n",
    "import statsmodels.api as sm"
   ]
  },
  {
   "cell_type": "code",
   "execution_count": 2,
   "id": "700c1bb1-5f49-406e-b333-85c63e700ef4",
   "metadata": {},
   "outputs": [],
   "source": [
    "def read_tuple_list(x):\n",
    "    x_strip = x.strip('()').strip('[]')\n",
    "    if len(x_strip.split(', ')) == 1:\n",
    "        return np.array(x_strip.split(), dtype=float)\n",
    "    else:\n",
    "        return np.array(x_strip.split(', '), dtype=float)"
   ]
  },
  {
   "cell_type": "code",
   "execution_count": 3,
   "id": "dde8a4b2-b80d-442f-ac7f-2953d7b6d3d4",
   "metadata": {},
   "outputs": [],
   "source": [
    "#Lets import an arcos set, wave data, and the corresponding tracking data...\n",
    "#base_path = Path('/media/echo/Samsung_T5/Main Data/Analysis Sets/23 Protofigures/Data Sets/2023_01_24_main-set')\n",
    "base_path = Path('/Volumes/Samsung_T5/Main Data/Analysis Sets/23 Protofigures/Data Sets/2023_01_24_main-set')\n",
    "images_folder = base_path / 'images'\n",
    "analysis_output_destination = base_path / 'wavefit_outputs'"
   ]
  },
  {
   "cell_type": "code",
   "execution_count": 4,
   "id": "8f7cfb69-566f-4579-9e0f-b05a389d36b7",
   "metadata": {},
   "outputs": [
    {
     "name": "stderr",
     "output_type": "stream",
     "text": [
      "  0%|                                                                                                                                                                                | 0/57 [00:00<?, ?it/s]"
     ]
    },
    {
     "name": "stdout",
     "output_type": "stream",
     "text": [
      "There are 17440 tracks post wave initiation...\n"
     ]
    },
    {
     "name": "stderr",
     "output_type": "stream",
     "text": [
      "  2%|██▉                                                                                                                                                                   | 1/57 [01:08<1:03:42, 68.26s/it]"
     ]
    },
    {
     "name": "stdout",
     "output_type": "stream",
     "text": [
      "There are 31227 tracks post wave initiation...\n"
     ]
    },
    {
     "name": "stderr",
     "output_type": "stream",
     "text": [
      "  4%|█████▊                                                                                                                                                               | 2/57 [03:15<1:34:13, 102.79s/it]"
     ]
    },
    {
     "name": "stdout",
     "output_type": "stream",
     "text": [
      "There are 9098 tracks post wave initiation...\n"
     ]
    },
    {
     "name": "stderr",
     "output_type": "stream",
     "text": [
      "  5%|████████▋                                                                                                                                                             | 3/57 [04:07<1:11:45, 79.74s/it]"
     ]
    },
    {
     "name": "stdout",
     "output_type": "stream",
     "text": [
      "There are 5903 tracks post wave initiation...\n"
     ]
    },
    {
     "name": "stderr",
     "output_type": "stream",
     "text": [
      "  7%|███████████▊                                                                                                                                                            | 4/57 [04:31<50:53, 57.62s/it]"
     ]
    },
    {
     "name": "stdout",
     "output_type": "stream",
     "text": [
      "There are 34792 tracks post wave initiation...\n"
     ]
    },
    {
     "name": "stderr",
     "output_type": "stream",
     "text": [
      "  9%|██████████████▌                                                                                                                                                       | 5/57 [06:27<1:08:15, 78.77s/it]"
     ]
    },
    {
     "name": "stdout",
     "output_type": "stream",
     "text": [
      "There are 14636 tracks post wave initiation...\n"
     ]
    },
    {
     "name": "stderr",
     "output_type": "stream",
     "text": [
      " 11%|█████████████████▋                                                                                                                                                      | 6/57 [07:11<56:57, 67.01s/it]"
     ]
    },
    {
     "name": "stdout",
     "output_type": "stream",
     "text": [
      "There are 14578 tracks post wave initiation...\n"
     ]
    },
    {
     "name": "stderr",
     "output_type": "stream",
     "text": [
      " 12%|████████████████████▋                                                                                                                                                   | 7/57 [08:14<54:39, 65.59s/it]"
     ]
    },
    {
     "name": "stdout",
     "output_type": "stream",
     "text": [
      "There are 32464 tracks post wave initiation...\n"
     ]
    },
    {
     "name": "stderr",
     "output_type": "stream",
     "text": [
      " 14%|███████████████████████▎                                                                                                                                              | 8/57 [10:47<1:16:17, 93.41s/it]"
     ]
    },
    {
     "name": "stdout",
     "output_type": "stream",
     "text": [
      "There are 10137 tracks post wave initiation...\n"
     ]
    },
    {
     "name": "stderr",
     "output_type": "stream",
     "text": [
      " 16%|██████████████████████████▏                                                                                                                                           | 9/57 [11:42<1:05:10, 81.48s/it]"
     ]
    },
    {
     "name": "stdout",
     "output_type": "stream",
     "text": [
      "There are 11022 tracks post wave initiation...\n"
     ]
    },
    {
     "name": "stderr",
     "output_type": "stream",
     "text": [
      " 18%|█████████████████████████████▎                                                                                                                                         | 10/57 [12:48<59:58, 76.56s/it]"
     ]
    },
    {
     "name": "stdout",
     "output_type": "stream",
     "text": [
      "There are 19996 tracks post wave initiation...\n"
     ]
    },
    {
     "name": "stderr",
     "output_type": "stream",
     "text": [
      " 19%|███████████████████████████████▊                                                                                                                                     | 11/57 [14:19<1:02:13, 81.17s/it]"
     ]
    },
    {
     "name": "stdout",
     "output_type": "stream",
     "text": [
      "There are 32604 tracks post wave initiation...\n"
     ]
    },
    {
     "name": "stderr",
     "output_type": "stream",
     "text": [
      " 21%|██████████████████████████████████▋                                                                                                                                  | 12/57 [16:36<1:13:31, 98.03s/it]"
     ]
    },
    {
     "name": "stdout",
     "output_type": "stream",
     "text": [
      "There are 17307 tracks post wave initiation...\n"
     ]
    },
    {
     "name": "stderr",
     "output_type": "stream",
     "text": [
      " 23%|█████████████████████████████████████▋                                                                                                                               | 13/57 [17:34<1:03:01, 85.93s/it]"
     ]
    },
    {
     "name": "stdout",
     "output_type": "stream",
     "text": [
      "There are 15316 tracks post wave initiation...\n"
     ]
    },
    {
     "name": "stderr",
     "output_type": "stream",
     "text": [
      " 25%|█████████████████████████████████████████                                                                                                                              | 14/57 [18:42<57:45, 80.59s/it]"
     ]
    },
    {
     "name": "stdout",
     "output_type": "stream",
     "text": [
      "There are 19762 tracks post wave initiation...\n"
     ]
    },
    {
     "name": "stderr",
     "output_type": "stream",
     "text": [
      " 26%|███████████████████████████████████████████▉                                                                                                                           | 15/57 [20:00<55:55, 79.90s/it]"
     ]
    },
    {
     "name": "stdout",
     "output_type": "stream",
     "text": [
      "There are 26980 tracks post wave initiation...\n"
     ]
    },
    {
     "name": "stderr",
     "output_type": "stream",
     "text": [
      " 28%|██████████████████████████████████████████████▉                                                                                                                        | 16/57 [21:21<54:41, 80.04s/it]"
     ]
    },
    {
     "name": "stdout",
     "output_type": "stream",
     "text": [
      "There are 18495 tracks post wave initiation...\n"
     ]
    },
    {
     "name": "stderr",
     "output_type": "stream",
     "text": [
      " 30%|█████████████████████████████████████████████████▊                                                                                                                     | 17/57 [22:53<55:45, 83.65s/it]"
     ]
    },
    {
     "name": "stdout",
     "output_type": "stream",
     "text": [
      "There are 20866 tracks post wave initiation...\n"
     ]
    },
    {
     "name": "stderr",
     "output_type": "stream",
     "text": [
      " 32%|████████████████████████████████████████████████████                                                                                                                 | 18/57 [25:05<1:03:49, 98.19s/it]"
     ]
    },
    {
     "name": "stdout",
     "output_type": "stream",
     "text": [
      "There are 23472 tracks post wave initiation...\n"
     ]
    },
    {
     "name": "stderr",
     "output_type": "stream",
     "text": [
      " 33%|███████████████████████████████████████████████████████                                                                                                              | 19/57 [26:42<1:02:02, 97.95s/it]"
     ]
    },
    {
     "name": "stdout",
     "output_type": "stream",
     "text": [
      "There are 10094 tracks post wave initiation...\n"
     ]
    },
    {
     "name": "stderr",
     "output_type": "stream",
     "text": [
      " 35%|██████████████████████████████████████████████████████████▌                                                                                                            | 20/57 [27:41<53:12, 86.27s/it]"
     ]
    },
    {
     "name": "stdout",
     "output_type": "stream",
     "text": [
      "There are 24854 tracks post wave initiation...\n"
     ]
    },
    {
     "name": "stderr",
     "output_type": "stream",
     "text": [
      " 37%|█████████████████████████████████████████████████████████████▌                                                                                                         | 21/57 [29:35<56:37, 94.37s/it]"
     ]
    },
    {
     "name": "stdout",
     "output_type": "stream",
     "text": [
      "There are 22017 tracks post wave initiation...\n"
     ]
    },
    {
     "name": "stderr",
     "output_type": "stream",
     "text": [
      " 39%|████████████████████████████████████████████████████████████████▍                                                                                                      | 22/57 [30:59<53:19, 91.43s/it]"
     ]
    },
    {
     "name": "stdout",
     "output_type": "stream",
     "text": [
      "There are 7891 tracks post wave initiation...\n"
     ]
    },
    {
     "name": "stderr",
     "output_type": "stream",
     "text": [
      " 40%|███████████████████████████████████████████████████████████████████▍                                                                                                   | 23/57 [31:38<42:48, 75.56s/it]"
     ]
    },
    {
     "name": "stdout",
     "output_type": "stream",
     "text": [
      "There are 6764 tracks post wave initiation...\n"
     ]
    },
    {
     "name": "stderr",
     "output_type": "stream",
     "text": [
      " 42%|██████████████████████████████████████████████████████████████████████▎                                                                                                | 24/57 [32:38<39:06, 71.10s/it]"
     ]
    },
    {
     "name": "stdout",
     "output_type": "stream",
     "text": [
      "There are 15378 tracks post wave initiation...\n"
     ]
    },
    {
     "name": "stderr",
     "output_type": "stream",
     "text": [
      " 44%|█████████████████████████████████████████████████████████████████████████▏                                                                                             | 25/57 [34:19<42:37, 79.92s/it]"
     ]
    },
    {
     "name": "stdout",
     "output_type": "stream",
     "text": [
      "There are 35039 tracks post wave initiation...\n"
     ]
    },
    {
     "name": "stderr",
     "output_type": "stream",
     "text": [
      " 46%|██████████████████████████████████████████████████████████████████████████▊                                                                                         | 26/57 [37:54<1:02:15, 120.48s/it]"
     ]
    },
    {
     "name": "stdout",
     "output_type": "stream",
     "text": [
      "There are 18639 tracks post wave initiation...\n"
     ]
    },
    {
     "name": "stderr",
     "output_type": "stream",
     "text": [
      " 47%|██████████████████████████████████████████████████████████████████████████████▋                                                                                       | 27/57 [39:14<54:11, 108.37s/it]"
     ]
    },
    {
     "name": "stdout",
     "output_type": "stream",
     "text": [
      "There are 18629 tracks post wave initiation...\n"
     ]
    },
    {
     "name": "stderr",
     "output_type": "stream",
     "text": [
      " 49%|█████████████████████████████████████████████████████████████████████████████████▌                                                                                    | 28/57 [40:38<48:45, 100.88s/it]"
     ]
    },
    {
     "name": "stdout",
     "output_type": "stream",
     "text": [
      "There are 19249 tracks post wave initiation...\n"
     ]
    },
    {
     "name": "stderr",
     "output_type": "stream",
     "text": [
      " 51%|████████████████████████████████████████████████████████████████████████████████████▉                                                                                  | 29/57 [41:56<43:53, 94.05s/it]"
     ]
    },
    {
     "name": "stdout",
     "output_type": "stream",
     "text": [
      "There are 23336 tracks post wave initiation...\n"
     ]
    },
    {
     "name": "stderr",
     "output_type": "stream",
     "text": [
      " 53%|███████████████████████████████████████████████████████████████████████████████████████▎                                                                              | 30/57 [44:11<47:51, 106.35s/it]"
     ]
    },
    {
     "name": "stdout",
     "output_type": "stream",
     "text": [
      "There are 27752 tracks post wave initiation...\n"
     ]
    },
    {
     "name": "stderr",
     "output_type": "stream",
     "text": [
      " 54%|██████████████████████████████████████████████████████████████████████████████████████████▎                                                                           | 31/57 [47:02<54:32, 125.85s/it]"
     ]
    },
    {
     "name": "stdout",
     "output_type": "stream",
     "text": [
      "There are 13917 tracks post wave initiation...\n"
     ]
    },
    {
     "name": "stderr",
     "output_type": "stream",
     "text": [
      " 56%|█████████████████████████████████████████████████████████████████████████████████████████████▏                                                                        | 32/57 [49:12<53:00, 127.22s/it]"
     ]
    },
    {
     "name": "stdout",
     "output_type": "stream",
     "text": [
      "There are 17580 tracks post wave initiation...\n"
     ]
    },
    {
     "name": "stderr",
     "output_type": "stream",
     "text": [
      " 58%|████████████████████████████████████████████████████████████████████████████████████████████████                                                                      | 33/57 [51:17<50:34, 126.42s/it]"
     ]
    },
    {
     "name": "stdout",
     "output_type": "stream",
     "text": [
      "There are 21825 tracks post wave initiation...\n"
     ]
    },
    {
     "name": "stderr",
     "output_type": "stream",
     "text": [
      " 60%|███████████████████████████████████████████████████████████████████████████████████████████████████                                                                   | 34/57 [52:43<43:49, 114.31s/it]"
     ]
    },
    {
     "name": "stdout",
     "output_type": "stream",
     "text": [
      "There are 14627 tracks post wave initiation...\n"
     ]
    },
    {
     "name": "stderr",
     "output_type": "stream",
     "text": [
      " 61%|██████████████████████████████████████████████████████████████████████████████████████████████████████▌                                                                | 35/57 [53:36<35:09, 95.90s/it]"
     ]
    },
    {
     "name": "stdout",
     "output_type": "stream",
     "text": [
      "There are 22857 tracks post wave initiation...\n"
     ]
    },
    {
     "name": "stderr",
     "output_type": "stream",
     "text": [
      " 63%|█████████████████████████████████████████████████████████████████████████████████████████████████████████▍                                                             | 36/57 [54:56<31:52, 91.07s/it]"
     ]
    },
    {
     "name": "stdout",
     "output_type": "stream",
     "text": [
      "There are 21928 tracks post wave initiation...\n"
     ]
    },
    {
     "name": "stderr",
     "output_type": "stream",
     "text": [
      " 65%|███████████████████████████████████████████████████████████████████████████████████████████████████████████▊                                                          | 37/57 [57:31<36:47, 110.38s/it]"
     ]
    },
    {
     "name": "stdout",
     "output_type": "stream",
     "text": [
      "There are 4009 tracks post wave initiation...\n"
     ]
    },
    {
     "name": "stderr",
     "output_type": "stream",
     "text": [
      " 67%|███████████████████████████████████████████████████████████████████████████████████████████████████████████████▎                                                       | 38/57 [58:00<27:13, 85.99s/it]"
     ]
    },
    {
     "name": "stdout",
     "output_type": "stream",
     "text": [
      "There are 43923 tracks post wave initiation...\n"
     ]
    },
    {
     "name": "stderr",
     "output_type": "stream",
     "text": [
      " 68%|████████████████████████████████████████████████████████████████████████████████████████████████████████████████▏                                                   | 39/57 [1:01:14<35:31, 118.42s/it]"
     ]
    },
    {
     "name": "stdout",
     "output_type": "stream",
     "text": [
      "There are 4946 tracks post wave initiation...\n"
     ]
    },
    {
     "name": "stderr",
     "output_type": "stream",
     "text": [
      " 70%|███████████████████████████████████████████████████████████████████████████████████████████████████████████████████▊                                                 | 40/57 [1:01:53<26:48, 94.60s/it]"
     ]
    },
    {
     "name": "stdout",
     "output_type": "stream",
     "text": [
      "There are 39034 tracks post wave initiation...\n"
     ]
    },
    {
     "name": "stderr",
     "output_type": "stream",
     "text": [
      " 72%|█████████████████████████████████████████████████████████████████████████████████████████████████████████████████████▉                                              | 41/57 [1:04:21<29:29, 110.62s/it]"
     ]
    },
    {
     "name": "stdout",
     "output_type": "stream",
     "text": [
      "There are 25807 tracks post wave initiation...\n"
     ]
    },
    {
     "name": "stderr",
     "output_type": "stream",
     "text": [
      " 74%|████████████████████████████████████████████████████████████████████████████████████████████████████████████████████████▊                                           | 42/57 [1:07:18<32:35, 130.39s/it]"
     ]
    },
    {
     "name": "stdout",
     "output_type": "stream",
     "text": [
      "There are 5235 tracks post wave initiation...\n"
     ]
    },
    {
     "name": "stderr",
     "output_type": "stream",
     "text": [
      " 75%|███████████████████████████████████████████████████████████████████████████████████████████████████████████████████████████▋                                        | 43/57 [1:07:56<23:57, 102.67s/it]"
     ]
    },
    {
     "name": "stdout",
     "output_type": "stream",
     "text": [
      "There are 6409 tracks post wave initiation...\n"
     ]
    },
    {
     "name": "stderr",
     "output_type": "stream",
     "text": [
      " 77%|███████████████████████████████████████████████████████████████████████████████████████████████████████████████████████████████▎                                     | 44/57 [1:08:37<18:15, 84.27s/it]"
     ]
    },
    {
     "name": "stdout",
     "output_type": "stream",
     "text": [
      "There are 36065 tracks post wave initiation...\n"
     ]
    },
    {
     "name": "stderr",
     "output_type": "stream",
     "text": [
      " 79%|██████████████████████████████████████████████████████████████████████████████████████████████████████████████████████████████████▎                                  | 45/57 [1:10:50<19:46, 98.85s/it]"
     ]
    },
    {
     "name": "stdout",
     "output_type": "stream",
     "text": [
      "There are 27144 tracks post wave initiation...\n"
     ]
    },
    {
     "name": "stderr",
     "output_type": "stream",
     "text": [
      " 81%|████████████████████████████████████████████████████████████████████████████████████████████████████████████████████████████████████▎                               | 46/57 [1:13:15<20:39, 112.68s/it]"
     ]
    },
    {
     "name": "stdout",
     "output_type": "stream",
     "text": [
      "There are 34848 tracks post wave initiation...\n"
     ]
    },
    {
     "name": "stderr",
     "output_type": "stream",
     "text": [
      " 82%|███████████████████████████████████████████████████████████████████████████████████████████████████████████████████████████████████████▏                            | 47/57 [1:15:00<18:22, 110.24s/it]"
     ]
    },
    {
     "name": "stdout",
     "output_type": "stream",
     "text": [
      "There are 15327 tracks post wave initiation...\n"
     ]
    },
    {
     "name": "stderr",
     "output_type": "stream",
     "text": [
      " 84%|██████████████████████████████████████████████████████████████████████████████████████████████████████████████████████████████████████████▉                          | 48/57 [1:15:48<13:44, 91.63s/it]"
     ]
    },
    {
     "name": "stdout",
     "output_type": "stream",
     "text": [
      "There are 42478 tracks post wave initiation...\n"
     ]
    },
    {
     "name": "stderr",
     "output_type": "stream",
     "text": [
      " 86%|████████████████████████████████████████████████████████████████████████████████████████████████████████████████████████████████████████████▉                       | 49/57 [1:18:51<15:53, 119.17s/it]"
     ]
    },
    {
     "name": "stdout",
     "output_type": "stream",
     "text": [
      "There are 5419 tracks post wave initiation...\n"
     ]
    },
    {
     "name": "stderr",
     "output_type": "stream",
     "text": [
      " 88%|████████████████████████████████████████████████████████████████████████████████████████████████████████████████████████████████████████████████▋                    | 50/57 [1:19:43<11:32, 98.88s/it]"
     ]
    },
    {
     "name": "stdout",
     "output_type": "stream",
     "text": [
      "There are 9245 tracks post wave initiation...\n"
     ]
    },
    {
     "name": "stderr",
     "output_type": "stream",
     "text": [
      " 89%|███████████████████████████████████████████████████████████████████████████████████████████████████████████████████████████████████████████████████▋                 | 51/57 [1:20:34<08:26, 84.43s/it]"
     ]
    },
    {
     "name": "stdout",
     "output_type": "stream",
     "text": [
      "There are 8821 tracks post wave initiation...\n"
     ]
    },
    {
     "name": "stderr",
     "output_type": "stream",
     "text": [
      " 91%|██████████████████████████████████████████████████████████████████████████████████████████████████████████████████████████████████████████████████████▌              | 52/57 [1:21:31<06:21, 76.28s/it]"
     ]
    },
    {
     "name": "stdout",
     "output_type": "stream",
     "text": [
      "There are 9519 tracks post wave initiation...\n"
     ]
    },
    {
     "name": "stderr",
     "output_type": "stream",
     "text": [
      " 93%|█████████████████████████████████████████████████████████████████████████████████████████████████████████████████████████████████████████████████████████▍           | 53/57 [1:22:36<04:51, 72.96s/it]"
     ]
    },
    {
     "name": "stdout",
     "output_type": "stream",
     "text": [
      "There are 10611 tracks post wave initiation...\n"
     ]
    },
    {
     "name": "stderr",
     "output_type": "stream",
     "text": [
      " 95%|████████████████████████████████████████████████████████████████████████████████████████████████████████████████████████████████████████████████████████████▎        | 54/57 [1:23:31<03:22, 67.64s/it]"
     ]
    },
    {
     "name": "stdout",
     "output_type": "stream",
     "text": [
      "There are 14166 tracks post wave initiation...\n"
     ]
    },
    {
     "name": "stderr",
     "output_type": "stream",
     "text": [
      " 96%|███████████████████████████████████████████████████████████████████████████████████████████████████████████████████████████████████████████████████████████████▏     | 55/57 [1:24:35<02:12, 66.44s/it]"
     ]
    },
    {
     "name": "stdout",
     "output_type": "stream",
     "text": [
      "There are 23035 tracks post wave initiation...\n"
     ]
    },
    {
     "name": "stderr",
     "output_type": "stream",
     "text": [
      " 98%|██████████████████████████████████████████████████████████████████████████████████████████████████████████████████████████████████████████████████████████████████   | 56/57 [1:26:14<01:16, 76.08s/it]"
     ]
    },
    {
     "name": "stdout",
     "output_type": "stream",
     "text": [
      "There are 9063 tracks post wave initiation...\n"
     ]
    },
    {
     "name": "stderr",
     "output_type": "stream",
     "text": [
      "100%|█████████████████████████████████████████████████████████████████████████████████████████████████████████████████████████████████████████████████████████████████████| 57/57 [1:26:51<00:00, 91.43s/it]\n"
     ]
    }
   ],
   "source": [
    "\n",
    "\n",
    "img_numbers = []\n",
    "density_collect = []\n",
    "integrated_movements = []\n",
    "max_rs = []\n",
    "number_waves = []\n",
    "area_sums = []\n",
    "\n",
    "for image in tqdm(list(images_folder.glob('[!.]*.tif'))):\n",
    "    \n",
    "    image_num = image.stem\n",
    "    \n",
    "    if image_num[0] == '.':\n",
    "        continue\n",
    "\n",
    "    wave_df = pd.read_csv(analysis_output_destination / '{}_wave_df.csv'.format(image_num), converters={\"wave_centroid\": read_tuple_list})\n",
    "    arcos_df = pd.read_csv(analysis_output_destination / '{}_ARCOS_df.csv'.format(image_num))\n",
    "    tracking_df = pd.read_csv(analysis_output_destination / '{}_tracking_binned_df.csv'.format(image_num))\n",
    "\n",
    "    #So track IDs and corrresponding tracks are found in tracking df, \n",
    "    #The corresponding points that made the circle are in arcos df, \n",
    "    #the waves to analze are in waves df, need to go from \n",
    "    #WaveDF --> arcosDF --> trackingDF \n",
    "    #Get centroid and radius over time from waveDF, \n",
    "    #Get trackID inside wavefront from arcosDF, \n",
    "    #Get track from tracking, then calc radial movement as enter wavefront? \n",
    "\n",
    "    #Calc a stable centroid: \n",
    "    #Only looking at clID that hvae waves mapped to them for now...\n",
    "\n",
    "    clIDs = wave_df.clTrackID.values\n",
    "\n",
    "    wave_ex = wave_df[wave_df.clTrackID == clIDs[0]]\n",
    "    arcos_ex =  arcos_df[arcos_df.clTrackID == clIDs[0]]\n",
    "\n",
    "    centroids = np.stack(wave_ex.wave_centroid.values, axis=0)\n",
    "    mean_centroid = (np.mean(centroids[:,0]), np.mean(centroids[:,1]))\n",
    "\n",
    "    #Get all tracking for all timepoints after a wave event has begun: \n",
    "    all_tracks_post_initiation = tracking_df[tracking_df['timepoint'] > arcos_df['timepoint'].min()]\n",
    "    print('There are {} tracks post wave initiation...'.format(str(len(all_tracks_post_initiation.track_id.unique()))))\n",
    "\n",
    "    arcos_whole_duration_track_collect = []\n",
    "    min_track_duration = 36 #3min\n",
    "\n",
    "    for tid, track in all_tracks_post_initiation.groupby('track_id'):\n",
    "        if len(track) > min_track_duration:\n",
    "            #Get the time, x, and y points, but DO NOT SMOOTH here. \n",
    "            #Smoothing for this aligned measurement brings forward the movement in time \n",
    "            #This confuses what we are getting at here, so do not smooth in time.\n",
    "            time = track.timepoint.values*5.0\n",
    "\n",
    "            #Compile as coords, get the linear velocity vectors, radial vectors, distance from center of the wave, velocity, angle between velocity and center radius, Chemotactic index, and radial velocity:\n",
    "            coords = np.stack((np.array(track.x.values), np.array(track.y.values)), axis=1)\n",
    "            lin_velocity_vec = [(coords[i+1] - coords[i])/5.0 for i in range(len(coords)-1)]\n",
    "            radial_vec = [np.array([mean_centroid[0] - coords[i][0], mean_centroid[1] - coords[i][1]]) for i in range(len(coords))]\n",
    "            dist_from_center = np.linalg.norm(radial_vec, axis=1)*2.2\n",
    "            inst_radial_step = [dist_from_center[i+1] - dist_from_center[i] for i in range(len(dist_from_center)-1)]\n",
    "            velocity = np.linalg.norm(lin_velocity_vec, axis=1)*2.2*60.0 #px/s --> um/s --> um/min\n",
    "            angles = [np.arctan2(np.linalg.norm(np.cross(radial_vec[i], lin_velocity_vec[i])), np.dot(radial_vec[i], lin_velocity_vec[i])) for i in range(len(lin_velocity_vec))]\n",
    "            cis = np.cos(angles)\n",
    "            radial_velocity = velocity*cis\n",
    "\n",
    "            #Integrate calcium signal over mean?\n",
    "            int_cal = np.sum(track['Calcium'] - track['Calcium'].mean())\n",
    "\n",
    "            #Append the relevant parameters to the track: \n",
    "            track['radial_dist'] = dist_from_center\n",
    "            track['inst_radial_movement'] = np.insert(inst_radial_step, 0, float('nan'), axis=0)\n",
    "            track['max_radial_movement'] = np.max(dist_from_center) - np.min(dist_from_center)\n",
    "            track['linear_velocity'] = np.insert(velocity, 0, float('nan'), axis=0)\n",
    "            track['chemotactic_index'] = np.insert(cis, 0, float('nan'), axis=0)\n",
    "            track['radial_velocity'] = np.insert(radial_velocity, 0, float('nan'), axis=0)\n",
    "            arcos_whole_duration_track_collect.append(track)\n",
    "\n",
    "    arcos_duration_tracks_DF = pd.concat(arcos_whole_duration_track_collect, ignore_index=True)\n",
    "\n",
    "    wave_start_times = []\n",
    "\n",
    "    for wid, wave_event in wave_df.groupby('clTrackID'):\n",
    "        wave_start_times.append(wave_event.timepoint.min())\n",
    "\n",
    "    radial_movement_integration = 0.0\n",
    "\n",
    "    coll_timepoints = []\n",
    "    radial_collection = []\n",
    "\n",
    "    for t, time_slice in arcos_duration_tracks_DF.groupby('timepoint'):\n",
    "        radial_movement_integration -= np.nansum(time_slice.inst_radial_movement.values)\n",
    "        coll_timepoints.append((5.0/60.0)*(t - min(wave_start_times)))\n",
    "        radial_collection.append(radial_movement_integration)\n",
    "\n",
    "    #Compile as coords, get the linear velocity vectors, radial vectors, distance from center of the wave, velocity, angle between velocity and center radius, Chemotactic index, and radial velocity:\n",
    "\n",
    "    event_sizes = []\n",
    "    event_start_stops = []\n",
    "    event_areas = []\n",
    "\n",
    "    for clID, clEvent in wave_df.groupby('clTrackID'):\n",
    "\n",
    "        event_start_stops.append((np.min(clEvent.timepoint.values), np.max(clEvent.timepoint.values)))\n",
    "        event_areas.append(np.pi*(clEvent.circle_radius.max()**2))\n",
    "        event_sizes.append(clEvent.circle_radius.max())\n",
    "        \n",
    "    #collect all the loop information and move to next file... \n",
    "    img_numbers.append(int(image_num))\n",
    "    density_collect.append(arcos_df.cell_density[0])\n",
    "    integrated_movements.append(radial_collection[-1])\n",
    "    max_rs.append(max(event_sizes))\n",
    "    number_waves.append(len(event_sizes))\n",
    "    area_sums.append(sum(event_areas))"
   ]
  },
  {
   "cell_type": "code",
   "execution_count": 5,
   "id": "4a5b50b2-330c-4332-b1d7-f1d1296708c2",
   "metadata": {},
   "outputs": [],
   "source": [
    "\n",
    "big_df = pd.DataFrame({'img_num':img_numbers,'density':density_collect,'integrated_move':integrated_movements,'max_r':max_rs,'num_waves':number_waves,'max_areas':area_sums})\n",
    "\n",
    "big_df.to_csv('supp-fig4-max-wave-area-v-all-movement.csv')"
   ]
  },
  {
   "cell_type": "code",
   "execution_count": 6,
   "id": "e55b7d3b-b029-4ad7-ba8a-3339d14c2b8c",
   "metadata": {},
   "outputs": [],
   "source": [
    "sns.set_context(\"notebook\", font_scale=1.25, rc={\"lines.linewidth\": 2, 'font.family': ['arial'], 'axes.linewidth':2})"
   ]
  },
  {
   "cell_type": "code",
   "execution_count": 7,
   "id": "fd149089-1e91-45dc-bf8f-dd652fa40a70",
   "metadata": {},
   "outputs": [
    {
     "data": {
      "image/png": "[encoded data removed]",
      "text/plain": [
       "<Figure size 216x216 with 1 Axes>"
      ]
     },
     "metadata": {
      "needs_background": "light"
     },
     "output_type": "display_data"
    }
   ],
   "source": [
    "plt.figure(figsize=(3,3))\n",
    "sns.regplot(data=big_df, y='max_areas', x='integrated_move', scatter_kws={'alpha':0.4, 'color':'grey'}, line_kws={'color':'black', 'linestyle':'--'})\n",
    "plt.ticklabel_format(style='sci', axis='x', scilimits=(0,0))\n",
    "plt.xlabel('')\n",
    "plt.ylabel('')\n",
    "plt.savefig('fig4-supplement-max-wave-area-v-all-movement.png', dpi=300, bbox_inches='tight')"
   ]
  },
  {
   "cell_type": "code",
   "execution_count": 8,
   "id": "fdeabeb1-1af0-427b-a621-fb7451ef612a",
   "metadata": {},
   "outputs": [
    {
     "name": "stdout",
     "output_type": "stream",
     "text": [
      "                            OLS Regression Results                            \n",
      "==============================================================================\n",
      "Dep. Variable:                      y   R-squared:                       0.565\n",
      "Model:                            OLS   Adj. R-squared:                  0.557\n",
      "Method:                 Least Squares   F-statistic:                     71.31\n",
      "Date:                Tue, 02 May 2023   Prob (F-statistic):           1.65e-11\n",
      "Time:                        12:44:31   Log-Likelihood:                -785.06\n",
      "No. Observations:                  57   AIC:                             1574.\n",
      "Df Residuals:                      55   BIC:                             1578.\n",
      "Df Model:                           1                                         \n",
      "Covariance Type:            nonrobust                                         \n",
      "==============================================================================\n",
      "                 coef    std err          t      P>|t|      [0.025      0.975]\n",
      "------------------------------------------------------------------------------\n",
      "const        3.86e+05    5.8e+04      6.656      0.000     2.7e+05    5.02e+05\n",
      "x1             4.4459      0.526      8.445      0.000       3.391       5.501\n",
      "==============================================================================\n",
      "Omnibus:                       13.335   Durbin-Watson:                   2.355\n",
      "Prob(Omnibus):                  0.001   Jarque-Bera (JB):               14.827\n",
      "Skew:                           0.996   Prob(JB):                     0.000603\n",
      "Kurtosis:                       4.508   Cond. No.                     2.04e+05\n",
      "==============================================================================\n",
      "\n",
      "Notes:\n",
      "[1] Standard Errors assume that the covariance matrix of the errors is correctly specified.\n",
      "[2] The condition number is large, 2.04e+05. This might indicate that there are\n",
      "strong multicollinearity or other numerical problems.\n"
     ]
    }
   ],
   "source": [
    "fit_ys_4c = big_df.dropna(axis=0)['max_areas'].values\n",
    "\n",
    "fit_xs_4c = big_df.dropna(axis=0)['integrated_move'].values\n",
    "fit_xs_4c = sm.add_constant(fit_xs_4c)\n",
    "model_4c = sm.OLS(fit_ys_4c,fit_xs_4c)\n",
    "results_4c = model_4c.fit()\n",
    "print(results_4c.summary())"
   ]
  },
  {
   "cell_type": "code",
   "execution_count": null,
   "id": "67323e2b-d551-4af9-9322-837909f32461",
   "metadata": {},
   "outputs": [],
   "source": []
  }
 ],
 "metadata": {
  "kernelspec": {
   "display_name": "Python 3 (ipykernel)",
   "language": "python",
   "name": "python3"
  },
  "language_info": {
   "codemirror_mode": {
    "name": "ipython",
    "version": 3
   },
   "file_extension": ".py",
   "mimetype": "text/x-python",
   "name": "python",
   "nbconvert_exporter": "python",
   "pygments_lexer": "ipython3",
   "version": "3.11.5"
  }
 },
 "nbformat": 4,
 "nbformat_minor": 5
}
