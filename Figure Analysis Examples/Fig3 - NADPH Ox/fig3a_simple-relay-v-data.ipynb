{
 "cells": [
  {
   "cell_type": "code",
   "execution_count": 1,
   "id": "e10dba95-ae47-4b7b-8c27-0f58e4659265",
   "metadata": {
    "tags": []
   },
   "outputs": [],
   "source": [
    "#General Import Packages: \n",
    "#Plotting\n",
    "from matplotlib import pyplot as plt\n",
    "from matplotlib import colors, cm\n",
    "from matplotlib.collections import LineCollection\n",
    "import seaborn as sns\n",
    "import trackpy as tp\n",
    "import matplotlib.patches as patch\n",
    "\n",
    "#Numerics, model implementation, path management, extras: \n",
    "import numpy as np\n",
    "import pandas as pd\n",
    "from pathlib import Path\n",
    "import random as rand\n",
    "from tqdm import tqdm \n",
    "from scipy.special import erfc\n",
    "\n",
    "#Signal Analysis Functions: \n",
    "from scipy.signal import savgol_filter\n",
    "from scipy.signal import peak_widths\n",
    "from scipy.optimize import curve_fit\n"
   ]
  },
  {
   "cell_type": "code",
   "execution_count": 2,
   "id": "c4e26cc2-4320-450d-869b-2acc94747b14",
   "metadata": {
    "tags": []
   },
   "outputs": [],
   "source": [
    "#Importing the relevant data frames is done using the following structure: \n",
    "\n",
    "#Set the base path as the root for an analysis set, all sets are arranged where images and analysis outputs are in the following locations: \n",
    "#base_path = Path('/media/echo/Samsung_T5/Main Data/Analysis Sets/23 Protofigures/Data Sets/2023_01_24_main-set')\n",
    "base_path = Path.cwd().parent / 'Data Sets/2023_01_24_main-set'\n",
    "images_folder = base_path / 'images'\n",
    "analysis_output_destination = base_path / 'wavefit_outputs'\n",
    "\n",
    "#There are three important dataframes used in analysis, the wave data frame, the ARCOS df, and the tracking df with binnned calcium values:\n",
    "#The tracking is the most broad, followed by ARCOS and then the wave (most abstracted info):\n",
    "wave_dataframe_paths = sorted(analysis_output_destination.glob('*_wave_df.csv'), key=lambda x: x.stem.split('_')[0])\n",
    "arcos_dataframe_paths = sorted(analysis_output_destination.glob('*_ARCOS_df.csv'), key=lambda x: x.stem.split('_')[0])\n",
    "tracking_dataframe_paths = sorted(analysis_output_destination.glob('*_tracking_binned_df.csv'), key=lambda x:x.stem.split('_')[0])\n"
   ]
  },
  {
   "cell_type": "code",
   "execution_count": 3,
   "id": "086c9c8e-298e-4fea-a1e2-de61d46c83f8",
   "metadata": {
    "tags": []
   },
   "outputs": [],
   "source": [
    "#Custom function to read in centroid arrays into dataframe instead of as a string: \n",
    "def read_tuple_list(x):\n",
    "    x_strip = x.strip('()').strip('[]')\n",
    "    if len(x_strip.split(', ')) == 1:\n",
    "        return np.array(x_strip.split(), dtype=float)\n",
    "    else:\n",
    "        return np.array(x_strip.split(', '), dtype=float)"
   ]
  },
  {
   "cell_type": "code",
   "execution_count": 4,
   "id": "c59b5519-9582-400c-8e4f-440c5420937f",
   "metadata": {
    "tags": []
   },
   "outputs": [],
   "source": [
    "def consolidate_waves(WAVE_DF_PATHS, save_DF = False):\n",
    "    \n",
    "    wave_collect = []\n",
    "\n",
    "    for wave_df_path in tqdm(WAVE_DF_PATHS):\n",
    "        img_id = int(wave_df_path.stem.split('_')[0]) #Get the image ID to match to the wave:\n",
    "        wave_df = pd.read_csv(wave_df_path, converters={\"wave_centroid\": read_tuple_list}) #Open the wave_DF from step4 analysis\n",
    "        wave_df = wave_df[wave_df.columns.drop(list(wave_df.filter(regex='Unnamed')))] #Strip it of any weird unnamed index columns\n",
    "        track_ids = wave_df['clTrackID'].values #Get the collective track values in the wave\n",
    "        wave_df['wave_ID'] = [str(img_id) + '-' + str(i) for i in track_ids] #Build a list of unique wave IDs from the image number and clTrack number they belong to\n",
    "        wave_df['image_ID'] = [img_id for i in range(len(wave_df))]\n",
    "        wave_collect.append(wave_df)\n",
    "    \n",
    "    wave_df_collected = pd.concat(wave_collect, ignore_index=True)\n",
    "    \n",
    "    if save_DF:\n",
    "        wave_df_collected.to_csv(WAVE_DF_PATHS[0].parent / 'combined_wave_DF.csv', index=False)\n",
    "        \n",
    "    return wave_df_collected"
   ]
  },
  {
   "cell_type": "code",
   "execution_count": 5,
   "id": "e40d81e3-ede9-4904-9a08-a4b8a0bbf26e",
   "metadata": {
    "tags": []
   },
   "outputs": [
    {
     "name": "stderr",
     "output_type": "stream",
     "text": [
      "100%|████████████████████████████████████████████| 57/57 [00:00<00:00, 706.84it/s]\n"
     ]
    }
   ],
   "source": [
    "wave_con_df = consolidate_waves(wave_dataframe_paths)"
   ]
  },
  {
   "cell_type": "code",
   "execution_count": 6,
   "id": "421283e5-c583-4b19-81b0-9a629a2403bd",
   "metadata": {
    "tags": []
   },
   "outputs": [
    {
     "name": "stderr",
     "output_type": "stream",
     "text": [
      "/Users/echo/miniconda3/envs/23pubenv/lib/python3.11/site-packages/seaborn/_oldcore.py:1498: FutureWarning: is_categorical_dtype is deprecated and will be removed in a future version. Use isinstance(dtype, CategoricalDtype) instead\n",
      "  if pd.api.types.is_categorical_dtype(vector):\n",
      "/Users/echo/miniconda3/envs/23pubenv/lib/python3.11/site-packages/seaborn/_oldcore.py:1498: FutureWarning: is_categorical_dtype is deprecated and will be removed in a future version. Use isinstance(dtype, CategoricalDtype) instead\n",
      "  if pd.api.types.is_categorical_dtype(vector):\n",
      "/Users/echo/miniconda3/envs/23pubenv/lib/python3.11/site-packages/seaborn/_oldcore.py:1119: FutureWarning: use_inf_as_na option is deprecated and will be removed in a future version. Convert inf values to NaN before operating instead.\n",
      "  with pd.option_context('mode.use_inf_as_na', True):\n",
      "/Users/echo/miniconda3/envs/23pubenv/lib/python3.11/site-packages/seaborn/_oldcore.py:1119: FutureWarning: use_inf_as_na option is deprecated and will be removed in a future version. Convert inf values to NaN before operating instead.\n",
      "  with pd.option_context('mode.use_inf_as_na', True):\n"
     ]
    },
    {
     "data": {
      "text/plain": [
       "<Axes: xlabel='rel_time', ylabel='r_squared'>"
      ]
     },
     "execution_count": 6,
     "metadata": {},
     "output_type": "execute_result"
    },
    {
     "data": {
      "image/png": "[encoded data removed]",
      "text/plain": [
       "<Figure size 640x480 with 1 Axes>"
      ]
     },
     "metadata": {},
     "output_type": "display_data"
    }
   ],
   "source": [
    "sns.lineplot(data = wave_con_df[wave_con_df.wave_ID == '49-19'], x='rel_time', y='r_squared')"
   ]
  },
  {
   "cell_type": "code",
   "execution_count": 7,
   "id": "1db9640b-0db4-4b16-b908-64a944f1e911",
   "metadata": {},
   "outputs": [
    {
     "data": {
      "text/plain": [
       "array([  0.,   5.,  10.,  15.,  20.,  25.,  30.,  35.,  40.,  45.,  50.,\n",
       "        55.,  60.,  65.,  70.,  75.,  80.,  85.,  90.,  95., 100., 105.,\n",
       "       110., 115., 120., 125., 130., 135., 140., 145., 150., 155., 160.,\n",
       "       165., 170., 175., 180., 185.])"
      ]
     },
     "execution_count": 7,
     "metadata": {},
     "output_type": "execute_result"
    }
   ],
   "source": [
    "wave_con_df[wave_con_df.wave_ID == '49-19'].rel_time.values*5.0"
   ]
  },
  {
   "cell_type": "code",
   "execution_count": 8,
   "id": "492f043a-e55d-40fb-88f4-23414cf99f15",
   "metadata": {},
   "outputs": [
    {
     "data": {
      "text/plain": [
       "array([     0.        ,    652.3903751 ,   1504.15181031,   1629.34077043,\n",
       "         2024.20226649,   3127.57430273,   4296.14423817,   6197.18847584,\n",
       "         8425.26369935,  10827.7688865 ,  14996.92468616,  21408.90944027,\n",
       "        27263.52359469,  34388.95069267,  41487.90825463,  48098.73841293,\n",
       "        56912.7512542 ,  63545.76253556,  72548.72842657,  79349.29640843,\n",
       "        85686.76706147,  94042.4033674 ,  98652.99618929, 104365.11011299,\n",
       "       110527.00198908, 114406.76787636, 117365.14543429, 118591.11650954,\n",
       "       120082.55315424, 121224.80498612, 122629.72566418, 123895.33949133,\n",
       "       124908.6664619 , 125791.44142316, 126862.56671223, 127938.40591212,\n",
       "       129039.61989356, 129082.27832996])"
      ]
     },
     "execution_count": 8,
     "metadata": {},
     "output_type": "execute_result"
    }
   ],
   "source": [
    "wave_con_df[wave_con_df.wave_ID == '49-19'].r_squared.values"
   ]
  },
  {
   "cell_type": "code",
   "execution_count": 7,
   "id": "19a59e44-e65d-4668-a25d-166115a59db3",
   "metadata": {
    "tags": []
   },
   "outputs": [],
   "source": [
    "trackable_waves = wave_con_df[wave_con_df['trackable']==True]"
   ]
  },
  {
   "cell_type": "code",
   "execution_count": 8,
   "id": "170da410-3e55-4ce9-b9bc-5b6b8aea4458",
   "metadata": {
    "tags": []
   },
   "outputs": [],
   "source": [
    "wave_bin = []\n",
    "\n",
    "for wid, wave in trackable_waves.groupby('wave_ID'):\n",
    "    if wave.rel_r.max() > 300:\n",
    "        wave_bin.append(wave)\n",
    "binned_track_waves = pd.concat(wave_bin)\n",
    "binned_track_waves['real_time'] = 5.0*binned_track_waves['rel_time']"
   ]
  },
  {
   "cell_type": "code",
   "execution_count": 18,
   "id": "cfc6d076-dad9-4b14-ba09-33047b4f3f6e",
   "metadata": {
    "tags": []
   },
   "outputs": [],
   "source": [
    "#relay_output = pd.read_csv('/media/echo/Samsung_T5/Main Data/Analysis Sets/23 Protofigures/Fig3 - Model vs Data Stop/model/simple_relay_output.csv')\n",
    "relay_output = pd.read_csv(Path.cwd().parent / 'Fig2 - Wave kinetics/diffusion relay compare/fits/full_relay_fit.csv')\n",
    "relay_output['r_2'] = (relay_output['r_relay'] - 15)**2"
   ]
  },
  {
   "cell_type": "code",
   "execution_count": 22,
   "id": "0cf00997-6059-424a-bdbd-75d64cf6bfa7",
   "metadata": {
    "tags": []
   },
   "outputs": [],
   "source": [
    "sns.set_context(\"notebook\", font_scale=1, rc={\"lines.linewidth\": 2.5, 'font.family': ['arial'], 'axes.linewidth':2})"
   ]
  },
  {
   "cell_type": "code",
   "execution_count": 27,
   "id": "3f208273-1588-4d04-9d4e-de0e96d458ee",
   "metadata": {
    "tags": []
   },
   "outputs": [
    {
     "name": "stderr",
     "output_type": "stream",
     "text": [
      "/Users/echo/miniconda3/envs/23pubenv/lib/python3.11/site-packages/seaborn/_oldcore.py:1498: FutureWarning: is_categorical_dtype is deprecated and will be removed in a future version. Use isinstance(dtype, CategoricalDtype) instead\n",
      "  if pd.api.types.is_categorical_dtype(vector):\n",
      "/Users/echo/miniconda3/envs/23pubenv/lib/python3.11/site-packages/seaborn/_oldcore.py:1498: FutureWarning: is_categorical_dtype is deprecated and will be removed in a future version. Use isinstance(dtype, CategoricalDtype) instead\n",
      "  if pd.api.types.is_categorical_dtype(vector):\n",
      "/Users/echo/miniconda3/envs/23pubenv/lib/python3.11/site-packages/seaborn/_oldcore.py:1119: FutureWarning: use_inf_as_na option is deprecated and will be removed in a future version. Convert inf values to NaN before operating instead.\n",
      "  with pd.option_context('mode.use_inf_as_na', True):\n",
      "/Users/echo/miniconda3/envs/23pubenv/lib/python3.11/site-packages/seaborn/_oldcore.py:1119: FutureWarning: use_inf_as_na option is deprecated and will be removed in a future version. Convert inf values to NaN before operating instead.\n",
      "  with pd.option_context('mode.use_inf_as_na', True):\n",
      "/Users/echo/miniconda3/envs/23pubenv/lib/python3.11/site-packages/seaborn/_oldcore.py:1498: FutureWarning: is_categorical_dtype is deprecated and will be removed in a future version. Use isinstance(dtype, CategoricalDtype) instead\n",
      "  if pd.api.types.is_categorical_dtype(vector):\n",
      "/Users/echo/miniconda3/envs/23pubenv/lib/python3.11/site-packages/seaborn/_oldcore.py:1498: FutureWarning: is_categorical_dtype is deprecated and will be removed in a future version. Use isinstance(dtype, CategoricalDtype) instead\n",
      "  if pd.api.types.is_categorical_dtype(vector):\n",
      "/Users/echo/miniconda3/envs/23pubenv/lib/python3.11/site-packages/seaborn/_oldcore.py:1119: FutureWarning: use_inf_as_na option is deprecated and will be removed in a future version. Convert inf values to NaN before operating instead.\n",
      "  with pd.option_context('mode.use_inf_as_na', True):\n",
      "/Users/echo/miniconda3/envs/23pubenv/lib/python3.11/site-packages/seaborn/_oldcore.py:1119: FutureWarning: use_inf_as_na option is deprecated and will be removed in a future version. Convert inf values to NaN before operating instead.\n",
      "  with pd.option_context('mode.use_inf_as_na', True):\n"
     ]
    },
    {
     "data": {
      "image/png": "[encoded data removed]",
      "text/plain": [
       "<Figure size 300x400 with 1 Axes>"
      ]
     },
     "metadata": {},
     "output_type": "display_data"
    }
   ],
   "source": [
    "plt.figure(figsize=(3,4))\n",
    "sns.lineplot(data=relay_output, x='time', y='r_2', linestyle='--', color = 'k', linewidth=3)\n",
    "sns.lineplot(data=binned_track_waves, x='real_time', y='r_squared', zorder=-1)\n",
    "plt.xlim(0,175)\n",
    "plt.ylim(0,160000)\n",
    "plt.xlabel('')\n",
    "plt.ylabel('')\n",
    "plt.ticklabel_format(style='sci', axis='y', scilimits=(0,0))\n",
    "plt.savefig('fig3a_simple-relay-v-data.png', dpi=300, bbox_inches='tight')"
   ]
  },
  {
   "cell_type": "code",
   "execution_count": 24,
   "id": "21e6225a-ccca-48d5-a685-7801081ed5fb",
   "metadata": {},
   "outputs": [],
   "source": [
    "data_ts = []\n",
    "data_rs = []\n",
    "\n",
    "for t, timepoint in binned_track_waves.groupby('real_time'):\n",
    "    data_ts.append(t)\n",
    "    data_rs.append(timepoint.circle_radius.mean())"
   ]
  },
  {
   "cell_type": "code",
   "execution_count": 15,
   "id": "e9763521-1d0a-42ac-be1c-ecceeb0a27a0",
   "metadata": {},
   "outputs": [
    {
     "data": {
      "image/png": "[encoded data removed]",
      "text/html": [
       "<div style=\"vertical-align: middle;\"><strong>lbupu</strong> </div><div class=\"cmap\"><img alt=\"lbupu colormap\" title=\"lbupu\" style=\"border: 1px solid #555;\" src=\"data:image/png;base64,iVBORw0KGgoAAAANSUhEUgAAAgAAAABACAYAAABsv8+/AAAAFHRFWHRUaXRsZQBsYnVwdSBjb2xvcm1hcKh9MScAAAAadEVYdERlc2NyaXB0aW9uAGxidXB1IGNvbG9ybWFwViKYwQAAADB0RVh0QXV0aG9yAE1hdHBsb3RsaWIgdjMuNS4yLCBodHRwczovL21hdHBsb3RsaWIub3Jnwlp4nAAAADJ0RVh0U29mdHdhcmUATWF0cGxvdGxpYiB2My41LjIsIGh0dHBzOi8vbWF0cGxvdGxpYi5vcmfs/Oe7AAABvElEQVR4nO3WQW7CMBRAQaf3v1rP0x3pBpBIMQmCsnkzmwjMN05KpbesP9/rGGOs6zrGGGOcL+PyemxeXy4769v5P/uPyeevl8fr2/mXz7N3vwf3vbxeD+57/fxsffIc1p317fzbzrN3vwfnnn3+0/vwnG7Wn/+/uV0+bcdn7784dxr33//03Gksd/fZn7v//YfPsT33bL9/n1sOnXvv+2Z//91zfOj3Np9bHs69//d2f5+Pz53v+2sAADkCAACCBAAABAkAAAgSAAAQJAAAIEgAAECQAACAIAEAAEECAACCBAAABAkAAAgSAAAQJAAAIEgAAECQAACAIAEAAEECAACCBAAABAkAAAgSAAAQJAAAIEgAAECQAACAIAEAAEECAACCBAAABAkAAAgSAAAQJAAAIEgAAECQAACAIAEAAEECAACCBAAABAkAAAgSAAAQJAAAIEgAAECQAACAIAEAAEECAACCBAAABAkAAAgSAAAQJAAAIEgAAECQAACAIAEAAEECAACCBAAABAkAAAgSAAAQJAAAIEgAAECQAACAIAEAAEECAACCBAAABAkAAAgSAAAQJAAAIEgAAEDQL8OiaMr0Wu/yAAAAAElFTkSuQmCC\"></div><div style=\"vertical-align: middle; max-width: 514px; display: flex; justify-content: space-between;\"><div style=\"float: left;\"><div title=\"#fff7cdff\" style=\"display: inline-block; width: 1em; height: 1em; margin: 0; vertical-align: middle; border: 1px solid #555; background-color: #fff7cdff;\"></div> under</div><div style=\"margin: 0 auto; display: inline-block;\">bad <div title=\"#00000000\" style=\"display: inline-block; width: 1em; height: 1em; margin: 0; vertical-align: middle; border: 1px solid #555; background-color: #00000000;\"></div></div><div style=\"float: right;\">over <div title=\"#456493ff\" style=\"display: inline-block; width: 1em; height: 1em; margin: 0; vertical-align: middle; border: 1px solid #555; background-color: #456493ff;\"></div></div>"
      ],
      "text/plain": [
       "<matplotlib.colors.LinearSegmentedColormap at 0x15d73ffd0>"
      ]
     },
     "execution_count": 15,
     "metadata": {},
     "output_type": "execute_result"
    }
   ],
   "source": [
    "colors.LinearSegmentedColormap.from_list(colors=['#fff7cd','#ea9a8f', '#456493'], name='lbupu')"
   ]
  },
  {
   "cell_type": "code",
   "execution_count": 21,
   "id": "7be119ce-75b1-4ba2-936d-71afe5531a9b",
   "metadata": {},
   "outputs": [],
   "source": [
    "normed = colors.Normalize(vmin=30, vmax=100)\n",
    "#cmap_vals = sns.color_palette(\"Set3\", as_cmap=True)\n",
    "cmap_vals = colors.LinearSegmentedColormap.from_list(colors=['#fff7cd','#ea9a8f', '#456493'], name='lbupu')"
   ]
  },
  {
   "cell_type": "code",
   "execution_count": 27,
   "id": "b81d7558-9edf-4025-be33-15f161bd2f60",
   "metadata": {},
   "outputs": [],
   "source": [
    "\n",
    "\n",
    "final_ts = range(0,65,6)\n",
    "\n",
    "for final_t in final_ts: \n",
    "\n",
    "    fig, ax = plt.subplots(figsize=(4,4))\n",
    "    r_vals = data_rs[:final_t]\n",
    "\n",
    "    for i,r_val in enumerate(r_vals):\n",
    "        if i%5 == 0:\n",
    "            c = patch.Circle((0,0), r_val, fill=False, edgecolor=cmap_vals(normed(data_ts[i])), linewidth=6)\n",
    "            #print(data_ts[i])\n",
    "            ax.add_patch(c)\n",
    "        \n",
    "    plt.xlim(-500,500)\n",
    "    plt.ylim(-500,500)\n",
    "\n",
    "\n",
    "\n",
    "    filename = \"/Volumes/Samsung_T5/Main Data/Analysis Sets/23 Protofigures/Fig3 - Model vs Data Stop/fig3a_still_outputs/largest_waves_mean_t-\" + str(int(data_ts[final_t])) + \".png\"\n",
    "    plt.savefig(filename, dpi=300, bbox_inches=\"tight\")\n",
    "    plt.close()"
   ]
  },
  {
   "cell_type": "code",
   "execution_count": 23,
   "id": "528c012a-7a0f-4566-ad95-cc19d51d043f",
   "metadata": {},
   "outputs": [],
   "source": [
    "#final_ts = range(1,301,step=100)\n",
    "\n",
    "#ts = 0.005:0.005:1.51\n",
    "#r = [wave_front_r(LTB4_ROS_2d3d_sol_1(t)[:,1], rd_LTB4 , 50, 0.1) for t in ts]\n",
    "\n",
    "#cmap_vals = sns.color_palette(\"BuPu\",120)\n",
    "\n",
    "final_ts = range(0,175,25)\n",
    "t_vals = relay_output['time'].values\n",
    "\n",
    "for final_t in final_ts: \n",
    "\n",
    "    fig, ax = plt.subplots(figsize=(4,4))\n",
    "    r_vals = relay_output['radius'].values[:final_t]\n",
    "\n",
    "    for i,r_val in enumerate(r_vals):\n",
    "        if i%25 == 0:\n",
    "            c = patch.Circle((0,0), r_val, fill=False, edgecolor=cmap_vals(normed(t_vals[i])), linewidth=6)\n",
    "            #print(t_vals[i])\n",
    "            ax.add_patch(c)\n",
    "        \n",
    "    plt.xlim(-500,500)\n",
    "    plt.ylim(-500,500)\n",
    "\n",
    "\n",
    "\n",
    "    filename = \"/Volumes/Samsung_T5/Main Data/Analysis Sets/23 Protofigures/Fig3 - Model vs Data Stop/fig3a_still_outputs/simple_realy_circles_t-\" + str(int(t_vals[final_t])) + \".png\"\n",
    "    plt.savefig(filename, dpi=300, bbox_inches=\"tight\")\n",
    "    plt.close()\n"
   ]
  }
 ],
 "metadata": {
  "kernelspec": {
   "display_name": "Python 3 (ipykernel)",
   "language": "python",
   "name": "python3"
  },
  "language_info": {
   "codemirror_mode": {
    "name": "ipython",
    "version": 3
   },
   "file_extension": ".py",
   "mimetype": "text/x-python",
   "name": "python",
   "nbconvert_exporter": "python",
   "pygments_lexer": "ipython3",
   "version": "3.11.5"
  }
 },
 "nbformat": 4,
 "nbformat_minor": 5
}
