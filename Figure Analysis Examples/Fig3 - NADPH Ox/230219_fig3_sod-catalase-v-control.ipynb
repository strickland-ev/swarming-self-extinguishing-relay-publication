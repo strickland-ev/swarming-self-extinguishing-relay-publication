{
 "cells": [
  {
   "cell_type": "code",
   "execution_count": 28,
   "id": "610cea15-e327-4611-ac3f-1d3281d85ec2",
   "metadata": {
    "tags": []
   },
   "outputs": [],
   "source": [
    "from matplotlib import pyplot as plt\n",
    "from matplotlib import colors, cm\n",
    "from matplotlib.collections import LineCollection\n",
    "from matplotlib.patches import Circle\n",
    "import numpy as np\n",
    "import pandas as pd\n",
    "from pathlib import Path\n",
    "import seaborn as sns\n",
    "import trackpy as tp\n",
    "from scipy.signal import savgol_filter\n",
    "from scipy.interpolate import UnivariateSpline\n",
    "import random as rand\n",
    "from tqdm import tqdm\n",
    "from scipy.optimize import curve_fit\n",
    "import scipy.stats as stat\n"
   ]
  },
  {
   "cell_type": "code",
   "execution_count": 2,
   "id": "5821066a-a7b8-4dec-be92-2a1e8e745763",
   "metadata": {
    "tags": []
   },
   "outputs": [],
   "source": [
    "def read_tuple_list(x):\n",
    "    x_strip = x.strip('()').strip('[]')\n",
    "    if len(x_strip.split(', ')) == 1:\n",
    "        return np.array(x_strip.split(), dtype=float)\n",
    "    else:\n",
    "        return np.array(x_strip.split(', '), dtype=float)"
   ]
  },
  {
   "cell_type": "code",
   "execution_count": 3,
   "id": "ec22d9f1-023e-4347-b05c-2b103eb6e2be",
   "metadata": {
    "tags": []
   },
   "outputs": [],
   "source": [
    "#Defining a basic power law function to fit to our wave relations r^2:\n",
    "def func_powerlaw(x, a, m):\n",
    "    return m*x**a"
   ]
  },
  {
   "cell_type": "code",
   "execution_count": 4,
   "id": "eefeed46-3e3f-464b-af9f-784ce8748dfc",
   "metadata": {
    "tags": []
   },
   "outputs": [],
   "source": [
    "#Defining a basic power law function to fit to our wave relations r^2:\n",
    "def func_powerlaw_simple(x, a):\n",
    "    return x**a"
   ]
  },
  {
   "cell_type": "code",
   "execution_count": 5,
   "id": "e751c61a-78bf-4f54-9695-a63e6fa9e4f2",
   "metadata": {
    "tags": []
   },
   "outputs": [],
   "source": [
    "#To consolodate all the wave dataframes in a set, use the following function: \n",
    "#INPUT: Sorted list of all wave dataframe csv locations:\n",
    "#Option to save the DF as a csv in the relevant location is given, default is False\n",
    "#OUTPUT: A dataframe containing all of the csv wave DFs in the path list\n",
    "\n",
    "def consolidate_waves(WAVE_DF_PATHS, save_DF = False):\n",
    "    \n",
    "    wave_collect = []\n",
    "\n",
    "    for wave_df_path in tqdm(WAVE_DF_PATHS):\n",
    "        img_id = int(wave_df_path.stem.split('_')[0]) #Get the image ID to match to the wave:\n",
    "        wave_df = pd.read_csv(wave_df_path, converters={\"wave_centroid\": read_tuple_list}) #Open the wave_DF from step4 analysis\n",
    "        wave_df = wave_df[wave_df.columns.drop(list(wave_df.filter(regex='Unnamed')))] #Strip it of any weird unnamed index columns\n",
    "        track_ids = wave_df['clTrackID'].values #Get the collective track values in the wave\n",
    "        wave_df['wave_ID'] = [str(img_id) + '-' + str(i) for i in track_ids] #Build a list of unique wave IDs from the image number and clTrack number they belong to\n",
    "        wave_df['image_ID'] = [img_id for i in range(len(wave_df))]\n",
    "        wave_collect.append(wave_df)\n",
    "    \n",
    "    wave_df_collected = pd.concat(wave_collect, ignore_index=True)\n",
    "    \n",
    "    if save_DF:\n",
    "        wave_df_collected.to_csv(WAVE_DF_PATHS[0].parent / 'combined_wave_DF.csv', index=False)\n",
    "        \n",
    "    return wave_df_collected"
   ]
  },
  {
   "cell_type": "code",
   "execution_count": 6,
   "id": "29bc4c46-24e8-4dd5-ad3b-124b3475f274",
   "metadata": {
    "tags": []
   },
   "outputs": [],
   "source": [
    "#Lets import an arcos set, wave data, and the corresponding tracking data...\n",
    "base_path = Path.cwd().parent / 'Data Sets/2024_02_15_sod-catalase'\n",
    "images_folder = base_path / 'images'\n",
    "analysis_output_destination = base_path / 'wavefit_outputs'\n",
    "\n",
    "wave_dataframe_paths = sorted(analysis_output_destination.glob('*_wave_df.csv'), key=lambda x: x.stem.split('_')[0])\n"
   ]
  },
  {
   "cell_type": "code",
   "execution_count": 7,
   "id": "c6eee143-061e-400b-8a64-c7b43a282c65",
   "metadata": {
    "tags": []
   },
   "outputs": [
    {
     "name": "stderr",
     "output_type": "stream",
     "text": [
      "100%|███████████████████████████████████████████████████████████████████████████████████████████████████████████| 26/26 [00:00<00:00, 544.29it/s]\n"
     ]
    }
   ],
   "source": [
    "wave_con_df = consolidate_waves(wave_dataframe_paths)\n",
    "wave_con_df['real_time'] = wave_con_df['rel_time'] * 5.0"
   ]
  },
  {
   "cell_type": "code",
   "execution_count": 15,
   "id": "3689103b-957b-4723-9d75-3ef3f69b6236",
   "metadata": {
    "tags": []
   },
   "outputs": [],
   "source": [
    "#collect control and sod-catalase wave max sizes: \n",
    "\n",
    "sod_cat_collect = []\n",
    "control_collect = []\n",
    "\n",
    "\n",
    "for wid, wave in wave_con_df.groupby('wave_ID'):\n",
    "    if wave.drug_name.values[0] == 'sod-catalase':\n",
    "        sod_cat_collect.append(wave.circle_radius.max())\n",
    "    else:\n",
    "        control_collect.append(wave.circle_radius.max())\n",
    "                               "
   ]
  },
  {
   "cell_type": "code",
   "execution_count": 20,
   "id": "a50ddfc7-71e5-44c3-bd7e-217008f6ef25",
   "metadata": {
    "tags": []
   },
   "outputs": [],
   "source": [
    "sod_cata_max_DF = pd.DataFrame(sod_cat_collect, columns=['max_wave_size'])\n",
    "sod_cata_max_DF['drug'] = 'sod-catalase'"
   ]
  },
  {
   "cell_type": "code",
   "execution_count": 22,
   "id": "25a5196a-bd3e-4f7b-b40d-ced7ee36746c",
   "metadata": {
    "tags": []
   },
   "outputs": [],
   "source": [
    "control_max_DF = pd.DataFrame(control_collect, columns=['max_wave_size'])\n",
    "control_max_DF['drug'] = 'control'"
   ]
  },
  {
   "cell_type": "code",
   "execution_count": 23,
   "id": "384a44d9-5377-4757-9b1c-6c9919179376",
   "metadata": {
    "tags": []
   },
   "outputs": [],
   "source": [
    "combo_cond_DF = pd.concat([control_max_DF, sod_cata_max_DF], ignore_index=True)\n"
   ]
  },
  {
   "cell_type": "code",
   "execution_count": 34,
   "id": "f15963c5-2ce2-4053-a96d-aa4d64060c4c",
   "metadata": {
    "tags": []
   },
   "outputs": [
    {
     "data": {
      "text/plain": [
       "TtestResult(statistic=-1.414917295116973, pvalue=0.15980411115198753, df=114.60608981906357)"
      ]
     },
     "execution_count": 34,
     "metadata": {},
     "output_type": "execute_result"
    }
   ],
   "source": [
    "#Running the ttest between the wt and drug mean alpha catagories: \n",
    "stat.ttest_ind(control_collect, sod_cat_collect, equal_var=False)\n"
   ]
  },
  {
   "cell_type": "code",
   "execution_count": 52,
   "id": "d839be3a-1b6a-4f5e-94c1-3f50f9045675",
   "metadata": {
    "tags": []
   },
   "outputs": [],
   "source": [
    "#Common formatting:\n",
    "sns.set_context(\"notebook\", font_scale=1.25, rc={\"lines.linewidth\": 2, 'font.family': ['arial'], 'axes.linewidth':2})\n"
   ]
  },
  {
   "cell_type": "code",
   "execution_count": 51,
   "id": "f4c43463-8a0a-426b-9f2e-ca3dbcfc324c",
   "metadata": {
    "tags": []
   },
   "outputs": [
    {
     "name": "stderr",
     "output_type": "stream",
     "text": [
      "/Users/echo/miniconda3/envs/23pubenv/lib/python3.11/site-packages/seaborn/_oldcore.py:1498: FutureWarning: is_categorical_dtype is deprecated and will be removed in a future version. Use isinstance(dtype, CategoricalDtype) instead\n",
      "  if pd.api.types.is_categorical_dtype(vector):\n",
      "/Users/echo/miniconda3/envs/23pubenv/lib/python3.11/site-packages/seaborn/_oldcore.py:1498: FutureWarning: is_categorical_dtype is deprecated and will be removed in a future version. Use isinstance(dtype, CategoricalDtype) instead\n",
      "  if pd.api.types.is_categorical_dtype(vector):\n",
      "/Users/echo/miniconda3/envs/23pubenv/lib/python3.11/site-packages/seaborn/_oldcore.py:1498: FutureWarning: is_categorical_dtype is deprecated and will be removed in a future version. Use isinstance(dtype, CategoricalDtype) instead\n",
      "  if pd.api.types.is_categorical_dtype(vector):\n",
      "/Users/echo/miniconda3/envs/23pubenv/lib/python3.11/site-packages/seaborn/_oldcore.py:1498: FutureWarning: is_categorical_dtype is deprecated and will be removed in a future version. Use isinstance(dtype, CategoricalDtype) instead\n",
      "  if pd.api.types.is_categorical_dtype(vector):\n",
      "/Users/echo/miniconda3/envs/23pubenv/lib/python3.11/site-packages/seaborn/_oldcore.py:1498: FutureWarning: is_categorical_dtype is deprecated and will be removed in a future version. Use isinstance(dtype, CategoricalDtype) instead\n",
      "  if pd.api.types.is_categorical_dtype(vector):\n",
      "/Users/echo/miniconda3/envs/23pubenv/lib/python3.11/site-packages/seaborn/_oldcore.py:1498: FutureWarning: is_categorical_dtype is deprecated and will be removed in a future version. Use isinstance(dtype, CategoricalDtype) instead\n",
      "  if pd.api.types.is_categorical_dtype(vector):\n",
      "/Users/echo/miniconda3/envs/23pubenv/lib/python3.11/site-packages/seaborn/_oldcore.py:1498: FutureWarning: is_categorical_dtype is deprecated and will be removed in a future version. Use isinstance(dtype, CategoricalDtype) instead\n",
      "  if pd.api.types.is_categorical_dtype(vector):\n",
      "/Users/echo/miniconda3/envs/23pubenv/lib/python3.11/site-packages/seaborn/_oldcore.py:1498: FutureWarning: is_categorical_dtype is deprecated and will be removed in a future version. Use isinstance(dtype, CategoricalDtype) instead\n",
      "  if pd.api.types.is_categorical_dtype(vector):\n",
      "/Users/echo/miniconda3/envs/23pubenv/lib/python3.11/site-packages/seaborn/_oldcore.py:1498: FutureWarning: is_categorical_dtype is deprecated and will be removed in a future version. Use isinstance(dtype, CategoricalDtype) instead\n",
      "  if pd.api.types.is_categorical_dtype(vector):\n",
      "/Users/echo/miniconda3/envs/23pubenv/lib/python3.11/site-packages/seaborn/_oldcore.py:1498: FutureWarning: is_categorical_dtype is deprecated and will be removed in a future version. Use isinstance(dtype, CategoricalDtype) instead\n",
      "  if pd.api.types.is_categorical_dtype(vector):\n",
      "/Users/echo/miniconda3/envs/23pubenv/lib/python3.11/site-packages/seaborn/_oldcore.py:1498: FutureWarning: is_categorical_dtype is deprecated and will be removed in a future version. Use isinstance(dtype, CategoricalDtype) instead\n",
      "  if pd.api.types.is_categorical_dtype(vector):\n",
      "/Users/echo/miniconda3/envs/23pubenv/lib/python3.11/site-packages/seaborn/_oldcore.py:1498: FutureWarning: is_categorical_dtype is deprecated and will be removed in a future version. Use isinstance(dtype, CategoricalDtype) instead\n",
      "  if pd.api.types.is_categorical_dtype(vector):\n",
      "/Users/echo/miniconda3/envs/23pubenv/lib/python3.11/site-packages/seaborn/_oldcore.py:1498: FutureWarning: is_categorical_dtype is deprecated and will be removed in a future version. Use isinstance(dtype, CategoricalDtype) instead\n",
      "  if pd.api.types.is_categorical_dtype(vector):\n",
      "/var/folders/jb/q2707w2155s00qd5b8lpx_6m0000gn/T/ipykernel_30540/3272183657.py:7: FutureWarning: Passing `palette` without assigning `hue` is deprecated.\n",
      "  sns.swarmplot(data=combo_cond_DF, x='drug', y='max_wave_size', palette=[sns.color_palette()[0],sns.color_palette()[7]], size=7, ax=ax, zorder=-1)\n",
      "/Users/echo/miniconda3/envs/23pubenv/lib/python3.11/site-packages/seaborn/_oldcore.py:1119: FutureWarning: use_inf_as_na option is deprecated and will be removed in a future version. Convert inf values to NaN before operating instead.\n",
      "  with pd.option_context('mode.use_inf_as_na', True):\n",
      "/Users/echo/miniconda3/envs/23pubenv/lib/python3.11/site-packages/seaborn/_oldcore.py:1119: FutureWarning: use_inf_as_na option is deprecated and will be removed in a future version. Convert inf values to NaN before operating instead.\n",
      "  with pd.option_context('mode.use_inf_as_na', True):\n"
     ]
    },
    {
     "data": {
      "image/png": "[encoded data removed]",
      "text/plain": [
       "<Figure size 350x450 with 1 Axes>"
      ]
     },
     "metadata": {},
     "output_type": "display_data"
    }
   ],
   "source": [
    "#Next are key wave analysis functions:\n",
    "\n",
    "#Print out figure 2e: \n",
    "fig, ax = plt.subplots(figsize=(3.5,4.5))\n",
    "sns.boxplot(data=combo_cond_DF, x='drug', y='max_wave_size', palette=[sns.color_palette()[7],sns.color_palette()[7]],  width=0.001, ax=ax, zorder=1000)\n",
    "sns.boxplot(data=combo_cond_DF, x='drug', y='max_wave_size', palette=[sns.color_palette()[7],sns.color_palette()[7]],  showbox=False, width=0.4, ax=ax, zorder=1000)\n",
    "sns.swarmplot(data=combo_cond_DF, x='drug', y='max_wave_size', palette=[sns.color_palette()[0],sns.color_palette()[7]], size=7, ax=ax, zorder=-1)\n",
    "ax.tick_params(direction='out', width=2.0, labelsize=14)\n",
    "#plt.ylim(0,50000)\n",
    "plt.xlabel('')\n",
    "plt.xticks([0,1],['',''])\n",
    "plt.ylabel('')\n",
    "\n",
    "# statistical annotation\n",
    "x1, x2 = 0, 1   # columns 'Sat' and 'Sun' (first column: 0, see plt.xticks())\n",
    "y, h, col = 425, 15, 'k'\n",
    "plt.plot([x1, x1, x2, x2], [y, y+h, y+h, y], lw=1.5, c=col)\n",
    "plt.text((x1+x2)*.5, y+h, \"\", ha='center', va='bottom', color=col)\n",
    "plt.ylim(0,475)\n",
    "plt.savefig('fig3-normal-v-sod-catalase-max_wave_size.png', dpi=300, bbox_inches='tight')"
   ]
  },
  {
   "cell_type": "code",
   "execution_count": 58,
   "id": "8dd31383-9123-4747-9ca8-7d3cbb8a7550",
   "metadata": {},
   "outputs": [
    {
     "name": "stdout",
     "output_type": "stream",
     "text": [
      "Number of Waves SOD/cata: 84\n",
      "Volunteer IDs: [25 24 23]\n"
     ]
    }
   ],
   "source": [
    "print(\"Number of Waves SOD/cata: {}\".format(len(sod_cat_collect)))\n",
    "print(\"Volunteer IDs: {}\".format(wave_con_df[wave_con_df['drug_name'] == 'sod-catalase'].volunteer_ID.unique()))"
   ]
  },
  {
   "cell_type": "code",
   "execution_count": 67,
   "id": "32462293-203b-46fb-b09b-a4ed4988ee0d",
   "metadata": {
    "tags": []
   },
   "outputs": [
    {
     "name": "stdout",
     "output_type": "stream",
     "text": [
      "Number of Waves control: 53\n",
      "Volunteer IDs: [23 25 24]\n"
     ]
    }
   ],
   "source": [
    "\n",
    "print(\"Number of Waves control: {}\".format(len(control_collect)))\n",
    "print(\"Volunteer IDs: {}\".format(wave_con_df[wave_con_df['drug_name'].isnull()].volunteer_ID.unique()))"
   ]
  },
  {
   "cell_type": "code",
   "execution_count": null,
   "id": "8bebf671-542d-4d24-a211-b8ea0b63b8bf",
   "metadata": {},
   "outputs": [],
   "source": []
  }
 ],
 "metadata": {
  "kernelspec": {
   "display_name": "Python 3 (ipykernel)",
   "language": "python",
   "name": "python3"
  },
  "language_info": {
   "codemirror_mode": {
    "name": "ipython",
    "version": 3
   },
   "file_extension": ".py",
   "mimetype": "text/x-python",
   "name": "python",
   "nbconvert_exporter": "python",
   "pygments_lexer": "ipython3",
   "version": "3.11.5"
  }
 },
 "nbformat": 4,
 "nbformat_minor": 5
}
