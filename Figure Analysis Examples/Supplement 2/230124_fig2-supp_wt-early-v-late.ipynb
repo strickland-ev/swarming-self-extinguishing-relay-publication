{
 "cells": [
  {
   "cell_type": "code",
   "execution_count": 1,
   "id": "610cea15-e327-4611-ac3f-1d3281d85ec2",
   "metadata": {},
   "outputs": [],
   "source": [
    "from matplotlib import pyplot as plt\n",
    "from matplotlib import colors, cm\n",
    "from matplotlib.collections import LineCollection\n",
    "import numpy as np\n",
    "import pandas as pd\n",
    "from pathlib import Path\n",
    "import seaborn as sns\n",
    "from skimage.io import imread\n",
    "import random as rand\n",
    "from mpl_toolkits.axes_grid1.anchored_artists import AnchoredSizeBar\n",
    "import math, random"
   ]
  },
  {
   "cell_type": "code",
   "execution_count": 2,
   "id": "5821066a-a7b8-4dec-be92-2a1e8e745763",
   "metadata": {},
   "outputs": [],
   "source": [
    "def read_tuple_list(x):\n",
    "    x_strip = x.strip('()').strip('[]')\n",
    "    if len(x_strip.split(', ')) == 1:\n",
    "        return np.array(x_strip.split(), dtype=float)\n",
    "    else:\n",
    "        return np.array(x_strip.split(', '), dtype=float)"
   ]
  },
  {
   "cell_type": "code",
   "execution_count": 3,
   "id": "29bc4c46-24e8-4dd5-ad3b-124b3475f274",
   "metadata": {},
   "outputs": [],
   "source": [
    "#Lets import an arcos set, wave data, and the corresponding tracking data...\n",
    "#base_path = Path('/media/echo/Samsung_T5/Main Data/Analysis Sets/23 Protofigures/Data Sets/2023_01_24_main-set')\n",
    "base_path = Path('/Volumes/Samsung_T5/Main Data/Analysis Sets/23 Protofigures/Data Sets/2023_01_24_main-set')\n",
    "images_folder = base_path / 'images'\n",
    "analysis_output_destination = base_path / 'wavefit_outputs'\n",
    "\n",
    "image_num = str(38) #57 used, 88 used, 45, 46 used for supp\n",
    "\n",
    "wave_df = pd.read_csv(analysis_output_destination / '{}_wave_df.csv'.format(image_num), converters={\"wave_centroid\": read_tuple_list})\n",
    "arcos_df = pd.read_csv(analysis_output_destination / '{}_ARCOS_df.csv'.format(image_num))\n",
    "tracking_df = pd.read_csv(analysis_output_destination / '{}_tracking_binned_df.csv'.format(image_num))\n",
    "\n",
    "um_per_px = 2.2"
   ]
  },
  {
   "cell_type": "code",
   "execution_count": 4,
   "id": "805cbfc6-c5d3-4f56-972a-9f79ad366d94",
   "metadata": {},
   "outputs": [],
   "source": [
    "#So track IDs and corrresponding tracks are found in tracking df, \n",
    "#The corresponding points that made the circle are in arcos df, \n",
    "#the waves to analze are in waves df, need to go from \n",
    "#WaveDF --> arcosDF --> trackingDF \n",
    "#Get centroid and radius over time from waveDF, \n",
    "#Get trackID inside wavefront from arcosDF, \n",
    "#Get track from tracking, then calc radial movement as enter wavefront? "
   ]
  },
  {
   "cell_type": "code",
   "execution_count": 4,
   "id": "262f6cb2-d480-423b-9079-e8ed2a457fa5",
   "metadata": {},
   "outputs": [],
   "source": [
    "raw_tif = imread(images_folder / '{}.tif'.format(image_num))\n"
   ]
  },
  {
   "cell_type": "code",
   "execution_count": 5,
   "id": "59850dcd-3452-4ce7-bd81-7c40ba621356",
   "metadata": {},
   "outputs": [
    {
     "data": {
      "text/plain": [
       "<AxesSubplot:xlabel='timepoint', ylabel='circle_radius'>"
      ]
     },
     "execution_count": 5,
     "metadata": {},
     "output_type": "execute_result"
    },
    {
     "data": {
      "image/png": "[encoded data removed]",
      "text/plain": [
       "<Figure size 432x288 with 1 Axes>"
      ]
     },
     "metadata": {
      "needs_background": "light"
     },
     "output_type": "display_data"
    }
   ],
   "source": [
    "sns.lineplot(data=wave_df[wave_df['trackable']==True], x='timepoint', y='circle_radius', hue='clTrackID')"
   ]
  },
  {
   "cell_type": "code",
   "execution_count": 7,
   "id": "c098c3f9-57be-4539-92a2-2f78627244a1",
   "metadata": {},
   "outputs": [
    {
     "data": {
      "text/plain": [
       "array([ 2,  3, 11, 14, 22, 33, 20, 21, 25, 32])"
      ]
     },
     "execution_count": 7,
     "metadata": {},
     "output_type": "execute_result"
    }
   ],
   "source": [
    "wave_df.clTrackID.unique()"
   ]
  },
  {
   "cell_type": "code",
   "execution_count": 6,
   "id": "14ceebd9-6559-4631-8e55-8de3e88f2bad",
   "metadata": {},
   "outputs": [
    {
     "name": "stderr",
     "output_type": "stream",
     "text": [
      "/var/folders/g_/8zgtwjx50cg4__mg9df381000000gn/T/ipykernel_46012/664323150.py:9: SettingWithCopyWarning: \n",
      "A value is trying to be set on a copy of a slice from a DataFrame.\n",
      "Try using .loc[row_indexer,col_indexer] = value instead\n",
      "\n",
      "See the caveats in the documentation: https://pandas.pydata.org/pandas-docs/stable/user_guide/indexing.html#returning-a-view-versus-a-copy\n",
      "  ex_wave_DF['real_time'] = ex_wave_DF['rel_time']*5.0\n"
     ]
    }
   ],
   "source": [
    "#Lets select the example wave: (#image number: wave number)\n",
    "ex_wave_num = 33 #57:6, 88:5, 45:19\n",
    "ex_wave_DF = wave_df[wave_df['clTrackID']==ex_wave_num]\n",
    "ex_arcos_DF = arcos_df[arcos_df['clTrackID']==ex_wave_num]\n",
    "start_time = ex_wave_DF.timepoint.min()\n",
    "pre_wave_time = start_time - 12 #one min prior to wave\n",
    "end_time = ex_wave_DF.timepoint.max()\n",
    "post_wave_time = end_time + 2 #four min after wave\n",
    "ex_wave_DF['real_time'] = ex_wave_DF['rel_time']*5.0"
   ]
  },
  {
   "cell_type": "code",
   "execution_count": 7,
   "id": "e2804b91-a1d7-4ebf-8b23-e5235707e10f",
   "metadata": {},
   "outputs": [],
   "source": [
    "sns.set_context(\"notebook\", font_scale=1, rc={\"lines.linewidth\": 2, 'font.family': ['arial'], 'axes.linewidth':2})\n",
    "\n",
    "save_dir = '/Volumes/Samsung_T5/Main Data/Analysis Sets/23 Protofigures/Supplement 2/early-v-late/'\n"
   ]
  },
  {
   "cell_type": "code",
   "execution_count": 8,
   "id": "eb2cac80-7de9-44d4-8448-4506b8cde6dc",
   "metadata": {},
   "outputs": [],
   "source": [
    "split_time = ex_wave_DF.groupby('split').get_group(0).real_time.max()\n",
    "\n"
   ]
  },
  {
   "cell_type": "code",
   "execution_count": 23,
   "id": "58431722-456a-478c-b224-414f4f019fea",
   "metadata": {},
   "outputs": [
    {
     "data": {
      "image/png": "[encoded data removed]",
      "text/plain": [
       "<Figure size 288x216 with 1 Axes>"
      ]
     },
     "metadata": {
      "needs_background": "light"
     },
     "output_type": "display_data"
    }
   ],
   "source": [
    "plt.figure(figsize=(4,3))\n",
    "sns.lineplot(data=ex_wave_DF, x='real_time', y='r_squared', color = '#8DAAD0')\n",
    "plt.vlines(split_time, ymin=0,ymax=55000, colors='#3576B6', linestyle='dashed')\n",
    "plt.xlabel('')\n",
    "plt.ylabel('')\n",
    "plt.ticklabel_format(style='sci', axis='y', scilimits=(0,0))\n",
    "#plt.ylim(-500,55000)\n",
    "#plt.xlim(0,80)\n",
    "plt.savefig(save_dir+ image_num + '_wave-{}_R2.png'.format(str(ex_wave_num)), dpi=300, bbox_inches='tight')"
   ]
  },
  {
   "cell_type": "code",
   "execution_count": 10,
   "id": "28932db4-f25b-4449-b0b2-85205761731e",
   "metadata": {},
   "outputs": [],
   "source": [
    "raw_mean_calcium = [np.mean(frame) for frame in raw_tif[:,0,:,:]]\n",
    "wave_before = min(ex_wave_DF.timepoint.values) - 6\n",
    "wave_after = max(ex_wave_DF.timepoint.values) + 6\n",
    "wave_duration = (max(ex_wave_DF.timepoint.values) - min(ex_wave_DF.timepoint.values))*5\n",
    "real_time_shifted = np.array(range(-6, wave_after-min(ex_wave_DF.timepoint.values), 1))*5.0\n"
   ]
  },
  {
   "cell_type": "code",
   "execution_count": 19,
   "id": "d69df91f-ce9f-427f-ad30-758f6d1e51f3",
   "metadata": {},
   "outputs": [
    {
     "data": {
      "image/png": "[encoded data removed]",
      "text/plain": [
       "<Figure size 288x216 with 1 Axes>"
      ]
     },
     "metadata": {
      "needs_background": "light"
     },
     "output_type": "display_data"
    }
   ],
   "source": [
    "fig, ax = plt.subplots(figsize=(4,3))\n",
    "ax.plot(real_time_shifted,raw_mean_calcium[wave_before:wave_after], color='k')\n",
    "ax.vlines(split_time, ymin=340,ymax=365, colors='#3576B6', linestyle='dashed')\n",
    "ax.fill_between((0,split_time), 340, 370, alpha=0.25, color='#3576B6')\n",
    "ax.fill_between((split_time,wave_duration), 340, 370, alpha=0.25, color='grey')\n",
    "plt.ylim(348,365)\n",
    "plt.xlim(-30,105)\n",
    "plt.savefig(save_dir+ image_num + '_wave-{}_avg-calcium.png'.format(str(ex_wave_num)), dpi=300, bbox_inches='tight')"
   ]
  }
 ],
 "metadata": {
  "kernelspec": {
   "display_name": "Python 3 (ipykernel)",
   "language": "python",
   "name": "python3"
  },
  "language_info": {
   "codemirror_mode": {
    "name": "ipython",
    "version": 3
   },
   "file_extension": ".py",
   "mimetype": "text/x-python",
   "name": "python",
   "nbconvert_exporter": "python",
   "pygments_lexer": "ipython3",
   "version": "3.9.13"
  }
 },
 "nbformat": 4,
 "nbformat_minor": 5
}
