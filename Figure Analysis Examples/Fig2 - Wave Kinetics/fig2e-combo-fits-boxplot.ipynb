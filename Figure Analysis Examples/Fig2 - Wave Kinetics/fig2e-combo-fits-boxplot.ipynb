{
 "cells": [
  {
   "cell_type": "code",
   "execution_count": 1,
   "id": "495d2e00-7749-40d8-a059-603d5b9e6097",
   "metadata": {
    "tags": []
   },
   "outputs": [],
   "source": [
    "#Figure 2E graph plotting \n",
    "#v1.0 version, this is the first consolidation of analysis done so far\n",
    "#Requires the environment packages found in 23pubenv"
   ]
  },
  {
   "cell_type": "code",
   "execution_count": 1,
   "id": "7c450c97-d0cd-483d-b079-5063de4b8058",
   "metadata": {
    "tags": []
   },
   "outputs": [],
   "source": [
    "#General Import Packages: \n",
    "#Plotting\n",
    "from matplotlib import pyplot as plt\n",
    "from matplotlib import colors, cm\n",
    "from matplotlib.collections import LineCollection\n",
    "import seaborn as sns\n",
    "\n",
    "#Numerics, model implementation, path management, extras: \n",
    "import numpy as np\n",
    "import pandas as pd\n",
    "from pathlib import Path\n",
    "import scipy.stats as stat\n"
   ]
  },
  {
   "cell_type": "code",
   "execution_count": 2,
   "id": "2de0a29e-098b-467b-842f-db9a9d92d8ec",
   "metadata": {
    "tags": []
   },
   "outputs": [],
   "source": [
    "#Custom function to read in centroid arrays into dataframe instead of as a string: \n",
    "def read_tuple_list(x):\n",
    "    x_strip = x.strip('()').strip('[]')\n",
    "    if len(x_strip.split(', ')) == 1:\n",
    "        return np.array(x_strip.split(), dtype=float)\n",
    "    else:\n",
    "        return np.array(x_strip.split(', '), dtype=float)"
   ]
  },
  {
   "cell_type": "code",
   "execution_count": 3,
   "id": "448cb6e2-bb2a-46f8-bc26-e583a22f6c4f",
   "metadata": {
    "tags": []
   },
   "outputs": [],
   "source": [
    "#Defining a basic power law function to fit to our wave relations r^2:\n",
    "def func_powerlaw(x, a, m):\n",
    "    return m*x**a"
   ]
  },
  {
   "cell_type": "code",
   "execution_count": 4,
   "id": "ac13376f-63e1-4bbf-91e7-dcaaded7ba62",
   "metadata": {
    "tags": []
   },
   "outputs": [],
   "source": [
    "#Importing the relevant data frames is done using the following structure: \n",
    "\n",
    "#Set the base path as the root for an analysis set, all sets are arranged where images and analysis outputs are in the following locations: \n",
    "base_path = Path.cwd().parent / 'Fig2 - Wave kinetics/indiv_fits/'\n",
    "sns.set_context(\"notebook\", font_scale=1, rc={\"lines.linewidth\": 2, 'font.family': ['arial'], 'axes.linewidth':2})\n"
   ]
  },
  {
   "cell_type": "code",
   "execution_count": 5,
   "id": "14dac276-5501-44bf-a7e4-b5168ed9f4bb",
   "metadata": {
    "tags": []
   },
   "outputs": [],
   "source": [
    "#Pulling the individual fits from a previously saved analysis:\n",
    "wt_df = pd.read_csv(base_path / 'fig2-wt-individual-fits.csv')\n",
    "ltb4_block_df = pd.read_csv(base_path / 'fig2-ltb4-block-individual-fits.csv')"
   ]
  },
  {
   "cell_type": "code",
   "execution_count": 6,
   "id": "ce75251b-d80a-4281-bb07-adf065631a35",
   "metadata": {
    "tags": []
   },
   "outputs": [],
   "source": [
    "#Need to rename the wt and drug conditons appropriately here for clarity:\n",
    "wt_df['drug'] = 'None'\n",
    "ltb4_block_df['drug'] = 'BIIL315'\n",
    "\n",
    "\n",
    "main_df = pd.concat([wt_df, ltb4_block_df], ignore_index=True)\n"
   ]
  },
  {
   "cell_type": "code",
   "execution_count": 7,
   "id": "ded1e750-0801-4b5d-8c79-7f16aeeaf611",
   "metadata": {
    "tags": []
   },
   "outputs": [
    {
     "data": {
      "text/plain": [
       "TtestResult(statistic=7.274346389063005, pvalue=4.0222942420323924e-08, df=30.262491908055548)"
      ]
     },
     "execution_count": 7,
     "metadata": {},
     "output_type": "execute_result"
    }
   ],
   "source": [
    "#Running the ttest between the wt and drug mean alpha catagories: \n",
    "stat.ttest_ind(main_df[main_df['drug'] == 'None'].alpha.values, main_df[main_df['drug'] == 'BIIL315'].alpha.values, equal_var=False)\n"
   ]
  },
  {
   "cell_type": "code",
   "execution_count": 8,
   "id": "b0fff1be-8609-451d-b9c0-54ec62cf5f4e",
   "metadata": {
    "tags": []
   },
   "outputs": [],
   "source": [
    "#Common formatting:\n",
    "sns.set_context(\"notebook\", font_scale=1, rc={\"lines.linewidth\": 2, 'font.family': ['arial'], 'axes.linewidth':2})\n"
   ]
  },
  {
   "cell_type": "code",
   "execution_count": 10,
   "id": "da050582-53cb-4d3f-a0ca-349160b90dd0",
   "metadata": {
    "tags": []
   },
   "outputs": [
    {
     "name": "stderr",
     "output_type": "stream",
     "text": [
      "/Users/echo/miniconda3/envs/23pubenv/lib/python3.11/site-packages/seaborn/_oldcore.py:1498: FutureWarning: is_categorical_dtype is deprecated and will be removed in a future version. Use isinstance(dtype, CategoricalDtype) instead\n",
      "  if pd.api.types.is_categorical_dtype(vector):\n",
      "/Users/echo/miniconda3/envs/23pubenv/lib/python3.11/site-packages/seaborn/_oldcore.py:1498: FutureWarning: is_categorical_dtype is deprecated and will be removed in a future version. Use isinstance(dtype, CategoricalDtype) instead\n",
      "  if pd.api.types.is_categorical_dtype(vector):\n",
      "/Users/echo/miniconda3/envs/23pubenv/lib/python3.11/site-packages/seaborn/_oldcore.py:1498: FutureWarning: is_categorical_dtype is deprecated and will be removed in a future version. Use isinstance(dtype, CategoricalDtype) instead\n",
      "  if pd.api.types.is_categorical_dtype(vector):\n",
      "/Users/echo/miniconda3/envs/23pubenv/lib/python3.11/site-packages/seaborn/_oldcore.py:1498: FutureWarning: is_categorical_dtype is deprecated and will be removed in a future version. Use isinstance(dtype, CategoricalDtype) instead\n",
      "  if pd.api.types.is_categorical_dtype(vector):\n",
      "/Users/echo/miniconda3/envs/23pubenv/lib/python3.11/site-packages/seaborn/_oldcore.py:1498: FutureWarning: is_categorical_dtype is deprecated and will be removed in a future version. Use isinstance(dtype, CategoricalDtype) instead\n",
      "  if pd.api.types.is_categorical_dtype(vector):\n",
      "/Users/echo/miniconda3/envs/23pubenv/lib/python3.11/site-packages/seaborn/_oldcore.py:1498: FutureWarning: is_categorical_dtype is deprecated and will be removed in a future version. Use isinstance(dtype, CategoricalDtype) instead\n",
      "  if pd.api.types.is_categorical_dtype(vector):\n",
      "/Users/echo/miniconda3/envs/23pubenv/lib/python3.11/site-packages/seaborn/_oldcore.py:1498: FutureWarning: is_categorical_dtype is deprecated and will be removed in a future version. Use isinstance(dtype, CategoricalDtype) instead\n",
      "  if pd.api.types.is_categorical_dtype(vector):\n",
      "/Users/echo/miniconda3/envs/23pubenv/lib/python3.11/site-packages/seaborn/_oldcore.py:1498: FutureWarning: is_categorical_dtype is deprecated and will be removed in a future version. Use isinstance(dtype, CategoricalDtype) instead\n",
      "  if pd.api.types.is_categorical_dtype(vector):\n",
      "/Users/echo/miniconda3/envs/23pubenv/lib/python3.11/site-packages/seaborn/_oldcore.py:1498: FutureWarning: is_categorical_dtype is deprecated and will be removed in a future version. Use isinstance(dtype, CategoricalDtype) instead\n",
      "  if pd.api.types.is_categorical_dtype(vector):\n",
      "/Users/echo/miniconda3/envs/23pubenv/lib/python3.11/site-packages/seaborn/_oldcore.py:1498: FutureWarning: is_categorical_dtype is deprecated and will be removed in a future version. Use isinstance(dtype, CategoricalDtype) instead\n",
      "  if pd.api.types.is_categorical_dtype(vector):\n",
      "/Users/echo/miniconda3/envs/23pubenv/lib/python3.11/site-packages/seaborn/_oldcore.py:1498: FutureWarning: is_categorical_dtype is deprecated and will be removed in a future version. Use isinstance(dtype, CategoricalDtype) instead\n",
      "  if pd.api.types.is_categorical_dtype(vector):\n",
      "/Users/echo/miniconda3/envs/23pubenv/lib/python3.11/site-packages/seaborn/_oldcore.py:1498: FutureWarning: is_categorical_dtype is deprecated and will be removed in a future version. Use isinstance(dtype, CategoricalDtype) instead\n",
      "  if pd.api.types.is_categorical_dtype(vector):\n",
      "/Users/echo/miniconda3/envs/23pubenv/lib/python3.11/site-packages/seaborn/_oldcore.py:1498: FutureWarning: is_categorical_dtype is deprecated and will be removed in a future version. Use isinstance(dtype, CategoricalDtype) instead\n",
      "  if pd.api.types.is_categorical_dtype(vector):\n",
      "/var/folders/jb/q2707w2155s00qd5b8lpx_6m0000gn/T/ipykernel_96010/2918053896.py:5: FutureWarning: Passing `palette` without assigning `hue` is deprecated.\n",
      "  sns.swarmplot(data=main_df, x='drug', y='alpha', palette=[sns.color_palette()[0],\"#D27770\"], size=7, ax=ax, zorder=1)\n",
      "/Users/echo/miniconda3/envs/23pubenv/lib/python3.11/site-packages/seaborn/_oldcore.py:1119: FutureWarning: use_inf_as_na option is deprecated and will be removed in a future version. Convert inf values to NaN before operating instead.\n",
      "  with pd.option_context('mode.use_inf_as_na', True):\n",
      "/Users/echo/miniconda3/envs/23pubenv/lib/python3.11/site-packages/seaborn/_oldcore.py:1119: FutureWarning: use_inf_as_na option is deprecated and will be removed in a future version. Convert inf values to NaN before operating instead.\n",
      "  with pd.option_context('mode.use_inf_as_na', True):\n"
     ]
    },
    {
     "data": {
      "image/png": "[encoded data removed]",
      "text/plain": [
       "<Figure size 350x450 with 1 Axes>"
      ]
     },
     "metadata": {},
     "output_type": "display_data"
    }
   ],
   "source": [
    "#Print out figure 2e: \n",
    "fig, ax = plt.subplots(figsize=(3.5,4.5))\n",
    "sns.boxplot(data=main_df, x='drug', y='alpha', palette=[sns.color_palette()[7],sns.color_palette()[7]],  width=0.001, ax=ax, zorder=2)\n",
    "sns.boxplot(data=main_df, x='drug', y='alpha', palette=[sns.color_palette()[7],sns.color_palette()[7]],  showbox=False, width=0.4, ax=ax, zorder=3)\n",
    "sns.swarmplot(data=main_df, x='drug', y='alpha', palette=[sns.color_palette()[0],\"#D27770\"], size=7, ax=ax, zorder=1)\n",
    "ax.tick_params(direction='out', width=2.0, labelsize=14)\n",
    "#plt.ylim(0,50000)\n",
    "plt.xlabel('')\n",
    "plt.xticks([0,1],['',''])\n",
    "plt.ylabel('')\n",
    "\n",
    "\n",
    "# statistical annotation\n",
    "x1, x2 = 0, 1   # columns 'Sat' and 'Sun' (first column: 0, see plt.xticks())\n",
    "y, h, col = 3.9, 0.2, 'k'\n",
    "plt.plot([x1, x1, x2, x2], [y, y+h, y+h, y], lw=1.5, c=col)\n",
    "plt.text((x1+x2)*.5, y+h, \"\", ha='center', va='bottom', color=col)\n",
    "plt.ylim(0,4.5)\n",
    "plt.savefig('fig2-normal-v-ltb4-block-wave-fits.png', dpi=300, bbox_inches='tight')"
   ]
  },
  {
   "cell_type": "code",
   "execution_count": 11,
   "id": "d9bfb07e-3fac-4361-8a19-4ba1838856b3",
   "metadata": {
    "tags": []
   },
   "outputs": [
    {
     "name": "stdout",
     "output_type": "stream",
     "text": [
      "BIIL315 Fit alpha summary: 1.0 +/- 0.6\n",
      "WT Fit alpha summary: 2.2 +/- 0.7\n"
     ]
    }
   ],
   "source": [
    "#Print out the values of these fits and graph above to put in text, caption: \n",
    "print('BIIL315 Fit alpha summary: {} +/- {}'.format(round(ltb4_block_df['alpha'].mean(),1), round(ltb4_block_df['alpha'].std(),1)))\n",
    "print('WT Fit alpha summary: {} +/- {}'.format(round(wt_df['alpha'].mean(),1), round(wt_df['alpha'].std(),1)))"
   ]
  },
  {
   "cell_type": "code",
   "execution_count": null,
   "id": "340bbbb1-ba03-4b69-8f08-2b2d97aa0a26",
   "metadata": {},
   "outputs": [],
   "source": []
  }
 ],
 "metadata": {
  "kernelspec": {
   "display_name": "Python 3 (ipykernel)",
   "language": "python",
   "name": "python3"
  },
  "language_info": {
   "codemirror_mode": {
    "name": "ipython",
    "version": 3
   },
   "file_extension": ".py",
   "mimetype": "text/x-python",
   "name": "python",
   "nbconvert_exporter": "python",
   "pygments_lexer": "ipython3",
   "version": "3.11.5"
  }
 },
 "nbformat": 4,
 "nbformat_minor": 5
}
