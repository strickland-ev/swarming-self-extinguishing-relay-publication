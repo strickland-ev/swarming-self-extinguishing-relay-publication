{
 "cells": [
  {
   "cell_type": "code",
   "execution_count": null,
   "id": "d276a88e-d55a-49f8-8c9c-40ce605350c8",
   "metadata": {},
   "outputs": [],
   "source": [
    "#Figure 2a graph plotting \n",
    "#v1.0 version, this is the first consolidation of analysis done so far\n",
    "#Requires the environment packages found in 23pubenv"
   ]
  },
  {
   "cell_type": "code",
   "execution_count": null,
   "id": "53898112-1cbe-424f-9e6c-d57e3e4c77e8",
   "metadata": {
    "tags": []
   },
   "outputs": [],
   "source": [
    "from matplotlib import pyplot as plt\n",
    "from matplotlib import colors, cm\n",
    "from matplotlib.collections import LineCollection\n",
    "import numpy as np\n",
    "import pandas as pd\n",
    "from pathlib import Path\n",
    "import seaborn as sns\n",
    "from tqdm import tqdm"
   ]
  },
  {
   "cell_type": "code",
   "execution_count": null,
   "id": "8cb6f977-9695-42a2-98a7-d77d7ff02337",
   "metadata": {
    "tags": []
   },
   "outputs": [],
   "source": [
    "def read_tuple_list(x):\n",
    "    x_strip = x.strip('()').strip('[]')\n",
    "    if len(x_strip.split(', ')) == 1:\n",
    "        return np.array(x_strip.split(), dtype=float)\n",
    "    else:\n",
    "        return np.array(x_strip.split(', '), dtype=float)"
   ]
  },
  {
   "cell_type": "code",
   "execution_count": null,
   "id": "cdf41d4f-47a6-4284-81cc-3ddc01381590",
   "metadata": {
    "tags": []
   },
   "outputs": [],
   "source": [
    "#To consolodate all the wave dataframes in a set, use the following function: \n",
    "#INPUT: Sorted list of all wave dataframe csv locations:\n",
    "#Option to save the DF as a csv in the relevant location is given, default is False\n",
    "#OUTPUT: A dataframe containing all of the csv wave DFs in the path list\n",
    "\n",
    "def consolidate_waves(WAVE_DF_PATHS, save_DF = False):\n",
    "    \n",
    "    wave_collect = []\n",
    "\n",
    "    for wave_df_path in tqdm(WAVE_DF_PATHS):\n",
    "        condition_id = wave_df_path.stem.split('_')[0] #Get the image ID to match to the wave:\n",
    "        wave_df = pd.read_csv(wave_df_path, converters={\"wave_centroid\": read_tuple_list}) #Open the wave_DF from step4 analysis\n",
    "        wave_df = wave_df[wave_df.columns.drop(list(wave_df.filter(regex='Unnamed')))] #Strip it of any weird unnamed index columns\n",
    "        track_ids = wave_df['clTrackID'].values #Get the collective track values in the wave\n",
    "        wave_df['wave_ID'] = [str(condition_id) + '-' + str(i) for i in track_ids] #Build a list of unique wave IDs from the image number and clTrack number they belong to\n",
    "        wave_df['condidtion_ID'] = [condition_id for i in range(len(wave_df))]\n",
    "        wave_collect.append(wave_df)\n",
    "    \n",
    "    wave_df_collected = pd.concat(wave_collect, ignore_index=True)\n",
    "    \n",
    "    if save_DF:\n",
    "        wave_df_collected.to_csv(WAVE_DF_PATHS[0].parent / 'combined_wave_DF.csv', index=False)\n",
    "        \n",
    "    return wave_df_collected"
   ]
  },
  {
   "cell_type": "code",
   "execution_count": null,
   "id": "d7034782-b12d-4f3f-8d04-0578b517084b",
   "metadata": {
    "tags": []
   },
   "outputs": [],
   "source": [
    "#Lets import an arcos set, wave data, and the corresponding tracking data...\n",
    "base_path = Path.cwd().parent / Path('Fig2 - Wave kinetics/DF_CSVs')\n",
    "\n",
    "\n",
    "wave_dataframe_paths = sorted(base_path.glob('*.csv'))\n"
   ]
  },
  {
   "cell_type": "code",
   "execution_count": null,
   "id": "61e5617e-6692-4c35-b882-1131221a3020",
   "metadata": {
    "tags": []
   },
   "outputs": [],
   "source": [
    "#Check the base path to confirm:\n",
    "base_path"
   ]
  },
  {
   "cell_type": "code",
   "execution_count": null,
   "id": "899458b0-3ee5-4325-9c53-5959e9d421d4",
   "metadata": {
    "tags": []
   },
   "outputs": [],
   "source": [
    "wave_con_df = consolidate_waves(wave_dataframe_paths)"
   ]
  },
  {
   "cell_type": "code",
   "execution_count": null,
   "id": "2ed009c1-e9db-4e49-bfe8-ad440e9fc0c8",
   "metadata": {
    "tags": []
   },
   "outputs": [],
   "source": [
    "#Since waves have varying travel distances:\n",
    "#Here we take the shortest traveling wave, and cut off all longer travel lengths. \n",
    "#This ensures that all waves measured are the same length over the averages presented:\n",
    "\n",
    "cond_col = []\n",
    "\n",
    "for group_ID, group in wave_con_df.groupby('condidtion_ID'):\n",
    "    track_lens = []\n",
    "    for wave_ID, wave in group.groupby('wave_ID'):\n",
    "        track_lens.append(len(wave))\n",
    "    min_len = np.min(track_lens)\n",
    "    cond_col.append(group[group['rel_time'] <= min_len])\n",
    "    \n",
    "\n",
    "snipped_wave_df = pd.concat(cond_col, ignore_index=True)"
   ]
  },
  {
   "cell_type": "code",
   "execution_count": null,
   "id": "d88c7cc9-d1c8-4a27-8c1f-ec4443219ed8",
   "metadata": {
    "tags": []
   },
   "outputs": [],
   "source": [
    "sns.set_context(\"notebook\", font_scale=1, rc={\"lines.linewidth\": 2.5, 'font.family': ['arial'], 'axes.linewidth':2})"
   ]
  },
  {
   "cell_type": "code",
   "execution_count": null,
   "id": "d468db7a-8c1b-406c-98d7-a4f260b5e6e1",
   "metadata": {
    "tags": []
   },
   "outputs": [],
   "source": [
    "plt.figure(figsize=(2,3.5))\n",
    "\n",
    "ax = sns.lineplot(data=snipped_wave_df,x='real_time', y='r_squared', hue='condidtion_ID', errorbar='sd', palette=[\"#D27770\", sns.color_palette()[0]], legend=False)\n",
    "\n",
    "plt.xlim(0,min_len*5)\n",
    "plt.ylim(-1000,45000)\n",
    "ax.tick_params(direction='out', width=2, labelsize=10)\n",
    "plt.ticklabel_format(style='sci', axis='y', scilimits=(0,0))\n",
    "plt.xlabel('')\n",
    "plt.ylabel('')\n",
    "plt.savefig('fig2-wt-ltb4-dual-plot.png', dpi=400, bbox_inches='tight')"
   ]
  },
  {
   "cell_type": "code",
   "execution_count": null,
   "id": "ef7755dd-32ba-4418-87e5-afa3abc9a025",
   "metadata": {
    "tags": []
   },
   "outputs": [],
   "source": [
    "no_dpi[no_dpi['condidtion_ID'] == 'biil315'].groupby('real_time').mean('rel_r')['rel_r'].loc[0:60].to_csv('LTB4block_early_wave_mean_travel.csv')"
   ]
  },
  {
   "cell_type": "code",
   "execution_count": null,
   "id": "dec7d407-3f01-4fb8-84d1-19981ae68b11",
   "metadata": {},
   "outputs": [],
   "source": []
  }
 ],
 "metadata": {
  "kernelspec": {
   "display_name": "Python 3 (ipykernel)",
   "language": "python",
   "name": "python3"
  },
  "language_info": {
   "codemirror_mode": {
    "name": "ipython",
    "version": 3
   },
   "file_extension": ".py",
   "mimetype": "text/x-python",
   "name": "python",
   "nbconvert_exporter": "python",
   "pygments_lexer": "ipython3",
   "version": "3.11.5"
  }
 },
 "nbformat": 4,
 "nbformat_minor": 5
}
