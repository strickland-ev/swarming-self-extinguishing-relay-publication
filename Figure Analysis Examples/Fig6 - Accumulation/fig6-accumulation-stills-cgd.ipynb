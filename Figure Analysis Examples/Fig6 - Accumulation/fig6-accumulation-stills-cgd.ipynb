{
 "cells": [
  {
   "cell_type": "code",
   "execution_count": 1,
   "id": "3b803519-dcdf-4ed7-a07c-31ce9228b4ea",
   "metadata": {
    "tags": []
   },
   "outputs": [],
   "source": [
    "#Figure 6 graph plotting \n",
    "#v1.0 version, this is the first consolidation of analysis done so far\n",
    "#Requires the environment packages found in 23pubenv"
   ]
  },
  {
   "cell_type": "code",
   "execution_count": 2,
   "id": "3f79b542-0d35-4dd6-9652-1663ac2c8b4f",
   "metadata": {
    "tags": []
   },
   "outputs": [],
   "source": [
    "import tifffile\n",
    "from matplotlib import pyplot as plt\n",
    "import numpy as np\n",
    "from pathlib import Path\n",
    "import pandas as pd\n",
    "import seaborn as sns\n",
    "from scipy import stats\n",
    "import statsmodels.api as sm\n",
    "from skimage import filters, morphology, measure, segmentation\n",
    "from tqdm import tqdm\n",
    "from matplotlib.colors import LinearSegmentedColormap\n",
    "from mpl_toolkits.axes_grid1.anchored_artists import AnchoredSizeBar"
   ]
  },
  {
   "cell_type": "code",
   "execution_count": 3,
   "id": "6eb52730-5b2c-4720-89a5-58985ee51f82",
   "metadata": {
    "tags": []
   },
   "outputs": [],
   "source": [
    "def im_stack_thresh(im_stack): \n",
    "    oats = []\n",
    "\n",
    "    for i in range(len(im_stack)):\n",
    "        oats.append(filters.threshold_otsu(im_stack[i]))\n",
    "\n",
    "    return np.mean(oats)"
   ]
  },
  {
   "cell_type": "code",
   "execution_count": 6,
   "id": "99919933-af2b-4804-ba22-1ce24a83db46",
   "metadata": {
    "tags": []
   },
   "outputs": [
    {
     "data": {
      "text/plain": [
       "PosixPath('/Users/echo/Documents/Lab Stuff/Publication/23 Protofigures/Data Sets/2023_05_03_CGD_Accumulation')"
      ]
     },
     "execution_count": 6,
     "metadata": {},
     "output_type": "execute_result"
    }
   ],
   "source": [
    "folderpath = Path.cwd().parent / 'Data Sets' / '2023_05_03_CGD_Accumulation' \n",
    "folderpath"
   ]
  },
  {
   "cell_type": "code",
   "execution_count": 7,
   "id": "d4fb57a7-eaca-4f9a-b5b0-f03c408bfb4c",
   "metadata": {
    "tags": []
   },
   "outputs": [],
   "source": [
    "#Get all the folders needed:\n",
    "\n",
    "img_folder = folderpath / 'nuclei'\n",
    "core_ROI_folder = folderpath / 'nuclei_core_ROI'\n",
    "seg_folder = folderpath / 'segmented_nuclei'\n",
    "seg_CORE_folder = folderpath / 'segmented_nuclei_core_ROI'\n",
    "\n",
    "#Get a list of all the images in each folder: \n",
    "img_paths = sorted(img_folder.glob('*.tif'), key= lambda x: x.stem.split('_'))\n",
    "core_ROI_paths = sorted(core_ROI_folder.glob('*.tif'), key= lambda x: x.stem.split('_'))\n",
    "seg_paths = sorted(seg_folder.glob('*.tif'), key= lambda x: x.stem.split('_'))\n",
    "core_ROI_segmentations = sorted(seg_CORE_folder.glob('*.tif'), key= lambda x: x.stem.split('_'))"
   ]
  },
  {
   "cell_type": "code",
   "execution_count": 8,
   "id": "d760c94d-acb3-4be5-9200-b9af0549c13b",
   "metadata": {
    "tags": []
   },
   "outputs": [],
   "source": [
    "#For CGD examples: \n",
    "#Image 8: img_paths[-2], 18\n",
    "#Image 11: img_paths[3], 11\n",
    "#Image 9: img_paths[-1], 4 (zero index)"
   ]
  },
  {
   "cell_type": "code",
   "execution_count": 9,
   "id": "e5697386-7840-4559-bc09-d4bab6bab7c6",
   "metadata": {
    "tags": []
   },
   "outputs": [],
   "source": [
    "trains_colors = ['#5BCFFA', '#FFFFFF', '#F5ABB9']\n",
    "train_palette = LinearSegmentedColormap.from_list(colors=trains_colors, name='trains')"
   ]
  },
  {
   "cell_type": "code",
   "execution_count": 19,
   "id": "6d345b96-6b70-4f72-91a4-536752af3910",
   "metadata": {
    "tags": []
   },
   "outputs": [],
   "source": [
    "\n",
    "export_location = Path.cwd() / 'accumulation-stills' / 'cgd'\n",
    "#All images with same stretching: 800-3500\n",
    "vmin_set = 800\n",
    "vmax_set = 3000\n",
    "border_color_core = '#EE362B'\n",
    "border_color_cells = '#F5ABB9'\n",
    "border_width = 10\n"
   ]
  },
  {
   "cell_type": "code",
   "execution_count": 20,
   "id": "c7af9c03-35d8-438a-9554-630baa563209",
   "metadata": {
    "tags": []
   },
   "outputs": [],
   "source": [
    "list_position = -1\n",
    "position_frame = 8\n",
    "\n",
    "image_name = img_paths[list_position].stem\n",
    "im_file = tifffile.imread(core_ROI_paths[list_position])[position_frame]\n",
    "seg_file = tifffile.imread(core_ROI_segmentations[list_position])[position_frame]\n"
   ]
  },
  {
   "cell_type": "code",
   "execution_count": 21,
   "id": "b9ae35ab-9c38-4292-909a-bbb861d709f3",
   "metadata": {
    "tags": []
   },
   "outputs": [],
   "source": [
    "#Generating stills with boundry of accumulation overlay on nuclear imaging:\n",
    "\n",
    "#Get the final core centroid first:\n",
    "\n",
    "threshold = im_stack_thresh(im_file)\n",
    "\n",
    "frame = im_file\n",
    "cell_bin = (seg_file > 0)*1.0\n",
    "\n",
    "#Threshold core by otsu thresh for stack, then remove all single cells etc\n",
    "bin_im = frame > threshold\n",
    "core_adj = morphology.erosion(bin_im)\n",
    "core_adj = morphology.remove_small_objects(core_adj, 100)\n",
    "core_adj = morphology.dilation(core_adj)\n",
    "\n",
    "\n",
    "#Get the info of the cores detected: \n",
    "labeled_cores = measure.label(core_adj)\n",
    "core_infos = pd.DataFrame(measure.regionprops_table(labeled_cores, properties=['label', 'area','centroid']))\n",
    "\n",
    "#If there are two, take the bigger one as the center one: \n",
    "if len(core_infos) > 1: \n",
    "    max_idx = core_infos.area.idxmax()\n",
    "    max_core = core_infos.loc[max_idx]\n",
    "    core_center = [int(max_core['centroid-1']),int(max_core['centroid-0'])]\n",
    "    core_mask = labeled_cores == max_core.label\n",
    "else: \n",
    "    core_center = [int(core_infos['centroid-1'].values),int(core_infos['centroid-0'].values)]\n",
    "    core_mask = core_adj\n",
    "\n",
    "boundary_core = measure.find_contours(core_mask)\n",
    "\n",
    "#Plotting\n",
    "fig, ax = plt.subplots(figsize=(10,10))\n",
    "plt.imshow(frame, cmap='Greys_r', vmin=vmin_set,vmax=vmax_set)\n",
    "plt.axis('off')\n",
    "for contour in boundary_core:\n",
    "    ax.plot(contour[:, 1], contour[:, 0], linewidth=4, fillstyle='full', color=border_color_core)\n",
    "\n",
    "    \n",
    "#boundary_cells = measure.find_contours(cell_bin)\n",
    "#for contour in boundary_cells:\n",
    "#    ax.plot(contour[:, 1], contour[:, 0], linewidth=1, color=border_color_cells)\n",
    "plt.gca().invert_yaxis()\n",
    "\n",
    "scalebar = AnchoredSizeBar(ax.transData,\n",
    "                           100/1.2865, '',  'lower right', \n",
    "                           pad=1,\n",
    "                           color='white',\n",
    "                           frameon=False,\n",
    "                           size_vertical=10)\n",
    "\n",
    "ax.add_artist(scalebar)\n",
    "plt.savefig(export_location / Path('cgd-{}-{}.png'.format(image_name, position_frame)), dpi=300, bbox_inches='tight')\n",
    "plt.close()\n"
   ]
  },
  {
   "cell_type": "code",
   "execution_count": 22,
   "id": "8ac1466d-ace1-45d3-aac2-7cffcf97f59c",
   "metadata": {
    "tags": []
   },
   "outputs": [
    {
     "data": {
      "text/plain": [
       "2.0"
      ]
     },
     "execution_count": 22,
     "metadata": {},
     "output_type": "execute_result"
    }
   ],
   "source": [
    "max_core.label"
   ]
  },
  {
   "cell_type": "code",
   "execution_count": 23,
   "id": "57eae376-c320-46e3-bec1-0095f0d7d4f5",
   "metadata": {
    "tags": []
   },
   "outputs": [
    {
     "data": {
      "text/plain": [
       "label             2.000000\n",
       "area          22948.000000\n",
       "centroid-0      150.612733\n",
       "centroid-1      149.223244\n",
       "Name: 1, dtype: float64"
      ]
     },
     "execution_count": 23,
     "metadata": {},
     "output_type": "execute_result"
    }
   ],
   "source": [
    "max_core"
   ]
  },
  {
   "cell_type": "code",
   "execution_count": null,
   "id": "488143f2-086a-4b91-b710-3b943ccaef60",
   "metadata": {},
   "outputs": [],
   "source": []
  }
 ],
 "metadata": {
  "kernelspec": {
   "display_name": "Python 3 (ipykernel)",
   "language": "python",
   "name": "python3"
  },
  "language_info": {
   "codemirror_mode": {
    "name": "ipython",
    "version": 3
   },
   "file_extension": ".py",
   "mimetype": "text/x-python",
   "name": "python",
   "nbconvert_exporter": "python",
   "pygments_lexer": "ipython3",
   "version": "3.11.5"
  }
 },
 "nbformat": 4,
 "nbformat_minor": 5
}
