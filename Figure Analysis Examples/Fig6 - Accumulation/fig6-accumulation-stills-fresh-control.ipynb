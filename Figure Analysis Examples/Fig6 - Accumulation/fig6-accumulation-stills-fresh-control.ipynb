{
 "cells": [
  {
   "cell_type": "code",
   "execution_count": 1,
   "id": "89357cc2-5f5c-48fd-8c85-1cb884880af6",
   "metadata": {
    "tags": []
   },
   "outputs": [],
   "source": [
    "#Figure 6 graph plotting \n",
    "#v1.0 version, this is the first consolidation of analysis done so far\n",
    "#Requires the environment packages found in 23pubenv"
   ]
  },
  {
   "cell_type": "code",
   "execution_count": 2,
   "id": "3f79b542-0d35-4dd6-9652-1663ac2c8b4f",
   "metadata": {
    "tags": []
   },
   "outputs": [],
   "source": [
    "import tifffile\n",
    "from matplotlib import pyplot as plt\n",
    "import numpy as np\n",
    "from pathlib import Path\n",
    "import pandas as pd\n",
    "import seaborn as sns\n",
    "from scipy import stats\n",
    "import statsmodels.api as sm\n",
    "from skimage import filters, morphology, measure, segmentation\n",
    "from tqdm import tqdm\n",
    "from matplotlib.colors import LinearSegmentedColormap\n",
    "from scipy.signal import find_peaks\n",
    "from mpl_toolkits.axes_grid1.anchored_artists import AnchoredSizeBar"
   ]
  },
  {
   "cell_type": "code",
   "execution_count": 3,
   "id": "6eb52730-5b2c-4720-89a5-58985ee51f82",
   "metadata": {
    "tags": []
   },
   "outputs": [],
   "source": [
    "def im_stack_thresh(im_stack): \n",
    "    oats = []\n",
    "\n",
    "    for i in range(len(im_stack)):\n",
    "        oats.append(filters.threshold_otsu(im_stack[i]))\n",
    "\n",
    "    return np.mean(oats)"
   ]
  },
  {
   "cell_type": "code",
   "execution_count": 53,
   "id": "d4fb57a7-eaca-4f9a-b5b0-f03c408bfb4c",
   "metadata": {
    "tags": []
   },
   "outputs": [],
   "source": [
    "#Get all the folders needed:\n",
    "folderpath = Path.cwd() / 'accumulation-stills' / 'raw-accumulation-files'\n",
    "\n",
    "#Get a list of all the images in each folder: \n",
    "img_paths = sorted(folderpath.glob('*.tif'), key= lambda x: x.stem.split('_'))\n"
   ]
  },
  {
   "cell_type": "code",
   "execution_count": 54,
   "id": "6d345b96-6b70-4f72-91a4-536752af3910",
   "metadata": {
    "tags": []
   },
   "outputs": [
    {
     "data": {
      "text/plain": [
       "[PosixPath('/Users/echo/Documents/Lab Stuff/Publication/23 Protofigures/Fig6 - Accumulation/accumulation-stills/raw-accumulation-files/10m-w1-p2-t3.tif'),\n",
       " PosixPath('/Users/echo/Documents/Lab Stuff/Publication/23 Protofigures/Fig6 - Accumulation/accumulation-stills/raw-accumulation-files/3m-w3-p1-t2.tif'),\n",
       " PosixPath('/Users/echo/Documents/Lab Stuff/Publication/23 Protofigures/Fig6 - Accumulation/accumulation-stills/raw-accumulation-files/6m-w3-p3-t4.tif')]"
      ]
     },
     "execution_count": 54,
     "metadata": {},
     "output_type": "execute_result"
    }
   ],
   "source": [
    "img_paths"
   ]
  },
  {
   "cell_type": "code",
   "execution_count": 55,
   "id": "c7af9c03-35d8-438a-9554-630baa563209",
   "metadata": {
    "tags": []
   },
   "outputs": [],
   "source": [
    "file_num = 1\n",
    "\n",
    "im_file = tifffile.imread(img_paths[file_num])\n",
    "im_name = img_paths[file_num].stem\n",
    "\n",
    "#find in focus frame of z-stack: \n",
    "\n",
    "stds = []\n",
    "\n",
    "for frame in im_file: \n",
    "    stds.append(np.std(frame))\n",
    "    \n",
    "in_focus_frame = im_file[np.argmax(stds)]"
   ]
  },
  {
   "cell_type": "code",
   "execution_count": 51,
   "id": "ddb00b1d-aa2d-413f-ad17-a5d1dd688735",
   "metadata": {},
   "outputs": [],
   "source": [
    "export_location = folderpath.parent / 'wt healthy'\n",
    "\n",
    "#All images with same stretching: 800-3500\n",
    "vmin_set = 350\n",
    "vmax_set = 1000\n",
    "border_color_core = '#EE362B'\n",
    "border_color_cells = '#F5ABB9'\n",
    "border_width = 10\n"
   ]
  },
  {
   "cell_type": "code",
   "execution_count": 52,
   "id": "b9ae35ab-9c38-4292-909a-bbb861d709f3",
   "metadata": {},
   "outputs": [],
   "source": [
    "#Generating stills with boundry of accumulation overlay on nuclear imaging:\n",
    "\n",
    "#Get the final core centroid first:\n",
    "\n",
    "threshold = im_stack_thresh(in_focus_frame)\n",
    "\n",
    "frame = in_focus_frame\n",
    "\n",
    "#Threshold core by otsu thresh for stack, then remove all single cells etc\n",
    "bin_im = frame > threshold\n",
    "core_adj = morphology.erosion(bin_im)\n",
    "core_adj = morphology.remove_small_objects(core_adj, 20)\n",
    "core_adj = morphology.dilation(core_adj)\n",
    "boundary_core = measure.find_contours(core_adj)\n",
    "\n",
    "#Plotting\n",
    "fig, ax = plt.subplots(figsize=(10,10))\n",
    "plt.imshow(frame, cmap='Greys_r', vmin=vmin_set,vmax=vmax_set)\n",
    "plt.axis('off')\n",
    "for contour in boundary_core:\n",
    "    ax.plot(contour[:, 1], contour[:, 0], linewidth=4, fillstyle='full', color=border_color_core)\n",
    "\n",
    "    \n",
    "#boundary_cells = measure.find_contours(cell_bin)\n",
    "#for contour in boundary_cells:\n",
    "#    ax.plot(contour[:, 1], contour[:, 0], linewidth=1, color=border_color_cells)\n",
    "plt.gca().invert_yaxis()\n",
    "\n",
    "scalebar = AnchoredSizeBar(ax.transData,\n",
    "                           100/2.2, '',  'upper right', \n",
    "                           pad=1,\n",
    "                           color='white',\n",
    "                           frameon=False,\n",
    "                           size_vertical=5)\n",
    "\n",
    "ax.add_artist(scalebar)\n",
    "plt.savefig(export_location / Path('{}-still.png'.format(im_name)), dpi=300, bbox_inches='tight', pad_inches=0)\n",
    "plt.close()\n"
   ]
  },
  {
   "cell_type": "code",
   "execution_count": null,
   "id": "488143f2-086a-4b91-b710-3b943ccaef60",
   "metadata": {},
   "outputs": [],
   "source": []
  }
 ],
 "metadata": {
  "kernelspec": {
   "display_name": "Python 3 (ipykernel)",
   "language": "python",
   "name": "python3"
  },
  "language_info": {
   "codemirror_mode": {
    "name": "ipython",
    "version": 3
   },
   "file_extension": ".py",
   "mimetype": "text/x-python",
   "name": "python",
   "nbconvert_exporter": "python",
   "pygments_lexer": "ipython3",
   "version": "3.11.5"
  }
 },
 "nbformat": 4,
 "nbformat_minor": 5
}
