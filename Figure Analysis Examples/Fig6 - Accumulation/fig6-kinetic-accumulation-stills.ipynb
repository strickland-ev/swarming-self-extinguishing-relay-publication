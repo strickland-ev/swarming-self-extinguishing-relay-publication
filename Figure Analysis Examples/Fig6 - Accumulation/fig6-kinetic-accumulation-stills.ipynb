{
 "cells": [
  {
   "cell_type": "code",
   "execution_count": 1,
   "id": "da6efd77-9085-4be3-bae6-72f5df3f6401",
   "metadata": {
    "tags": []
   },
   "outputs": [],
   "source": [
    "#Figure 6 graph plotting \n",
    "#v1.0 version, this is the first consolidation of analysis done so far\n",
    "#Requires the environment packages found in 23pubenv"
   ]
  },
  {
   "cell_type": "code",
   "execution_count": 2,
   "id": "966ad0fa-3bb0-4f42-950e-0f2793b2612f",
   "metadata": {
    "tags": []
   },
   "outputs": [],
   "source": [
    "import tifffile\n",
    "from matplotlib import pyplot as plt\n",
    "import numpy as np\n",
    "from skimage import filters, morphology, measure, segmentation\n",
    "from pathlib import Path\n",
    "import pandas as pd\n",
    "import seaborn as sns\n",
    "from tqdm import tqdm\n",
    "from matplotlib.colors import ListedColormap\n",
    "from scipy.signal import find_peaks\n",
    "from mpl_toolkits.axes_grid1.anchored_artists import AnchoredSizeBar"
   ]
  },
  {
   "cell_type": "code",
   "execution_count": 3,
   "id": "8dd9a05f-d3af-4365-b408-d998d9f95de4",
   "metadata": {
    "tags": []
   },
   "outputs": [],
   "source": [
    "def im_stack_thresh(im_stack): \n",
    "    oats = []\n",
    "\n",
    "    for i in range(len(im_stack)):\n",
    "        oats.append(filters.threshold_otsu(im_stack[i]))\n",
    "\n",
    "    return np.mean(oats)"
   ]
  },
  {
   "cell_type": "code",
   "execution_count": 4,
   "id": "9291f677-47f6-467d-a1ec-59e791c65c9a",
   "metadata": {
    "tags": []
   },
   "outputs": [],
   "source": [
    "def output_frame_bin(core_bin, cell_bin, log_tag): \n",
    "    fig, ax = plt.subplots( nrows=1, ncols=1 )  # create figure & 1 axis\n",
    "    ax.imshow(core_bin*1000 + cell_bin)\n",
    "    fig.savefig('/Users/echo/Desktop/accumulation sandbox/2022_11_25_accumulation_analysis/bin_logs/' + str(log_tag) + '.png')\n",
    "    plt.close(fig)"
   ]
  },
  {
   "cell_type": "code",
   "execution_count": 5,
   "id": "5a0df6f1-0497-4db0-9c24-4d47dc45678a",
   "metadata": {
    "tags": []
   },
   "outputs": [],
   "source": [
    "def frame_core_cell_count(frame, thresh, cell_bin, log_tag):\n",
    "    #Threshold core by otsu thresh for stack, then remove all single cells etc\n",
    "    bin_im = frame > thresh\n",
    "    core_adj = morphology.erosion(bin_im)\n",
    "    core_adj = morphology.remove_small_objects(core_adj, 20)\n",
    "    core_adj = morphology.dilation(core_adj)\n",
    "    \n",
    "    #Calculate cells label by removing things counted in core\n",
    "    cells = np.invert(core_adj)*cell_bin\n",
    "    \n",
    "    #Calculate the foreground by adding up core and cells, then calc background by taking median of all pixels not in \n",
    "    #foreground (background) \n",
    "    background_pixels = np.array(np.invert(core_adj + cells > 0) * frame).flatten()\n",
    "    background = np.median(np.delete(background_pixels, np.where(background_pixels == 0)))\n",
    "    \n",
    "    #Integrate core by summing up pixels in the core area with the background subtracted off image. \n",
    "    core_sum = np.sum((frame - background)*core_adj)\n",
    "    \n",
    "    #Logging if interested in seeing what the image binarization scheme is doing under hood\n",
    "    #if log_tag != '':\n",
    "        #output_frame_bin(core_adj, cells, log_tag)\n",
    "    \n",
    "    #Label and get the properties of the cell labeled image with core removed\n",
    "    cells_lbl = morphology.label(cells)\n",
    "    cells_props = measure.regionprops(cells_lbl, intensity_image=frame)\n",
    "    \n",
    "    #Get the integrated intensity by taking cell intensity mean-background then multiplying by area\n",
    "    nuc_int = []\n",
    "    for j in range(len(cells_props)):\n",
    "        #Take the average intensity of mean, subtract background and times by area\n",
    "        int_calc = (cells_props[j].intensity_mean - background)*cells_props[j].area\n",
    "        nuc_int.append(int_calc)\n",
    "        \n",
    "    #Get mean integrated intensity for a cell in frame\n",
    "    nuc_mean = np.mean(nuc_int)\n",
    "    \n",
    "    #Devide integrated intensity of core by single cell mean\n",
    "    return core_sum/nuc_mean\n"
   ]
  },
  {
   "cell_type": "code",
   "execution_count": 6,
   "id": "366acfe4-f808-45b8-b4f9-536e53beccb5",
   "metadata": {
    "tags": []
   },
   "outputs": [],
   "source": [
    "#Get the first calcium peak in an image, to help align when a swarm starts: \n",
    "def first_calcium_event(im):\n",
    "    ca_means = [np.mean(frame) for frame in im]\n",
    "    ca_peaks, _ = find_peaks(ca_means, prominence=1, width=15)\n",
    "\n",
    "    if len(ca_peaks) == 0:\n",
    "        return 0\n",
    "    else:\n",
    "        return min(ca_peaks)"
   ]
  },
  {
   "cell_type": "code",
   "execution_count": 7,
   "id": "ddc67974-0b87-4e7f-8af0-009a56621e60",
   "metadata": {
    "tags": []
   },
   "outputs": [],
   "source": [
    "def seg_to_mean_den(seg_im, px_size):\n",
    "    nuclei_density = []\n",
    "    for seg_page in seg_im:\n",
    "        mm_sq = (px_size * seg_page.shape[0]) * (px_size * seg_page.shape[1])\n",
    "        nuclei_density.append(seg_page.max()/mm_sq)\n",
    "    return np.mean(nuclei_density)"
   ]
  },
  {
   "cell_type": "code",
   "execution_count": 8,
   "id": "108a29b4-0b3b-44a0-ad2c-09dc1e0562b8",
   "metadata": {
    "tags": []
   },
   "outputs": [],
   "source": [
    "def stack_to_core_accum(im_stack, seg_stack, im_tag=''):\n",
    "    threshold = im_stack_thresh(im_stack)\n",
    "    core_accum = []\n",
    "    for i in range(len(im_stack)):\n",
    "        if im_tag != '':\n",
    "            log_tag = im_tag + '-' + str(i)\n",
    "        else:\n",
    "            log_tag = im_tag\n",
    "        core_accum.append(frame_core_cell_count(im_stack[i], threshold, seg_stack[i], log_tag))\n",
    "\n",
    "    return core_accum\n",
    "    "
   ]
  },
  {
   "cell_type": "code",
   "execution_count": 9,
   "id": "8b1948f5-7620-4bd5-aec1-274524cdea15",
   "metadata": {
    "tags": []
   },
   "outputs": [],
   "source": [
    "def dic_yeast_to_area(target_im, im_tag=''):\n",
    "    edges = filters.sobel(target_im) \n",
    "    bin_edges = edges > filters.threshold_otsu(edges)*1\n",
    "    bin_edges = morphology.remove_small_holes(bin_edges, 10)\n",
    "    return (1.1*1.1)*np.sum(bin_edges*1.)\n",
    "    "
   ]
  },
  {
   "cell_type": "code",
   "execution_count": 10,
   "id": "45ed6776-3ffb-4126-ba48-adc481d17f9a",
   "metadata": {
    "tags": []
   },
   "outputs": [],
   "source": [
    "#folder_path = '/media/echo/Samsung_T5/Main Data/Analysis Sets/23 Protofigures/Fig4 - Accumulation Metrics/kinetic analysis'\n",
    "folder_path = Path.cwd().parent / 'Data Sets' / 'Accumulation Sets' /'accumulation-kinetic'\n",
    "\n",
    "analysis_folders = list(folder_path.glob('[!.]*'))\n"
   ]
  },
  {
   "cell_type": "code",
   "execution_count": 11,
   "id": "4febf0cf-bc8f-40fb-bd57-3ec7e1578f0c",
   "metadata": {
    "tags": []
   },
   "outputs": [],
   "source": [
    "px_to_mm = 2.2/1000.0 #um/px --> mm/px"
   ]
  },
  {
   "cell_type": "code",
   "execution_count": 17,
   "id": "80542ade-1c7d-4b13-8a87-7e0b7ac938e8",
   "metadata": {
    "tags": []
   },
   "outputs": [
    {
     "name": "stderr",
     "output_type": "stream",
     "text": [
      "100%|█████████████████████████████████████████████| 12/12 [00:48<00:00,  4.05s/it]\n",
      " 18%|████████▎                                     | 2/11 [00:17<01:17,  8.59s/it]\n"
     ]
    },
    {
     "ename": "KeyboardInterrupt",
     "evalue": "",
     "output_type": "error",
     "traceback": [
      "\u001b[0;31m---------------------------------------------------------------------------\u001b[0m",
      "\u001b[0;31mKeyboardInterrupt\u001b[0m                         Traceback (most recent call last)",
      "Cell \u001b[0;32mIn[17], line 29\u001b[0m\n\u001b[1;32m     27\u001b[0m \u001b[38;5;28;01mif\u001b[39;00m im_file_loc\u001b[38;5;241m.\u001b[39mstem \u001b[38;5;241m==\u001b[39m target_file_loc\u001b[38;5;241m.\u001b[39mstem:\n\u001b[1;32m     28\u001b[0m     labels\u001b[38;5;241m.\u001b[39mappend(im_file_loc\u001b[38;5;241m.\u001b[39mstem)\n\u001b[0;32m---> 29\u001b[0m     core_accums\u001b[38;5;241m.\u001b[39mappend(stack_to_core_accum(im_file, seg_file))\n\u001b[1;32m     30\u001b[0m     target_areas\u001b[38;5;241m.\u001b[39mappend(dic_yeast_to_area(target_file))\n\u001b[1;32m     31\u001b[0m     cell_density_measurements\u001b[38;5;241m.\u001b[39mappend(seg_to_mean_den(seg_file, px_to_mm))\n",
      "Cell \u001b[0;32mIn[11], line 9\u001b[0m, in \u001b[0;36mstack_to_core_accum\u001b[0;34m(im_stack, seg_stack, im_tag)\u001b[0m\n\u001b[1;32m      7\u001b[0m     \u001b[38;5;28;01melse\u001b[39;00m:\n\u001b[1;32m      8\u001b[0m         log_tag \u001b[38;5;241m=\u001b[39m im_tag\n\u001b[0;32m----> 9\u001b[0m     core_accum\u001b[38;5;241m.\u001b[39mappend(frame_core_cell_count(im_stack[i], threshold, seg_stack[i], log_tag))\n\u001b[1;32m     11\u001b[0m \u001b[38;5;28;01mreturn\u001b[39;00m core_accum\n",
      "Cell \u001b[0;32mIn[8], line 25\u001b[0m, in \u001b[0;36mframe_core_cell_count\u001b[0;34m(frame, thresh, cell_bin, log_tag)\u001b[0m\n\u001b[1;32m     19\u001b[0m \u001b[38;5;66;03m#Logging if interested in seeing what the image binarization scheme is doing under hood\u001b[39;00m\n\u001b[1;32m     20\u001b[0m \u001b[38;5;66;03m#if log_tag != '':\u001b[39;00m\n\u001b[1;32m     21\u001b[0m     \u001b[38;5;66;03m#output_frame_bin(core_adj, cells, log_tag)\u001b[39;00m\n\u001b[1;32m     22\u001b[0m \n\u001b[1;32m     23\u001b[0m \u001b[38;5;66;03m#Label and get the properties of the cell labeled image with core removed\u001b[39;00m\n\u001b[1;32m     24\u001b[0m cells_lbl \u001b[38;5;241m=\u001b[39m morphology\u001b[38;5;241m.\u001b[39mlabel(cells)\n\u001b[0;32m---> 25\u001b[0m cells_props \u001b[38;5;241m=\u001b[39m measure\u001b[38;5;241m.\u001b[39mregionprops(cells_lbl, intensity_image\u001b[38;5;241m=\u001b[39mframe)\n\u001b[1;32m     27\u001b[0m \u001b[38;5;66;03m#Get the integrated intensity by taking cell intensity mean-background then multiplying by area\u001b[39;00m\n\u001b[1;32m     28\u001b[0m nuc_int \u001b[38;5;241m=\u001b[39m []\n",
      "File \u001b[0;32m~/miniconda3/envs/23pubenv/lib/python3.11/site-packages/skimage/measure/_regionprops.py:1328\u001b[0m, in \u001b[0;36mregionprops\u001b[0;34m(label_image, intensity_image, cache, extra_properties, spacing, offset)\u001b[0m\n\u001b[1;32m   1324\u001b[0m         \u001b[38;5;28;01mcontinue\u001b[39;00m\n\u001b[1;32m   1326\u001b[0m     label \u001b[38;5;241m=\u001b[39m i \u001b[38;5;241m+\u001b[39m \u001b[38;5;241m1\u001b[39m\n\u001b[0;32m-> 1328\u001b[0m     props \u001b[38;5;241m=\u001b[39m RegionProperties(sl, label, label_image, intensity_image,\n\u001b[1;32m   1329\u001b[0m                              cache, spacing\u001b[38;5;241m=\u001b[39mspacing, extra_properties\u001b[38;5;241m=\u001b[39mextra_properties,\n\u001b[1;32m   1330\u001b[0m                              offset\u001b[38;5;241m=\u001b[39moffset_arr)\n\u001b[1;32m   1331\u001b[0m     regions\u001b[38;5;241m.\u001b[39mappend(props)\n\u001b[1;32m   1333\u001b[0m \u001b[38;5;28;01mreturn\u001b[39;00m regions\n",
      "File \u001b[0;32m~/miniconda3/envs/23pubenv/lib/python3.11/site-packages/skimage/measure/_regionprops.py:322\u001b[0m, in \u001b[0;36mRegionProperties.__init__\u001b[0;34m(self, slice, label, label_image, intensity_image, cache_active, extra_properties, spacing, offset)\u001b[0m\n\u001b[1;32m    320\u001b[0m \u001b[38;5;28mself\u001b[39m\u001b[38;5;241m.\u001b[39m_spatial_axes \u001b[38;5;241m=\u001b[39m \u001b[38;5;28mtuple\u001b[39m(\u001b[38;5;28mrange\u001b[39m(\u001b[38;5;28mself\u001b[39m\u001b[38;5;241m.\u001b[39m_ndim))\n\u001b[1;32m    321\u001b[0m \u001b[38;5;28mself\u001b[39m\u001b[38;5;241m.\u001b[39m_spacing \u001b[38;5;241m=\u001b[39m (spacing \u001b[38;5;28;01mif\u001b[39;00m spacing \u001b[38;5;129;01mis\u001b[39;00m \u001b[38;5;129;01mnot\u001b[39;00m \u001b[38;5;28;01mNone\u001b[39;00m \u001b[38;5;28;01melse\u001b[39;00m np\u001b[38;5;241m.\u001b[39mfull(\u001b[38;5;28mself\u001b[39m\u001b[38;5;241m.\u001b[39m_ndim, \u001b[38;5;241m1.\u001b[39m))\n\u001b[0;32m--> 322\u001b[0m \u001b[38;5;28mself\u001b[39m\u001b[38;5;241m.\u001b[39m_pixel_area \u001b[38;5;241m=\u001b[39m np\u001b[38;5;241m.\u001b[39mproduct(\u001b[38;5;28mself\u001b[39m\u001b[38;5;241m.\u001b[39m_spacing)\n\u001b[1;32m    324\u001b[0m \u001b[38;5;28mself\u001b[39m\u001b[38;5;241m.\u001b[39m_extra_properties \u001b[38;5;241m=\u001b[39m {}\n\u001b[1;32m    325\u001b[0m \u001b[38;5;28;01mif\u001b[39;00m extra_properties \u001b[38;5;129;01mis\u001b[39;00m \u001b[38;5;129;01mnot\u001b[39;00m \u001b[38;5;28;01mNone\u001b[39;00m:\n",
      "File \u001b[0;32m~/miniconda3/envs/23pubenv/lib/python3.11/site-packages/numpy/core/fromnumeric.py:3826\u001b[0m, in \u001b[0;36m_product_dispatcher\u001b[0;34m(a, axis, dtype, out, keepdims, initial, where)\u001b[0m\n\u001b[1;32m   3823\u001b[0m \u001b[38;5;28;01mdef\u001b[39;00m \u001b[38;5;21m_product_dispatcher\u001b[39m(a, axis\u001b[38;5;241m=\u001b[39m\u001b[38;5;28;01mNone\u001b[39;00m, dtype\u001b[38;5;241m=\u001b[39m\u001b[38;5;28;01mNone\u001b[39;00m, out\u001b[38;5;241m=\u001b[39m\u001b[38;5;28;01mNone\u001b[39;00m, keepdims\u001b[38;5;241m=\u001b[39m\u001b[38;5;28;01mNone\u001b[39;00m,\n\u001b[1;32m   3824\u001b[0m                         initial\u001b[38;5;241m=\u001b[39m\u001b[38;5;28;01mNone\u001b[39;00m, where\u001b[38;5;241m=\u001b[39m\u001b[38;5;28;01mNone\u001b[39;00m):\n\u001b[1;32m   3825\u001b[0m     \u001b[38;5;66;03m# 2023-03-02, 1.25.0\u001b[39;00m\n\u001b[0;32m-> 3826\u001b[0m     warnings\u001b[38;5;241m.\u001b[39mwarn(\u001b[38;5;124m\"\u001b[39m\u001b[38;5;124m`product` is deprecated as of NumPy 1.25.0, and will be \u001b[39m\u001b[38;5;124m\"\u001b[39m\n\u001b[1;32m   3827\u001b[0m                   \u001b[38;5;124m\"\u001b[39m\u001b[38;5;124mremoved in NumPy 2.0. Please use `prod` instead.\u001b[39m\u001b[38;5;124m\"\u001b[39m,\n\u001b[1;32m   3828\u001b[0m                   \u001b[38;5;167;01mDeprecationWarning\u001b[39;00m, stacklevel\u001b[38;5;241m=\u001b[39m\u001b[38;5;241m3\u001b[39m)\n\u001b[1;32m   3829\u001b[0m     \u001b[38;5;28;01mreturn\u001b[39;00m (a, out)\n",
      "\u001b[0;31mKeyboardInterrupt\u001b[0m: "
     ]
    }
   ],
   "source": [
    "\n",
    "df_collect = []\n",
    "\n",
    "\n",
    "for group in analysis_folders:\n",
    "    volunteer_id = int(group.stem.split('-')[1][1:])\n",
    "    nuclei_folder = group / 'nuclei'\n",
    "    segmented_folder = nuclei_folder / 'segmented_nuclei'\n",
    "    target_folder = group / 'targets'\n",
    "    \n",
    "    #Get all needed files in each folder:\n",
    "    #Exclude hiddens\n",
    "    nuclei_files = sorted(nuclei_folder.glob('[!.]*.tif'))\n",
    "    seg_files = sorted(segmented_folder.glob('[!.]*.tif'))\n",
    "    target_files = sorted(target_folder.glob(\"[!.]*.tif\"))\n",
    "    \n",
    "    core_accums = []\n",
    "    cell_density_measurements = []\n",
    "    first_calcium_events = []\n",
    "    target_areas = []\n",
    "    labels = []\n",
    "\n",
    "    for im_file_loc, seg_file_loc, target_file_loc in tqdm(list(zip(nuclei_files,seg_files,target_files))):\n",
    "        im_file = tifffile.imread(im_file_loc)\n",
    "        seg_file = tifffile.imread(seg_file_loc)\n",
    "        target_file = tifffile.imread(target_file_loc)\n",
    "\n",
    "        if im_file_loc.stem == target_file_loc.stem:\n",
    "            labels.append(im_file_loc.stem)\n",
    "            core_accums.append(stack_to_core_accum(im_file, seg_file))\n",
    "            target_areas.append(dic_yeast_to_area(target_file))\n",
    "            cell_density_measurements.append(seg_to_mean_den(seg_file, px_to_mm))\n",
    "            first_calcium_events.append(first_calcium_event(im_file))\n",
    "        else:\n",
    "            print('label mismatch??')\n",
    "            \n",
    "            \n",
    "    densitys = [int(dentlbl.split('m-')[0]) for dentlbl in labels]\n",
    "    target_number = [int(dentlbl.split('m-')[-1]) for dentlbl in labels]\n",
    "    \n",
    "    df_col = []\n",
    "\n",
    "    time_ar = np.array([j*5.0/60.0 for j in range(len(core_accums[0]))])\n",
    "    first_calcium_events_in_time = [k*5.0/60.0 for k in first_calcium_events]\n",
    "    \n",
    "\n",
    "    for i in range(len(core_accums)):\n",
    "        time_adj = time_ar - first_calcium_events_in_time[i] \n",
    "        df_single_file = pd.DataFrame({'label':labels[i], 'volunteer_id':volunteer_id, 'density':densitys[i], 'measured_density_mean':cell_density_measurements[i], 'target_size':target_areas[i], 'time':time_ar, 'first_ca_peak':first_calcium_events_in_time[i], 'adjusted_time':time_adj, 'accumulation':core_accums[i], 'accumulation-per-target':core_accums[i]/target_areas[i]})\n",
    "        df_col.append(df_single_file)\n",
    "\n",
    "    df_temp = pd.concat(df_col, ignore_index=True)\n",
    "    df_collect.append(df_temp)\n",
    "    \n",
    "    "
   ]
  },
  {
   "cell_type": "code",
   "execution_count": 89,
   "id": "7f0b72b8-6618-44a1-95dd-2edbf209ed74",
   "metadata": {},
   "outputs": [],
   "source": [
    "df_kinetic_accum = pd.concat(df_collect, ignore_index=True)"
   ]
  },
  {
   "cell_type": "code",
   "execution_count": 13,
   "id": "24e0b00b-94c2-422d-a940-3acf29f72aaf",
   "metadata": {},
   "outputs": [],
   "source": [
    "one_out = df_kinetic_accum[df_kinetic_accum['density'] != 6]"
   ]
  },
  {
   "cell_type": "code",
   "execution_count": 90,
   "id": "9ce25e96-7f1c-4b8d-9c35-e06731118678",
   "metadata": {},
   "outputs": [],
   "source": [
    "\n",
    "unique_ID_collect = []\n",
    "\n",
    "for vid, density_group in df_kinetic_accum.groupby('volunteer_id'):\n",
    "    for lid, label_group in density_group.groupby('label'):\n",
    "        label_group['unique_ID'] = str(vid) + '-' + lid\n",
    "        unique_ID_collect.append(label_group)\n",
    "\n",
    "kinetic_accumulation_unique_ID_DF = pd.concat(unique_ID_collect, ignore_index=True)"
   ]
  },
  {
   "cell_type": "code",
   "execution_count": 127,
   "id": "85135f2f-a0c6-42c7-9e28-b496c4971ab0",
   "metadata": {},
   "outputs": [],
   "source": [
    "kinetic_accumulation_unique_ID_DF.to_csv('fig6-supplement_accumulation_over_time.csv', index=False)"
   ]
  },
  {
   "cell_type": "code",
   "execution_count": 12,
   "id": "5dc798d2-2d67-456c-8a01-b0ffbc2db485",
   "metadata": {
    "tags": []
   },
   "outputs": [],
   "source": [
    "kinetic_accumulation_unique_ID_DF = pd.read_csv('fig6-supplement_accumulation_over_time.csv')"
   ]
  },
  {
   "cell_type": "code",
   "execution_count": 13,
   "id": "ff163481-2c0e-470f-8c27-6f6f98408537",
   "metadata": {
    "tags": []
   },
   "outputs": [],
   "source": [
    "low_density_DF = kinetic_accumulation_unique_ID_DF[kinetic_accumulation_unique_ID_DF.measured_density_mean.between(2000,5000)]\n",
    "\n",
    "high_density_DF = kinetic_accumulation_unique_ID_DF[kinetic_accumulation_unique_ID_DF.measured_density_mean.between(9000,12000)]\n"
   ]
  },
  {
   "cell_type": "code",
   "execution_count": 14,
   "id": "bf2701a7-5849-47dc-a315-349bf061a250",
   "metadata": {
    "tags": []
   },
   "outputs": [],
   "source": [
    "sns.set_context(\"notebook\", font_scale=1, rc={\"lines.linewidth\": 2, 'font.family': ['arial'], 'axes.linewidth':2})\n",
    "colors = sns.color_palette('Purples',7)"
   ]
  },
  {
   "cell_type": "code",
   "execution_count": 15,
   "id": "c9543efc-9589-450d-a317-dba8f08c22d9",
   "metadata": {
    "tags": []
   },
   "outputs": [
    {
     "name": "stderr",
     "output_type": "stream",
     "text": [
      "/Users/echo/miniconda3/envs/23pubenv/lib/python3.11/site-packages/seaborn/_oldcore.py:1498: FutureWarning: is_categorical_dtype is deprecated and will be removed in a future version. Use isinstance(dtype, CategoricalDtype) instead\n",
      "  if pd.api.types.is_categorical_dtype(vector):\n",
      "/Users/echo/miniconda3/envs/23pubenv/lib/python3.11/site-packages/seaborn/_oldcore.py:1498: FutureWarning: is_categorical_dtype is deprecated and will be removed in a future version. Use isinstance(dtype, CategoricalDtype) instead\n",
      "  if pd.api.types.is_categorical_dtype(vector):\n",
      "/Users/echo/miniconda3/envs/23pubenv/lib/python3.11/site-packages/seaborn/_oldcore.py:1119: FutureWarning: use_inf_as_na option is deprecated and will be removed in a future version. Convert inf values to NaN before operating instead.\n",
      "  with pd.option_context('mode.use_inf_as_na', True):\n",
      "/Users/echo/miniconda3/envs/23pubenv/lib/python3.11/site-packages/seaborn/_oldcore.py:1119: FutureWarning: use_inf_as_na option is deprecated and will be removed in a future version. Convert inf values to NaN before operating instead.\n",
      "  with pd.option_context('mode.use_inf_as_na', True):\n",
      "/Users/echo/miniconda3/envs/23pubenv/lib/python3.11/site-packages/seaborn/_oldcore.py:1498: FutureWarning: is_categorical_dtype is deprecated and will be removed in a future version. Use isinstance(dtype, CategoricalDtype) instead\n",
      "  if pd.api.types.is_categorical_dtype(vector):\n",
      "/Users/echo/miniconda3/envs/23pubenv/lib/python3.11/site-packages/seaborn/_oldcore.py:1498: FutureWarning: is_categorical_dtype is deprecated and will be removed in a future version. Use isinstance(dtype, CategoricalDtype) instead\n",
      "  if pd.api.types.is_categorical_dtype(vector):\n",
      "/Users/echo/miniconda3/envs/23pubenv/lib/python3.11/site-packages/seaborn/_oldcore.py:1119: FutureWarning: use_inf_as_na option is deprecated and will be removed in a future version. Convert inf values to NaN before operating instead.\n",
      "  with pd.option_context('mode.use_inf_as_na', True):\n",
      "/Users/echo/miniconda3/envs/23pubenv/lib/python3.11/site-packages/seaborn/_oldcore.py:1119: FutureWarning: use_inf_as_na option is deprecated and will be removed in a future version. Convert inf values to NaN before operating instead.\n",
      "  with pd.option_context('mode.use_inf_as_na', True):\n"
     ]
    },
    {
     "data": {
      "text/plain": [
       "Text(0, 0.5, '')"
      ]
     },
     "execution_count": 15,
     "metadata": {},
     "output_type": "execute_result"
    },
    {
     "data": {
      "image/png": "[encoded data removed]",
      "text/plain": [
       "<Figure size 400x300 with 1 Axes>"
      ]
     },
     "metadata": {},
     "output_type": "display_data"
    }
   ],
   "source": [
    "plt.figure(figsize=(4,3))\n",
    "sns.lineplot(data=low_density_DF, x='time', y='accumulation', legend=False, color=colors[3])\n",
    "sns.lineplot(data=high_density_DF, x='time', y='accumulation', legend=False, color=colors[6])\n",
    "plt.xlabel('')\n",
    "plt.ylabel('')\n",
    "#plt.savefig('sup-fig4-accumulation-over-time.png', dpi=300, bbox_inches='tight')\n",
    "#ax.legend(title=\"10^5 Cells in Well\")\n",
    "#plt.savefig('test.svg')\n"
   ]
  },
  {
   "cell_type": "code",
   "execution_count": 16,
   "id": "664db2bb-0e73-4745-b5d6-9da4238b7fb8",
   "metadata": {
    "tags": []
   },
   "outputs": [
    {
     "name": "stdout",
     "output_type": "stream",
     "text": [
      "ROIs in Low Density Line: 13\n",
      "ROIs in High Density Line: 7\n"
     ]
    }
   ],
   "source": [
    "print('ROIs in Low Density Line: {}'.format(low_density_DF.unique_ID.nunique()))\n",
    "print('ROIs in High Density Line: {}'.format(high_density_DF.unique_ID.nunique()))"
   ]
  },
  {
   "cell_type": "code",
   "execution_count": 17,
   "id": "3c2a03a1-a6a2-4db4-bb26-1c85b1aaf628",
   "metadata": {
    "tags": []
   },
   "outputs": [],
   "source": [
    "group = analysis_folders[0]\n",
    "\n",
    "volunteer_id = int(group.stem.split('-')[1][1:])\n",
    "nuclei_folder = group / 'nuclei'\n",
    "segmented_folder = nuclei_folder / 'segmented_nuclei'\n",
    "target_folder = group / 'targets'\n",
    "\n",
    "#Get all needed files in each folder:\n",
    "#Exclude hiddens\n",
    "nuclei_files = sorted(nuclei_folder.glob('[!.]*.tif'))\n",
    "seg_files = sorted(segmented_folder.glob('[!.]*.tif'))\n",
    "target_files = sorted(target_folder.glob(\"[!.]*.tif\"))\n"
   ]
  },
  {
   "cell_type": "code",
   "execution_count": 18,
   "id": "7f337a89-2f81-4f57-ab28-291c79df6f60",
   "metadata": {
    "tags": []
   },
   "outputs": [],
   "source": [
    "def stack_to_core_accum(im_stack, seg_stack, im_tag=''):\n",
    "    \n",
    "    core_accum = []\n",
    "    for i in range(len(im_stack)):\n",
    "        if im_tag != '':\n",
    "            log_tag = im_tag + '-' + str(i)\n",
    "        else:\n",
    "            log_tag = im_tag\n",
    "        core_accum.append(frame_core_cell_count(im_stack[i], threshold, seg_stack[i], log_tag))\n",
    "\n",
    "    return core_accum"
   ]
  },
  {
   "cell_type": "code",
   "execution_count": 54,
   "id": "13b40d44-fe80-4b78-8d66-499c64a75e6f",
   "metadata": {
    "tags": []
   },
   "outputs": [],
   "source": [
    "export_location = Path.cwd() / 'accumulation-stills' / '8-3m-1' \n",
    "vmin_set = 450\n",
    "vmax_set = 850\n",
    "crop_buffer = 50 #57:100px, 81:160px,\n",
    "border_color = '#B54845'\n",
    "border_width = 10\n"
   ]
  },
  {
   "cell_type": "code",
   "execution_count": 55,
   "id": "eb580185-fe7b-4fa6-9d09-98964222b9ba",
   "metadata": {
    "tags": []
   },
   "outputs": [],
   "source": [
    "t_subsample = [60, 144, 288, 432, 576, 720] #Sample 5 times, every 12min"
   ]
  },
  {
   "cell_type": "code",
   "execution_count": 56,
   "id": "9dd295a6-0123-406a-aeca-f0961d82e662",
   "metadata": {
    "tags": []
   },
   "outputs": [],
   "source": [
    "im_file_loc = Path.cwd().parent / 'Data Sets' / 'Accumulation Sets' / 'accumulation-kinetic' / '1210-v8' / 'nuclei' / '3m-1.tif'"
   ]
  },
  {
   "cell_type": "code",
   "execution_count": 57,
   "id": "7b4cc1dc-c0c1-4d15-a890-de7112523f19",
   "metadata": {
    "tags": []
   },
   "outputs": [],
   "source": [
    "#Generating stills with boundry of accumulation overlay on nuclear imaging:\n",
    "im_file = tifffile.imread(im_file_loc) #0: 8-10m-1, 6: 3m-3\n",
    "\n",
    "#Get the final core centroid first:\n",
    "\n",
    "threshold = im_stack_thresh(im_file)\n",
    "\n",
    "frame = im_file[-1]\n",
    "\n",
    "#Threshold core by otsu thresh for stack, then remove all single cells etc\n",
    "bin_im = frame > threshold\n",
    "core_adj = morphology.erosion(bin_im)\n",
    "core_adj = morphology.remove_small_objects(core_adj, 20)\n",
    "core_adj = morphology.dilation(core_adj)\n",
    "\n",
    "#Get the info of the cores detected: \n",
    "core_infos = pd.DataFrame(measure.regionprops_table(measure.label(core_adj), properties=['area','centroid']))\n",
    "\n",
    "#If there are two, take the bigger one as the center one: \n",
    "if len(core_infos) > 1: \n",
    "    max_idx = core_infos.area.idxmax()\n",
    "    max_core = core_infos.loc[max_idx]\n",
    "    core_center = [int(max_core['centroid-1']),int(max_core['centroid-0'])]\n",
    "else: \n",
    "    core_center = [int(core_infos['centroid-1'].values),int(core_infos['centroid-0'].values)]\n",
    "\n",
    "for t, frame in enumerate(im_file):\n",
    "    if t in t_subsample:\n",
    "        #Threshold core by otsu thresh for stack, then remove all single cells etc\n",
    "        bin_im = frame > threshold\n",
    "        core_adj = morphology.erosion(bin_im)\n",
    "        core_adj = morphology.remove_small_objects(core_adj, 20)\n",
    "        core_adj = morphology.dilation(core_adj)\n",
    "        boundary_core = measure.find_contours(core_adj)\n",
    "\n",
    "        #Plotting\n",
    "        fig, ax = plt.subplots(figsize=(10,10))\n",
    "        plt.imshow(frame, cmap='Greys_r', vmin=vmin_set,vmax=vmax_set)\n",
    "        plt.axis('off')\n",
    "        for contour in boundary_core:\n",
    "            ax.plot(contour[:, 1], contour[:, 0], linewidth=4, color='red')\n",
    "\n",
    "        plt.ylim(core_center[1]-crop_buffer,core_center[1]+crop_buffer)\n",
    "        plt.xlim(core_center[0]-crop_buffer,core_center[0]+crop_buffer)\n",
    "        plt.gca().invert_yaxis()\n",
    "\n",
    "        scalebar = AnchoredSizeBar(ax.transData,\n",
    "                                   100/2.2, '',  'upper right', \n",
    "                                   pad=1,\n",
    "                                   color='white',\n",
    "                                   frameon=False,\n",
    "                                   size_vertical=5)\n",
    "\n",
    "        ax.add_artist(scalebar)\n",
    "        plt.savefig(export_location / Path('v8_' + im_file_loc.stem + '-{}.png'.format(t)), dpi=300, bbox_inches='tight')\n",
    "        plt.close()\n"
   ]
  }
 ],
 "metadata": {
  "kernelspec": {
   "display_name": "Python 3 (ipykernel)",
   "language": "python",
   "name": "python3"
  },
  "language_info": {
   "codemirror_mode": {
    "name": "ipython",
    "version": 3
   },
   "file_extension": ".py",
   "mimetype": "text/x-python",
   "name": "python",
   "nbconvert_exporter": "python",
   "pygments_lexer": "ipython3",
   "version": "3.11.5"
  }
 },
 "nbformat": 4,
 "nbformat_minor": 5
}
