{
 "cells": [
  {
   "cell_type": "code",
   "execution_count": 1,
   "id": "e9b2286c-3643-458a-b254-5033273a234b",
   "metadata": {
    "tags": []
   },
   "outputs": [],
   "source": [
    "#Figure 6 graph plotting \n",
    "#v1.0 version, this is the first consolidation of analysis done so far\n",
    "#Requires the environment packages found in 23pubenv"
   ]
  },
  {
   "cell_type": "code",
   "execution_count": 2,
   "id": "517f993f-e096-452d-afed-a7441a69a92c",
   "metadata": {
    "tags": []
   },
   "outputs": [],
   "source": [
    "from matplotlib import pyplot as plt\n",
    "import numpy as np\n",
    "from skimage import filters, morphology, measure\n",
    "from pathlib import Path\n",
    "import pandas as pd\n",
    "import seaborn as sns\n",
    "from tifffile import imread\n",
    "from scipy.signal import peak_widths\n",
    "from scipy import stats\n",
    "import statsmodels.api as sm"
   ]
  },
  {
   "cell_type": "code",
   "execution_count": 2,
   "id": "daf73718-2f80-4ec2-8f89-0ca23d37d468",
   "metadata": {},
   "outputs": [
    {
     "ename": "NameError",
     "evalue": "name 'StarDist2D' is not defined",
     "output_type": "error",
     "traceback": [
      "\u001b[0;31m---------------------------------------------------------------------------\u001b[0m",
      "\u001b[0;31mNameError\u001b[0m                                 Traceback (most recent call last)",
      "\u001b[0;32m/var/folders/g_/8zgtwjx50cg4__mg9df381000000gn/T/ipykernel_59144/2629899777.py\u001b[0m in \u001b[0;36m<cell line: 1>\u001b[0;34m()\u001b[0m\n\u001b[0;32m----> 1\u001b[0;31m \u001b[0mmodel\u001b[0m \u001b[0;34m=\u001b[0m \u001b[0mStarDist2D\u001b[0m\u001b[0;34m(\u001b[0m\u001b[0;32mNone\u001b[0m\u001b[0;34m,\u001b[0m \u001b[0mname\u001b[0m\u001b[0;34m=\u001b[0m\u001b[0;34m'stardist'\u001b[0m\u001b[0;34m,\u001b[0m \u001b[0mbasedir\u001b[0m\u001b[0;34m=\u001b[0m\u001b[0;34m'E:\\\\Main Data\\\\Analysis Sets\\\\23 Protofigures\\\\Tools\\\\2022-analysis-pipeline\\\\20220902_model'\u001b[0m\u001b[0;34m)\u001b[0m\u001b[0;34m\u001b[0m\u001b[0;34m\u001b[0m\u001b[0m\n\u001b[0m",
      "\u001b[0;31mNameError\u001b[0m: name 'StarDist2D' is not defined"
     ]
    }
   ],
   "source": [
    "\n",
    "model = StarDist2D(None, name='stardist', basedir='E:\\\\Main Data\\\\Analysis Sets\\\\23 Protofigures\\\\Tools\\\\2022-analysis-pipeline\\\\20220902_model')"
   ]
  },
  {
   "cell_type": "code",
   "execution_count": 4,
   "id": "48af184f-37dd-47f0-8c94-943ed7df0b98",
   "metadata": {},
   "outputs": [],
   "source": [
    "\n",
    "cell_bin, _ = model.predict_instances(np.zeros((100,100)))"
   ]
  },
  {
   "cell_type": "code",
   "execution_count": 29,
   "id": "b31f6d45-7771-4331-8a7c-aa72a490222d",
   "metadata": {},
   "outputs": [],
   "source": [
    "def zstack_to_count(zstack, im_tag=''):\n",
    "\n",
    "    #Find in focus frame for creating a reference mask: \n",
    "    stack_stds = [np.std(z_frame) for z_frame in zstack]\n",
    "    in_focus_idx = np.where(stack_stds == np.max(stack_stds))[0][0]\n",
    "\n",
    "    #Find the relevant frames to integrate over by the full width half max relation of the zstack:\n",
    "    width = peak_widths(stack_stds, [in_focus_idx], rel_height=0.5)\n",
    "\n",
    "    min_z = in_focus_idx - 5\n",
    "    max_z = in_focus_idx + 5\n",
    "\n",
    "    #Load in the focus frame of the stack, set the threshold as the otsu threshold: \n",
    "    focus_frame = zstack[in_focus_idx]\n",
    "    oats_thresh = filters.threshold_otsu(focus_frame)\n",
    "\n",
    "    #Threshold core by otsu thresh for stack, then remove all single cells etc\n",
    "    bin_im = focus_frame > oats_thresh\n",
    "    core_adj = morphology.erosion(bin_im)\n",
    "    core_adj = morphology.remove_small_objects(core_adj, 20)\n",
    "    core_adj = morphology.dilation(core_adj)\n",
    "\n",
    "    #generate cell binary image via stardist:\n",
    "    pg = normalize(focus_frame, 1, 99.8, axis=(0,1))\n",
    "    cell_bin, _ = model.predict_instances(pg)\n",
    "\n",
    "    #Calculate cells label by removing things counted in core\n",
    "    cells = np.invert(core_adj)*cell_bin\n",
    "    #Label and get the properties of the cell labeled image with core removed\n",
    "    cells_lbl = morphology.label(cells)\n",
    "\n",
    "    #Calculate the foreground by adding up core and cells, then calc background by taking median of all pixels not in \n",
    "    #foreground (background) \n",
    "    background_pixels = np.array(np.invert(core_adj + cells > 0) * focus_frame).flatten()\n",
    "    background = np.median(np.delete(background_pixels, np.where(background_pixels == 0)))\n",
    "\n",
    "\n",
    "    #Loop through all stacks and gather intensity data:\n",
    "    core_intensity = []\n",
    "\n",
    "    #Start df by looking at in focus frame, then add to this in loop \n",
    "    cells_props = pd.DataFrame(measure.regionprops_table(cells_lbl, focus_frame, properties=['label','area','intensity_mean']))\n",
    "    cells_props['integrated_intensity'] = cells_props['area']*(cells_props['intensity_mean'] - background)\n",
    "    cells_props.set_index('label', inplace=True)\n",
    "\n",
    "    #Get local density\n",
    "    im_dim = 2.2*np.array(zstack[0].shape)/1000 #px-->um --> mm\n",
    "    im_area = im_dim[0]*im_dim[1]\n",
    "    local_density = len(cells_props)/im_area\n",
    "\n",
    "    #Start integration with in focus frame: \n",
    "    core_sum = np.sum((focus_frame - background)*core_adj)\n",
    "\n",
    "    for idx, zslice in enumerate(zstack[min_z:max_z]):\n",
    "        #skip in focus frame\n",
    "        #This is for cells\n",
    "        if idx != in_focus_idx:\n",
    "            background_pixels_frame = np.array(np.invert(core_adj + cells > 0) * zslice).flatten()\n",
    "            background_frame = np.median(np.delete(background_pixels_frame, np.where(background_pixels_frame == 0)))\n",
    "            cells_props_frame = pd.DataFrame(measure.regionprops_table(cells_lbl, zslice, properties=['label','area','intensity_mean']))\n",
    "            cells_props_frame.set_index('label', inplace=True)\n",
    "            cells_props_frame['integrated_intensity'] = cells_props_frame['area']*(cells_props_frame['intensity_mean'] - background_frame)\n",
    "            cells_props['integrated_intensity'] = cells_props['integrated_intensity'].add(cells_props_frame['integrated_intensity'], fill_value=0)\n",
    "\n",
    "        #Now need to add core mask\n",
    "        core_sum += np.sum((zslice - background_frame)*core_adj)\n",
    "\n",
    "\n",
    "    #Result is the sum of the core over the median/mean integrated single cell intentsity:\n",
    "    return (core_sum/cells_props['integrated_intensity'].median(), local_density)"
   ]
  },
  {
   "cell_type": "code",
   "execution_count": 6,
   "id": "7d1d8821-a66b-474d-8781-c75c3d2a7f0e",
   "metadata": {},
   "outputs": [],
   "source": [
    "def dic_yeast_to_area(target_im, im_tag=''):\n",
    "    edges = filters.sobel(target_im) \n",
    "    bin_edges = edges > filters.threshold_otsu(edges)*1\n",
    "    bin_edges = morphology.remove_small_holes(bin_edges, 10)\n",
    "    return (1.1*1.1)*np.sum(bin_edges*1.)\n",
    "    "
   ]
  },
  {
   "cell_type": "code",
   "execution_count": 7,
   "id": "f22c5f09-0f05-424d-b7ee-4d62a6b25282",
   "metadata": {},
   "outputs": [],
   "source": [
    "def output_frame_bin(core_bin, cell_bin, log_tag): \n",
    "    fig, ax = plt.subplots( nrows=1, ncols=1 )  # create figure & 1 axis\n",
    "    ax.imshow(core_bin*1500 + cell_bin)\n",
    "    fig.savefig('/home/echo/Desktop/Fig1-acuumulation/bin_outputs/' + str(log_tag) + '.png')\n",
    "    plt.close(fig)"
   ]
  },
  {
   "cell_type": "code",
   "execution_count": 2,
   "id": "5094af3d-22d1-4619-860e-0b6bcf364970",
   "metadata": {},
   "outputs": [],
   "source": [
    "folder_path = 'E:\\\\Main Data\\\\Analysis Sets\\\\23 Protofigures\\\\Fig4 - Accumulation Metrics\\\\zstack analysis'\n",
    "folder = Path(folder_path)\n"
   ]
  },
  {
   "cell_type": "code",
   "execution_count": null,
   "id": "f9662ad9-3a4c-4f97-b459-19fc649ecb3b",
   "metadata": {},
   "outputs": [],
   "source": [
    "group_collect = []\n",
    "\n",
    "for group in folder.iterdir():\n",
    "    \n",
    "    if group.stem[0] == '.':\n",
    "        continue\n",
    "    \n",
    "    volunteer_id = int(group.stem.split('-')[1][1:])\n",
    "    nuclei_folder = group / 'nuclei'\n",
    "    target_folder = group / 'targets'\n",
    "\n",
    "    column_labels = ['volunteer', 'seed_density', 'well_id', 'position', 'target_id', 'cell_num', 'target_size', 'cells_to_target', 'measured_density']\n",
    "    df_collect = []\n",
    "\n",
    "    nuclei_files = sorted(nuclei_folder.glob('[!.]*.tif'), key=lambda x: x.stem.split('m-')[1])\n",
    "    target_files = sorted(target_folder.glob('[!.]*.tif'), key=lambda x: x.stem.split('-'))\n",
    "\n",
    "    for nuclei_file, target_file in zip(nuclei_files, target_files):\n",
    "        nuclei_stack = imread(nuclei_file)\n",
    "        target_im = imread(target_file)\n",
    "\n",
    "        nuclei_tag = [volunteer_id] + nuclei_file.stem.split('-')\n",
    "        target_tag = target_file.stem.split('-')\n",
    "\n",
    "        if nuclei_tag[2:] == target_tag:\n",
    "\n",
    "            cell_count, density = zstack_to_count(nuclei_stack)\n",
    "            target_area = dic_yeast_to_area(target_im)\n",
    "\n",
    "            if cell_count == 0:\n",
    "                nuclei_tag.append(np.nan)\n",
    "                nuclei_tag.aippend(np.nan)\n",
    "                nuclei_tag.append(np.nan)\n",
    "                nuclei_tag.append(np.nan)\n",
    "\n",
    "            else:\n",
    "                nuclei_tag.append(cell_count)\n",
    "                nuclei_tag.append(target_area)\n",
    "                nuclei_tag.append(cell_count/target_area)\n",
    "                nuclei_tag.append(density)\n",
    "\n",
    "            df_collect.append(pd.DataFrame(np.array(nuclei_tag, dtype=object).reshape((1,9)), columns=column_labels))\n",
    "\n",
    "        else:\n",
    "            print('ID mismatch???')\n",
    "            print(nuclei_file)\n",
    "            print(target_file)\n",
    "\n",
    "\n",
    "    accumulation_df = pd.concat(df_collect, ignore_index=True)\n",
    "    group_collect.append(accumulation_df)"
   ]
  },
  {
   "cell_type": "code",
   "execution_count": 35,
   "id": "6c4111da-2c06-4716-b341-b219ca444f4a",
   "metadata": {},
   "outputs": [],
   "source": [
    "big_df = pd.concat(group_collect, ignore_index=True)"
   ]
  },
  {
   "cell_type": "code",
   "execution_count": null,
   "id": "f2e2b095-b68a-4943-97d6-8cb40be66338",
   "metadata": {},
   "outputs": [
    {
     "name": "stdout",
     "output_type": "stream",
     "text": [
      "1/1 [==============================] - 0s 287ms/step\n"
     ]
    }
   ],
   "source": [
    "#stardist code on a frame\n",
    "\n",
    "column_labels = ['seed_density', 'well_id', 'position', 'target_id', 'cell_num', 'target_size', 'cells_to_target']\n",
    "df_collect = []\n",
    "\n",
    "nuclei_files = sorted(nuclei_folder.glob('[!.]*.tif'), key=lambda x: x.stem.split('m-')[1])\n",
    "target_files = sorted(target_folder.glob('[!.]*.tif'), key=lambda x: x.stem.split('-'))\n",
    "\n",
    "\n",
    "for nuclei_file, target_file in zip(nuclei_files, target_files):\n",
    "    nuclei_stack = imread(nuclei_file)\n",
    "    target_im = imread(target_file)\n",
    "\n",
    "    nuclei_tag = nuclei_file.stem.split('-')\n",
    "    target_tag = target_file.stem.split('-')\n",
    "\n",
    "    if nuclei_tag[1:] == target_tag:\n",
    "\n",
    "        cell_count = zstack_to_count(nuclei_stack, im_tag=nuclei_file.stem)\n",
    "        target_area = dic_yeast_to_area(target_im)\n",
    "\n",
    "        if cell_count == 0:\n",
    "            nuclei_tag.append(np.nan)\n",
    "            nuclei_tag.append(np.nan)\n",
    "            nuclei_tag.append(np.nan)\n",
    "\n",
    "        else:\n",
    "            nuclei_tag.append(cell_count)\n",
    "            nuclei_tag.append(target_area)\n",
    "            nuclei_tag.append(cell_count/target_area)\n",
    "\n",
    "        df_collect.append(pd.DataFrame(np.array(nuclei_tag, dtype=object).reshape((1,7)), columns=column_labels))\n",
    "\n",
    "    else:\n",
    "        print('ID mismatch???')\n",
    "\n",
    "\n",
    "accumulation_df = pd.concat(df_collect, ignore_index=True)"
   ]
  },
  {
   "cell_type": "code",
   "execution_count": 12,
   "id": "934f7c1b-65d4-4ce8-943b-3ea913b0acf0",
   "metadata": {},
   "outputs": [
    {
     "data": {
      "text/plain": [
       "[PosixPath('/media/echo/Samsung_T5/Main Data/Analysis Sets/23 Protofigures/Fig4 - Accumulation Metrics/zstack analysis/1124-v8/nuclei/3m-w1-p1-t1.tif'),\n",
       " PosixPath('/media/echo/Samsung_T5/Main Data/Analysis Sets/23 Protofigures/Fig4 - Accumulation Metrics/zstack analysis/1124-v8/nuclei/3m-w1-p1-t2.tif'),\n",
       " PosixPath('/media/echo/Samsung_T5/Main Data/Analysis Sets/23 Protofigures/Fig4 - Accumulation Metrics/zstack analysis/1124-v8/nuclei/3m-w1-p1-t3.tif')]"
      ]
     },
     "execution_count": 12,
     "metadata": {},
     "output_type": "execute_result"
    }
   ],
   "source": [
    "sorted(nuclei_folder.glob('[!.]*.tif'), key=lambda x: x.stem.split('m-')[1])[0:3]"
   ]
  },
  {
   "cell_type": "code",
   "execution_count": 13,
   "id": "f67e0e18-8a50-4f83-8578-0feb312ef9b4",
   "metadata": {},
   "outputs": [
    {
     "data": {
      "text/plain": [
       "[PosixPath('/media/echo/Samsung_T5/Main Data/Analysis Sets/23 Protofigures/Fig4 - Accumulation Metrics/zstack analysis/1124-v8/targets/w1-p1-p4.tif'),\n",
       " PosixPath('/media/echo/Samsung_T5/Main Data/Analysis Sets/23 Protofigures/Fig4 - Accumulation Metrics/zstack analysis/1124-v8/targets/w1-p1-t1.tif'),\n",
       " PosixPath('/media/echo/Samsung_T5/Main Data/Analysis Sets/23 Protofigures/Fig4 - Accumulation Metrics/zstack analysis/1124-v8/targets/w1-p1-t2.tif')]"
      ]
     },
     "execution_count": 13,
     "metadata": {},
     "output_type": "execute_result"
    }
   ],
   "source": [
    "sorted(target_folder.glob('[!.]*.tif'), key=lambda x: x.stem)[0:3]"
   ]
  },
  {
   "cell_type": "code",
   "execution_count": 175,
   "id": "c0b1f5e0-37f6-41b4-aca6-bf0719e07c95",
   "metadata": {},
   "outputs": [
    {
     "name": "stdout",
     "output_type": "stream",
     "text": [
      "A different from B\n"
     ]
    }
   ],
   "source": [
    "df = one_out.dropna(axis=0)\n",
    "\n",
    "A=df[df['seed_density']=='3m']['cells_to_target'].values.tolist()\n",
    "B=df[df['seed_density']=='10m']['cells_to_target'].values.tolist()\n",
    "t_check=stats.ttest_ind(A,B, alternative='two-sided')\n",
    "t_check\n",
    "alpha=0.05\n",
    "if(t_check[1]<alpha):\n",
    "    print('A different from B')"
   ]
  },
  {
   "cell_type": "code",
   "execution_count": 3,
   "id": "e210020a-f759-4025-9304-79339dc09575",
   "metadata": {},
   "outputs": [],
   "source": [
    "#big_df = pd.read_csv('/media/echo/Samsung_T5/Main Data/Analysis Sets/23 Protofigures/Fig4 - Accumulation Metrics/fig4-zstack-analysis-output.csv')\n",
    "big_df = pd.read_csv(\"fig6-zstack-analysis-output.csv\")"
   ]
  },
  {
   "cell_type": "code",
   "execution_count": 4,
   "id": "75da0413-39a4-4d7e-8fa4-a88d208a98e4",
   "metadata": {},
   "outputs": [],
   "source": [
    "sns.set_context(\"notebook\", font_scale=1, rc={\"lines.linewidth\": 2, 'font.family': ['arial'], 'axes.linewidth':2})"
   ]
  },
  {
   "cell_type": "code",
   "execution_count": 5,
   "id": "5e800fd8-f30d-4315-97e3-d8c30761ef7b",
   "metadata": {},
   "outputs": [],
   "source": [
    "constrained_targets = big_df[big_df['target_size'].between(2000,4000)]"
   ]
  },
  {
   "cell_type": "code",
   "execution_count": 7,
   "id": "1294dc6b-36bd-467e-a186-6d3327f8c3b5",
   "metadata": {},
   "outputs": [],
   "source": [
    "cpal = sns.color_palette('Purples', 8)"
   ]
  },
  {
   "cell_type": "code",
   "execution_count": 13,
   "id": "8f79f31e-db47-405d-aaee-7dba385176c1",
   "metadata": {},
   "outputs": [
    {
     "data": {
      "image/png": "[encoded data removed]",
      "text/plain": [
       "<Figure size 500x400 with 1 Axes>"
      ]
     },
     "metadata": {},
     "output_type": "display_data"
    }
   ],
   "source": [
    "plt.figure(figsize=(5,4))\n",
    "sns.set_context(\"notebook\", font_scale=1, rc={\"lines.linewidth\": 2, 'font.family': ['arial'], 'axes.linewidth':2})\n",
    "plt.plot([1800,11500],[375,2025], color='orange', linestyle='--', linewidth=3, zorder=1)\n",
    "sns.regplot(data=big_df.dropna(axis=0), y='cell_num', x='measured_density', scatter_kws={'alpha':0}, line_kws={'color':'black', 'linestyle':'--'})\n",
    "sns.scatterplot(data=big_df.dropna(axis=0), y='cell_num', x='measured_density', color=[cpal[6]], s=75, linewidth=2, alpha=0.8, legend=False)\n",
    "plt.ylabel('')\n",
    "plt.xlabel('')\n",
    "plt.ylim(0,2300)\n",
    "plt.savefig(\"fig4_density-v-cells-per-target.png\", dpi=300, bbox_inches=\"tight\")\n",
    "#ax.set_xticklabels(['6','12','20'])\n",
    "#plt.ylim(0,0.4)"
   ]
  }
 ],
 "metadata": {
  "kernelspec": {
   "display_name": "Python 3 (ipykernel)",
   "language": "python",
   "name": "python3"
  },
  "language_info": {
   "codemirror_mode": {
    "name": "ipython",
    "version": 3
   },
   "file_extension": ".py",
   "mimetype": "text/x-python",
   "name": "python",
   "nbconvert_exporter": "python",
   "pygments_lexer": "ipython3",
   "version": "3.11.5"
  }
 },
 "nbformat": 4,
 "nbformat_minor": 5
}
