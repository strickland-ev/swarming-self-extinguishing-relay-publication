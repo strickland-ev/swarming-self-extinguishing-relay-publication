{
 "cells": [
  {
   "cell_type": "code",
   "execution_count": 1,
   "id": "610cea15-e327-4611-ac3f-1d3281d85ec2",
   "metadata": {
    "tags": []
   },
   "outputs": [],
   "source": [
    "from matplotlib import pyplot as plt\n",
    "from matplotlib import colors, cm\n",
    "from matplotlib.collections import LineCollection\n",
    "import numpy as np\n",
    "import pandas as pd\n",
    "from pathlib import Path\n",
    "import seaborn as sns\n",
    "import trackpy as tp\n",
    "from scipy.interpolate import UnivariateSpline\n",
    "import random as rand\n",
    "from tqdm import tqdm\n",
    "import scipy.stats as stat"
   ]
  },
  {
   "cell_type": "code",
   "execution_count": 2,
   "id": "5821066a-a7b8-4dec-be92-2a1e8e745763",
   "metadata": {
    "tags": []
   },
   "outputs": [],
   "source": [
    "def read_tuple_list(x):\n",
    "    x_strip = x.strip('()').strip('[]')\n",
    "    if len(x_strip.split(', ')) == 1:\n",
    "        return np.array(x_strip.split(), dtype=float)\n",
    "    else:\n",
    "        return np.array(x_strip.split(', '), dtype=float)"
   ]
  },
  {
   "cell_type": "code",
   "execution_count": 3,
   "id": "75346faa-e503-4129-965f-9930ff6c6a79",
   "metadata": {
    "tags": []
   },
   "outputs": [],
   "source": [
    "#Lets import an arcos set, wave data, and the corresponding tracking data...\n",
    "base_path = Path.cwd().parent / 'Data Sets/2023_01_24_main-set'\n",
    "images_folder = base_path / 'images'\n",
    "analysis_output_destination = base_path / 'wavefit_outputs'\n",
    "\n",
    "wave_paths = sorted(analysis_output_destination.glob('*_wave_df.csv'))\n",
    "arcos_paths = sorted(analysis_output_destination.glob('*_ARCOS_df.csv'))\n",
    "tracking_paths = sorted(analysis_output_destination.glob('*_tracking_binned_df.csv'))"
   ]
  },
  {
   "cell_type": "code",
   "execution_count": 5,
   "id": "86c7f381-00a8-4f8d-9648-239d80c25a55",
   "metadata": {
    "tags": []
   },
   "outputs": [
    {
     "name": "stderr",
     "output_type": "stream",
     "text": [
      "  0%|                                                      | 0/57 [00:02<?, ?it/s]\n"
     ]
    },
    {
     "ename": "KeyboardInterrupt",
     "evalue": "",
     "output_type": "error",
     "traceback": [
      "\u001b[0;31m---------------------------------------------------------------------------\u001b[0m",
      "\u001b[0;31mKeyboardInterrupt\u001b[0m                         Traceback (most recent call last)",
      "Cell \u001b[0;32mIn[5], line 112\u001b[0m\n\u001b[1;32m    110\u001b[0m dist_from_center \u001b[38;5;241m=\u001b[39m np\u001b[38;5;241m.\u001b[39mlinalg\u001b[38;5;241m.\u001b[39mnorm(radial_vec, axis\u001b[38;5;241m=\u001b[39m\u001b[38;5;241m1\u001b[39m)\u001b[38;5;241m*\u001b[39m\u001b[38;5;241m2.2\u001b[39m\n\u001b[1;32m    111\u001b[0m velocity \u001b[38;5;241m=\u001b[39m np\u001b[38;5;241m.\u001b[39mlinalg\u001b[38;5;241m.\u001b[39mnorm(lin_velocity_vec, axis\u001b[38;5;241m=\u001b[39m\u001b[38;5;241m1\u001b[39m)\u001b[38;5;241m*\u001b[39m\u001b[38;5;241m2.2\u001b[39m\u001b[38;5;241m*\u001b[39m\u001b[38;5;241m60.0\u001b[39m \u001b[38;5;66;03m#px/s --> um/s --> um/min\u001b[39;00m\n\u001b[0;32m--> 112\u001b[0m angles \u001b[38;5;241m=\u001b[39m [np\u001b[38;5;241m.\u001b[39marctan2(np\u001b[38;5;241m.\u001b[39mlinalg\u001b[38;5;241m.\u001b[39mnorm(np\u001b[38;5;241m.\u001b[39mcross(radial_vec[i], lin_velocity_vec[i])), np\u001b[38;5;241m.\u001b[39mdot(radial_vec[i], lin_velocity_vec[i])) \u001b[38;5;28;01mfor\u001b[39;00m i \u001b[38;5;129;01min\u001b[39;00m \u001b[38;5;28mrange\u001b[39m(\u001b[38;5;28mlen\u001b[39m(lin_velocity_vec))]\n\u001b[1;32m    113\u001b[0m cis \u001b[38;5;241m=\u001b[39m np\u001b[38;5;241m.\u001b[39mcos(angles)\n\u001b[1;32m    114\u001b[0m radial_velocity \u001b[38;5;241m=\u001b[39m velocity\u001b[38;5;241m*\u001b[39mcis\n",
      "Cell \u001b[0;32mIn[5], line 112\u001b[0m, in \u001b[0;36m<listcomp>\u001b[0;34m(.0)\u001b[0m\n\u001b[1;32m    110\u001b[0m dist_from_center \u001b[38;5;241m=\u001b[39m np\u001b[38;5;241m.\u001b[39mlinalg\u001b[38;5;241m.\u001b[39mnorm(radial_vec, axis\u001b[38;5;241m=\u001b[39m\u001b[38;5;241m1\u001b[39m)\u001b[38;5;241m*\u001b[39m\u001b[38;5;241m2.2\u001b[39m\n\u001b[1;32m    111\u001b[0m velocity \u001b[38;5;241m=\u001b[39m np\u001b[38;5;241m.\u001b[39mlinalg\u001b[38;5;241m.\u001b[39mnorm(lin_velocity_vec, axis\u001b[38;5;241m=\u001b[39m\u001b[38;5;241m1\u001b[39m)\u001b[38;5;241m*\u001b[39m\u001b[38;5;241m2.2\u001b[39m\u001b[38;5;241m*\u001b[39m\u001b[38;5;241m60.0\u001b[39m \u001b[38;5;66;03m#px/s --> um/s --> um/min\u001b[39;00m\n\u001b[0;32m--> 112\u001b[0m angles \u001b[38;5;241m=\u001b[39m [np\u001b[38;5;241m.\u001b[39marctan2(np\u001b[38;5;241m.\u001b[39mlinalg\u001b[38;5;241m.\u001b[39mnorm(np\u001b[38;5;241m.\u001b[39mcross(radial_vec[i], lin_velocity_vec[i])), np\u001b[38;5;241m.\u001b[39mdot(radial_vec[i], lin_velocity_vec[i])) \u001b[38;5;28;01mfor\u001b[39;00m i \u001b[38;5;129;01min\u001b[39;00m \u001b[38;5;28mrange\u001b[39m(\u001b[38;5;28mlen\u001b[39m(lin_velocity_vec))]\n\u001b[1;32m    113\u001b[0m cis \u001b[38;5;241m=\u001b[39m np\u001b[38;5;241m.\u001b[39mcos(angles)\n\u001b[1;32m    114\u001b[0m radial_velocity \u001b[38;5;241m=\u001b[39m velocity\u001b[38;5;241m*\u001b[39mcis\n",
      "File \u001b[0;32m~/miniconda3/envs/23pubenv/lib/python3.11/site-packages/numpy/core/numeric.py:1608\u001b[0m, in \u001b[0;36mcross\u001b[0;34m(a, b, axisa, axisb, axisc, axis)\u001b[0m\n\u001b[1;32m   1605\u001b[0m cp \u001b[38;5;241m=\u001b[39m empty(shape, dtype)\n\u001b[1;32m   1607\u001b[0m \u001b[38;5;66;03m# recast arrays as dtype\u001b[39;00m\n\u001b[0;32m-> 1608\u001b[0m a \u001b[38;5;241m=\u001b[39m a\u001b[38;5;241m.\u001b[39mastype(dtype)\n\u001b[1;32m   1609\u001b[0m b \u001b[38;5;241m=\u001b[39m b\u001b[38;5;241m.\u001b[39mastype(dtype)\n\u001b[1;32m   1611\u001b[0m \u001b[38;5;66;03m# create local aliases for readability\u001b[39;00m\n",
      "\u001b[0;31mKeyboardInterrupt\u001b[0m: "
     ]
    }
   ],
   "source": [
    "#To run analysis: \n",
    "inner_means_collection = []\n",
    "outer_means_collection =  []\n",
    "\n",
    "in_track_count = 0\n",
    "out_track_out = 0\n",
    "\n",
    "\n",
    "with tqdm(total=len(wave_paths)) as pbar:\n",
    "    for w_path, a_path, t_path in zip(wave_paths, arcos_paths, tracking_paths):\n",
    "        #get image number from arcos df \n",
    "        im_num = int(a_path.stem.split('_')[0])\n",
    "        #check that all dfs are the matching image number! \n",
    "        if np.all([path_num == im_num for path_num in [int(w_path.stem.split('_')[0]),int(t_path.stem.split('_')[0])]]):\n",
    "            #build loop here:\n",
    "            #Import all DFs associated with an image: \n",
    "            wave_df = pd.read_csv(w_path, converters={\"wave_centroid\": read_tuple_list})\n",
    "            arcos_df = pd.read_csv(a_path)\n",
    "            tracking_df = pd.read_csv(t_path)\n",
    "\n",
    "            #Find biggest collective event to add to main analysis: \n",
    "            max_r_collection = {}\n",
    "\n",
    "            for clid, cl_event in wave_df.groupby('clTrackID'):\n",
    "                mean_centroid = cl_event.wave_centroid.values[0]\n",
    "                #coords = np.stack((np.array(cl_event.x.values), np.array(cl_event.y.values)), axis=1)\n",
    "                #radial_vec = [np.array([mean_centroid[0] - coords[i][0], mean_centroid[1] - coords[i][1]]) for i in range(len(coords))]\n",
    "                #dist_from_center = np.linalg.norm(radial_vec, axis=1)*2.2\n",
    "                max_r_collection[clid] = cl_event.circle_radius.values.max()\n",
    "\n",
    "            biggest_event_r = max(max_r_collection.values())\n",
    "            max_clids = [k for k, v in max_r_collection.items() if v == biggest_event_r] # getting all keys containing the `maximum`\n",
    "\n",
    "            if len(max_clids) > 1:\n",
    "                print('rarity in image {}'.format(im_num))\n",
    "                continue\n",
    "\n",
    "            #Get the arcos information for the largest event: \n",
    "            arcos_main =  arcos_df[arcos_df.clTrackID == max_clids[0]]\n",
    "\n",
    "            #Collect tracking data for the duration of the wave plus 1min: \n",
    "            window_start = arcos_main['timepoint'].min()\n",
    "            window_stop = arcos_main['timepoint'].max()\n",
    "\n",
    "            tracks = tracking_df.groupby('track_id')\n",
    "\n",
    "            #get the tracks that arcos says are inside the largest wave...\n",
    "            track_collect = []\n",
    "            outer_tracks = []\n",
    "\n",
    "            for i, track in tracks: \n",
    "                if i in arcos_main.track_id.unique():\n",
    "                    track_collect.append(track[track['timepoint'].between(window_start, window_stop)])\n",
    "                else:\n",
    "                    outer_tracks.append(track[track['timepoint'].between(window_start, window_stop)])\n",
    "\n",
    "            tracks_in_wave = pd.concat(track_collect, ignore_index=True)\n",
    "            tracks_out_wave = pd.concat(outer_tracks, ignore_index=True)\n",
    "\n",
    "\n",
    "            #Time to calculate some values for all tracks:\n",
    "            track_min_length = 5\n",
    "            inner_collection = []\n",
    "            tracks_group = tracks_in_wave.groupby('track_id')\n",
    "\n",
    "            for track_id, track in tracks_group:\n",
    "\n",
    "                if len(track) < track_min_length:\n",
    "                    continue\n",
    "                #Get the time, x, and y points --> Smooth x and y on time... \n",
    "                time = track.timepoint.values*5.0\n",
    "                x_smooth = UnivariateSpline(time, track.x.values, s=5)\n",
    "                y_smooth = UnivariateSpline(time, track.y.values, s=5)\n",
    "\n",
    "                #Compile as coords, get the linear velocity vectors, radial vectors, distance from center of the wave, velocity, angle between velocity and center radius, Chemotactic index, and radial velocity:\n",
    "                coords = np.stack((np.array(x_smooth(time)), np.array(y_smooth(time))), axis=1)\n",
    "                radial_vec = [np.array([mean_centroid[0] - coords[i][0], mean_centroid[1] - coords[i][1]]) for i in range(len(coords))]\n",
    "                dist_from_center = np.linalg.norm(radial_vec, axis=1)*2.2\n",
    "                lin_velocity_vec = [(coords[i+1] - coords[i])/5.0 for i in range(len(coords)-1)]\n",
    "                radial_vec = [np.array([mean_centroid[0] - coords[i][0], mean_centroid[1] - coords[i][1]]) for i in range(len(coords))]\n",
    "                dist_from_center = np.linalg.norm(radial_vec, axis=1)*2.2\n",
    "                velocity = np.linalg.norm(lin_velocity_vec, axis=1)*2.2*60.0 #px/s --> um/s --> um/min\n",
    "                angles = [np.arctan2(np.linalg.norm(np.cross(radial_vec[i], lin_velocity_vec[i])), np.dot(radial_vec[i], lin_velocity_vec[i])) for i in range(len(lin_velocity_vec))]\n",
    "                cis = np.cos(angles)\n",
    "                radial_velocity = velocity*cis\n",
    "\n",
    "                #Append the relevant parameters to the track: \n",
    "                inner_collection.append(np.mean(radial_velocity))\n",
    "\n",
    "\n",
    "            #Repeat for the tracks outside the largest wave: \n",
    "            out_group = tracks_out_wave.groupby('track_id')\n",
    "            outer_collection = []\n",
    "\n",
    "            for track_id, track in out_group:\n",
    "\n",
    "                if len(track) < track_min_length:\n",
    "                    continue\n",
    "\n",
    "                #Get the time, x, and y points --> Smooth x and y on time... \n",
    "                time = track.timepoint.values*5.0\n",
    "                x_smooth = UnivariateSpline(time, track.x.values, s=5)\n",
    "                y_smooth = UnivariateSpline(time, track.y.values, s=5)\n",
    "\n",
    "                #Compile as coords, get the linear velocity vectors, radial vectors, distance from center of the wave, velocity, angle between velocity and center radius, Chemotactic index, and radial velocity:\n",
    "                coords = np.stack((np.array(x_smooth(time)), np.array(y_smooth(time))), axis=1)\n",
    "                radial_vec = [np.array([mean_centroid[0] - coords[i][0], mean_centroid[1] - coords[i][1]]) for i in range(len(coords))]\n",
    "                dist_from_center = np.linalg.norm(radial_vec, axis=1)*2.2\n",
    "                lin_velocity_vec = [(coords[i+1] - coords[i])/5.0 for i in range(len(coords)-1)]\n",
    "                radial_vec = [np.array([mean_centroid[0] - coords[i][0], mean_centroid[1] - coords[i][1]]) for i in range(len(coords))]\n",
    "                dist_from_center = np.linalg.norm(radial_vec, axis=1)*2.2\n",
    "                velocity = np.linalg.norm(lin_velocity_vec, axis=1)*2.2*60.0 #px/s --> um/s --> um/min\n",
    "                angles = [np.arctan2(np.linalg.norm(np.cross(radial_vec[i], lin_velocity_vec[i])), np.dot(radial_vec[i], lin_velocity_vec[i])) for i in range(len(lin_velocity_vec))]\n",
    "                cis = np.cos(angles)\n",
    "                radial_velocity = velocity*cis\n",
    "                \n",
    "                outer_collection.append(np.mean(radial_velocity))\n",
    "\n",
    "\n",
    "            inner_means_collection.append(np.mean(inner_collection))\n",
    "            outer_means_collection.append(np.mean(outer_collection))\n",
    "            pbar.update(1)\n",
    "\n",
    "            \n",
    "big_df = pd.concat([pd.DataFrame({'track_status': 'outer', 'mean_movement': outer_means_collection}), pd.DataFrame({'track_status': 'inner', 'mean_movement': inner_means_collection})])\n"
   ]
  },
  {
   "cell_type": "code",
   "execution_count": 6,
   "id": "af348698-6c7f-4555-b8c9-eb743d701582",
   "metadata": {
    "tags": []
   },
   "outputs": [],
   "source": [
    "#TO SAVE ANALYSIS ABOVE: \n",
    "#big_df.to_csv('fig1_all-waves_inner-outer_relation.csv')\n",
    "#TO LOAD ANALYSIS ABOVE: \n",
    "big_df = pd.read_csv('fig1_all-waves_inner-outer_relation.csv')"
   ]
  },
  {
   "cell_type": "code",
   "execution_count": 7,
   "id": "35bbdc7d-e824-4c1e-925b-8cb9be752f53",
   "metadata": {
    "tags": []
   },
   "outputs": [
    {
     "data": {
      "text/plain": [
       "array([1.54504037, 3.22015793, 2.53793752, 5.02415026, 8.20277188,\n",
       "       3.33405294, 3.00900634, 5.43375649, 7.00467057, 3.61588234,\n",
       "       7.30637247, 6.0359725 , 3.55438901, 3.73875822, 4.86826176,\n",
       "       5.59893246, 6.08727198, 5.71788282, 4.60762317, 2.83665474,\n",
       "       4.47115202, 5.80314189, 1.43915423, 2.66907413, 1.75995623,\n",
       "       4.53397899, 7.14075907, 5.01008338, 2.82331793, 4.47472255,\n",
       "       7.4527536 , 4.8506258 , 3.4168785 , 3.68615399, 3.95104855,\n",
       "       2.51220181, 6.32342092, 6.75684778, 3.23519895, 3.94696523,\n",
       "       7.30869902, 4.02186489, 2.02961057, 5.90489418, 4.64039816,\n",
       "       0.96663368, 2.7415955 , 1.64586098, 0.42022514, 7.950988  ,\n",
       "       4.57305793, 4.59064587, 3.83289003, 2.71970654, 2.71007842,\n",
       "       1.76065896, 4.98299808])"
      ]
     },
     "execution_count": 7,
     "metadata": {},
     "output_type": "execute_result"
    }
   ],
   "source": [
    "big_df[big_df['track_status'] == 'inner']['mean_movement'].values"
   ]
  },
  {
   "cell_type": "code",
   "execution_count": 8,
   "id": "13bc08d6-03db-48b3-9c52-762c6fbed7bf",
   "metadata": {
    "tags": []
   },
   "outputs": [
    {
     "data": {
      "text/plain": [
       "TtestResult(statistic=19.801404310690682, pvalue=5.817265672646437e-27, df=56)"
      ]
     },
     "execution_count": 8,
     "metadata": {},
     "output_type": "execute_result"
    }
   ],
   "source": [
    "#t-test model between inner and outer movement generally: \n",
    "\n",
    "inners = big_df[big_df['track_status'] == 'inner']['mean_movement'].values\n",
    "outers = big_df[big_df['track_status'] == 'outer']['mean_movement'].values\n",
    "\n",
    "\n",
    "stat.ttest_rel(inners, outers)"
   ]
  },
  {
   "cell_type": "code",
   "execution_count": 9,
   "id": "47f3e9f8-aaea-4a5b-a655-97f6959ea7b0",
   "metadata": {
    "tags": []
   },
   "outputs": [],
   "source": [
    "sns.set_context(\"notebook\", font_scale=1, rc={\"lines.linewidth\": 2, 'font.family': ['arial'], 'axes.linewidth':2})"
   ]
  },
  {
   "cell_type": "code",
   "execution_count": 10,
   "id": "b491a1b6-ed47-445a-8f32-196c9080507d",
   "metadata": {
    "tags": []
   },
   "outputs": [
    {
     "name": "stderr",
     "output_type": "stream",
     "text": [
      "/var/folders/jb/q2707w2155s00qd5b8lpx_6m0000gn/T/ipykernel_17446/1435783174.py:4: UserWarning: *c* argument looks like a single numeric RGB or RGBA sequence, which should be avoided as value-mapping will have precedence in case its length matches with *x* & *y*.  Please use the *color* keyword-argument or provide a 2D array with a single row if you intend to specify the same RGB or RGBA value for all points.\n",
      "  plt.scatter(np.zeros(len(outers)), outers, c=sns.color_palette()[7], alpha=0.2)\n",
      "/Users/echo/miniconda3/envs/23pubenv/lib/python3.11/site-packages/seaborn/_oldcore.py:1498: FutureWarning: is_categorical_dtype is deprecated and will be removed in a future version. Use isinstance(dtype, CategoricalDtype) instead\n",
      "  if pd.api.types.is_categorical_dtype(vector):\n",
      "/Users/echo/miniconda3/envs/23pubenv/lib/python3.11/site-packages/seaborn/_oldcore.py:1498: FutureWarning: is_categorical_dtype is deprecated and will be removed in a future version. Use isinstance(dtype, CategoricalDtype) instead\n",
      "  if pd.api.types.is_categorical_dtype(vector):\n",
      "/Users/echo/miniconda3/envs/23pubenv/lib/python3.11/site-packages/seaborn/_oldcore.py:1498: FutureWarning: is_categorical_dtype is deprecated and will be removed in a future version. Use isinstance(dtype, CategoricalDtype) instead\n",
      "  if pd.api.types.is_categorical_dtype(vector):\n"
     ]
    },
    {
     "data": {
      "text/plain": [
       "(-1.5, 9.75)"
      ]
     },
     "execution_count": 10,
     "metadata": {},
     "output_type": "execute_result"
    },
    {
     "data": {
      "image/png": "[encoded data removed]",
      "text/plain": [
       "<Figure size 350x450 with 1 Axes>"
      ]
     },
     "metadata": {},
     "output_type": "display_data"
    }
   ],
   "source": [
    "plt.figure(figsize=(3.5,4.5))\n",
    "\n",
    "# plotting the points\n",
    "plt.scatter(np.zeros(len(outers)), outers, c=sns.color_palette()[7], alpha=0.2)\n",
    "plt.scatter(np.ones(len(inners)), inners, c=\"#B54845\", alpha=0.2)\n",
    "\n",
    "# plotting the lines\n",
    "for i in range(len(inners)):\n",
    "    plt.plot( [0,1], [outers[i], inners[i]], c=sns.color_palette()[7], alpha=0.2)\n",
    "\n",
    "\n",
    "ax = sns.boxplot(data=big_df, x='track_status', y='mean_movement', orient='v', palette=[sns.color_palette()[7], \"#B54845\"], width=0.5, boxprops=dict(alpha=.75))\n",
    "ax.set_xticklabels(['', ''])\n",
    "plt.xlabel('')\n",
    "plt.ylabel('')\n",
    "\n",
    "# statistical annotation\n",
    "x1, x2 = 0, 1   # columns 'Sat' and 'Sun' (first column: 0, see plt.xticks())\n",
    "y, h, col = 8.5, 0.3, 'k'\n",
    "plt.plot([x1, x1, x2, x2], [y, y+h, y+h, y], lw=1.5, c=col)\n",
    "plt.text((x1+x2)*.5, y+h, \"\", ha='center', va='bottom', color=col)\n",
    "plt.ylim(-1.5,9.75)\n",
    "\n",
    "#TO SAVE FIGURE FOR PLOTTING UNCOMMENT: \n",
    "#plt.savefig('fig-1-radial-movement-averages.png', bbox_inches='tight', dpi=300)"
   ]
  }
 ],
 "metadata": {
  "kernelspec": {
   "display_name": "Python 3 (ipykernel)",
   "language": "python",
   "name": "python3"
  },
  "language_info": {
   "codemirror_mode": {
    "name": "ipython",
    "version": 3
   },
   "file_extension": ".py",
   "mimetype": "text/x-python",
   "name": "python",
   "nbconvert_exporter": "python",
   "pygments_lexer": "ipython3",
   "version": "3.11.5"
  }
 },
 "nbformat": 4,
 "nbformat_minor": 5
}
