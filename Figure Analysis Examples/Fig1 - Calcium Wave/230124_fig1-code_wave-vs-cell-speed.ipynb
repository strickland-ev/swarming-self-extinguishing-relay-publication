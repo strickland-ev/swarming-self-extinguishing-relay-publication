{
 "cells": [
  {
   "cell_type": "code",
   "execution_count": 1,
   "id": "610cea15-e327-4611-ac3f-1d3281d85ec2",
   "metadata": {
    "tags": []
   },
   "outputs": [],
   "source": [
    "from matplotlib import pyplot as plt\n",
    "from matplotlib import colors, cm\n",
    "from matplotlib.collections import LineCollection\n",
    "import numpy as np\n",
    "import pandas as pd\n",
    "from pathlib import Path\n",
    "import seaborn as sns\n",
    "import trackpy as tp\n",
    "from scipy.signal import savgol_filter\n",
    "from scipy.interpolate import UnivariateSpline\n",
    "import random as rand\n",
    "from tqdm import tqdm\n",
    "import scipy.stats as stat"
   ]
  },
  {
   "cell_type": "code",
   "execution_count": 2,
   "id": "5821066a-a7b8-4dec-be92-2a1e8e745763",
   "metadata": {
    "tags": []
   },
   "outputs": [],
   "source": [
    "def read_tuple_list(x):\n",
    "    x_strip = x.strip('()').strip('[]')\n",
    "    if len(x_strip.split(', ')) == 1:\n",
    "        return np.array(x_strip.split(), dtype=float)\n",
    "    else:\n",
    "        return np.array(x_strip.split(', '), dtype=float)"
   ]
  },
  {
   "cell_type": "code",
   "execution_count": 17,
   "id": "29bc4c46-24e8-4dd5-ad3b-124b3475f274",
   "metadata": {
    "tags": []
   },
   "outputs": [],
   "source": [
    "#Lets import an arcos set, wave data, and the corresponding tracking data...\n",
    "base_path = Path.cwd().parent / 'Data Sets/2023_01_24_main-set'\n",
    "images_folder = base_path / 'images'\n",
    "analysis_output_destination = base_path / 'wavefit_outputs'\n",
    "\n",
    "\n",
    "#There are three important dataframes used in analysis, the wave data frame, the ARCOS df, and the tracking df with binnned calcium values:\n",
    "#The tracking is the most broad, followed by ARCOS and then the wave (most abstracted info):\n",
    "wave_dataframe_paths = sorted(analysis_output_destination.glob('*_wave_df.csv'), key=lambda x: x.stem.split('_')[0])\n",
    "arcos_dataframe_paths = sorted(analysis_output_destination.glob('*_ARCOS_df.csv'), key=lambda x: x.stem.split('_')[0])\n",
    "tracking_dataframe_paths = sorted(analysis_output_destination.glob('*_tracking_binned_df.csv'), key=lambda x:x.stem.split('_')[0])\n"
   ]
  },
  {
   "cell_type": "code",
   "execution_count": 18,
   "id": "3cbf43c6-53ce-4a18-aecc-cd680d14ee3f",
   "metadata": {
    "tags": []
   },
   "outputs": [
    {
     "name": "stderr",
     "output_type": "stream",
     "text": [
      "100%|████████████████████████████████████████████| 57/57 [00:00<00:00, 618.09it/s]\n"
     ]
    }
   ],
   "source": [
    "\n",
    "wave_speeds = []\n",
    "img_ids = []\n",
    "wave_ids = []\n",
    "min_wave_r = 125\n",
    "\n",
    "for wave_df_path in tqdm(wave_dataframe_paths):\n",
    "    #\n",
    "    wave_df = pd.read_csv(wave_df_path, converters={\"wave_centroid\": read_tuple_list}) #Open the wave_DF from step4 analysis\n",
    "    wave_df = wave_df[wave_df.columns.drop(list(wave_df.filter(regex='Unnamed')))] #Strip it of any weird unnamed index columns\n",
    "    wave_df = wave_df[wave_df['trackable'] == True]\n",
    "    \n",
    "    #\n",
    "    for wid, wave in wave_df.groupby('clTrackID'):\n",
    "        if wave.circle_radius.max() > min_wave_r:\n",
    "            wave_speeds.append(np.mean(wave.radius_velocity.values)*60.0)\n",
    "            img_ids.append(int(wave_df_path.stem.split('_')[0]))\n",
    "            wave_ids.append(wid)"
   ]
  },
  {
   "cell_type": "code",
   "execution_count": 5,
   "id": "fbd3bbf0-8f02-4db9-ad47-915bbe667bb9",
   "metadata": {
    "tags": []
   },
   "outputs": [],
   "source": [
    "\n",
    "wave_speed_DF = pd.DataFrame({'speed_type':'wave','image_id':img_ids,'wave_id':wave_ids,'mean_speed':wave_speeds})\n"
   ]
  },
  {
   "cell_type": "code",
   "execution_count": 6,
   "id": "8488f75c-4ded-4bd9-a94b-b084f4f5d5dc",
   "metadata": {
    "tags": []
   },
   "outputs": [
    {
     "name": "stderr",
     "output_type": "stream",
     "text": [
      "0it [00:00, ?it/s]\n"
     ]
    }
   ],
   "source": [
    "\n",
    "wave_cell_pop_mean = []\n",
    "track_min_length = 12 \n",
    "min_track_time = 48\n",
    "\n",
    "for a_path, t_path in tqdm(list(zip(arcos_dataframe_paths, tracking_dataframe_paths))):\n",
    "    #get image number from arcos df \n",
    "    im_num = int(a_path.stem.split('_')[0])\n",
    "    #check that all dfs are the matching image number! \n",
    "    if np.all([path_num == im_num for path_num in [int(t_path.stem.split('_')[0])]]):\n",
    "        #build loop here:\n",
    "        #Import all DFs associated with an image: \n",
    "        arcos_df = pd.read_csv(a_path)\n",
    "        tracking_df = pd.read_csv(t_path)\n",
    "        \n",
    "        #Get image ID, and pull the arcos DFs for the waves analyized in those images: \n",
    "        image_id = int(a_path.stem.split('_')[0])\n",
    "        waves_in_img = wave_speed_DF[wave_speed_DF['image_id'] == image_id].wave_id.values\n",
    "        arcos_events_from_waves = arcos_df[arcos_df.clTrackID.isin(waves_in_img)]\n",
    "        \n",
    "        #Get all tracks, snip off the early frames to not capture cells falling into frame. \n",
    "        #group by ID\n",
    "        tracking_df = tracking_df[tracking_df['timepoint'] > min_track_time]\n",
    "        tracks = tracking_df.groupby('track_id')\n",
    "        \n",
    "        for clID, arcos_wave in arcos_events_from_waves.groupby(\"clTrackID\"):\n",
    "            \n",
    "            #get the tracks that arcos says are inside the largest wave...\n",
    "            track_collect = []\n",
    "\n",
    "            #Collect all the relevant tracks for the waves in the wave event: \n",
    "            for i, track in tracks: \n",
    "                if i in arcos_wave.track_id.unique():\n",
    "                    #Collect the track inside the event, exlcude timepoints before event start\n",
    "                    track_collect.append(track[track['timepoint'] > arcos_wave.timepoint.min()])\n",
    "\n",
    "            tracks_in_wave = pd.concat(track_collect, ignore_index=True)\n",
    "\n",
    "            #Time to calculate some values for all tracks:\n",
    "\n",
    "            tracks_group = tracks_in_wave.groupby('track_id')\n",
    "            cell_means = []\n",
    "            for track_id, track in tracks_group:\n",
    "                \n",
    "                if len(track) < track_min_length:\n",
    "                    continue\n",
    "                time = track.timepoint.values*5.0\n",
    "                x_smooth = UnivariateSpline(time, track.x.values, s=12)\n",
    "                y_smooth = UnivariateSpline(time, track.y.values, s=12)\n",
    "\n",
    "                #Compile as coords, get the linear velocity vectors, radial vectors, distance from center of the wave, velocity, angle between velocity and center radius, Chemotactic index, and radial velocity:\n",
    "                coords = np.stack((np.array(x_smooth(time)), np.array(y_smooth(time))), axis=1)\n",
    "                lin_velocity_vec = [(coords[i+1] - coords[i])/5.0 for i in range(len(coords)-1)]\n",
    "                velocity = np.linalg.norm(lin_velocity_vec, axis=1)*2.2*60.0 #px/s --> um/s --> um/min\n",
    "                cell_means.append(np.mean(velocity))\n",
    "\n",
    "            wave_cell_pop_mean.append(np.mean(cell_means))\n",
    "            "
   ]
  },
  {
   "cell_type": "code",
   "execution_count": 7,
   "id": "e202a720-4a7a-474c-b973-f0ceebf9b288",
   "metadata": {
    "tags": []
   },
   "outputs": [],
   "source": [
    "\n",
    "cell_speeds = pd.DataFrame({'speed_type':'cell','mean_speed':wave_cell_pop_mean})\n",
    "\n",
    "all_speeds_DF = pd.concat([wave_speed_DF,cell_speeds])"
   ]
  },
  {
   "cell_type": "code",
   "execution_count": 11,
   "id": "d55fa2d8-e21b-4752-99c9-45d12cc7eaef",
   "metadata": {
    "tags": []
   },
   "outputs": [],
   "source": [
    "#TO SAVE ANALYSIS ABOVE: \n",
    "#all_speeds_DF.to_csv('fig1_cell-speed_vs_wave-speed_DF.csv')\n",
    "#TO LOAD PREV ANALYSIS DONE ABOVE: \n",
    "all_speeds_DF = pd.read_csv('fig1_cell-speed_vs_wave-speed_DF.csv')"
   ]
  },
  {
   "cell_type": "code",
   "execution_count": 12,
   "id": "a38b6c09-59c6-4e9d-af98-d2a0910e4a13",
   "metadata": {
    "tags": []
   },
   "outputs": [
    {
     "data": {
      "text/html": [
       "<div>\n",
       "<style scoped>\n",
       "    .dataframe tbody tr th:only-of-type {\n",
       "        vertical-align: middle;\n",
       "    }\n",
       "\n",
       "    .dataframe tbody tr th {\n",
       "        vertical-align: top;\n",
       "    }\n",
       "\n",
       "    .dataframe thead th {\n",
       "        text-align: right;\n",
       "    }\n",
       "</style>\n",
       "<table border=\"1\" class=\"dataframe\">\n",
       "  <thead>\n",
       "    <tr style=\"text-align: right;\">\n",
       "      <th></th>\n",
       "      <th>Unnamed: 0</th>\n",
       "      <th>speed_type</th>\n",
       "      <th>image_id</th>\n",
       "      <th>wave_id</th>\n",
       "      <th>mean_speed</th>\n",
       "    </tr>\n",
       "  </thead>\n",
       "  <tbody>\n",
       "    <tr>\n",
       "      <th>0</th>\n",
       "      <td>0</td>\n",
       "      <td>wave</td>\n",
       "      <td>27.0</td>\n",
       "      <td>6.0</td>\n",
       "      <td>85.299534</td>\n",
       "    </tr>\n",
       "    <tr>\n",
       "      <th>1</th>\n",
       "      <td>1</td>\n",
       "      <td>wave</td>\n",
       "      <td>28.0</td>\n",
       "      <td>2.0</td>\n",
       "      <td>154.351619</td>\n",
       "    </tr>\n",
       "    <tr>\n",
       "      <th>2</th>\n",
       "      <td>2</td>\n",
       "      <td>wave</td>\n",
       "      <td>33.0</td>\n",
       "      <td>2.0</td>\n",
       "      <td>108.124328</td>\n",
       "    </tr>\n",
       "    <tr>\n",
       "      <th>3</th>\n",
       "      <td>3</td>\n",
       "      <td>wave</td>\n",
       "      <td>33.0</td>\n",
       "      <td>5.0</td>\n",
       "      <td>71.837791</td>\n",
       "    </tr>\n",
       "    <tr>\n",
       "      <th>4</th>\n",
       "      <td>4</td>\n",
       "      <td>wave</td>\n",
       "      <td>33.0</td>\n",
       "      <td>19.0</td>\n",
       "      <td>27.244957</td>\n",
       "    </tr>\n",
       "    <tr>\n",
       "      <th>...</th>\n",
       "      <td>...</td>\n",
       "      <td>...</td>\n",
       "      <td>...</td>\n",
       "      <td>...</td>\n",
       "      <td>...</td>\n",
       "    </tr>\n",
       "    <tr>\n",
       "      <th>245</th>\n",
       "      <td>120</td>\n",
       "      <td>cell</td>\n",
       "      <td>NaN</td>\n",
       "      <td>NaN</td>\n",
       "      <td>7.563680</td>\n",
       "    </tr>\n",
       "    <tr>\n",
       "      <th>246</th>\n",
       "      <td>121</td>\n",
       "      <td>cell</td>\n",
       "      <td>NaN</td>\n",
       "      <td>NaN</td>\n",
       "      <td>5.153198</td>\n",
       "    </tr>\n",
       "    <tr>\n",
       "      <th>247</th>\n",
       "      <td>122</td>\n",
       "      <td>cell</td>\n",
       "      <td>NaN</td>\n",
       "      <td>NaN</td>\n",
       "      <td>5.904445</td>\n",
       "    </tr>\n",
       "    <tr>\n",
       "      <th>248</th>\n",
       "      <td>123</td>\n",
       "      <td>cell</td>\n",
       "      <td>NaN</td>\n",
       "      <td>NaN</td>\n",
       "      <td>8.275758</td>\n",
       "    </tr>\n",
       "    <tr>\n",
       "      <th>249</th>\n",
       "      <td>124</td>\n",
       "      <td>cell</td>\n",
       "      <td>NaN</td>\n",
       "      <td>NaN</td>\n",
       "      <td>10.012897</td>\n",
       "    </tr>\n",
       "  </tbody>\n",
       "</table>\n",
       "<p>250 rows × 5 columns</p>\n",
       "</div>"
      ],
      "text/plain": [
       "     Unnamed: 0 speed_type  image_id  wave_id  mean_speed\n",
       "0             0       wave      27.0      6.0   85.299534\n",
       "1             1       wave      28.0      2.0  154.351619\n",
       "2             2       wave      33.0      2.0  108.124328\n",
       "3             3       wave      33.0      5.0   71.837791\n",
       "4             4       wave      33.0     19.0   27.244957\n",
       "..          ...        ...       ...      ...         ...\n",
       "245         120       cell       NaN      NaN    7.563680\n",
       "246         121       cell       NaN      NaN    5.153198\n",
       "247         122       cell       NaN      NaN    5.904445\n",
       "248         123       cell       NaN      NaN    8.275758\n",
       "249         124       cell       NaN      NaN   10.012897\n",
       "\n",
       "[250 rows x 5 columns]"
      ]
     },
     "execution_count": 12,
     "metadata": {},
     "output_type": "execute_result"
    }
   ],
   "source": [
    "all_speeds_DF"
   ]
  },
  {
   "cell_type": "code",
   "execution_count": 13,
   "id": "1350c738-5faa-45b1-a1eb-afe681d3bc98",
   "metadata": {
    "tags": []
   },
   "outputs": [
    {
     "data": {
      "text/plain": [
       "TtestResult(statistic=-24.399856023371562, pvalue=1.9105575811847208e-49, df=125.3583885845005)"
      ]
     },
     "execution_count": 13,
     "metadata": {},
     "output_type": "execute_result"
    }
   ],
   "source": [
    "stat.ttest_ind(all_speeds_DF[all_speeds_DF['speed_type'] == 'cell'].mean_speed.values, all_speeds_DF[all_speeds_DF['speed_type'] == 'wave'].mean_speed.values, equal_var=False)\n"
   ]
  },
  {
   "cell_type": "code",
   "execution_count": 14,
   "id": "0a4fc0ea-e774-4fa9-8523-b95d5be71aa6",
   "metadata": {
    "tags": []
   },
   "outputs": [],
   "source": [
    "sns.set_context(\"notebook\", font_scale=1, rc={\"lines.linewidth\": 2, 'font.family': ['arial'], 'axes.linewidth':2})"
   ]
  },
  {
   "cell_type": "code",
   "execution_count": 15,
   "id": "237dbd52-112c-455d-9af9-3b3cb3bb4278",
   "metadata": {
    "tags": []
   },
   "outputs": [
    {
     "name": "stderr",
     "output_type": "stream",
     "text": [
      "/Users/echo/miniconda3/envs/23pubenv/lib/python3.11/site-packages/seaborn/_oldcore.py:1498: FutureWarning: is_categorical_dtype is deprecated and will be removed in a future version. Use isinstance(dtype, CategoricalDtype) instead\n",
      "  if pd.api.types.is_categorical_dtype(vector):\n",
      "/Users/echo/miniconda3/envs/23pubenv/lib/python3.11/site-packages/seaborn/_oldcore.py:1498: FutureWarning: is_categorical_dtype is deprecated and will be removed in a future version. Use isinstance(dtype, CategoricalDtype) instead\n",
      "  if pd.api.types.is_categorical_dtype(vector):\n",
      "/Users/echo/miniconda3/envs/23pubenv/lib/python3.11/site-packages/seaborn/_oldcore.py:1498: FutureWarning: is_categorical_dtype is deprecated and will be removed in a future version. Use isinstance(dtype, CategoricalDtype) instead\n",
      "  if pd.api.types.is_categorical_dtype(vector):\n",
      "/Users/echo/miniconda3/envs/23pubenv/lib/python3.11/site-packages/seaborn/_oldcore.py:1498: FutureWarning: is_categorical_dtype is deprecated and will be removed in a future version. Use isinstance(dtype, CategoricalDtype) instead\n",
      "  if pd.api.types.is_categorical_dtype(vector):\n",
      "/Users/echo/miniconda3/envs/23pubenv/lib/python3.11/site-packages/seaborn/_oldcore.py:1498: FutureWarning: is_categorical_dtype is deprecated and will be removed in a future version. Use isinstance(dtype, CategoricalDtype) instead\n",
      "  if pd.api.types.is_categorical_dtype(vector):\n",
      "/Users/echo/miniconda3/envs/23pubenv/lib/python3.11/site-packages/seaborn/_oldcore.py:1498: FutureWarning: is_categorical_dtype is deprecated and will be removed in a future version. Use isinstance(dtype, CategoricalDtype) instead\n",
      "  if pd.api.types.is_categorical_dtype(vector):\n",
      "/Users/echo/miniconda3/envs/23pubenv/lib/python3.11/site-packages/seaborn/_oldcore.py:1498: FutureWarning: is_categorical_dtype is deprecated and will be removed in a future version. Use isinstance(dtype, CategoricalDtype) instead\n",
      "  if pd.api.types.is_categorical_dtype(vector):\n",
      "/Users/echo/miniconda3/envs/23pubenv/lib/python3.11/site-packages/seaborn/_oldcore.py:1498: FutureWarning: is_categorical_dtype is deprecated and will be removed in a future version. Use isinstance(dtype, CategoricalDtype) instead\n",
      "  if pd.api.types.is_categorical_dtype(vector):\n",
      "/Users/echo/miniconda3/envs/23pubenv/lib/python3.11/site-packages/seaborn/_oldcore.py:1498: FutureWarning: is_categorical_dtype is deprecated and will be removed in a future version. Use isinstance(dtype, CategoricalDtype) instead\n",
      "  if pd.api.types.is_categorical_dtype(vector):\n",
      "/Users/echo/miniconda3/envs/23pubenv/lib/python3.11/site-packages/seaborn/_oldcore.py:1498: FutureWarning: is_categorical_dtype is deprecated and will be removed in a future version. Use isinstance(dtype, CategoricalDtype) instead\n",
      "  if pd.api.types.is_categorical_dtype(vector):\n",
      "/Users/echo/miniconda3/envs/23pubenv/lib/python3.11/site-packages/seaborn/_oldcore.py:1498: FutureWarning: is_categorical_dtype is deprecated and will be removed in a future version. Use isinstance(dtype, CategoricalDtype) instead\n",
      "  if pd.api.types.is_categorical_dtype(vector):\n",
      "/Users/echo/miniconda3/envs/23pubenv/lib/python3.11/site-packages/seaborn/_oldcore.py:1498: FutureWarning: is_categorical_dtype is deprecated and will be removed in a future version. Use isinstance(dtype, CategoricalDtype) instead\n",
      "  if pd.api.types.is_categorical_dtype(vector):\n",
      "/Users/echo/miniconda3/envs/23pubenv/lib/python3.11/site-packages/seaborn/_oldcore.py:1498: FutureWarning: is_categorical_dtype is deprecated and will be removed in a future version. Use isinstance(dtype, CategoricalDtype) instead\n",
      "  if pd.api.types.is_categorical_dtype(vector):\n",
      "/var/folders/jb/q2707w2155s00qd5b8lpx_6m0000gn/T/ipykernel_17382/2952869776.py:4: FutureWarning: Passing `palette` without assigning `hue` is deprecated.\n",
      "  sns.stripplot(data=all_speeds_DF, x='speed_type', y='mean_speed', palette=[sns.color_palette()[0],sns.color_palette()[3]], alpha=0.45, jitter=0.15)\n",
      "/Users/echo/miniconda3/envs/23pubenv/lib/python3.11/site-packages/seaborn/_oldcore.py:1119: FutureWarning: use_inf_as_na option is deprecated and will be removed in a future version. Convert inf values to NaN before operating instead.\n",
      "  with pd.option_context('mode.use_inf_as_na', True):\n",
      "/Users/echo/miniconda3/envs/23pubenv/lib/python3.11/site-packages/seaborn/_oldcore.py:1119: FutureWarning: use_inf_as_na option is deprecated and will be removed in a future version. Convert inf values to NaN before operating instead.\n",
      "  with pd.option_context('mode.use_inf_as_na', True):\n"
     ]
    },
    {
     "data": {
      "text/plain": [
       "Text(0, 0.5, '')"
      ]
     },
     "execution_count": 15,
     "metadata": {},
     "output_type": "execute_result"
    },
    {
     "data": {
      "image/png": "[encoded data removed]",
      "text/plain": [
       "<Figure size 350x450 with 1 Axes>"
      ]
     },
     "metadata": {},
     "output_type": "display_data"
    }
   ],
   "source": [
    "fig, ax = plt.subplots(figsize=(3.5,4.5))\n",
    "sns.boxplot(data=all_speeds_DF, x='speed_type', y='mean_speed', palette=[sns.color_palette()[0],sns.color_palette()[3]],  width=0.001, ax=ax, zorder=2)\n",
    "sns.boxplot(data=all_speeds_DF, x='speed_type', y='mean_speed', palette=[sns.color_palette()[0],sns.color_palette()[3]],  showbox=False, width=0.5, ax=ax, zorder=3)\n",
    "sns.stripplot(data=all_speeds_DF, x='speed_type', y='mean_speed', palette=[sns.color_palette()[0],sns.color_palette()[3]], alpha=0.45, jitter=0.15)\n",
    "plt.yscale('log')\n",
    "#plt.ylim(0.5,350)\n",
    "ax.tick_params(which='major', direction='out', width=2.5, labelsize=16)\n",
    "ax.tick_params(which='minor', width=2)\n",
    "#plt.ylim(0,50000)\n",
    "plt.xlabel('')\n",
    "plt.xticks([0,1],['',''])\n",
    "plt.ylabel('')\n",
    "\n",
    "#TO SAVE FIGURE\n",
    "#plt.savefig('fig1-wave-v-cell-avg-speed.png', bbox_inches='tight', dpi=300)\n"
   ]
  }
 ],
 "metadata": {
  "kernelspec": {
   "display_name": "Python 3 (ipykernel)",
   "language": "python",
   "name": "python3"
  },
  "language_info": {
   "codemirror_mode": {
    "name": "ipython",
    "version": 3
   },
   "file_extension": ".py",
   "mimetype": "text/x-python",
   "name": "python",
   "nbconvert_exporter": "python",
   "pygments_lexer": "ipython3",
   "version": "3.11.5"
  }
 },
 "nbformat": 4,
 "nbformat_minor": 5
}
