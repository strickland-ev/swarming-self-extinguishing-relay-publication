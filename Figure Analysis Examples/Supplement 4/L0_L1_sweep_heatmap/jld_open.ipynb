{
 "cells": [
  {
   "cell_type": "code",
   "execution_count": 1,
   "id": "98cfa38a-eb75-4a87-9e2f-5da95c53b105",
   "metadata": {
    "tags": []
   },
   "outputs": [],
   "source": [
    "using JLD, CSV, DataFrames"
   ]
  },
  {
   "cell_type": "code",
   "execution_count": 2,
   "id": "7eb3dbd7",
   "metadata": {},
   "outputs": [
    {
     "data": {
      "text/plain": [
       "100"
      ]
     },
     "metadata": {},
     "output_type": "display_data"
    }
   ],
   "source": [
    "l_mul = 10\n",
    "t_mul = 100"
   ]
  },
  {
   "cell_type": "code",
   "execution_count": 3,
   "id": "d8379b8c",
   "metadata": {},
   "outputs": [
    {
     "data": {
      "text/plain": [
       "Dict{String, Any} with 8 entries:\n",
       "  \"wave_speeds_wdecay\"      => [82.0453 82.0453 … 82.0453 82.0453;;; 82.0453 82…\n",
       "  \"max_rs\"                  => [70.1403 65.1303 … 80.1603 80.1603;;; 84.1683 73…\n",
       "  \"theory_wave_speeds\"      => [9.09457 9.09457 … 9.09457 9.09457;;; 9.09457 9.…\n",
       "  \"semi_theory_radii\"       => [22.5 12.5 … 15.0 45.0;;; 29.25 55.25 … 32.5 32.…\n",
       "  \"wave_speeds\"             => [2.25 1.25 … 1.5 4.5;;; 2.25 4.25 … 2.5 2.5;;; 3…\n",
       "  \"theory_char_values\"      => [6.61689 6.61689 … 6.61689 6.61689;;; 8.60196 8.…\n",
       "  \"semi_theory_char_values\" => [0.405 0.125 … 0.18 1.62;;; 0.5265 1.8785 … 0.65…\n",
       "  \"theory_radii\"            => [90.9457 90.9457 … 90.9457 90.9457;;; 118.229 11…"
      ]
     },
     "metadata": {},
     "output_type": "display_data"
    }
   ],
   "source": [
    "d = load(\"/Users/echo/Documents/Lab Stuff/Publication/23 Protofigures/Supplement 4/L0_L1_sweep_heatmap/paraset9_processed.jld\")"
   ]
  },
  {
   "cell_type": "code",
   "execution_count": 6,
   "id": "6d59571e",
   "metadata": {},
   "outputs": [],
   "source": [
    "#parameter set 9, mnk = 335 , producing uniform L1/L0 and R1 screen,it could take 5 mins to process, I save the processed data in JLD file under the folder\n",
    "a1_s = [1.0]./t_mul\n",
    "Lth = 0.007/l_mul^3\n",
    "Rth_s = Lth./(1:2:100)\n",
    "inhib_shutoff_s = 0.1:0.03:1.0\n",
    "\n",
    "L_ratio_s = Lth./Rth_s;\n"
   ]
  },
  {
   "cell_type": "code",
   "execution_count": 7,
   "id": "b1779dab",
   "metadata": {},
   "outputs": [],
   "source": [
    "max_rs = d[\"max_rs\"][1,:,:];\n"
   ]
  },
  {
   "cell_type": "code",
   "execution_count": 8,
   "id": "55d9fbce",
   "metadata": {},
   "outputs": [
    {
     "data": {
      "text/plain": [
       "(50, 31)"
      ]
     },
     "metadata": {},
     "output_type": "display_data"
    }
   ],
   "source": [
    "(length(L_ratio_s),length(inhib_shutoff_s))"
   ]
  },
  {
   "cell_type": "code",
   "execution_count": 10,
   "id": "0fe68b84",
   "metadata": {},
   "outputs": [
    {
     "data": {
      "text/plain": [
       "50×31 Matrix{Float64}:\n",
       " 0.405  0.5265  1.352  0.7695  3.179  …  13.1495  13.583  14.0165  14.45\n",
       " 0.125  1.8785  1.352  0.7695  1.859     13.1495  13.583  14.0165  14.45\n",
       " 0.125  0.1625  1.352  1.6055  0.891     13.1495  13.583  14.0165  14.45\n",
       " 0.845  0.1625  1.352  1.6055  1.859     13.1495  13.583  14.0165  14.45\n",
       " 0.5    3.146   2.592  1.862   1.1       14.742   15.228  15.714   16.2\n",
       " 0.405  3.146   3.872  1.862   2.156  …  14.742   15.228  15.714   16.2\n",
       " 0.98   1.274   0.8    1.862   1.1       14.742   15.228  15.714   16.2\n",
       " 0.18   0.65    2.592  0.95    2.156     14.742   15.228  15.714   16.2\n",
       " 0.5    0.234   2.592  3.078   2.156     14.742   15.228  15.714   16.2\n",
       " 0.18   0.65    0.288  0.95    1.1       14.742   15.228  15.714   16.2\n",
       " ⋮                                    ⋱                             ⋮\n",
       " 1.62   0.65    0.288  0.95    1.1       14.742   15.228  15.714   16.2\n",
       " 0.98   2.106   0.288  1.862   1.1       14.742   15.228  15.714   16.2\n",
       " 0.98   2.106   3.872  4.598   1.1       14.742   15.228  15.714   16.2\n",
       " 0.98   0.234   0.8    0.342   2.156     14.742   15.228  15.714   16.2\n",
       " 0.5    0.234   0.288  0.342   2.156  …  14.742   15.228  15.714   16.2\n",
       " 0.18   0.234   0.288  0.342   2.156     14.742   15.228  15.714   16.2\n",
       " 0.18   0.65    0.288  0.95    3.564     14.742   15.228  15.714   16.2\n",
       " 0.18   0.65    0.288  0.95    1.1       14.742   15.228  15.714   16.2\n",
       " 1.62   0.65    0.288  0.95    1.1       14.742   15.228  15.714   16.2"
      ]
     },
     "metadata": {},
     "output_type": "display_data"
    }
   ],
   "source": [
    "semi_theory_char_values = d[\"semi_theory_char_values\"]\n",
    "z=reshape(vec(semi_theory_char_values),(length(L_ratio_s),length(inhib_shutoff_s)))"
   ]
  },
  {
   "cell_type": "code",
   "execution_count": 11,
   "id": "e303fac8",
   "metadata": {},
   "outputs": [
    {
     "data": {
      "text/plain": [
       "\"beta_heatmap.csv\""
      ]
     },
     "metadata": {},
     "output_type": "display_data"
    }
   ],
   "source": [
    "CSV.write(\"beta_heatmap.csv\", Tables.table(z))\n"
   ]
  },
  {
   "cell_type": "code",
   "execution_count": 12,
   "id": "e0ab57b4-3419-424d-a84d-6d30a96610be",
   "metadata": {},
   "outputs": [
    {
     "data": {
      "text/plain": [
       "\"max_rs_heatmap.csv\""
      ]
     },
     "metadata": {},
     "output_type": "display_data"
    }
   ],
   "source": [
    "CSV.write(\"max_rs_heatmap.csv\", Tables.table(max_rs))"
   ]
  },
  {
   "cell_type": "code",
   "execution_count": 13,
   "id": "939f95dd-f827-4ab6-b80f-439d098f412b",
   "metadata": {},
   "outputs": [
    {
     "data": {
      "text/plain": [
       "\"max_rs_heatmap.csv\""
      ]
     },
     "metadata": {},
     "output_type": "display_data"
    }
   ],
   "source": [
    "CSV.write(\"max_rs_heatmap.csv\", Tables.table(max_rs))"
   ]
  },
  {
   "cell_type": "code",
   "execution_count": 14,
   "id": "4bdc8634",
   "metadata": {},
   "outputs": [
    {
     "data": {
      "text/plain": [
       "\"L_ratios.csv\""
      ]
     },
     "metadata": {},
     "output_type": "display_data"
    }
   ],
   "source": [
    "CSV.write(\"L_ratios.csv\", Tables.table(L_ratio_s))"
   ]
  },
  {
   "cell_type": "code",
   "execution_count": 15,
   "id": "a7916332",
   "metadata": {},
   "outputs": [
    {
     "data": {
      "text/plain": [
       "\"inhib_shutoff_s.csv\""
      ]
     },
     "metadata": {},
     "output_type": "display_data"
    }
   ],
   "source": [
    "CSV.write(\"inhib_shutoff_s.csv\", Tables.table(inhib_shutoff_s))"
   ]
  },
  {
   "cell_type": "code",
   "execution_count": null,
   "id": "212e3365",
   "metadata": {},
   "outputs": [],
   "source": []
  }
 ],
 "metadata": {
  "kernelspec": {
   "display_name": "Julia 1.9.3",
   "language": "julia",
   "name": "julia-1.9"
  },
  "language_info": {
   "file_extension": ".jl",
   "mimetype": "application/julia",
   "name": "julia",
   "version": "1.9.3"
  }
 },
 "nbformat": 4,
 "nbformat_minor": 5
}
