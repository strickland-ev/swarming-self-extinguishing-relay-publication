{
 "cells": [
  {
   "cell_type": "code",
   "execution_count": 1,
   "id": "98cfa38a-eb75-4a87-9e2f-5da95c53b105",
   "metadata": {
    "tags": []
   },
   "outputs": [],
   "source": [
    "using JLD, CSV, DataFrames"
   ]
  },
  {
   "cell_type": "code",
   "execution_count": 2,
   "id": "7eb3dbd7",
   "metadata": {},
   "outputs": [
    {
     "data": {
      "text/plain": [
       "100"
      ]
     },
     "metadata": {},
     "output_type": "display_data"
    }
   ],
   "source": [
    "l_mul = 10\n",
    "t_mul = 100"
   ]
  },
  {
   "cell_type": "code",
   "execution_count": 3,
   "id": "d8379b8c",
   "metadata": {},
   "outputs": [
    {
     "data": {
      "text/plain": [
       "Dict{String, Any} with 8 entries:\n",
       "  \"wave_speeds_wdecay\"      => [161.448 155.153 … 50.5005 49.3698;;; 161.448 15…\n",
       "  \"max_rs\"                  => [135.271 127.255 … 67.1343 67.1343;;; 152.305 14…\n",
       "  \"theory_wave_speeds\"      => [12.7324 12.4827 … 7.15303 7.07355;;; 12.7324 12…\n",
       "  \"semi_theory_radii\"       => [25.0 15.0 … 25.0 15.0;;; 71.5 71.5 … 16.5 16.5;…\n",
       "  \"wave_speeds\"             => [2.5 1.5 … 2.5 1.5;;; 6.5 6.5 … 1.5 1.5;;; 7.5 7…\n",
       "  \"theory_char_values\"      => [12.9691 12.4655 … 4.09327 4.00281;;; 14.266 13.…\n",
       "  \"semi_theory_char_values\" => [0.5 0.18 … 0.5 0.18;;; 3.718 3.718 … 0.198 0.19…\n",
       "  \"theory_radii\"            => [127.324 124.827 … 71.5303 70.7355;;; 140.056 13…"
      ]
     },
     "metadata": {},
     "output_type": "display_data"
    }
   ],
   "source": [
    "d = load(\"/Users/echo/Documents/Lab Stuff/Publication/23 Protofigures/Supplement 4/L_0-v-I_heatmap_values/paraset8_processed.jld\")"
   ]
  },
  {
   "cell_type": "code",
   "execution_count": 4,
   "id": "6d59571e",
   "metadata": {},
   "outputs": [
    {
     "data": {
      "text/plain": [
       "0.1:0.01:1.0"
      ]
     },
     "metadata": {},
     "output_type": "display_data"
    }
   ],
   "source": [
    "#parameter set 9, mnk = 335 , producing uniform L1/L0 and R1 screen,it could take 5 mins to process, I save the processed data in JLD file under the folder\n",
    "a1_s = [1.0]./t_mul\n",
    "Lth_s = Array(0.005:0.0001:0.009) ./l_mul^3\n",
    "inhib_shutoff_s = 0.1:0.01:1.0\n"
   ]
  },
  {
   "cell_type": "code",
   "execution_count": 5,
   "id": "b1779dab",
   "metadata": {},
   "outputs": [],
   "source": [
    "max_rs = d[\"max_rs\"][1,:,:];\n"
   ]
  },
  {
   "cell_type": "code",
   "execution_count": 6,
   "id": "55d9fbce",
   "metadata": {},
   "outputs": [
    {
     "data": {
      "text/plain": [
       "(41, 91)"
      ]
     },
     "metadata": {},
     "output_type": "display_data"
    }
   ],
   "source": [
    "(length(Lth_s),length(inhib_shutoff_s))"
   ]
  },
  {
   "cell_type": "code",
   "execution_count": 7,
   "id": "0fe68b84",
   "metadata": {},
   "outputs": [
    {
     "data": {
      "text/plain": [
       "41×91 Matrix{Float64}:\n",
       " 0.5   3.718  5.4    5.85   6.3    8.67  …  70.034  70.756  71.478  72.2\n",
       " 0.18  3.718  5.4    5.85   6.3    6.75     70.034  70.756  71.478  72.2\n",
       " 0.98  3.718  4.056  5.85   6.3    6.75     70.034  70.756  71.478  72.2\n",
       " 2.42  3.718  4.056  5.85   3.388  6.75     56.066  56.644  57.222  57.8\n",
       " 4.5   0.55   4.056  4.394  3.388  6.75     56.066  56.644  57.222  57.8\n",
       " 2.42  1.782  0.216  4.394  2.268  5.07  …  56.066  56.644  57.222  57.8\n",
       " 0.18  0.198  0.216  5.85   2.268  5.07     43.65   44.1    44.55   45.0\n",
       " 4.5   0.198  0.216  2.106  2.268  2.43     43.65   44.1    44.55   45.0\n",
       " 2.42  1.078  4.056  4.394  3.388  3.63     43.65   44.1    44.55   45.0\n",
       " 0.5   1.078  1.176  4.394  3.388  2.43     43.65   44.1    44.55   45.0\n",
       " ⋮                                 ⋮     ⋱                           ⋮\n",
       " 0.5   1.782  0.6    0.65   1.372  0.27      1.746   1.764   1.782   1.8\n",
       " 0.98  0.198  0.216  0.234  0.252  0.75      1.746   1.764   1.782   1.8\n",
       " 0.5   0.198  0.216  0.65   0.252  1.47      1.746   1.764   1.782   1.8\n",
       " 0.5   0.55   0.216  0.234  0.252  0.27  …   1.746   1.764   1.782   1.8\n",
       " 0.18  1.078  0.216  0.65   0.252  0.75      1.746   1.764   1.782   1.8\n",
       " 0.5   0.55   1.176  0.234  0.7    0.27      1.746   1.764   1.782   1.8\n",
       " 0.18  0.55   0.216  0.65   0.252  0.27      1.746   1.764   1.782   1.8\n",
       " 0.5   0.198  1.176  0.234  0.7    0.75      1.746   1.764   1.782   1.8\n",
       " 0.18  0.198  0.216  1.274  0.252  0.27  …   1.746   1.764   1.782   1.8"
      ]
     },
     "metadata": {},
     "output_type": "display_data"
    }
   ],
   "source": [
    "semi_theory_char_values = d[\"semi_theory_char_values\"]\n",
    "z=reshape(vec(semi_theory_char_values),(length(Lth_s),length(inhib_shutoff_s)))"
   ]
  },
  {
   "cell_type": "code",
   "execution_count": 8,
   "id": "e303fac8",
   "metadata": {},
   "outputs": [
    {
     "data": {
      "text/plain": [
       "\"beta_heatmap.csv\""
      ]
     },
     "metadata": {},
     "output_type": "display_data"
    }
   ],
   "source": [
    "CSV.write(\"beta_heatmap.csv\", Tables.table(z))\n"
   ]
  },
  {
   "cell_type": "code",
   "execution_count": 9,
   "id": "e0ab57b4-3419-424d-a84d-6d30a96610be",
   "metadata": {},
   "outputs": [
    {
     "data": {
      "text/plain": [
       "\"max_rs_heatmap.csv\""
      ]
     },
     "metadata": {},
     "output_type": "display_data"
    }
   ],
   "source": [
    "CSV.write(\"max_rs_heatmap.csv\", Tables.table(max_rs))"
   ]
  },
  {
   "cell_type": "code",
   "execution_count": 10,
   "id": "939f95dd-f827-4ab6-b80f-439d098f412b",
   "metadata": {},
   "outputs": [
    {
     "data": {
      "text/plain": [
       "\"max_rs_heatmap.csv\""
      ]
     },
     "metadata": {},
     "output_type": "display_data"
    }
   ],
   "source": [
    "CSV.write(\"max_rs_heatmap.csv\", Tables.table(max_rs))"
   ]
  },
  {
   "cell_type": "code",
   "execution_count": 11,
   "id": "4bdc8634",
   "metadata": {},
   "outputs": [
    {
     "data": {
      "text/plain": [
       "\"Lth_s.csv\""
      ]
     },
     "metadata": {},
     "output_type": "display_data"
    }
   ],
   "source": [
    "CSV.write(\"Lth_s.csv\", Tables.table(Lth_s))"
   ]
  },
  {
   "cell_type": "code",
   "execution_count": 12,
   "id": "a7916332",
   "metadata": {},
   "outputs": [
    {
     "data": {
      "text/plain": [
       "\"inhib_shutoff_s.csv\""
      ]
     },
     "metadata": {},
     "output_type": "display_data"
    }
   ],
   "source": [
    "CSV.write(\"inhib_shutoff_s.csv\", Tables.table(inhib_shutoff_s))"
   ]
  },
  {
   "cell_type": "code",
   "execution_count": null,
   "id": "2bd7fa44",
   "metadata": {},
   "outputs": [],
   "source": []
  }
 ],
 "metadata": {
  "kernelspec": {
   "display_name": "Julia 1.9.3",
   "language": "julia",
   "name": "julia-1.9"
  },
  "language_info": {
   "file_extension": ".jl",
   "mimetype": "application/julia",
   "name": "julia",
   "version": "1.9.3"
  }
 },
 "nbformat": 4,
 "nbformat_minor": 5
}
