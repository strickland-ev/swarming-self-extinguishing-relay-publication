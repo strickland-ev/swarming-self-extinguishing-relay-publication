{
 "cells": [
  {
   "cell_type": "code",
   "execution_count": 1,
   "id": "98cfa38a-eb75-4a87-9e2f-5da95c53b105",
   "metadata": {
    "tags": []
   },
   "outputs": [],
   "source": [
    "\n",
    "import seaborn as sns\n",
    "from pathlib import Path\n",
    "import pandas as pd\n",
    "import matplotlib.pyplot as plt\n",
    "import numpy as np\n",
    "import csv\n",
    "from matplotlib.colors import LinearSegmentedColormap\n"
   ]
  },
  {
   "cell_type": "code",
   "execution_count": 2,
   "id": "e0ab57b4-3419-424d-a84d-6d30a96610be",
   "metadata": {
    "tags": []
   },
   "outputs": [],
   "source": [
    "heatmaps = []\n",
    "with open(Path.cwd() / \"max_rs_heatmap.csv\") as csvfile: \n",
    "    reader_csv = csv.reader(csvfile)\n",
    "    i = 0\n",
    "    for row in reader_csv:\n",
    "        if i == 0:\n",
    "            i += 1\n",
    "            continue\n",
    "        else:\n",
    "            heatmaps.append(row)"
   ]
  },
  {
   "cell_type": "code",
   "execution_count": 3,
   "id": "939f95dd-f827-4ab6-b80f-439d098f412b",
   "metadata": {
    "tags": []
   },
   "outputs": [],
   "source": [
    "heatmap_vals = np.array(heatmaps, dtype=float)"
   ]
  },
  {
   "cell_type": "code",
   "execution_count": 4,
   "id": "6099de6f-1d87-4efc-925f-3f5f333d961b",
   "metadata": {
    "tags": []
   },
   "outputs": [],
   "source": [
    "Lths = []\n",
    "with open(Path.cwd() / \"Lth_s.csv\") as csvfile: \n",
    "    reader_csv = csv.reader(csvfile)\n",
    "    i = 0\n",
    "    for row in reader_csv:\n",
    "        if i == 0:\n",
    "            i += 1\n",
    "            continue\n",
    "        else:\n",
    "            Lths.append(row[0])"
   ]
  },
  {
   "cell_type": "code",
   "execution_count": 5,
   "id": "3f35af3d-3d81-4584-89e1-d644f0bdb848",
   "metadata": {
    "tags": []
   },
   "outputs": [],
   "source": [
    "Lth_vals = np.array(Lths, dtype=float)"
   ]
  },
  {
   "cell_type": "code",
   "execution_count": 6,
   "id": "e43af9d7-70a8-46aa-819c-ba50580565e2",
   "metadata": {
    "tags": []
   },
   "outputs": [],
   "source": [
    "inhibs = []\n",
    "with open(Path.cwd() / \"inhib_shutoff_s.csv\") as csvfile: \n",
    "    reader_csv = csv.reader(csvfile)\n",
    "    i = 0\n",
    "    for row in reader_csv:\n",
    "        if i == 0:\n",
    "            i += 1\n",
    "            continue\n",
    "        else:\n",
    "            inhibs.append(row[0])"
   ]
  },
  {
   "cell_type": "code",
   "execution_count": 7,
   "id": "60d23210-f490-40d2-a007-3e9f34a2a2d6",
   "metadata": {
    "tags": []
   },
   "outputs": [],
   "source": [
    "inhib_vals = np.array(inhibs, dtype=float)"
   ]
  },
  {
   "cell_type": "code",
   "execution_count": 8,
   "id": "a81164d1-dc52-4f27-964d-63fca289e3f1",
   "metadata": {
    "tags": []
   },
   "outputs": [],
   "source": [
    "beta_vals = []\n",
    "with open(Path.cwd() / \"beta_heatmap.csv\") as csvfile: \n",
    "    reader_csv = csv.reader(csvfile)\n",
    "    i = 0\n",
    "    for row in reader_csv:\n",
    "        if i == 0:\n",
    "            i += 1\n",
    "            continue\n",
    "        else:\n",
    "            beta_vals.append(row)"
   ]
  },
  {
   "cell_type": "code",
   "execution_count": 9,
   "id": "c893d1ee-4d67-4ed2-9afd-127690e31412",
   "metadata": {
    "tags": []
   },
   "outputs": [],
   "source": [
    "beta_vals_ar = np.array(beta_vals, dtype=float)"
   ]
  },
  {
   "cell_type": "code",
   "execution_count": 10,
   "id": "82627cc4-aa02-4324-be0a-d374753b20c4",
   "metadata": {
    "tags": []
   },
   "outputs": [
    {
     "data": {
      "text/plain": [
       "array([[ 0.5  ,  3.718,  5.4  , ..., 70.756, 71.478, 72.2  ],\n",
       "       [ 0.18 ,  3.718,  5.4  , ..., 70.756, 71.478, 72.2  ],\n",
       "       [ 0.98 ,  3.718,  4.056, ..., 70.756, 71.478, 72.2  ],\n",
       "       ...,\n",
       "       [ 0.18 ,  0.55 ,  0.216, ...,  1.764,  1.782,  1.8  ],\n",
       "       [ 0.5  ,  0.198,  1.176, ...,  1.764,  1.782,  1.8  ],\n",
       "       [ 0.18 ,  0.198,  0.216, ...,  1.764,  1.782,  1.8  ]])"
      ]
     },
     "execution_count": 10,
     "metadata": {},
     "output_type": "execute_result"
    }
   ],
   "source": [
    "beta_vals_ar"
   ]
  },
  {
   "cell_type": "code",
   "execution_count": 11,
   "id": "58d7fdaf-ece4-4ae4-b13d-7a6e8f4459f2",
   "metadata": {
    "tags": []
   },
   "outputs": [],
   "source": [
    "num_ticks = 10\n",
    "# the index of the position of yticks\n",
    "yticks = np.linspace(0, len(inhib_vals) - 1, num_ticks, dtype=int)\n",
    "# the content of labels of these yticks\n",
    "yticklabels = [inhib_vals[idx] for idx in yticks]"
   ]
  },
  {
   "cell_type": "code",
   "execution_count": 12,
   "id": "8c76442b-e427-435b-adc6-17a377ed9fd8",
   "metadata": {
    "tags": []
   },
   "outputs": [],
   "source": [
    "# the index of the position of yticks\n",
    "xticks = np.linspace(1, len(Lth_vals) - 1, num_ticks, dtype=int)\n",
    "# the content of labels of these yticks\n",
    "xticklabels = [round(Lth_vals[idx]*1000000, 4) for idx in xticks]"
   ]
  },
  {
   "cell_type": "code",
   "execution_count": 13,
   "id": "392a1554-f3de-4377-82ff-451294a046af",
   "metadata": {
    "tags": []
   },
   "outputs": [],
   "source": [
    "colors = ['red', 'white', '#947CB3']\n",
    "cm = LinearSegmentedColormap.from_list(\n",
    "        'yes', colors)"
   ]
  },
  {
   "cell_type": "code",
   "execution_count": 15,
   "id": "4506ff7a-5797-4bc7-8546-18be24279014",
   "metadata": {
    "tags": []
   },
   "outputs": [
    {
     "data": {
      "image/png": "[encoded data removed]",
      "text/plain": [
       "<Figure size 500x500 with 1 Axes>"
      ]
     },
     "metadata": {},
     "output_type": "display_data"
    }
   ],
   "source": [
    "\n",
    "sns.set_context(\"notebook\", font_scale=1.1, rc={\"lines.linewidth\": 2, 'font.family': ['arial'], 'axes.linewidth':2})\n",
    "plt.subplots(figsize=(5,5))\n",
    "ax = sns.heatmap(np.transpose(heatmap_vals), xticklabels=xticklabels, cbar=False, \n",
    "                 cmap='RdBu', vmin=0, vmax=500)\n",
    "\n",
    "plt.contour(np.transpose(beta_vals_ar),levels=[6.8],linewidths=3, colors='lightblue')\n",
    "plt.gca().invert_yaxis()\n",
    "ax.set_xticks(xticks)\n",
    "ax.set_yticks(yticks)\n",
    "ax.set_yticklabels(yticklabels)\n",
    "ax.set_xticklabels(xticklabels)\n",
    "plt.xticks(rotation=0)\n",
    "\n",
    "# Drawing the frame\n",
    "ax.axhline(y = 0, color='k',linewidth = 3)\n",
    "ax.axhline(y = heatmap_vals.shape[1], color = 'k',linewidth = 3)\n",
    "ax.axvline(x = 0, color = 'k',linewidth = 2)\n",
    "ax.axvline(x = heatmap_vals.shape[0],color = 'k', linewidth = 3)\n",
    "plt.savefig(\"hill_335_paramater-screen_heatmap_beta.png\", dpi = 500, bbox_inches='tight')"
   ]
  },
  {
   "cell_type": "markdown",
   "id": "294d9e2d-c1d7-482f-ab9d-0e3df8d12d82",
   "metadata": {},
   "source": [
    "###### "
   ]
  },
  {
   "cell_type": "code",
   "execution_count": null,
   "id": "64ee4322-e416-4f0f-9154-7b19fc07f7ea",
   "metadata": {},
   "outputs": [],
   "source": []
  }
 ],
 "metadata": {
  "kernelspec": {
   "display_name": "Python 3 (ipykernel)",
   "language": "python",
   "name": "python3"
  },
  "language_info": {
   "codemirror_mode": {
    "name": "ipython",
    "version": 3
   },
   "file_extension": ".py",
   "mimetype": "text/x-python",
   "name": "python",
   "nbconvert_exporter": "python",
   "pygments_lexer": "ipython3",
   "version": "3.11.5"
  }
 },
 "nbformat": 4,
 "nbformat_minor": 5
}
