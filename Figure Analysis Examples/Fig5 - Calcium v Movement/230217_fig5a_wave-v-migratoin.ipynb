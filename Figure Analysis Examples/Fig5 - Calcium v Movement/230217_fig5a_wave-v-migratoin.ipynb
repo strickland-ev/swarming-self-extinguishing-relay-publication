{
 "cells": [
  {
   "cell_type": "code",
   "execution_count": null,
   "id": "b0522722-94bf-45c7-91b1-5c3045e116d5",
   "metadata": {},
   "outputs": [],
   "source": [
    "#Figure 5 graph plotting \n",
    "#v1.0 version, this is the first consolidation of analysis done so far\n",
    "#Requires the environment packages found in 23pubenv"
   ]
  },
  {
   "cell_type": "code",
   "execution_count": 1,
   "id": "610cea15-e327-4611-ac3f-1d3281d85ec2",
   "metadata": {
    "tags": []
   },
   "outputs": [],
   "source": [
    "from matplotlib import pyplot as plt\n",
    "from matplotlib import colors, cm\n",
    "from matplotlib.collections import LineCollection\n",
    "import numpy as np\n",
    "import pandas as pd\n",
    "from pathlib import Path\n",
    "import seaborn as sns\n",
    "import trackpy as tp\n",
    "import random as rand\n",
    "from tqdm import tqdm"
   ]
  },
  {
   "cell_type": "code",
   "execution_count": 2,
   "id": "5821066a-a7b8-4dec-be92-2a1e8e745763",
   "metadata": {
    "tags": []
   },
   "outputs": [],
   "source": [
    "def read_tuple_list(x):\n",
    "    x_strip = x.strip('()').strip('[]')\n",
    "    if len(x_strip.split(', ')) == 1:\n",
    "        return np.array(x_strip.split(), dtype=float)\n",
    "    else:\n",
    "        return np.array(x_strip.split(', '), dtype=float)"
   ]
  },
  {
   "cell_type": "code",
   "execution_count": 3,
   "id": "70816195-8ef8-4e79-96a2-234e8ad0fed6",
   "metadata": {
    "tags": []
   },
   "outputs": [],
   "source": [
    "pd.set_option('mode.chained_assignment', None)"
   ]
  },
  {
   "cell_type": "code",
   "execution_count": 5,
   "id": "29bc4c46-24e8-4dd5-ad3b-124b3475f274",
   "metadata": {
    "tags": []
   },
   "outputs": [],
   "source": [
    "#Lets import an arcos set, wave data, and the corresponding tracking data...\n",
    "#base_path = Path('/media/echo/Samsung_T5/Main Data/Analysis Sets/23 Protofigures/Data Sets/2023_01_24_main-set')\n",
    "#base_path = Path('/Volumes/Samsung_T5/Main Data/Analysis Sets/23 Protofigures/Data Sets/2023_01_24_main-set')\n",
    "base_path = Path.cwd().parent / Path('Data Sets/2023_01_24_main-set')\n",
    "\n",
    "images_folder = base_path / 'images'\n",
    "analysis_output_destination = base_path / 'wavefit_outputs'\n",
    "\n",
    "image_num = str(79)\n",
    "\n",
    "wave_df = pd.read_csv(analysis_output_destination / '{}_wave_df.csv'.format(image_num), converters={\"wave_centroid\": read_tuple_list})\n",
    "arcos_df = pd.read_csv(analysis_output_destination / '{}_ARCOS_df.csv'.format(image_num))\n",
    "tracking_df = pd.read_csv(analysis_output_destination / '{}_tracking_binned_df.csv'.format(image_num))\n"
   ]
  },
  {
   "cell_type": "code",
   "execution_count": 4,
   "id": "805cbfc6-c5d3-4f56-972a-9f79ad366d94",
   "metadata": {},
   "outputs": [],
   "source": [
    "#So track IDs and corrresponding tracks are found in tracking df, \n",
    "#The corresponding points that made the circle are in arcos df, \n",
    "#the waves to analze are in waves df, need to go from \n",
    "#WaveDF --> arcosDF --> trackingDF \n",
    "#Get centroid and radius over time from waveDF, \n",
    "#Get trackID inside wavefront from arcosDF, \n",
    "#Get track from tracking, then calc radial movement as enter wavefront? "
   ]
  },
  {
   "cell_type": "code",
   "execution_count": 6,
   "id": "44cb7e63-37ac-4a7d-b965-848b9efb9047",
   "metadata": {
    "tags": []
   },
   "outputs": [],
   "source": [
    "#Calc a stable centroid: \n",
    "#Only looking at clID that hvae waves mapped to them for now...\n",
    "\n",
    "clIDs = wave_df.clTrackID.values\n",
    "\n",
    "wave_ex = wave_df[wave_df.clTrackID == clIDs[0]]\n",
    "arcos_ex =  arcos_df[arcos_df.clTrackID == clIDs[0]]\n",
    "\n",
    "centroids = np.stack(wave_ex.wave_centroid.values, axis=0)\n",
    "mean_centroid = (np.mean(centroids[:,0]), np.mean(centroids[:,1]))"
   ]
  },
  {
   "cell_type": "code",
   "execution_count": 7,
   "id": "13d32f28-28e9-45a4-bef3-dc29569e3a5a",
   "metadata": {
    "tags": []
   },
   "outputs": [
    {
     "name": "stderr",
     "output_type": "stream",
     "text": [
      "100%|████████████████████████████████████████████████████████████████████████████████████| 36147/36147 [00:14<00:00, 2533.92it/s]\n"
     ]
    }
   ],
   "source": [
    "#get the tracks that arcos says are inside the wave...\n",
    "track_collect_all = []\n",
    "tracks_outside = []\n",
    "\n",
    "tracks = tracking_df.groupby('track_id')\n",
    "\n",
    "for i, track in tqdm(tracks): \n",
    "    if i in arcos_ex.track_id.unique():\n",
    "        track_collect_all.append(track)\n",
    "    else: \n",
    "        tracks_outside.append(track[track['timepoint'].between(arcos_ex.timepoint.min()-30, arcos_ex.timepoint.min()+61)])\n",
    "\n",
    "tracks_in_ex_wave = pd.concat(track_collect_all, ignore_index=True)\n",
    "tracks_outside_ex_wave = pd.concat(tracks_outside, ignore_index=True)"
   ]
  },
  {
   "cell_type": "code",
   "execution_count": 8,
   "id": "2e6e642c-b010-4711-9a9c-9208bad87a8c",
   "metadata": {
    "tags": []
   },
   "outputs": [
    {
     "name": "stderr",
     "output_type": "stream",
     "text": [
      "100%|███████████████████████████████████████████████████████████████████████████████████████| 3720/3720 [00:13<00:00, 274.98it/s]\n"
     ]
    }
   ],
   "source": [
    "tracks_group = tracks_in_ex_wave.groupby('track_id')\n",
    "tracks_calc = []\n",
    "\n",
    "for track_id, track in tqdm(tracks_group):\n",
    "    #Get the time, x, and y points, but DO NOT SMOOTH here. \n",
    "    #Smoothing for this aligned measurement brings forward the movement in time \n",
    "    #This confuses what we are getting at here, so do not smooth in time.\n",
    "    time = track.timepoint.values*5.0\n",
    "    \n",
    "    #Compile as coords, get the linear velocity vectors, radial vectors, distance from center of the wave, velocity, angle between velocity and center radius, Chemotactic index, and radial velocity:\n",
    "    coords = np.stack((np.array(track.x.values), np.array(track.y.values)), axis=1)\n",
    "    lin_velocity_vec = [(coords[i+1] - coords[i])/5.0 for i in range(len(coords)-1)]\n",
    "    radial_vec = [np.array([mean_centroid[0] - coords[i][0], mean_centroid[1] - coords[i][1]]) for i in range(len(coords))]\n",
    "    dist_from_center = np.linalg.norm(radial_vec, axis=1)*2.2\n",
    "    velocity = np.linalg.norm(lin_velocity_vec, axis=1)*2.2*60.0 #px/s --> um/s --> um/min\n",
    "    angles = [np.arctan2(np.linalg.norm(np.cross(radial_vec[i], lin_velocity_vec[i])), np.dot(radial_vec[i], lin_velocity_vec[i])) for i in range(len(lin_velocity_vec))]\n",
    "    cis = np.cos(angles)\n",
    "    radial_velocity = velocity*cis\n",
    "\n",
    "    #Integrate calcium signal over mean?\n",
    "    int_cal = np.sum(track['Calcium'] - track['Calcium'].mean())\n",
    "    \n",
    "    #Append the relevant parameters to the track: \n",
    "    track['radial_dist'] = dist_from_center\n",
    "    track['radial_movement'] = np.max(dist_from_center) - np.min(dist_from_center)\n",
    "    track['integrated_calcium'] = int_cal\n",
    "    track['linear_velocity'] = np.insert(velocity, 0, float('nan'), axis=0)\n",
    "    track['chemotactic_index'] = np.insert(cis, 0, float('nan'), axis=0)\n",
    "    track['radial_velocity'] = np.insert(radial_velocity, 0, float('nan'), axis=0)\n",
    "    track['wave_center_distance'] = dist_from_center\n",
    "    track['max_calcium'] = track['Calcium'].max()\n",
    "    track['real_time'] = (5.0/60.0)*(track.timepoint.values - arcos_ex.timepoint.min())\n",
    "    tracks_calc.append(track)\n",
    "    \n",
    "ex_first_wave_tracks_calculated_df = pd.concat(tracks_calc, ignore_index=True)"
   ]
  },
  {
   "cell_type": "code",
   "execution_count": 9,
   "id": "4b3f7465-4274-4eb1-a805-92944c272ebc",
   "metadata": {
    "tags": []
   },
   "outputs": [
    {
     "name": "stderr",
     "output_type": "stream",
     "text": [
      "100%|█████████████████████████████████████████████████████████████████████████████████████| 11169/11169 [00:42<00:00, 260.06it/s]\n"
     ]
    }
   ],
   "source": [
    "tracks_group_outside = tracks_outside_ex_wave.groupby('track_id')\n",
    "tracks_calc_outside = []\n",
    "\n",
    "for track_id, track in tqdm(tracks_group_outside):\n",
    "    #Get the time, x, and y points, but DO NOT SMOOTH here. \n",
    "    #Smoothing for this aligned measurement brings forward the movement in time \n",
    "    #This confuses what we are getting at here, so do not smooth in time.\n",
    "    \n",
    "    #Screen for stubs: \n",
    "    if len(track) > 10:\n",
    "        time = track.timepoint.values*5.0\n",
    "\n",
    "        #Compile as coords, get the linear velocity vectors, radial vectors, distance from center of the wave, velocity, angle between velocity and center radius, Chemotactic index, and radial velocity:\n",
    "        coords = np.stack((np.array(track.x.values), np.array(track.y.values)), axis=1)\n",
    "        lin_velocity_vec = [(coords[i+1] - coords[i])/5.0 for i in range(len(coords)-1)]\n",
    "        radial_vec = [np.array([mean_centroid[0] - coords[i][0], mean_centroid[1] - coords[i][1]]) for i in range(len(coords))]\n",
    "        dist_from_center = np.linalg.norm(radial_vec, axis=1)*2.2\n",
    "        velocity = np.linalg.norm(lin_velocity_vec, axis=1)*2.2*60.0 #px/s --> um/s --> um/min\n",
    "        angles = [np.arctan2(np.linalg.norm(np.cross(radial_vec[i], lin_velocity_vec[i])), np.dot(radial_vec[i], lin_velocity_vec[i])) for i in range(len(lin_velocity_vec))]\n",
    "        cis = np.cos(angles)\n",
    "        radial_velocity = velocity*cis\n",
    "\n",
    "        #Integrate calcium signal over mean?\n",
    "        int_cal = np.sum(track['Calcium'] - track['Calcium'].mean())\n",
    "\n",
    "        #Append the relevant parameters to the track: \n",
    "        track['radial_dist'] = dist_from_center\n",
    "        track['radial_movement'] = np.max(dist_from_center) - np.min(dist_from_center)\n",
    "        track['integrated_calcium'] = int_cal\n",
    "        track['linear_velocity'] = np.insert(velocity, 0, float('nan'), axis=0)\n",
    "        track['chemotactic_index'] = np.insert(cis, 0, float('nan'), axis=0)\n",
    "        track['radial_velocity'] = np.insert(radial_velocity, 0, float('nan'), axis=0)\n",
    "        track['wave_center_distance'] = dist_from_center\n",
    "        track['max_calcium'] = track['Calcium'].max()\n",
    "        track['real_time'] = (5.0/60.0)*(track.timepoint.values - arcos_ex.timepoint.min())\n",
    "        tracks_calc_outside.append(track)\n",
    "    \n",
    "ex_first_wave_outside_tracks_calculated_df = pd.concat(tracks_calc_outside, ignore_index=True)"
   ]
  },
  {
   "cell_type": "code",
   "execution_count": 10,
   "id": "9c9bda5e-b11a-41a7-a629-db36ca966897",
   "metadata": {
    "tags": []
   },
   "outputs": [],
   "source": [
    "arcos_times = arcos_ex.groupby('timepoint')\n",
    "tracks_group = ex_first_wave_tracks_calculated_df.groupby('track_id')\n",
    "\n",
    "tracks_calc_aligned = []\n",
    "tracks_counted = []\n",
    "starting_val = []\n",
    "\n",
    "for t, wave_slice in arcos_times:\n",
    "    for tr_id in wave_slice.track_id:\n",
    "        if tr_id in tracks_counted:\n",
    "            continue\n",
    "        else:\n",
    "            track_to_adj = tracks_group.get_group(tr_id)\n",
    "            #Check if already close to target:\n",
    "            if track_to_adj.wave_center_distance.values[0] < 40:\n",
    "                #If so, toss and count it as adjusted, toss track\n",
    "                tracks_counted.append(tr_id)\n",
    "            else:\n",
    "                track_to_adj['aligned_time'] = (5.0/60.0)*(track_to_adj.timepoint.values - t)\n",
    "                \n",
    "                #Check to make sure there are at least 2.5min (30frames) before and after calcium pulse inclusion:\n",
    "                before = track_to_adj.aligned_time[track_to_adj.aligned_time < 0].count()\n",
    "                after = track_to_adj.aligned_time[track_to_adj.aligned_time > 0].count()\n",
    "                if before >= 30 and after >= 30:\n",
    "                    tracks_counted.append(tr_id)\n",
    "                    tracks_calc_aligned.append(track_to_adj)\n",
    "                else:\n",
    "                    tracks_counted.append(tr_id)\n",
    "\n",
    "tracks_calc_aligned_df = pd.concat(tracks_calc_aligned, ignore_index=True)"
   ]
  },
  {
   "cell_type": "code",
   "execution_count": 11,
   "id": "4f36ab77-95b3-4603-b81f-16a6d42ae2c5",
   "metadata": {
    "tags": []
   },
   "outputs": [],
   "source": [
    "sns.set_context(\"notebook\", font_scale=1, rc={\"lines.linewidth\": 2, 'font.family': ['arial'], 'axes.linewidth':2})"
   ]
  },
  {
   "cell_type": "code",
   "execution_count": 13,
   "id": "5975785a-d4b0-40b2-9461-effeb387d120",
   "metadata": {
    "tags": []
   },
   "outputs": [
    {
     "name": "stderr",
     "output_type": "stream",
     "text": [
      "/Users/echo/miniconda3/envs/23pubenv/lib/python3.11/site-packages/seaborn/_oldcore.py:1498: FutureWarning: is_categorical_dtype is deprecated and will be removed in a future version. Use isinstance(dtype, CategoricalDtype) instead\n",
      "  if pd.api.types.is_categorical_dtype(vector):\n",
      "/Users/echo/miniconda3/envs/23pubenv/lib/python3.11/site-packages/seaborn/_oldcore.py:1498: FutureWarning: is_categorical_dtype is deprecated and will be removed in a future version. Use isinstance(dtype, CategoricalDtype) instead\n",
      "  if pd.api.types.is_categorical_dtype(vector):\n",
      "/Users/echo/miniconda3/envs/23pubenv/lib/python3.11/site-packages/seaborn/_oldcore.py:1119: FutureWarning: use_inf_as_na option is deprecated and will be removed in a future version. Convert inf values to NaN before operating instead.\n",
      "  with pd.option_context('mode.use_inf_as_na', True):\n",
      "/Users/echo/miniconda3/envs/23pubenv/lib/python3.11/site-packages/seaborn/_oldcore.py:1119: FutureWarning: use_inf_as_na option is deprecated and will be removed in a future version. Convert inf values to NaN before operating instead.\n",
      "  with pd.option_context('mode.use_inf_as_na', True):\n"
     ]
    },
    {
     "data": {
      "image/png": "[encoded data removed]",
      "text/plain": [
       "<Figure size 300x300 with 1 Axes>"
      ]
     },
     "metadata": {},
     "output_type": "display_data"
    }
   ],
   "source": [
    "plt.figure(figsize=(3,3))\n",
    "sns.lineplot(data=tracks_calc_aligned_df, x='aligned_time', y='radial_velocity', color=\"#B54845\")\n",
    "plt.xlim(-2.5,2.5)\n",
    "plt.ylim(-1,4.5)\n",
    "plt.vlines(x=0,ymin=-2,ymax=14, colors='#628BBD',linestyles='dashed')\n",
    "plt.xlabel('')\n",
    "plt.ylabel('')\n",
    "plt.savefig('fig5-im79-w0-ex-aligned-movement.png', dpi=300, bbox_inches='tight')"
   ]
  },
  {
   "cell_type": "code",
   "execution_count": 14,
   "id": "d09e9ad0-f34d-4fda-81be-f2340c12ef0f",
   "metadata": {
    "tags": []
   },
   "outputs": [
    {
     "name": "stdout",
     "output_type": "stream",
     "text": [
      "Number of tracks here is 1758\n"
     ]
    }
   ],
   "source": [
    "print('Number of tracks here is {}'.format(str(len(tracks_calc_aligned_df.track_id.unique()))))"
   ]
  },
  {
   "cell_type": "code",
   "execution_count": 15,
   "id": "98cc567f-822b-40da-8f78-b4f5ac3a5598",
   "metadata": {
    "tags": []
   },
   "outputs": [],
   "source": [
    "tracks_calc_aligned_df['real_time'] = (5.0/60.0)*(tracks_calc_aligned_df['timepoint'] - arcos_ex.timepoint.min())"
   ]
  },
  {
   "cell_type": "code",
   "execution_count": 16,
   "id": "a696691b-b683-4178-ad75-cfc40d9118c7",
   "metadata": {
    "tags": []
   },
   "outputs": [
    {
     "name": "stderr",
     "output_type": "stream",
     "text": [
      "/Users/echo/miniconda3/envs/23pubenv/lib/python3.11/site-packages/seaborn/_oldcore.py:1498: FutureWarning: is_categorical_dtype is deprecated and will be removed in a future version. Use isinstance(dtype, CategoricalDtype) instead\n",
      "  if pd.api.types.is_categorical_dtype(vector):\n",
      "/Users/echo/miniconda3/envs/23pubenv/lib/python3.11/site-packages/seaborn/_oldcore.py:1498: FutureWarning: is_categorical_dtype is deprecated and will be removed in a future version. Use isinstance(dtype, CategoricalDtype) instead\n",
      "  if pd.api.types.is_categorical_dtype(vector):\n",
      "/Users/echo/miniconda3/envs/23pubenv/lib/python3.11/site-packages/seaborn/_oldcore.py:1119: FutureWarning: use_inf_as_na option is deprecated and will be removed in a future version. Convert inf values to NaN before operating instead.\n",
      "  with pd.option_context('mode.use_inf_as_na', True):\n",
      "/Users/echo/miniconda3/envs/23pubenv/lib/python3.11/site-packages/seaborn/_oldcore.py:1119: FutureWarning: use_inf_as_na option is deprecated and will be removed in a future version. Convert inf values to NaN before operating instead.\n",
      "  with pd.option_context('mode.use_inf_as_na', True):\n",
      "/Users/echo/miniconda3/envs/23pubenv/lib/python3.11/site-packages/seaborn/_oldcore.py:1498: FutureWarning: is_categorical_dtype is deprecated and will be removed in a future version. Use isinstance(dtype, CategoricalDtype) instead\n",
      "  if pd.api.types.is_categorical_dtype(vector):\n",
      "/Users/echo/miniconda3/envs/23pubenv/lib/python3.11/site-packages/seaborn/_oldcore.py:1498: FutureWarning: is_categorical_dtype is deprecated and will be removed in a future version. Use isinstance(dtype, CategoricalDtype) instead\n",
      "  if pd.api.types.is_categorical_dtype(vector):\n",
      "/Users/echo/miniconda3/envs/23pubenv/lib/python3.11/site-packages/seaborn/_oldcore.py:1119: FutureWarning: use_inf_as_na option is deprecated and will be removed in a future version. Convert inf values to NaN before operating instead.\n",
      "  with pd.option_context('mode.use_inf_as_na', True):\n",
      "/Users/echo/miniconda3/envs/23pubenv/lib/python3.11/site-packages/seaborn/_oldcore.py:1119: FutureWarning: use_inf_as_na option is deprecated and will be removed in a future version. Convert inf values to NaN before operating instead.\n",
      "  with pd.option_context('mode.use_inf_as_na', True):\n"
     ]
    },
    {
     "data": {
      "text/plain": [
       "Text(0, 0.5, '')"
      ]
     },
     "execution_count": 16,
     "metadata": {},
     "output_type": "execute_result"
    },
    {
     "data": {
      "image/png": "[encoded data removed]",
      "text/plain": [
       "<Figure size 300x300 with 1 Axes>"
      ]
     },
     "metadata": {},
     "output_type": "display_data"
    }
   ],
   "source": [
    "plt.figure(figsize=(3,3))\n",
    "sns.lineplot(data=ex_first_wave_tracks_calculated_df, x='real_time', y='radial_velocity', color=\"#B54845\")\n",
    "sns.lineplot(data=ex_first_wave_outside_tracks_calculated_df, x='real_time', y='radial_velocity', color='grey')\n",
    "plt.xlim(-2.0,5.0)\n",
    "plt.ylim(-1,5.5)\n",
    "plt.vlines(x=0,ymin=-2,ymax=14, colors='#628BBD',linestyles='dashed')\n",
    "plt.xlabel('')\n",
    "plt.ylabel('')\n",
    "#plt.savefig('supp5a-aligned-on-wave-start-compare-inside-outside.png', dpi = 300, bbox_inches='tight')"
   ]
  },
  {
   "cell_type": "code",
   "execution_count": 17,
   "id": "6fdb0358-6f89-4d61-9ae3-618ce6b85b4f",
   "metadata": {
    "tags": []
   },
   "outputs": [
    {
     "name": "stdout",
     "output_type": "stream",
     "text": [
      "Tracks Inside: 3720\n",
      "Tracks Outside: 9907\n"
     ]
    }
   ],
   "source": [
    "print('Tracks Inside: {}'.format(ex_first_wave_tracks_calculated_df.track_id.nunique()))\n",
    "print('Tracks Outside: {}'.format(ex_first_wave_outside_tracks_calculated_df.track_id.nunique()))"
   ]
  }
 ],
 "metadata": {
  "kernelspec": {
   "display_name": "Python 3 (ipykernel)",
   "language": "python",
   "name": "python3"
  },
  "language_info": {
   "codemirror_mode": {
    "name": "ipython",
    "version": 3
   },
   "file_extension": ".py",
   "mimetype": "text/x-python",
   "name": "python",
   "nbconvert_exporter": "python",
   "pygments_lexer": "ipython3",
   "version": "3.11.5"
  }
 },
 "nbformat": 4,
 "nbformat_minor": 5
}
