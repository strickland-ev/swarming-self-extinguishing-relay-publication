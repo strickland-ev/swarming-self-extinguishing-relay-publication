{
 "cells": [
  {
   "cell_type": "code",
   "execution_count": 1,
   "id": "28359d34-8e93-40b1-a2e8-bd7c2d08c0eb",
   "metadata": {
    "tags": []
   },
   "outputs": [],
   "source": [
    "#Figure 5 graph plotting \n",
    "#v1.0 version, this is the first consolidation of analysis done so far\n",
    "#Requires the environment packages found in 23pubenv"
   ]
  },
  {
   "cell_type": "code",
   "execution_count": 1,
   "id": "86bdd098-b468-4b73-8862-96a0208e4260",
   "metadata": {
    "tags": []
   },
   "outputs": [],
   "source": [
    "#Basic importing set: \n",
    "import numpy as np\n",
    "import pandas as pd\n",
    "from matplotlib import pyplot as plt\n",
    "import seaborn as sns\n",
    "from tqdm import tqdm\n",
    "from pathlib import Path\n",
    "import statsmodels.api as sm\n",
    "\n",
    "#Image Tools:\n",
    "from tifffile import TiffFile, TiffWriter\n",
    "from skimage.measure import regionprops as rgnprops"
   ]
  },
  {
   "cell_type": "code",
   "execution_count": 2,
   "id": "f5bca2b4-de25-4529-a82a-dcb75651277c",
   "metadata": {
    "tags": []
   },
   "outputs": [],
   "source": [
    "#To consolodate all the wave dataframes in a set, use the following function: \n",
    "#INPUT: Sorted list of all wave dataframe csv locations:\n",
    "#Option to save the DF as a csv in the relevant location is given, default is False\n",
    "#OUTPUT: A dataframe containing all of the csv wave DFs in the path list\n",
    "\n",
    "def consolidate_waves(WAVE_DF_PATHS, save_DF = False):\n",
    "    \n",
    "    wave_collect = []\n",
    "\n",
    "    for wave_df_path in tqdm(WAVE_DF_PATHS):\n",
    "        img_id = int(wave_df_path.stem.split('_')[0]) #Get the image ID to match to the wave:\n",
    "        wave_df = pd.read_csv(wave_df_path, converters={\"wave_centroid\": read_tuple_list}) #Open the wave_DF from step4 analysis\n",
    "        wave_df = wave_df[wave_df.columns.drop(list(wave_df.filter(regex='Unnamed')))] #Strip it of any weird unnamed index columns\n",
    "        track_ids = wave_df['clTrackID'].values #Get the collective track values in the wave\n",
    "        wave_df['wave_ID'] = [str(img_id) + '-' + str(i) for i in track_ids] #Build a list of unique wave IDs from the image number and clTrack number they belong to\n",
    "        wave_df['image_ID'] = [img_id for i in range(len(wave_df))]\n",
    "        wave_collect.append(wave_df)\n",
    "    \n",
    "    wave_df_collected = pd.concat(wave_collect, ignore_index=True)\n",
    "    \n",
    "    if save_DF:\n",
    "        wave_df_collected.to_csv(WAVE_DF_PATHS[0].parent / 'combined_wave_DF.csv', index=False)\n",
    "        \n",
    "    return wave_df_collected\n",
    "\n",
    "#Custom function to read in centroid arrays into dataframe instead of as a string: \n",
    "def read_tuple_list(x):\n",
    "    x_strip = x.strip('()').strip('[]')\n",
    "    if len(x_strip.split(', ')) == 1:\n",
    "        return np.array(x_strip.split(), dtype=float)\n",
    "    else:\n",
    "        return np.array(x_strip.split(', '), dtype=float)"
   ]
  },
  {
   "cell_type": "code",
   "execution_count": 3,
   "id": "dba3faa3-9e50-4d82-a57b-ec3149573b08",
   "metadata": {
    "tags": []
   },
   "outputs": [
    {
     "name": "stderr",
     "output_type": "stream",
     "text": [
      "100%|███████████████████████████████████████████████████████████████████████████████████████████████████████████| 57/57 [00:00<00:00, 653.98it/s]\n"
     ]
    }
   ],
   "source": [
    "#Lets start by importing the meta dataframe and then pairing them to the wavefile csvs we want to analyze. \n",
    "#analysis_set = Path('/media/echo/Samsung_T5/Main Data/Analysis Sets/2022_06_01_Set')\n",
    "\n",
    "base_path = Path.cwd().parent / Path('Data Sets/2023_01_24_main-set/')\n",
    "meta_df_path = base_path / 'analysis_DF.csv'\n",
    "analysis_output_destination = base_path / 'wavefit_outputs'\n",
    "\n",
    "#There are three important dataframes used in analysis, the wave data frame, the ARCOS df, and the tracking df with binnned calcium values:\n",
    "#The tracking is the most broad, followed by ARCOS and then the wave (most abstracted info):\n",
    "wave_dataframe_paths = sorted(analysis_output_destination.glob('*_wave_df.csv'), key=lambda x: x.stem.split('_')[0])\n",
    "meta_DF = pd.read_csv(meta_df_path)\n",
    "wave_con_df = consolidate_waves(wave_dataframe_paths)"
   ]
  },
  {
   "cell_type": "code",
   "execution_count": 4,
   "id": "e6cd7254-764d-450a-8f85-e1290e39f4bd",
   "metadata": {
    "tags": []
   },
   "outputs": [],
   "source": [
    "image_file_loc = base_path / 'images'\n",
    "seg_file_loc = base_path / 'segmented_nuclei'\n",
    "\n",
    "image_list = sorted(image_file_loc.glob('[!.]*.tif'),  key=lambda x: x.stem.split('_')[0])\n",
    "seg_list = sorted(seg_file_loc.glob('[!.]*.tif'),  key=lambda x: x.stem.split('_')[0])\n"
   ]
  },
  {
   "cell_type": "code",
   "execution_count": 5,
   "id": "d4823bc0-49ac-4fc4-90d4-b726b3cb0010",
   "metadata": {
    "tags": []
   },
   "outputs": [
    {
     "name": "stderr",
     "output_type": "stream",
     "text": [
      "/Users/echo/miniconda3/envs/23pubenv/lib/python3.11/site-packages/seaborn/_oldcore.py:1498: FutureWarning: is_categorical_dtype is deprecated and will be removed in a future version. Use isinstance(dtype, CategoricalDtype) instead\n",
      "  if pd.api.types.is_categorical_dtype(vector):\n",
      "/Users/echo/miniconda3/envs/23pubenv/lib/python3.11/site-packages/seaborn/_oldcore.py:1498: FutureWarning: is_categorical_dtype is deprecated and will be removed in a future version. Use isinstance(dtype, CategoricalDtype) instead\n",
      "  if pd.api.types.is_categorical_dtype(vector):\n",
      "/Users/echo/miniconda3/envs/23pubenv/lib/python3.11/site-packages/seaborn/_oldcore.py:1498: FutureWarning: is_categorical_dtype is deprecated and will be removed in a future version. Use isinstance(dtype, CategoricalDtype) instead\n",
      "  if pd.api.types.is_categorical_dtype(vector):\n",
      "/Users/echo/miniconda3/envs/23pubenv/lib/python3.11/site-packages/seaborn/_oldcore.py:1498: FutureWarning: is_categorical_dtype is deprecated and will be removed in a future version. Use isinstance(dtype, CategoricalDtype) instead\n",
      "  if pd.api.types.is_categorical_dtype(vector):\n"
     ]
    },
    {
     "data": {
      "text/plain": [
       "Text(0.5, 0, '')"
      ]
     },
     "execution_count": 5,
     "metadata": {},
     "output_type": "execute_result"
    },
    {
     "data": {
      "image/png": "[encoded data removed]",
      "text/plain": [
       "<Figure size 500x400 with 1 Axes>"
      ]
     },
     "metadata": {},
     "output_type": "display_data"
    }
   ],
   "source": [
    "wave_threshold_DF = wave_con_df[wave_con_df['circle_radius'] > 100]\n",
    "\n",
    "num_v_den = pd.merge(wave_threshold_DF.groupby('image_ID').cell_density.mean(), wave_threshold_DF.groupby('image_ID').wave_ID.nunique(), right_index=True, left_index=True)\n",
    "represenative_pts = num_v_den.loc[[84, 65, 79]]\n",
    "\n",
    "#sns.scatterplot(data=num_v_den, x='cell_density', y='wave_ID')\n",
    "sns.set_context(\"notebook\", font_scale=1, rc={\"lines.linewidth\": 2, 'font.family': ['arial'], 'axes.linewidth':2})\n",
    "plt.figure(figsize=(5,4))\n",
    "sns.scatterplot(data = num_v_den, x='cell_density', y='wave_ID', s=75, linewidth=2, color='grey', alpha=0.8, legend=False)\n",
    "sns.regplot(data= num_v_den, x='cell_density', y='wave_ID', scatter_kws={'alpha':0}, line_kws={'color':'black', 'linestyle':'--'})\n",
    "sns.scatterplot(data = represenative_pts, x='cell_density', y='wave_ID', s=75, linewidth=2, color='red', alpha=0.8, legend=False)\n",
    "plt.ylabel('')\n",
    "plt.xlabel('')\n",
    "#plt.savefig('fig5-density-v-wave-number.png', dpi=300, bbox_inches='tight')\n"
   ]
  },
  {
   "cell_type": "code",
   "execution_count": 6,
   "id": "3ade9a16-0d0f-4aa9-8540-b7d4cc9b4aff",
   "metadata": {
    "tags": []
   },
   "outputs": [
    {
     "name": "stdout",
     "output_type": "stream",
     "text": [
      "                            OLS Regression Results                            \n",
      "==============================================================================\n",
      "Dep. Variable:                      y   R-squared:                       0.130\n",
      "Model:                            OLS   Adj. R-squared:                  0.114\n",
      "Method:                 Least Squares   F-statistic:                     8.214\n",
      "Date:                Mon, 12 Feb 2024   Prob (F-statistic):            0.00588\n",
      "Time:                        18:45:08   Log-Likelihood:                -123.62\n",
      "No. Observations:                  57   AIC:                             251.2\n",
      "Df Residuals:                      55   BIC:                             255.3\n",
      "Df Model:                           1                                         \n",
      "Covariance Type:            nonrobust                                         \n",
      "==============================================================================\n",
      "                 coef    std err          t      P>|t|      [0.025      0.975]\n",
      "------------------------------------------------------------------------------\n",
      "const          7.4269      0.639     11.629      0.000       6.147       8.707\n",
      "x1            -0.0002   7.96e-05     -2.866      0.006      -0.000   -6.86e-05\n",
      "==============================================================================\n",
      "Omnibus:                        2.807   Durbin-Watson:                   1.683\n",
      "Prob(Omnibus):                  0.246   Jarque-Bera (JB):                1.557\n",
      "Skew:                           0.016   Prob(JB):                        0.459\n",
      "Kurtosis:                       2.191   Cond. No.                     1.79e+04\n",
      "==============================================================================\n",
      "\n",
      "Notes:\n",
      "[1] Standard Errors assume that the covariance matrix of the errors is correctly specified.\n",
      "[2] The condition number is large, 1.79e+04. This might indicate that there are\n",
      "strong multicollinearity or other numerical problems.\n"
     ]
    }
   ],
   "source": [
    "fit_xs_5numvden = num_v_den['cell_density'].values\n",
    "fit_xs_5numvden = sm.add_constant(fit_xs_5numvden)\n",
    "fit_ys_5numvden = num_v_den['wave_ID'].values\n",
    "model_5numvden = sm.OLS(fit_ys_5numvden,fit_xs_5numvden)\n",
    "results_5numvden = model_5numvden.fit()\n",
    "print(results_5numvden.summary())"
   ]
  },
  {
   "cell_type": "code",
   "execution_count": 7,
   "id": "14fe86a5-8950-4282-84ef-b33bc496f992",
   "metadata": {
    "tags": []
   },
   "outputs": [
    {
     "data": {
      "text/html": [
       "<div>\n",
       "<style scoped>\n",
       "    .dataframe tbody tr th:only-of-type {\n",
       "        vertical-align: middle;\n",
       "    }\n",
       "\n",
       "    .dataframe tbody tr th {\n",
       "        vertical-align: top;\n",
       "    }\n",
       "\n",
       "    .dataframe thead th {\n",
       "        text-align: right;\n",
       "    }\n",
       "</style>\n",
       "<table border=\"1\" class=\"dataframe\">\n",
       "  <thead>\n",
       "    <tr style=\"text-align: right;\">\n",
       "      <th></th>\n",
       "      <th>cell_density</th>\n",
       "      <th>wave_ID</th>\n",
       "    </tr>\n",
       "    <tr>\n",
       "      <th>image_ID</th>\n",
       "      <th></th>\n",
       "      <th></th>\n",
       "    </tr>\n",
       "  </thead>\n",
       "  <tbody>\n",
       "    <tr>\n",
       "      <th>84</th>\n",
       "      <td>2368.716849</td>\n",
       "      <td>7</td>\n",
       "    </tr>\n",
       "  </tbody>\n",
       "</table>\n",
       "</div>"
      ],
      "text/plain": [
       "          cell_density  wave_ID\n",
       "image_ID                       \n",
       "84         2368.716849        7"
      ]
     },
     "execution_count": 7,
     "metadata": {},
     "output_type": "execute_result"
    }
   ],
   "source": [
    "#Can find waves in a range of final radii, look at density to find representative examples. \n",
    "wave_number_group = num_v_den[num_v_den['wave_ID'].between(7,9)]\n",
    "wave_number_group[wave_number_group['cell_density'].between(2000,3000)]\n",
    "#First represenative example is image 84"
   ]
  },
  {
   "cell_type": "code",
   "execution_count": 12,
   "id": "07eea1ce-9fc1-4e50-b2c4-04f48fa073de",
   "metadata": {
    "tags": []
   },
   "outputs": [],
   "source": [
    "#Get the file path for the wanted image: \n",
    "image_number = 84\n",
    "im_name = image_list[52] #Image 84\n",
    "#Get the waves for the image number wanted\n",
    "ex_waves_in_image = wave_con_df[wave_con_df['image_ID']==image_number]\n",
    "waves_above_threshold = ex_waves_in_image.groupby('clTrackID').circle_radius.max() > 100\n",
    "waves_above_threshold = ex_waves_in_image.set_index('clTrackID').loc[waves_above_threshold[waves_above_threshold].index]\n",
    "\n",
    "ca_wave_collect = []\n",
    "#Get the corresponding segmented nuclei file:\n",
    "\n",
    "ca_means = []\n",
    "times = []\n",
    "\n",
    "#Loop through the opened image file, get the mean of the calcium channel instensity\n",
    "\n",
    "with TiffFile(im_name) as im:\n",
    "    pages = im.pages\n",
    "    j = 0\n",
    "    t = 0\n",
    "\n",
    "    for page in pages:\n",
    "        if j%2 == 0:\n",
    "            im_pg = page.asarray()\n",
    "            ca_m = im_pg.mean()\n",
    "            times.append(t)\n",
    "            ca_means.append(ca_m)\n",
    "            j += 1\n",
    "            t += 1\n",
    "        else:\n",
    "            j += 1\n"
   ]
  },
  {
   "cell_type": "code",
   "execution_count": 19,
   "id": "1bc06a5c-9e2e-4d32-97cf-9a61996845ea",
   "metadata": {},
   "outputs": [
    {
     "name": "stdout",
     "output_type": "stream",
     "text": [
      "['84-6' '84-11' '84-25' '84-30' '84-34' '84-38' '84-39']\n",
      "['84-6' '84-11' '84-25' '84-30' '84-34' '84-38' '84-39']\n"
     ]
    }
   ],
   "source": [
    "print(ex_waves_in_image['wave_ID'].unique())\n",
    "print(waves_above_threshold['wave_ID'].unique())"
   ]
  },
  {
   "cell_type": "code",
   "execution_count": 20,
   "id": "b13699c2-9b28-4329-8770-05b25b58e35d",
   "metadata": {
    "tags": []
   },
   "outputs": [
    {
     "data": {
      "text/plain": [
       "(313.10533155119924, 335.0)"
      ]
     },
     "execution_count": 20,
     "metadata": {},
     "output_type": "execute_result"
    },
    {
     "data": {
      "image/png": "[encoded data removed]",
      "text/plain": [
       "<Figure size 400x300 with 1 Axes>"
      ]
     },
     "metadata": {},
     "output_type": "display_data"
    }
   ],
   "source": [
    "sns.set_context(\"notebook\", font_scale=1, rc={\"lines.linewidth\": 2, 'font.family': ['arial'], 'axes.linewidth':2})\n",
    "\n",
    "initial_timepoint = ex_waves_in_image.timepoint.min()\n",
    "pre_waves_time = initial_timepoint - 12\n",
    "\n",
    "calcium_activity_window = ca_means[pre_waves_time:]\n",
    "min_cal_signal = min(calcium_activity_window)\n",
    "real_time_array = (np.array(range(len(calcium_activity_window)))*5.0)/60.0\n",
    "\n",
    "fig, ax = plt.subplots(figsize=(4,3))\n",
    "ax.plot(real_time_array, calcium_activity_window, color='k')\n",
    "\n",
    "for wid, wave in ex_waves_in_image.groupby('wave_ID'):\n",
    "    wave_start_time = (wave.timepoint.min() - pre_waves_time)*5.0/60.0\n",
    "    wave_end_time = (wave.timepoint.max() - pre_waves_time)*5.0/60.0\n",
    "    ax.fill_between(real_time_array, min_cal_signal, calcium_activity_window, where=np.logical_and(wave_end_time>real_time_array, real_time_array>wave_start_time), color='magenta', alpha=0.5)\n",
    "\n",
    "plt.xlim(-1,30)\n",
    "plt.ylim(min_cal_signal,335)\n",
    "#plt.savefig('calcium_traces/sup-fig4-density-v-wavenum_calcium-arcos-events_image{}.png'.format(image_number), dpi=300, bbox_inches='tight')"
   ]
  },
  {
   "cell_type": "code",
   "execution_count": 21,
   "id": "2dc0a4a4-362d-4bc4-af24-1024fa75a3ba",
   "metadata": {
    "tags": []
   },
   "outputs": [
    {
     "data": {
      "text/html": [
       "<div>\n",
       "<style scoped>\n",
       "    .dataframe tbody tr th:only-of-type {\n",
       "        vertical-align: middle;\n",
       "    }\n",
       "\n",
       "    .dataframe tbody tr th {\n",
       "        vertical-align: top;\n",
       "    }\n",
       "\n",
       "    .dataframe thead th {\n",
       "        text-align: right;\n",
       "    }\n",
       "</style>\n",
       "<table border=\"1\" class=\"dataframe\">\n",
       "  <thead>\n",
       "    <tr style=\"text-align: right;\">\n",
       "      <th></th>\n",
       "      <th>cell_density</th>\n",
       "      <th>wave_ID</th>\n",
       "    </tr>\n",
       "    <tr>\n",
       "      <th>image_ID</th>\n",
       "      <th></th>\n",
       "      <th></th>\n",
       "    </tr>\n",
       "  </thead>\n",
       "  <tbody>\n",
       "    <tr>\n",
       "      <th>65</th>\n",
       "      <td>8867.214133</td>\n",
       "      <td>5</td>\n",
       "    </tr>\n",
       "  </tbody>\n",
       "</table>\n",
       "</div>"
      ],
      "text/plain": [
       "          cell_density  wave_ID\n",
       "image_ID                       \n",
       "65         8867.214133        5"
      ]
     },
     "execution_count": 21,
     "metadata": {},
     "output_type": "execute_result"
    }
   ],
   "source": [
    "#Can find waves in a range of final radii, look at density to find representative examples. \n",
    "wave_number_group = num_v_den[num_v_den['wave_ID'].between(4,5)]\n",
    "wave_number_group[wave_number_group['cell_density'].between(8000,9000)]\n",
    "#First represenative example is image 65"
   ]
  },
  {
   "cell_type": "code",
   "execution_count": 22,
   "id": "ef148d9a-3f90-429d-8b15-4326adbaa492",
   "metadata": {
    "tags": []
   },
   "outputs": [],
   "source": [
    "#Get the file path for the wanted image: \n",
    "image_number = 65\n",
    "im_name = image_list[33] #Image 65\n",
    "#Get the waves for the image number wanted above the minimum threshold\n",
    "ex_waves_in_image = wave_con_df[wave_con_df['image_ID']==image_number]\n",
    "waves_above_threshold = ex_waves_in_image.groupby('clTrackID').circle_radius.max() > 100\n",
    "waves_above_threshold = ex_waves_in_image.set_index('clTrackID').loc[waves_above_threshold[waves_above_threshold].index]\n",
    "\n",
    "ca_wave_collect = []\n",
    "#Get the corresponding segmented nuclei file:\n",
    "\n",
    "ca_means = []\n",
    "times = []\n",
    "\n",
    "#Loop through the opened image file, get the mean of the calcium channel instensity\n",
    "\n",
    "with TiffFile(im_name) as im:\n",
    "    pages = im.pages\n",
    "    j = 0\n",
    "    t = 0\n",
    "\n",
    "    for page in pages:\n",
    "        if j%2 == 0:\n",
    "            im_pg = page.asarray()\n",
    "            ca_m = im_pg.mean()\n",
    "            times.append(t)\n",
    "            ca_means.append(ca_m)\n",
    "            j += 1\n",
    "            t += 1\n",
    "        else:\n",
    "            j += 1\n"
   ]
  },
  {
   "cell_type": "code",
   "execution_count": 24,
   "id": "6e73a2f9-ddf4-4c5b-88a2-0e47498f54bc",
   "metadata": {
    "tags": []
   },
   "outputs": [
    {
     "data": {
      "text/plain": [
       "(383.92215539219325, 407.0)"
      ]
     },
     "execution_count": 24,
     "metadata": {},
     "output_type": "execute_result"
    },
    {
     "data": {
      "image/png": "[encoded data removed]",
      "text/plain": [
       "<Figure size 400x300 with 1 Axes>"
      ]
     },
     "metadata": {},
     "output_type": "display_data"
    }
   ],
   "source": [
    "sns.set_context(\"notebook\", font_scale=1, rc={\"lines.linewidth\": 2, 'font.family': ['arial'], 'axes.linewidth':2})\n",
    "\n",
    "initial_timepoint = ex_waves_in_image.timepoint.min()\n",
    "pre_waves_time = initial_timepoint - 12\n",
    "\n",
    "calcium_activity_window = ca_means[pre_waves_time:]\n",
    "min_cal_signal = min(calcium_activity_window)\n",
    "real_time_array = (np.array(range(len(calcium_activity_window)))*5.0)/60.0\n",
    "\n",
    "fig, ax = plt.subplots(figsize=(4,3))\n",
    "ax.plot(real_time_array, calcium_activity_window, color='k')\n",
    "\n",
    "for wid, wave in waves_above_threshold.groupby('wave_ID'):\n",
    "    wave_start_time = (wave.timepoint.min() - pre_waves_time)*5.0/60.0\n",
    "    wave_end_time = (wave.timepoint.max() - pre_waves_time)*5.0/60.0\n",
    "    ax.fill_between(real_time_array, min_cal_signal, calcium_activity_window, where=np.logical_and(wave_end_time>real_time_array, real_time_array>wave_start_time), color='magenta', alpha=0.5)\n",
    "\n",
    "plt.xlim(-1,30)\n",
    "plt.ylim(min_cal_signal,407)\n",
    "#plt.savefig('calcium_traces/sup-fig4-density-v-wavenum_calcium-arcos-events_image{}.png'.format(image_number), dpi=300, bbox_inches='tight')"
   ]
  },
  {
   "cell_type": "code",
   "execution_count": 25,
   "id": "73b7ef7f-87fb-4169-8c0d-4ca0cd225d2b",
   "metadata": {
    "tags": []
   },
   "outputs": [
    {
     "data": {
      "text/html": [
       "<div>\n",
       "<style scoped>\n",
       "    .dataframe tbody tr th:only-of-type {\n",
       "        vertical-align: middle;\n",
       "    }\n",
       "\n",
       "    .dataframe tbody tr th {\n",
       "        vertical-align: top;\n",
       "    }\n",
       "\n",
       "    .dataframe thead th {\n",
       "        text-align: right;\n",
       "    }\n",
       "</style>\n",
       "<table border=\"1\" class=\"dataframe\">\n",
       "  <thead>\n",
       "    <tr style=\"text-align: right;\">\n",
       "      <th></th>\n",
       "      <th>cell_density</th>\n",
       "      <th>wave_ID</th>\n",
       "    </tr>\n",
       "    <tr>\n",
       "      <th>image_ID</th>\n",
       "      <th></th>\n",
       "      <th></th>\n",
       "    </tr>\n",
       "  </thead>\n",
       "  <tbody>\n",
       "    <tr>\n",
       "      <th>44</th>\n",
       "      <td>14064.294945</td>\n",
       "      <td>5</td>\n",
       "    </tr>\n",
       "    <tr>\n",
       "      <th>79</th>\n",
       "      <td>14083.839414</td>\n",
       "      <td>4</td>\n",
       "    </tr>\n",
       "    <tr>\n",
       "      <th>80</th>\n",
       "      <td>14451.974139</td>\n",
       "      <td>5</td>\n",
       "    </tr>\n",
       "  </tbody>\n",
       "</table>\n",
       "</div>"
      ],
      "text/plain": [
       "          cell_density  wave_ID\n",
       "image_ID                       \n",
       "44        14064.294945        5\n",
       "79        14083.839414        4\n",
       "80        14451.974139        5"
      ]
     },
     "execution_count": 25,
     "metadata": {},
     "output_type": "execute_result"
    }
   ],
   "source": [
    "#Can find waves in a range of final radii, look at density to find representative examples. \n",
    "wave_number_group = num_v_den[num_v_den['wave_ID'].between(4,5)]\n",
    "wave_number_group[wave_number_group['cell_density'].between(14000,15000)]\n",
    "#First represenative example is image 79"
   ]
  },
  {
   "cell_type": "code",
   "execution_count": 26,
   "id": "aa7a27a3-fe81-4861-b6ba-9a287bcfd146",
   "metadata": {
    "tags": []
   },
   "outputs": [],
   "source": [
    "#Get the file path for the wanted image: \n",
    "image_number = 79\n",
    "im_name = image_list[47] #Image 79\n",
    "#Get the waves for the image number wanted above the minimum threshold\n",
    "ex_waves_in_image = wave_con_df[wave_con_df['image_ID']==image_number]\n",
    "waves_above_threshold = ex_waves_in_image.groupby('clTrackID').circle_radius.max() > 100\n",
    "waves_above_threshold = ex_waves_in_image.set_index('clTrackID').loc[waves_above_threshold[waves_above_threshold].index]\n",
    "\n",
    "ca_wave_collect = []\n",
    "#Get the corresponding segmented nuclei file:\n",
    "\n",
    "ca_means = []\n",
    "times = []\n",
    "\n",
    "#Loop through the opened image file, get the mean of the calcium channel instensity\n",
    "\n",
    "with TiffFile(im_name) as im:\n",
    "    pages = im.pages\n",
    "    j = 0\n",
    "    t = 0\n",
    "\n",
    "    for page in pages:\n",
    "        if j%2 == 0:\n",
    "            im_pg = page.asarray()\n",
    "            ca_m = im_pg.mean()\n",
    "            times.append(t)\n",
    "            ca_means.append(ca_m)\n",
    "            j += 1\n",
    "            t += 1\n",
    "        else:\n",
    "            j += 1\n"
   ]
  },
  {
   "cell_type": "code",
   "execution_count": 27,
   "id": "70a907d9-f9fc-4e8e-a29a-141040f7e833",
   "metadata": {
    "tags": []
   },
   "outputs": [
    {
     "name": "stdout",
     "output_type": "stream",
     "text": [
      "['79-12' '79-18' '79-6' '79-7' '79-27']\n",
      "['79-7' '79-12' '79-18' '79-27']\n"
     ]
    }
   ],
   "source": [
    "print(ex_waves_in_image['wave_ID'].unique())\n",
    "print(waves_above_threshold['wave_ID'].unique())"
   ]
  },
  {
   "cell_type": "code",
   "execution_count": 28,
   "id": "f53ff5ea-0421-4724-9826-68a701535956",
   "metadata": {
    "tags": []
   },
   "outputs": [
    {
     "data": {
      "text/plain": [
       "(392.61031286354296, 450.0)"
      ]
     },
     "execution_count": 28,
     "metadata": {},
     "output_type": "execute_result"
    },
    {
     "data": {
      "image/png": "[encoded data removed]",
      "text/plain": [
       "<Figure size 400x300 with 1 Axes>"
      ]
     },
     "metadata": {},
     "output_type": "display_data"
    }
   ],
   "source": [
    "sns.set_context(\"notebook\", font_scale=1, rc={\"lines.linewidth\": 2, 'font.family': ['arial'], 'axes.linewidth':2})\n",
    "\n",
    "initial_timepoint = ex_waves_in_image.timepoint.min()\n",
    "pre_waves_time = initial_timepoint - 12\n",
    "\n",
    "calcium_activity_window = ca_means[pre_waves_time:]\n",
    "min_cal_signal = min(calcium_activity_window)\n",
    "real_time_array = (np.array(range(len(calcium_activity_window)))*5.0)/60.0\n",
    "\n",
    "fig, ax = plt.subplots(figsize=(4,3))\n",
    "ax.plot(real_time_array, calcium_activity_window, color='k')\n",
    "\n",
    "for wid, wave in waves_above_threshold.groupby('wave_ID'):\n",
    "    wave_start_time = (wave.timepoint.min() - pre_waves_time)*5.0/60.0\n",
    "    wave_end_time = (wave.timepoint.max() - pre_waves_time)*5.0/60.0\n",
    "    ax.fill_between(real_time_array, min_cal_signal-2, calcium_activity_window, where=np.logical_and(wave_end_time>real_time_array, real_time_array>wave_start_time), color='magenta', alpha=0.5)\n",
    "\n",
    "plt.xlim(-1,30)\n",
    "plt.ylim(min_cal_signal-2,450)\n",
    "#plt.savefig('calcium_traces/sup-fig4-density-v-wavenum_calcium-arcos-events_image{}.png'.format(image_number), dpi=300, bbox_inches='tight')"
   ]
  },
  {
   "cell_type": "code",
   "execution_count": null,
   "id": "14504b14-b5f7-43e7-9d59-0072a0cf936e",
   "metadata": {},
   "outputs": [],
   "source": []
  }
 ],
 "metadata": {
  "kernelspec": {
   "display_name": "Python 3 (ipykernel)",
   "language": "python",
   "name": "python3"
  },
  "language_info": {
   "codemirror_mode": {
    "name": "ipython",
    "version": 3
   },
   "file_extension": ".py",
   "mimetype": "text/x-python",
   "name": "python",
   "nbconvert_exporter": "python",
   "pygments_lexer": "ipython3",
   "version": "3.11.5"
  }
 },
 "nbformat": 4,
 "nbformat_minor": 5
}
