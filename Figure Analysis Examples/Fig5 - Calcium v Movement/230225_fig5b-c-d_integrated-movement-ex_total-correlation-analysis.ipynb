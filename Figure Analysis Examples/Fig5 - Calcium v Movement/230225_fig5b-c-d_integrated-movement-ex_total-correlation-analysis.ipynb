{
 "cells": [
  {
   "cell_type": "code",
   "execution_count": 1,
   "id": "211fdb83-f07f-43c1-b2bf-52b573a9f016",
   "metadata": {
    "tags": []
   },
   "outputs": [],
   "source": [
    "#Figure 5 graph plotting \n",
    "#v1.0 version, this is the first consolidation of analysis done so far\n",
    "#Requires the environment packages found in 23pubenv"
   ]
  },
  {
   "cell_type": "code",
   "execution_count": 1,
   "id": "610cea15-e327-4611-ac3f-1d3281d85ec2",
   "metadata": {
    "tags": []
   },
   "outputs": [],
   "source": [
    "from matplotlib import pyplot as plt\n",
    "from matplotlib import colors, cm\n",
    "from matplotlib.collections import LineCollection\n",
    "import numpy as np\n",
    "import pandas as pd\n",
    "from pathlib import Path\n",
    "import seaborn as sns\n",
    "import trackpy as tp\n",
    "import random as rand\n",
    "from tqdm import tqdm\n",
    "from matplotlib.colors import LinearSegmentedColormap\n",
    "import statsmodels.api as sm"
   ]
  },
  {
   "cell_type": "code",
   "execution_count": 2,
   "id": "5821066a-a7b8-4dec-be92-2a1e8e745763",
   "metadata": {
    "tags": []
   },
   "outputs": [],
   "source": [
    "def read_tuple_list(x):\n",
    "    x_strip = x.strip('()').strip('[]')\n",
    "    if len(x_strip.split(', ')) == 1:\n",
    "        return np.array(x_strip.split(), dtype=float)\n",
    "    else:\n",
    "        return np.array(x_strip.split(', '), dtype=float)"
   ]
  },
  {
   "cell_type": "code",
   "execution_count": 3,
   "id": "29bc4c46-24e8-4dd5-ad3b-124b3475f274",
   "metadata": {
    "tags": []
   },
   "outputs": [],
   "source": [
    "#Lets import an arcos set, wave data, and the corresponding tracking data...\n",
    "#base_path = Path('/media/echo/Samsung_T5/Main Data/Analysis Sets/23 Protofigures/Data Sets/2023_01_24_main-set')\n",
    "base_path = Path.cwd().parent / 'Data Sets/2023_01_24_main-set'\n",
    "images_folder = base_path / 'images'\n",
    "analysis_output_destination = base_path / 'wavefit_outputs'\n",
    "\n",
    "image_num = str(79)\n",
    "\n",
    "wave_df = pd.read_csv(analysis_output_destination / '{}_wave_df.csv'.format(image_num), converters={\"wave_centroid\": read_tuple_list})\n",
    "arcos_df = pd.read_csv(analysis_output_destination / '{}_ARCOS_df.csv'.format(image_num))\n",
    "tracking_df = pd.read_csv(analysis_output_destination / '{}_tracking_binned_df.csv'.format(image_num))\n"
   ]
  },
  {
   "cell_type": "code",
   "execution_count": 4,
   "id": "da43c243-f5b4-422f-b56b-81aef19c9c26",
   "metadata": {
    "tags": []
   },
   "outputs": [
    {
     "name": "stderr",
     "output_type": "stream",
     "text": [
      "100%|████████████████████████████████████████████████████████████████████████████████████████████████████| 36147/36147 [00:08<00:00, 4064.23it/s]\n",
      "100%|████████████████████████████████████████████████████████████████████████████████████████████████████| 36147/36147 [00:11<00:00, 3097.19it/s]\n"
     ]
    },
    {
     "name": "stdout",
     "output_type": "stream",
     "text": [
      "There are 5813 tracks across all arcos events...\n"
     ]
    }
   ],
   "source": [
    "#So track IDs and corrresponding tracks are found in tracking df, \n",
    "#The corresponding points that made the circle are in arcos df, \n",
    "#the waves to analze are in waves df, need to go from \n",
    "#WaveDF --> arcosDF --> trackingDF \n",
    "#Get centroid and radius over time from waveDF, \n",
    "#Get trackID inside wavefront from arcosDF, \n",
    "#Get track from tracking, then calc radial movement as enter wavefront? \n",
    "\n",
    "#Calc a stable centroid: \n",
    "#Only looking at clID that hvae waves mapped to them for now...\n",
    "\n",
    "clIDs = wave_df.clTrackID.values\n",
    "\n",
    "wave_ex = wave_df[wave_df.clTrackID == clIDs[0]]\n",
    "arcos_ex =  arcos_df[arcos_df.clTrackID == clIDs[0]]\n",
    "\n",
    "centroids = np.stack(wave_ex.wave_centroid.values, axis=0)\n",
    "mean_centroid = (np.mean(centroids[:,0]), np.mean(centroids[:,1]))\n",
    "\n",
    "#get the tracks that arcos says are inside the wave...\n",
    "track_collect_all = []\n",
    "\n",
    "tracks = tracking_df.groupby('track_id')\n",
    "\n",
    "for i, track in tqdm(tracks): \n",
    "    if i in arcos_ex.track_id.unique():\n",
    "        track_collect_all.append(track)\n",
    "\n",
    "tracks_in_ex_wave = pd.concat(track_collect_all, ignore_index=True)\n",
    "\n",
    "\n",
    "#get the tracks that arcos says are inside the wave...\n",
    "track_collect_all_in_any_wave = []\n",
    "\n",
    "tracks = tracking_df.groupby('track_id')\n",
    "\n",
    "for i, track in tqdm(tracks): \n",
    "    if i in arcos_df.track_id.unique():\n",
    "        track['length'] = len(track)\n",
    "        track_collect_all_in_any_wave.append(track)\n",
    "\n",
    "tracks_in_all_arcos = pd.concat(track_collect_all_in_any_wave, ignore_index=True)\n",
    "print('There are {} tracks across all arcos events...'.format(str(len(tracks_in_all_arcos.track_id.unique()))))\n",
    "\n",
    "arcos_whole_duration_track_collect = []\n",
    "min_track_duration = 36 #3min\n",
    "\n",
    "for tid, track in tracks_in_all_arcos.groupby('track_id'):\n",
    "    if len(track) > min_track_duration:\n",
    "        #Get the time, x, and y points, but DO NOT SMOOTH here. \n",
    "        #Smoothing for this aligned measurement brings forward the movement in time \n",
    "        #This confuses what we are getting at here, so do not smooth in time.\n",
    "        time = track.timepoint.values*5.0\n",
    "\n",
    "        #Compile as coords, get the linear velocity vectors, radial vectors, distance from center of the wave, velocity, angle between velocity and center radius, Chemotactic index, and radial velocity:\n",
    "        coords = np.stack((np.array(track.x.values), np.array(track.y.values)), axis=1)\n",
    "        lin_velocity_vec = [(coords[i+1] - coords[i])/5.0 for i in range(len(coords)-1)]\n",
    "        radial_vec = [np.array([mean_centroid[0] - coords[i][0], mean_centroid[1] - coords[i][1]]) for i in range(len(coords))]\n",
    "        dist_from_center = np.linalg.norm(radial_vec, axis=1)*2.2\n",
    "        inst_radial_step = [dist_from_center[i+1] - dist_from_center[i] for i in range(len(dist_from_center)-1)]\n",
    "        velocity = np.linalg.norm(lin_velocity_vec, axis=1)*2.2*60.0 #px/s --> um/s --> um/min\n",
    "        angles = [np.arctan2(np.linalg.norm(np.cross(radial_vec[i], lin_velocity_vec[i])), np.dot(radial_vec[i], lin_velocity_vec[i])) for i in range(len(lin_velocity_vec))]\n",
    "        cis = np.cos(angles)\n",
    "        radial_velocity = velocity*cis\n",
    "\n",
    "        #Integrate calcium signal over mean?\n",
    "        int_cal = np.sum(track['Calcium'] - track['Calcium'].mean())\n",
    "\n",
    "        #Append the relevant parameters to the track: \n",
    "        track['radial_dist'] = dist_from_center\n",
    "        track['inst_radial_movement'] = np.insert(inst_radial_step, 0, float('nan'), axis=0)\n",
    "        track['max_radial_movement'] = np.max(dist_from_center) - np.min(dist_from_center)\n",
    "        track['linear_velocity'] = np.insert(velocity, 0, float('nan'), axis=0)\n",
    "        track['chemotactic_index'] = np.insert(cis, 0, float('nan'), axis=0)\n",
    "        track['radial_velocity'] = np.insert(radial_velocity, 0, float('nan'), axis=0)\n",
    "        arcos_whole_duration_track_collect.append(track)\n",
    "\n",
    "arcos_duration_tracks_DF = pd.concat(arcos_whole_duration_track_collect, ignore_index=True)\n",
    "\n",
    "wave_start_times = []\n",
    "\n",
    "for wid, wave_event in wave_df.groupby('clTrackID'):\n",
    "    wave_start_times.append(wave_event.timepoint.min())\n",
    "\n",
    "    \n",
    "swarm_start = min(wave_start_times)\n",
    "radial_movement_integration = 0.0\n",
    "\n",
    "coll_timepoints = []\n",
    "radial_collection = []\n",
    "start_integration_t = 60 #Cut off 5min at start of video to eliminate drift as cells settle into frame\n",
    "\n",
    "for t, time_slice in arcos_duration_tracks_DF.groupby('timepoint'):\n",
    "    if t > start_integration_t:\n",
    "        radial_movement_integration -= np.nansum(time_slice.inst_radial_movement.values)\n",
    "        coll_timepoints.append((5.0/60.0)*(t - swarm_start))\n",
    "        radial_collection.append(radial_movement_integration)\n",
    "\n",
    "#Compile as coords, get the linear velocity vectors, radial vectors, distance from center of the wave, velocity, angle between velocity and center radius, Chemotactic index, and radial velocity:\n",
    "\n",
    "event_sizes = []\n",
    "event_start_stops = []\n",
    "event_areas = []\n",
    "\n",
    "for clID, clEvent in wave_df.groupby('clTrackID'):\n",
    "\n",
    "    event_start_stops.append((np.min(clEvent.timepoint.values), np.max(clEvent.timepoint.values)))\n",
    "    event_areas.append(np.pi*(clEvent.circle_radius.max()**2))\n",
    "    event_sizes.append(clEvent.circle_radius.max())\n",
    "\n",
    "\n"
   ]
  },
  {
   "cell_type": "code",
   "execution_count": 5,
   "id": "4028dfc7-22fd-44d5-b65b-861c0643ec72",
   "metadata": {
    "tags": []
   },
   "outputs": [],
   "source": [
    "sns.set_context(\"notebook\", font_scale=1, rc={\"lines.linewidth\": 2, 'font.family': ['arial'], 'axes.linewidth':2})"
   ]
  },
  {
   "cell_type": "code",
   "execution_count": 6,
   "id": "124d3980-300a-48fc-9a9c-236b4a32afcb",
   "metadata": {
    "tags": []
   },
   "outputs": [
    {
     "data": {
      "text/plain": [
       "Text(0, 0.5, '')"
      ]
     },
     "execution_count": 6,
     "metadata": {},
     "output_type": "execute_result"
    },
    {
     "data": {
      "image/png": "[encoded data removed]",
      "text/plain": [
       "<Figure size 750x750 with 1 Axes>"
      ]
     },
     "metadata": {},
     "output_type": "display_data"
    }
   ],
   "source": [
    "norma = plt.Normalize(25000, 300000)\n",
    "#palette = LinearSegmentedColormap.from_list('what', ['#4B4B4B', '#DBD08F','#BC2313'])\n",
    "palette = sns.color_palette(\"Blues\",as_cmap=True)\n",
    "colors = [palette(norma(size)) for size in event_areas]\n",
    "\n",
    "fig, ax1 = plt.subplots(figsize=(3,3), dpi=250)\n",
    "ax1.plot(coll_timepoints,radial_collection, 'grey', linewidth=5)\n",
    "\n",
    "y_scale = max(radial_collection) * 1.1\n",
    "\n",
    "for clID, clr, strstp in zip(clIDs, colors, event_start_stops):\n",
    "    rel_time = np.array(coll_timepoints[strstp[0]:strstp[1]])-(5.0/60.0)*start_integration_t\n",
    "    rel_rad_coll = np.array(radial_collection[strstp[0]- start_integration_t: strstp[1]- start_integration_t])\n",
    "    ax1.plot(rel_time,rel_rad_coll, color=clr, linewidth=3)\n",
    "    ax1.fill_betweenx([-1000,y_scale], (5.0/60.0)*(strstp[0] - swarm_start), (5.0/60.0)*(strstp[1] - swarm_start), alpha=0.5, color=clr)\n",
    "\n",
    "\n",
    "#plt.vlines(wave_start_times_real, ymin=-2, ymax=40000, linestyles='--', colors='grey')\n",
    "plt.xlim(-3,45)\n",
    "plt.ylim(-1000,y_scale)\n",
    "#plt.colorbar(cm.ScalarMappable(norm=norma, cmap=palette))\n",
    "plt.xlabel('')\n",
    "plt.ylabel('')\n",
    "#plt.savefig('fig5-79-accumulation-radial-movement-v-time-w-wave-area-highlight.png', dpi=300, bbox_inches='tight')"
   ]
  },
  {
   "cell_type": "code",
   "execution_count": 25,
   "id": "588ae124-d40d-457a-8e22-0b273c694716",
   "metadata": {},
   "outputs": [
    {
     "data": {
      "text/plain": [
       "[18.916666666666664,\n",
       " 19.0,\n",
       " 19.083333333333332,\n",
       " 19.166666666666664,\n",
       " 19.25,\n",
       " 19.333333333333332,\n",
       " 19.416666666666664,\n",
       " 19.5,\n",
       " 19.583333333333332]"
      ]
     },
     "execution_count": 25,
     "metadata": {},
     "output_type": "execute_result"
    }
   ],
   "source": [
    "coll_timepoints[strstp[0]:strstp[1]]"
   ]
  },
  {
   "cell_type": "code",
   "execution_count": 52,
   "id": "2801e75f-8bcc-4996-bb1d-f40bffa83001",
   "metadata": {},
   "outputs": [
    {
     "name": "stderr",
     "output_type": "stream",
     "text": [
      "  0%|                                                    | 0/58 [00:00<?, ?it/s]"
     ]
    },
    {
     "name": "stdout",
     "output_type": "stream",
     "text": [
      "There are 4035 tracks across all arcos events...\n"
     ]
    },
    {
     "name": "stderr",
     "output_type": "stream",
     "text": [
      "  2%|▊                                           | 1/58 [00:46<43:47, 46.09s/it]"
     ]
    },
    {
     "name": "stdout",
     "output_type": "stream",
     "text": [
      "There are 6814 tracks across all arcos events...\n"
     ]
    },
    {
     "name": "stderr",
     "output_type": "stream",
     "text": [
      "  3%|█▌                                          | 2/58 [01:46<51:03, 54.70s/it]"
     ]
    },
    {
     "name": "stdout",
     "output_type": "stream",
     "text": [
      "There are 540 tracks across all arcos events...\n"
     ]
    },
    {
     "name": "stderr",
     "output_type": "stream",
     "text": [
      "  7%|███                                         | 4/58 [01:58<21:33, 23.96s/it]"
     ]
    },
    {
     "name": "stdout",
     "output_type": "stream",
     "text": [
      "There are 1468 tracks across all arcos events...\n"
     ]
    },
    {
     "name": "stderr",
     "output_type": "stream",
     "text": [
      "  9%|███▊                                        | 5/58 [02:15<19:19, 21.87s/it]"
     ]
    },
    {
     "name": "stdout",
     "output_type": "stream",
     "text": [
      "There are 2843 tracks across all arcos events...\n"
     ]
    },
    {
     "name": "stderr",
     "output_type": "stream",
     "text": [
      " 10%|████▌                                       | 6/58 [02:45<21:11, 24.46s/it]"
     ]
    },
    {
     "name": "stdout",
     "output_type": "stream",
     "text": [
      "There are 3447 tracks across all arcos events...\n"
     ]
    },
    {
     "name": "stderr",
     "output_type": "stream",
     "text": [
      " 12%|█████▎                                      | 7/58 [03:08<20:15, 23.83s/it]"
     ]
    },
    {
     "name": "stdout",
     "output_type": "stream",
     "text": [
      "There are 3204 tracks across all arcos events...\n"
     ]
    },
    {
     "name": "stderr",
     "output_type": "stream",
     "text": [
      " 14%|██████                                      | 8/58 [03:32<19:57, 23.95s/it]"
     ]
    },
    {
     "name": "stdout",
     "output_type": "stream",
     "text": [
      "There are 2891 tracks across all arcos events...\n"
     ]
    },
    {
     "name": "stderr",
     "output_type": "stream",
     "text": [
      " 16%|██████▊                                     | 9/58 [04:05<21:43, 26.61s/it]"
     ]
    },
    {
     "name": "stdout",
     "output_type": "stream",
     "text": [
      "There are 3941 tracks across all arcos events...\n"
     ]
    },
    {
     "name": "stderr",
     "output_type": "stream",
     "text": [
      " 17%|███████▍                                   | 10/58 [04:36<22:31, 28.15s/it]"
     ]
    },
    {
     "name": "stdout",
     "output_type": "stream",
     "text": [
      "There are 3690 tracks across all arcos events...\n"
     ]
    },
    {
     "name": "stderr",
     "output_type": "stream",
     "text": [
      " 19%|████████▏                                  | 11/58 [05:15<24:37, 31.43s/it]"
     ]
    },
    {
     "name": "stdout",
     "output_type": "stream",
     "text": [
      "There are 3669 tracks across all arcos events...\n"
     ]
    },
    {
     "name": "stderr",
     "output_type": "stream",
     "text": [
      " 21%|████████▉                                  | 12/58 [05:51<25:04, 32.71s/it]"
     ]
    },
    {
     "name": "stdout",
     "output_type": "stream",
     "text": [
      "There are 5807 tracks across all arcos events...\n"
     ]
    },
    {
     "name": "stderr",
     "output_type": "stream",
     "text": [
      " 22%|█████████▋                                 | 13/58 [06:46<29:32, 39.39s/it]"
     ]
    },
    {
     "name": "stdout",
     "output_type": "stream",
     "text": [
      "There are 3680 tracks across all arcos events...\n"
     ]
    },
    {
     "name": "stderr",
     "output_type": "stream",
     "text": [
      " 24%|██████████▍                                | 14/58 [07:11<25:48, 35.19s/it]"
     ]
    },
    {
     "name": "stdout",
     "output_type": "stream",
     "text": [
      "There are 5148 tracks across all arcos events...\n"
     ]
    },
    {
     "name": "stderr",
     "output_type": "stream",
     "text": [
      " 26%|███████████                                | 15/58 [07:53<26:36, 37.14s/it]"
     ]
    },
    {
     "name": "stdout",
     "output_type": "stream",
     "text": [
      "There are 2483 tracks across all arcos events...\n"
     ]
    },
    {
     "name": "stderr",
     "output_type": "stream",
     "text": [
      " 28%|███████████▊                               | 16/58 [08:18<23:21, 33.36s/it]"
     ]
    },
    {
     "name": "stdout",
     "output_type": "stream",
     "text": [
      "There are 2047 tracks across all arcos events...\n"
     ]
    },
    {
     "name": "stderr",
     "output_type": "stream",
     "text": [
      " 29%|████████████▌                              | 17/58 [08:41<20:47, 30.42s/it]"
     ]
    },
    {
     "name": "stdout",
     "output_type": "stream",
     "text": [
      "There are 4593 tracks across all arcos events...\n"
     ]
    },
    {
     "name": "stderr",
     "output_type": "stream",
     "text": [
      " 31%|█████████████▎                             | 18/58 [10:09<31:46, 47.67s/it]"
     ]
    },
    {
     "name": "stdout",
     "output_type": "stream",
     "text": [
      "There are 6001 tracks across all arcos events...\n"
     ]
    },
    {
     "name": "stderr",
     "output_type": "stream",
     "text": [
      " 33%|██████████████                             | 19/58 [11:07<33:01, 50.81s/it]"
     ]
    },
    {
     "name": "stdout",
     "output_type": "stream",
     "text": [
      "There are 3458 tracks across all arcos events...\n"
     ]
    },
    {
     "name": "stderr",
     "output_type": "stream",
     "text": [
      " 34%|██████████████▊                            | 20/58 [11:43<29:22, 46.39s/it]"
     ]
    },
    {
     "name": "stdout",
     "output_type": "stream",
     "text": [
      "There are 4279 tracks across all arcos events...\n"
     ]
    },
    {
     "name": "stderr",
     "output_type": "stream",
     "text": [
      " 36%|███████████████▌                           | 21/58 [12:21<26:59, 43.76s/it]"
     ]
    },
    {
     "name": "stdout",
     "output_type": "stream",
     "text": [
      "There are 6905 tracks across all arcos events...\n"
     ]
    },
    {
     "name": "stderr",
     "output_type": "stream",
     "text": [
      " 38%|████████████████▎                          | 22/58 [13:32<31:12, 52.02s/it]"
     ]
    },
    {
     "name": "stdout",
     "output_type": "stream",
     "text": [
      "There are 5572 tracks across all arcos events...\n"
     ]
    },
    {
     "name": "stderr",
     "output_type": "stream",
     "text": [
      " 40%|█████████████████                          | 23/58 [14:10<27:52, 47.80s/it]"
     ]
    },
    {
     "name": "stdout",
     "output_type": "stream",
     "text": [
      "There are 2468 tracks across all arcos events...\n"
     ]
    },
    {
     "name": "stderr",
     "output_type": "stream",
     "text": [
      " 41%|█████████████████▊                         | 24/58 [14:40<23:59, 42.34s/it]"
     ]
    },
    {
     "name": "stdout",
     "output_type": "stream",
     "text": [
      "There are 1643 tracks across all arcos events...\n"
     ]
    },
    {
     "name": "stderr",
     "output_type": "stream",
     "text": [
      " 43%|██████████████████▌                        | 25/58 [15:03<20:03, 36.47s/it]"
     ]
    },
    {
     "name": "stdout",
     "output_type": "stream",
     "text": [
      "There are 5275 tracks across all arcos events...\n"
     ]
    },
    {
     "name": "stderr",
     "output_type": "stream",
     "text": [
      " 45%|███████████████████▎                       | 26/58 [16:14<25:00, 46.88s/it]"
     ]
    },
    {
     "name": "stdout",
     "output_type": "stream",
     "text": [
      "There are 5813 tracks across all arcos events...\n"
     ]
    },
    {
     "name": "stderr",
     "output_type": "stream",
     "text": [
      " 47%|████████████████████                       | 27/58 [17:33<29:13, 56.56s/it]"
     ]
    },
    {
     "name": "stdout",
     "output_type": "stream",
     "text": [
      "There are 3192 tracks across all arcos events...\n"
     ]
    },
    {
     "name": "stderr",
     "output_type": "stream",
     "text": [
      " 48%|████████████████████▊                      | 28/58 [18:08<25:01, 50.04s/it]"
     ]
    },
    {
     "name": "stdout",
     "output_type": "stream",
     "text": [
      "There are 7847 tracks across all arcos events...\n"
     ]
    },
    {
     "name": "stderr",
     "output_type": "stream",
     "text": [
      " 50%|█████████████████████▌                     | 29/58 [19:20<27:25, 56.73s/it]"
     ]
    },
    {
     "name": "stdout",
     "output_type": "stream",
     "text": [
      "There are 2592 tracks across all arcos events...\n"
     ]
    },
    {
     "name": "stderr",
     "output_type": "stream",
     "text": [
      " 52%|██████████████████████▏                    | 30/58 [19:51<22:52, 49.01s/it]"
     ]
    },
    {
     "name": "stdout",
     "output_type": "stream",
     "text": [
      "There are 5155 tracks across all arcos events...\n"
     ]
    },
    {
     "name": "stderr",
     "output_type": "stream",
     "text": [
      " 53%|██████████████████████▉                    | 31/58 [21:19<27:22, 60.83s/it]"
     ]
    },
    {
     "name": "stdout",
     "output_type": "stream",
     "text": [
      "There are 3545 tracks across all arcos events...\n"
     ]
    },
    {
     "name": "stderr",
     "output_type": "stream",
     "text": [
      " 55%|███████████████████████▋                   | 32/58 [22:13<25:26, 58.69s/it]"
     ]
    },
    {
     "name": "stdout",
     "output_type": "stream",
     "text": [
      "There are 3127 tracks across all arcos events...\n"
     ]
    },
    {
     "name": "stderr",
     "output_type": "stream",
     "text": [
      " 57%|████████████████████████▍                  | 33/58 [23:04<23:25, 56.23s/it]"
     ]
    },
    {
     "name": "stdout",
     "output_type": "stream",
     "text": [
      "There are 5993 tracks across all arcos events...\n"
     ]
    },
    {
     "name": "stderr",
     "output_type": "stream",
     "text": [
      " 59%|█████████████████████████▏                 | 34/58 [23:59<22:26, 56.11s/it]"
     ]
    },
    {
     "name": "stdout",
     "output_type": "stream",
     "text": [
      "There are 3745 tracks across all arcos events...\n"
     ]
    },
    {
     "name": "stderr",
     "output_type": "stream",
     "text": [
      " 60%|█████████████████████████▉                 | 35/58 [24:39<19:39, 51.28s/it]"
     ]
    },
    {
     "name": "stdout",
     "output_type": "stream",
     "text": [
      "There are 7789 tracks across all arcos events...\n"
     ]
    },
    {
     "name": "stderr",
     "output_type": "stream",
     "text": [
      " 62%|██████████████████████████▋                | 36/58 [25:33<19:00, 51.83s/it]"
     ]
    },
    {
     "name": "stdout",
     "output_type": "stream",
     "text": [
      "There are 4681 tracks across all arcos events...\n"
     ]
    },
    {
     "name": "stderr",
     "output_type": "stream",
     "text": [
      " 64%|███████████████████████████▍               | 37/58 [26:06<16:13, 46.34s/it]"
     ]
    },
    {
     "name": "stdout",
     "output_type": "stream",
     "text": [
      "There are 2187 tracks across all arcos events...\n"
     ]
    },
    {
     "name": "stderr",
     "output_type": "stream",
     "text": [
      " 66%|████████████████████████████▏              | 38/58 [26:47<14:52, 44.65s/it]"
     ]
    },
    {
     "name": "stdout",
     "output_type": "stream",
     "text": [
      "There are 1293 tracks across all arcos events...\n"
     ]
    },
    {
     "name": "stderr",
     "output_type": "stream",
     "text": [
      " 67%|████████████████████████████▉              | 39/58 [27:03<11:24, 36.05s/it]"
     ]
    },
    {
     "name": "stdout",
     "output_type": "stream",
     "text": [
      "There are 3230 tracks across all arcos events...\n"
     ]
    },
    {
     "name": "stderr",
     "output_type": "stream",
     "text": [
      " 69%|█████████████████████████████▋             | 40/58 [27:54<12:08, 40.46s/it]"
     ]
    },
    {
     "name": "stdout",
     "output_type": "stream",
     "text": [
      "There are 1004 tracks across all arcos events...\n"
     ]
    },
    {
     "name": "stderr",
     "output_type": "stream",
     "text": [
      " 71%|██████████████████████████████▍            | 41/58 [28:06<09:05, 32.10s/it]"
     ]
    },
    {
     "name": "stdout",
     "output_type": "stream",
     "text": [
      "There are 3019 tracks across all arcos events...\n"
     ]
    },
    {
     "name": "stderr",
     "output_type": "stream",
     "text": [
      " 72%|███████████████████████████████▏           | 42/58 [28:48<09:21, 35.11s/it]"
     ]
    },
    {
     "name": "stdout",
     "output_type": "stream",
     "text": [
      "There are 3241 tracks across all arcos events...\n"
     ]
    },
    {
     "name": "stderr",
     "output_type": "stream",
     "text": [
      " 74%|███████████████████████████████▉           | 43/58 [29:33<09:27, 37.87s/it]"
     ]
    },
    {
     "name": "stdout",
     "output_type": "stream",
     "text": [
      "There are 2047 tracks across all arcos events...\n"
     ]
    },
    {
     "name": "stderr",
     "output_type": "stream",
     "text": [
      " 76%|████████████████████████████████▌          | 44/58 [29:52<07:32, 32.32s/it]"
     ]
    },
    {
     "name": "stdout",
     "output_type": "stream",
     "text": [
      "There are 2835 tracks across all arcos events...\n"
     ]
    },
    {
     "name": "stderr",
     "output_type": "stream",
     "text": [
      " 78%|█████████████████████████████████▎         | 45/58 [30:15<06:23, 29.53s/it]"
     ]
    },
    {
     "name": "stdout",
     "output_type": "stream",
     "text": [
      "There are 7676 tracks across all arcos events...\n"
     ]
    },
    {
     "name": "stderr",
     "output_type": "stream",
     "text": [
      " 79%|██████████████████████████████████         | 46/58 [31:10<07:25, 37.11s/it]"
     ]
    },
    {
     "name": "stdout",
     "output_type": "stream",
     "text": [
      "There are 3545 tracks across all arcos events...\n"
     ]
    },
    {
     "name": "stderr",
     "output_type": "stream",
     "text": [
      " 81%|██████████████████████████████████▊        | 47/58 [32:01<07:35, 41.37s/it]"
     ]
    },
    {
     "name": "stdout",
     "output_type": "stream",
     "text": [
      "There are 8960 tracks across all arcos events...\n"
     ]
    },
    {
     "name": "stderr",
     "output_type": "stream",
     "text": [
      " 83%|███████████████████████████████████▌       | 48/58 [33:06<08:03, 48.36s/it]"
     ]
    },
    {
     "name": "stdout",
     "output_type": "stream",
     "text": [
      "There are 7117 tracks across all arcos events...\n"
     ]
    },
    {
     "name": "stderr",
     "output_type": "stream",
     "text": [
      " 84%|████████████████████████████████████▎      | 49/58 [33:46<06:52, 45.85s/it]"
     ]
    },
    {
     "name": "stdout",
     "output_type": "stream",
     "text": [
      "There are 4903 tracks across all arcos events...\n"
     ]
    },
    {
     "name": "stderr",
     "output_type": "stream",
     "text": [
      " 86%|█████████████████████████████████████      | 50/58 [34:39<06:24, 48.03s/it]"
     ]
    },
    {
     "name": "stdout",
     "output_type": "stream",
     "text": [
      "There are 1761 tracks across all arcos events...\n"
     ]
    },
    {
     "name": "stderr",
     "output_type": "stream",
     "text": [
      " 88%|█████████████████████████████████████▊     | 51/58 [35:00<04:39, 39.87s/it]"
     ]
    },
    {
     "name": "stdout",
     "output_type": "stream",
     "text": [
      "There are 576 tracks across all arcos events...\n"
     ]
    },
    {
     "name": "stderr",
     "output_type": "stream",
     "text": [
      " 90%|██████████████████████████████████████▌    | 52/58 [35:10<03:06, 31.10s/it]"
     ]
    },
    {
     "name": "stdout",
     "output_type": "stream",
     "text": [
      "There are 1747 tracks across all arcos events...\n"
     ]
    },
    {
     "name": "stderr",
     "output_type": "stream",
     "text": [
      " 91%|███████████████████████████████████████▎   | 53/58 [35:26<02:12, 26.47s/it]"
     ]
    },
    {
     "name": "stdout",
     "output_type": "stream",
     "text": [
      "There are 965 tracks across all arcos events...\n"
     ]
    },
    {
     "name": "stderr",
     "output_type": "stream",
     "text": [
      " 93%|████████████████████████████████████████   | 54/58 [35:40<01:31, 22.75s/it]"
     ]
    },
    {
     "name": "stdout",
     "output_type": "stream",
     "text": [
      "There are 1691 tracks across all arcos events...\n"
     ]
    },
    {
     "name": "stderr",
     "output_type": "stream",
     "text": [
      " 95%|████████████████████████████████████████▊  | 55/58 [35:56<01:01, 20.64s/it]"
     ]
    },
    {
     "name": "stdout",
     "output_type": "stream",
     "text": [
      "There are 3297 tracks across all arcos events...\n"
     ]
    },
    {
     "name": "stderr",
     "output_type": "stream",
     "text": [
      " 97%|█████████████████████████████████████████▌ | 56/58 [36:21<00:44, 22.15s/it]"
     ]
    },
    {
     "name": "stdout",
     "output_type": "stream",
     "text": [
      "There are 3931 tracks across all arcos events...\n"
     ]
    },
    {
     "name": "stderr",
     "output_type": "stream",
     "text": [
      " 98%|██████████████████████████████████████████▎| 57/58 [37:02<00:27, 27.69s/it]"
     ]
    },
    {
     "name": "stdout",
     "output_type": "stream",
     "text": [
      "There are 2152 tracks across all arcos events...\n"
     ]
    },
    {
     "name": "stderr",
     "output_type": "stream",
     "text": [
      "100%|███████████████████████████████████████████| 58/58 [37:28<00:00, 38.77s/it]\n"
     ]
    }
   ],
   "source": [
    "\n",
    "#Lets import an arcos set, wave data, and the corresponding tracking data...\n",
    "#base_path = Path('/media/echo/Samsung_T5/Main Data/Analysis Sets/23 Protofigures/Data Sets/2023_01_24_main-set')\n",
    "base_path = Path('/Volumes/Samsung_T5/Main Data/Analysis Sets/23 Protofigures/Data Sets/2023_01_24_main-set')\n",
    "images_folder = base_path / 'images'\n",
    "analysis_output_destination = base_path / 'wavefit_outputs'\n",
    "\n",
    "img_numbers = []\n",
    "density_collect = []\n",
    "integrated_movements = []\n",
    "max_rs = []\n",
    "number_waves = []\n",
    "area_sums = []\n",
    "\n",
    "for image in tqdm(list(images_folder.glob('*.tif'))):\n",
    "    \n",
    "    image_num = image.stem\n",
    "    \n",
    "    if image_num[0] == '.':\n",
    "        continue\n",
    "\n",
    "    wave_df = pd.read_csv(analysis_output_destination / '{}_wave_df.csv'.format(image_num), converters={\"wave_centroid\": read_tuple_list})\n",
    "    arcos_df = pd.read_csv(analysis_output_destination / '{}_ARCOS_df.csv'.format(image_num))\n",
    "    tracking_df = pd.read_csv(analysis_output_destination / '{}_tracking_binned_df.csv'.format(image_num))\n",
    "\n",
    "    #So track IDs and corrresponding tracks are found in tracking df, \n",
    "    #The corresponding points that made the circle are in arcos df, \n",
    "    #the waves to analze are in waves df, need to go from \n",
    "    #WaveDF --> arcosDF --> trackingDF \n",
    "    #Get centroid and radius over time from waveDF, \n",
    "    #Get trackID inside wavefront from arcosDF, \n",
    "    #Get track from tracking, then calc radial movement as enter wavefront? \n",
    "\n",
    "    #Calc a stable centroid: \n",
    "    #Only looking at clID that hvae waves mapped to them for now...\n",
    "\n",
    "    clIDs = wave_df.clTrackID.values\n",
    "\n",
    "    wave_ex = wave_df[wave_df.clTrackID == clIDs[0]]\n",
    "    arcos_ex =  arcos_df[arcos_df.clTrackID == clIDs[0]]\n",
    "\n",
    "    centroids = np.stack(wave_ex.wave_centroid.values, axis=0)\n",
    "    mean_centroid = (np.mean(centroids[:,0]), np.mean(centroids[:,1]))\n",
    "\n",
    "    #get the tracks that arcos says are inside the wave...\n",
    "    track_collect_all = []\n",
    "\n",
    "    tracks = tracking_df.groupby('track_id')\n",
    "\n",
    "    for i, track in tracks: \n",
    "        if i in arcos_ex.track_id.unique():\n",
    "            track_collect_all.append(track)\n",
    "\n",
    "    tracks_in_ex_wave = pd.concat(track_collect_all, ignore_index=True)\n",
    "\n",
    "\n",
    "    #get the tracks that arcos says are inside the wave...\n",
    "    track_collect_all_in_any_wave = []\n",
    "\n",
    "    tracks = tracking_df.groupby('track_id')\n",
    "\n",
    "    for i, track in tracks: \n",
    "        if i in arcos_df.track_id.unique():\n",
    "            track['length'] = len(track)\n",
    "            track_collect_all_in_any_wave.append(track)\n",
    "\n",
    "    tracks_in_all_arcos = pd.concat(track_collect_all_in_any_wave, ignore_index=True)\n",
    "    print('There are {} tracks across all arcos events...'.format(str(len(tracks_in_all_arcos.track_id.unique()))))\n",
    "\n",
    "    arcos_whole_duration_track_collect = []\n",
    "    min_track_duration = 36 #3min\n",
    "\n",
    "    for tid, track in tracks_in_all_arcos.groupby('track_id'):\n",
    "        if len(track) > min_track_duration:\n",
    "            #Get the time, x, and y points, but DO NOT SMOOTH here. \n",
    "            #Smoothing for this aligned measurement brings forward the movement in time \n",
    "            #This confuses what we are getting at here, so do not smooth in time.\n",
    "            time = track.timepoint.values*5.0\n",
    "\n",
    "            #Compile as coords, get the linear velocity vectors, radial vectors, distance from center of the wave, velocity, angle between velocity and center radius, Chemotactic index, and radial velocity:\n",
    "            coords = np.stack((np.array(track.x.values), np.array(track.y.values)), axis=1)\n",
    "            lin_velocity_vec = [(coords[i+1] - coords[i])/5.0 for i in range(len(coords)-1)]\n",
    "            radial_vec = [np.array([mean_centroid[0] - coords[i][0], mean_centroid[1] - coords[i][1]]) for i in range(len(coords))]\n",
    "            dist_from_center = np.linalg.norm(radial_vec, axis=1)*2.2\n",
    "            inst_radial_step = [dist_from_center[i+1] - dist_from_center[i] for i in range(len(dist_from_center)-1)]\n",
    "            velocity = np.linalg.norm(lin_velocity_vec, axis=1)*2.2*60.0 #px/s --> um/s --> um/min\n",
    "            angles = [np.arctan2(np.linalg.norm(np.cross(radial_vec[i], lin_velocity_vec[i])), np.dot(radial_vec[i], lin_velocity_vec[i])) for i in range(len(lin_velocity_vec))]\n",
    "            cis = np.cos(angles)\n",
    "            radial_velocity = velocity*cis\n",
    "\n",
    "            #Integrate calcium signal over mean?\n",
    "            int_cal = np.sum(track['Calcium'] - track['Calcium'].mean())\n",
    "\n",
    "            #Append the relevant parameters to the track: \n",
    "            track['radial_dist'] = dist_from_center\n",
    "            track['inst_radial_movement'] = np.insert(inst_radial_step, 0, float('nan'), axis=0)\n",
    "            track['max_radial_movement'] = np.max(dist_from_center) - np.min(dist_from_center)\n",
    "            track['linear_velocity'] = np.insert(velocity, 0, float('nan'), axis=0)\n",
    "            track['chemotactic_index'] = np.insert(cis, 0, float('nan'), axis=0)\n",
    "            track['radial_velocity'] = np.insert(radial_velocity, 0, float('nan'), axis=0)\n",
    "            arcos_whole_duration_track_collect.append(track)\n",
    "\n",
    "    arcos_duration_tracks_DF = pd.concat(arcos_whole_duration_track_collect, ignore_index=True)\n",
    "\n",
    "    wave_start_times = []\n",
    "\n",
    "    for wid, wave_event in wave_df.groupby('clTrackID'):\n",
    "        wave_start_times.append(wave_event.timepoint.min())\n",
    "\n",
    "    radial_movement_integration = 0.0\n",
    "\n",
    "    coll_timepoints = []\n",
    "    radial_collection = []\n",
    "\n",
    "    for t, time_slice in arcos_duration_tracks_DF.groupby('timepoint'):\n",
    "        radial_movement_integration -= np.nansum(time_slice.inst_radial_movement.values)\n",
    "        coll_timepoints.append((5.0/60.0)*(t - min(wave_start_times)))\n",
    "        radial_collection.append(radial_movement_integration)\n",
    "\n",
    "    #Compile as coords, get the linear velocity vectors, radial vectors, distance from center of the wave, velocity, angle between velocity and center radius, Chemotactic index, and radial velocity:\n",
    "\n",
    "    event_sizes = []\n",
    "    event_start_stops = []\n",
    "    event_areas = []\n",
    "\n",
    "    for clID, clEvent in wave_df.groupby('clTrackID'):\n",
    "\n",
    "        event_start_stops.append((np.min(clEvent.timepoint.values), np.max(clEvent.timepoint.values)))\n",
    "        event_areas.append(np.pi*(clEvent.circle_radius.max()**2))\n",
    "        event_sizes.append(clEvent.circle_radius.max())\n",
    "\n",
    "    '''\n",
    "    norma = plt.Normalize(50, 400)\n",
    "    #palette = LinearSegmentedColormap.from_list('what', ['#4B4B4B', '#DBD08F','#BC2313'])\n",
    "    palette = sns.color_palette(\"Blues\",as_cmap=True)\n",
    "    colors = [palette(norma(r_size)) for r_size in event_sizes]\n",
    "\n",
    "    fig, ax1 = plt.subplots(figsize=(4,4), dpi=250)\n",
    "    ax1.plot(coll_timepoints,radial_collection, 'grey', linewidth=5)\n",
    "\n",
    "    y_scale = max(radial_collection) * 1.1\n",
    "\n",
    "    for clID, clr, strstp in zip(clIDs, colors, event_start_stops):\n",
    "        plt.plot(coll_timepoints[strstp[0]:strstp[1]],radial_collection[strstp[0]:strstp[1]], color=clr, linewidth=3)\n",
    "        plt.fill_betweenx([-1000,y_scale], (5.0/60.0)*(strstp[0] - min(wave_start_times)), (5.0/60.0)*(strstp[1] - min(wave_start_times)), alpha=0.25, color=clr)\n",
    "\n",
    "\n",
    "    #plt.vlines(wave_start_times_real, ymin=-2, ymax=40000, linestyles='--', colors='grey')\n",
    "    plt.xlim(-5,35)\n",
    "    plt.ylim(-1000,y_scale)\n",
    "    plt.colorbar(cm.ScalarMappable(norm=norma, cmap=palette))\n",
    "    plt.xlabel('Time')\n",
    "    plt.ylabel('Integrated Radial Movement (um)')\n",
    "    save_path = '/Volumes/Samsung_T5/Main Data/Analysis Sets/23 Protofigures/Fig4 - Accumulation Metrics/integrated_radial_move/'\n",
    "    plt.savefig(save_path + image_num + '-rad-int.png',facecolor='white', bbox_inches='tight', dpi=150)\n",
    "    '''\n",
    "    img_numbers.append(int(image_num))\n",
    "    density_collect.append(arcos_df.cell_density[0])\n",
    "    integrated_movements.append(radial_collection[-1])\n",
    "    max_rs.append(max(event_sizes))\n",
    "    number_waves.append(len(event_sizes))\n",
    "    area_sums.append(sum(event_areas))"
   ]
  },
  {
   "cell_type": "code",
   "execution_count": 53,
   "id": "020254e8-254b-4779-b2ee-c83bd8e06d26",
   "metadata": {},
   "outputs": [],
   "source": [
    "#Usually the analysis was run, and the csv imported from the main analysis result for replotting: \n",
    "#big_df = pd.DataFrame({'img_num':img_numbers,'density':density_collect,'integrated_move':integrated_movements,'max_r':max_rs,'num_waves':number_waves,'max_areas':area_sums})\n",
    "\n",
    "#big_df.to_csv('fig5-max-wave-area-v-movement.csv')"
   ]
  },
  {
   "cell_type": "code",
   "execution_count": 7,
   "id": "4c0031b8-07c8-49e1-8580-8bf33ce7f8ae",
   "metadata": {
    "tags": []
   },
   "outputs": [],
   "source": [
    "#Reload here: \n",
    "big_df = pd.read_csv('fig5-max-wave-area-v-movement.csv')"
   ]
  },
  {
   "cell_type": "code",
   "execution_count": 8,
   "id": "82e9c5eb-8427-4b1d-99a2-45e3afe86f41",
   "metadata": {
    "tags": []
   },
   "outputs": [],
   "source": [
    "sns.set_context(\"notebook\", font_scale=1.25, rc={\"lines.linewidth\": 2, 'font.family': ['arial'], 'axes.linewidth':2})"
   ]
  },
  {
   "cell_type": "code",
   "execution_count": 9,
   "id": "84f6797a-8781-4758-a38a-a2e9e6384719",
   "metadata": {
    "tags": []
   },
   "outputs": [
    {
     "data": {
      "text/plain": [
       "Text(0, 0.5, '')"
      ]
     },
     "execution_count": 9,
     "metadata": {},
     "output_type": "execute_result"
    },
    {
     "data": {
      "image/png": "[encoded data removed]",
      "text/plain": [
       "<Figure size 300x300 with 1 Axes>"
      ]
     },
     "metadata": {},
     "output_type": "display_data"
    }
   ],
   "source": [
    "plt.figure(figsize=(3,3))\n",
    "sns.regplot(data=big_df, y='max_areas', x='integrated_move', scatter_kws={'alpha':0.4, 'color':'grey'}, line_kws={'color':'black', 'linestyle':'--'})\n",
    "plt.ticklabel_format(style='sci', axis='x', scilimits=(0,0))\n",
    "plt.xlabel('')\n",
    "plt.ylabel('')\n",
    "#plt.savefig('fig5-max-wave-area-v-movement.png', dpi=300, bbox_inches='tight')"
   ]
  },
  {
   "cell_type": "code",
   "execution_count": 11,
   "id": "4de7c1b2-d84b-4ebe-bbb4-7c6f56e4094c",
   "metadata": {
    "tags": []
   },
   "outputs": [
    {
     "name": "stdout",
     "output_type": "stream",
     "text": [
      "                            OLS Regression Results                            \n",
      "==============================================================================\n",
      "Dep. Variable:                      y   R-squared:                       0.648\n",
      "Model:                            OLS   Adj. R-squared:                  0.641\n",
      "Method:                 Least Squares   F-statistic:                     101.1\n",
      "Date:                Mon, 12 Feb 2024   Prob (F-statistic):           4.58e-14\n",
      "Time:                        18:33:39   Log-Likelihood:                -779.03\n",
      "No. Observations:                  57   AIC:                             1562.\n",
      "Df Residuals:                      55   BIC:                             1566.\n",
      "Df Model:                           1                                         \n",
      "Covariance Type:            nonrobust                                         \n",
      "==============================================================================\n",
      "                 coef    std err          t      P>|t|      [0.025      0.975]\n",
      "------------------------------------------------------------------------------\n",
      "const       3.201e+05   5.53e+04      5.791      0.000    2.09e+05    4.31e+05\n",
      "x1             7.7759      0.773     10.055      0.000       6.226       9.326\n",
      "==============================================================================\n",
      "Omnibus:                       13.379   Durbin-Watson:                   2.210\n",
      "Prob(Omnibus):                  0.001   Jarque-Bera (JB):               17.888\n",
      "Skew:                           0.849   Prob(JB):                     0.000131\n",
      "Kurtosis:                       5.155   Cond. No.                     1.40e+05\n",
      "==============================================================================\n",
      "\n",
      "Notes:\n",
      "[1] Standard Errors assume that the covariance matrix of the errors is correctly specified.\n",
      "[2] The condition number is large, 1.4e+05. This might indicate that there are\n",
      "strong multicollinearity or other numerical problems.\n"
     ]
    }
   ],
   "source": [
    "fit_ys_5c = big_df.dropna(axis=0)['max_areas'].values\n",
    "\n",
    "fit_xs_5c = big_df.dropna(axis=0)['integrated_move'].values\n",
    "fit_xs_5c = sm.add_constant(fit_xs_5c)\n",
    "model_5c = sm.OLS(fit_ys_5c,fit_xs_5c)\n",
    "results_5c = model_5c.fit()\n",
    "print(results_5c.summary())"
   ]
  },
  {
   "cell_type": "code",
   "execution_count": 12,
   "id": "477b39de-b04d-485c-ae33-0fb699d2b739",
   "metadata": {
    "tags": []
   },
   "outputs": [],
   "source": [
    "\n",
    "meta_df = pd.read_csv(Path(base_path / 'analysis_DF.csv'))"
   ]
  },
  {
   "cell_type": "code",
   "execution_count": 13,
   "id": "49abc971-deb6-417b-a295-a5360c292637",
   "metadata": {
    "tags": []
   },
   "outputs": [],
   "source": [
    "format_df = big_df.rename(columns={'img_num':'File_ID'})"
   ]
  },
  {
   "cell_type": "code",
   "execution_count": 14,
   "id": "7ef2f5c8-2e20-438d-b0f9-092f4ff71642",
   "metadata": {
    "tags": []
   },
   "outputs": [],
   "source": [
    "merged_waves_meta_df = pd.merge(meta_df, format_df, on='File_ID')"
   ]
  },
  {
   "cell_type": "code",
   "execution_count": 15,
   "id": "7c649ae9-8eba-4ef2-850d-29f7b147ec18",
   "metadata": {
    "tags": []
   },
   "outputs": [],
   "source": [
    "tag_dfs = []\n",
    "\n",
    "for filename, group in merged_waves_meta_df.groupby('Original_File'):\n",
    "    \n",
    "    file_density = filename.split('mill')[0][-2:]\n",
    "    \n",
    "    if file_density == 'if':\n",
    "        den_bin = 10\n",
    "    elif file_density == '_3':\n",
    "        den_bin = 3\n",
    "    elif file_density == '_6':\n",
    "        den_bin = 6\n",
    "    elif file_density == '10':\n",
    "        den_bin = 10\n",
    "    \n",
    "    group['density_bin'] = den_bin\n",
    "    tag_dfs.append(group)"
   ]
  },
  {
   "cell_type": "code",
   "execution_count": 16,
   "id": "9369f644-37d3-400d-8346-18e8406c95bf",
   "metadata": {
    "tags": []
   },
   "outputs": [],
   "source": [
    "meta_den_bin_add_DF = pd.concat(tag_dfs, ignore_index=True)"
   ]
  },
  {
   "cell_type": "code",
   "execution_count": 17,
   "id": "311a768e-4357-41b7-bf87-ac3a7df57294",
   "metadata": {
    "tags": []
   },
   "outputs": [],
   "source": [
    "cpal = sns.color_palette('Purples', 8)"
   ]
  },
  {
   "cell_type": "code",
   "execution_count": 18,
   "id": "33dc2e79-02e4-4569-8f25-d45772dfabb6",
   "metadata": {
    "tags": []
   },
   "outputs": [
    {
     "name": "stderr",
     "output_type": "stream",
     "text": [
      "/Users/echo/miniconda3/envs/23pubenv/lib/python3.11/site-packages/seaborn/_oldcore.py:1498: FutureWarning: is_categorical_dtype is deprecated and will be removed in a future version. Use isinstance(dtype, CategoricalDtype) instead\n",
      "  if pd.api.types.is_categorical_dtype(vector):\n",
      "/Users/echo/miniconda3/envs/23pubenv/lib/python3.11/site-packages/seaborn/_oldcore.py:1498: FutureWarning: is_categorical_dtype is deprecated and will be removed in a future version. Use isinstance(dtype, CategoricalDtype) instead\n",
      "  if pd.api.types.is_categorical_dtype(vector):\n"
     ]
    },
    {
     "data": {
      "text/plain": [
       "Text(0, 0.5, '')"
      ]
     },
     "execution_count": 18,
     "metadata": {},
     "output_type": "execute_result"
    },
    {
     "data": {
      "image/png": "[encoded data removed]",
      "text/plain": [
       "<Figure size 500x400 with 1 Axes>"
      ]
     },
     "metadata": {},
     "output_type": "display_data"
    }
   ],
   "source": [
    "sns.set_context(\"notebook\", font_scale=1, rc={\"lines.linewidth\": 2, 'font.family': ['arial'], 'axes.linewidth':2})\n",
    "plt.figure(figsize=(5,4))\n",
    "sns.scatterplot(data=meta_den_bin_add_DF, x='density', y='max_areas', color=[cpal[6]], s=75, linewidth=2, alpha=0.8, legend=False)\n",
    "sns.regplot(data=big_df, x='density', y='max_areas', scatter_kws={'alpha':0}, line_kws={'color':'black', 'linestyle':'--'})\n",
    "plt.xlabel('')\n",
    "plt.ylabel('')\n",
    "#plt.savefig('fig5-max-wave-area-v-cell-density.png', dpi=300, bbox_inches='tight')"
   ]
  },
  {
   "cell_type": "code",
   "execution_count": 19,
   "id": "c57c09c3-978b-40d3-af28-e0948480d2e6",
   "metadata": {
    "tags": []
   },
   "outputs": [
    {
     "name": "stdout",
     "output_type": "stream",
     "text": [
      "                            OLS Regression Results                            \n",
      "==============================================================================\n",
      "Dep. Variable:                      y   R-squared:                       0.423\n",
      "Model:                            OLS   Adj. R-squared:                  0.412\n",
      "Method:                 Least Squares   F-statistic:                     40.27\n",
      "Date:                Mon, 12 Feb 2024   Prob (F-statistic):           4.42e-08\n",
      "Time:                        18:34:15   Log-Likelihood:                -793.10\n",
      "No. Observations:                  57   AIC:                             1590.\n",
      "Df Residuals:                      55   BIC:                             1594.\n",
      "Df Model:                           1                                         \n",
      "Covariance Type:            nonrobust                                         \n",
      "==============================================================================\n",
      "                 coef    std err          t      P>|t|      [0.025      0.975]\n",
      "------------------------------------------------------------------------------\n",
      "const       1.263e+06   8.16e+04     15.475      0.000     1.1e+06    1.43e+06\n",
      "x1           -63.5897     10.020     -6.346      0.000     -83.671     -43.508\n",
      "==============================================================================\n",
      "Omnibus:                        1.279   Durbin-Watson:                   1.698\n",
      "Prob(Omnibus):                  0.527   Jarque-Bera (JB):                1.313\n",
      "Skew:                           0.298   Prob(JB):                        0.519\n",
      "Kurtosis:                       2.557   Cond. No.                     1.85e+04\n",
      "==============================================================================\n",
      "\n",
      "Notes:\n",
      "[1] Standard Errors assume that the covariance matrix of the errors is correctly specified.\n",
      "[2] The condition number is large, 1.85e+04. This might indicate that there are\n",
      "strong multicollinearity or other numerical problems.\n"
     ]
    }
   ],
   "source": [
    "fit_xs_5d = big_df['density'].values\n",
    "fit_xs_5d = sm.add_constant(fit_xs_5d)\n",
    "fit_ys_5d = big_df['max_areas'].values\n",
    "model_5d = sm.OLS(fit_ys_5d,fit_xs_5d)\n",
    "results_5d = model_5d.fit()\n",
    "print(results_5d.summary())"
   ]
  },
  {
   "cell_type": "code",
   "execution_count": 20,
   "id": "e6208b83-2912-4999-8175-6e840dc6ea1c",
   "metadata": {
    "tags": []
   },
   "outputs": [
    {
     "name": "stdout",
     "output_type": "stream",
     "text": [
      "target n: 57\n",
      "volunteer N: 5\n"
     ]
    }
   ],
   "source": [
    "print(\"target n: {}\".format(len(big_df)))\n",
    "print(\"volunteer N: {}\".format(len(meta_den_bin_add_DF.volunteer_ID.unique())))"
   ]
  },
  {
   "cell_type": "code",
   "execution_count": null,
   "id": "d2c10e62-4df1-4934-890e-907d0f03ef6d",
   "metadata": {},
   "outputs": [],
   "source": []
  }
 ],
 "metadata": {
  "kernelspec": {
   "display_name": "Python 3 (ipykernel)",
   "language": "python",
   "name": "python3"
  },
  "language_info": {
   "codemirror_mode": {
    "name": "ipython",
    "version": 3
   },
   "file_extension": ".py",
   "mimetype": "text/x-python",
   "name": "python",
   "nbconvert_exporter": "python",
   "pygments_lexer": "ipython3",
   "version": "3.11.5"
  }
 },
 "nbformat": 4,
 "nbformat_minor": 5
}
